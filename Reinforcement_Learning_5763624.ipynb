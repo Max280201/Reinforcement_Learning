{
  "nbformat": 4,
  "nbformat_minor": 0,
  "metadata": {
    "colab": {
      "provenance": [],
      "gpuType": "T4"
    },
    "kernelspec": {
      "name": "python3",
      "display_name": "Python 3"
    },
    "language_info": {
      "name": "python"
    },
    "accelerator": "GPU"
  },
  "cells": [
    {
      "cell_type": "markdown",
      "source": [
        "# Reinforcement Learning"
      ],
      "metadata": {
        "id": "128Y7BaD2KfK"
      }
    },
    {
      "cell_type": "markdown",
      "source": [
        "## 0. Introduction"
      ],
      "metadata": {
        "id": "xUqxuhay2qDz"
      }
    },
    {
      "cell_type": "markdown",
      "source": [
        "This notebook is part of my work on the topic **Reinforcement Learning in Gaming** for the module *Reinforcement Learning* in course *WWI20DSB* supervised by Janina Patzer at the Baden-Wuerttemberg Cooperative State University Mannheim.\n",
        "\n",
        "- Max Bernauer\n",
        "\n",
        "This notebook focuses on implementing an environment and an agent to play Super Mario Bros. To implement the environment gym, nes_py and gym_super_mario_bros were used. The agent was created using a Double Deep Q Network based on PyTorch.\n",
        "\n",
        "The creation of this notebook is based on several other notebooks and articles:\n",
        "\n",
        "- [Liams DQN Notebook](https://https://colab.research.google.com/drive/1NsbSPn6jOcaJB_mp9TmkgQX7UrRIrTi0#scrollTo=GDZ6Kub4Gopl)\n",
        "\n",
        "- Andrew Grebenisan: Article: [Play Super Mario Bros with a Double Deep Q-Network](https://blog.paperspace.com/building-double-deep-q-network-super-mario-bros/) Repository: [GitHub](https://github.com/DrJessop/MarioReinforcementLearning/tree/master)\n",
        "\n",
        "- Akilesh: Article: [Reinforcement Learning in Super Mario Bros](https://dev.to/akilesh/reinforcement-learning-in-super-mario-bros-56i9)\n",
        "\n",
        "- Q-Learning Analysis - Reinforcement Learning [Tutorial](https://pythonprogramming.net/q-learning-analysis-reinforcement-learning-python-tutorial/)\n",
        "\n",
        "Which part of the code is inspired by which notebook is marked in the respective section of the notebook."
      ],
      "metadata": {
        "id": "kqy-Z_8i2vtr"
      }
    },
    {
      "cell_type": "markdown",
      "source": [
        "## 1. Setup / Prequesites"
      ],
      "metadata": {
        "id": "benmrqZz4kmp"
      }
    },
    {
      "cell_type": "markdown",
      "source": [
        "### 1.1 Downloads"
      ],
      "metadata": {
        "id": "NXCXrEaO4pKv"
      }
    },
    {
      "cell_type": "code",
      "source": [
        "# Packages needed to create the Super Mario Bros environment\n",
        "! pip install nes_py\n",
        "! pip install gym-super-mario-bros"
      ],
      "metadata": {
        "colab": {
          "base_uri": "https://localhost:8080/"
        },
        "id": "9i1k-yKV4oZp",
        "outputId": "2d60506c-0512-4124-d0a3-cf6f841205a2"
      },
      "execution_count": 1,
      "outputs": [
        {
          "output_type": "stream",
          "name": "stdout",
          "text": [
            "Collecting nes_py\n",
            "  Downloading nes_py-8.2.1.tar.gz (77 kB)\n",
            "\u001b[2K     \u001b[90m━━━━━━━━━━━━━━━━━━━━━━━━━━━━━━━━━━━━━━━\u001b[0m \u001b[32m77.7/77.7 kB\u001b[0m \u001b[31m593.1 kB/s\u001b[0m eta \u001b[36m0:00:00\u001b[0m\n",
            "\u001b[?25h  Preparing metadata (setup.py) ... \u001b[?25l\u001b[?25hdone\n",
            "Requirement already satisfied: gym>=0.17.2 in /usr/local/lib/python3.10/dist-packages (from nes_py) (0.25.2)\n",
            "Requirement already satisfied: numpy>=1.18.5 in /usr/local/lib/python3.10/dist-packages (from nes_py) (1.22.4)\n",
            "Collecting pyglet<=1.5.21,>=1.4.0 (from nes_py)\n",
            "  Downloading pyglet-1.5.21-py3-none-any.whl (1.1 MB)\n",
            "\u001b[2K     \u001b[90m━━━━━━━━━━━━━━━━━━━━━━━━━━━━━━━━━━━━━━━━\u001b[0m \u001b[32m1.1/1.1 MB\u001b[0m \u001b[31m13.9 MB/s\u001b[0m eta \u001b[36m0:00:00\u001b[0m\n",
            "\u001b[?25hRequirement already satisfied: tqdm>=4.48.2 in /usr/local/lib/python3.10/dist-packages (from nes_py) (4.65.0)\n",
            "Requirement already satisfied: cloudpickle>=1.2.0 in /usr/local/lib/python3.10/dist-packages (from gym>=0.17.2->nes_py) (2.2.1)\n",
            "Requirement already satisfied: gym-notices>=0.0.4 in /usr/local/lib/python3.10/dist-packages (from gym>=0.17.2->nes_py) (0.0.8)\n",
            "Building wheels for collected packages: nes_py\n",
            "  Building wheel for nes_py (setup.py) ... \u001b[?25l\u001b[?25hdone\n",
            "  Created wheel for nes_py: filename=nes_py-8.2.1-cp310-cp310-linux_x86_64.whl size=535685 sha256=7770a1ce532500047d6b729d80fb60647c4629c10d6aa773476f663dd7250dd2\n",
            "  Stored in directory: /root/.cache/pip/wheels/34/a7/d5/9aa14b15df740a53d41f702e4c795731b6c4da7925deb8476c\n",
            "Successfully built nes_py\n",
            "Installing collected packages: pyglet, nes_py\n",
            "Successfully installed nes_py-8.2.1 pyglet-1.5.21\n",
            "Collecting gym-super-mario-bros\n",
            "  Downloading gym_super_mario_bros-7.4.0-py3-none-any.whl (199 kB)\n",
            "\u001b[2K     \u001b[90m━━━━━━━━━━━━━━━━━━━━━━━━━━━━━━━━━━━━━━━\u001b[0m \u001b[32m199.1/199.1 kB\u001b[0m \u001b[31m3.8 MB/s\u001b[0m eta \u001b[36m0:00:00\u001b[0m\n",
            "\u001b[?25hRequirement already satisfied: nes-py>=8.1.4 in /usr/local/lib/python3.10/dist-packages (from gym-super-mario-bros) (8.2.1)\n",
            "Requirement already satisfied: gym>=0.17.2 in /usr/local/lib/python3.10/dist-packages (from nes-py>=8.1.4->gym-super-mario-bros) (0.25.2)\n",
            "Requirement already satisfied: numpy>=1.18.5 in /usr/local/lib/python3.10/dist-packages (from nes-py>=8.1.4->gym-super-mario-bros) (1.22.4)\n",
            "Requirement already satisfied: pyglet<=1.5.21,>=1.4.0 in /usr/local/lib/python3.10/dist-packages (from nes-py>=8.1.4->gym-super-mario-bros) (1.5.21)\n",
            "Requirement already satisfied: tqdm>=4.48.2 in /usr/local/lib/python3.10/dist-packages (from nes-py>=8.1.4->gym-super-mario-bros) (4.65.0)\n",
            "Requirement already satisfied: cloudpickle>=1.2.0 in /usr/local/lib/python3.10/dist-packages (from gym>=0.17.2->nes-py>=8.1.4->gym-super-mario-bros) (2.2.1)\n",
            "Requirement already satisfied: gym-notices>=0.0.4 in /usr/local/lib/python3.10/dist-packages (from gym>=0.17.2->nes-py>=8.1.4->gym-super-mario-bros) (0.0.8)\n",
            "Installing collected packages: gym-super-mario-bros\n",
            "Successfully installed gym-super-mario-bros-7.4.0\n"
          ]
        }
      ]
    },
    {
      "cell_type": "code",
      "source": [
        "# Packages needed to record and display a video of the agent in the environment\n",
        "!apt-get install python-opengl -y\n",
        "!apt install xvfb -y\n",
        "!pip install pyvirtualdisplay\n",
        "!pip install piglet"
      ],
      "metadata": {
        "colab": {
          "base_uri": "https://localhost:8080/"
        },
        "id": "J8H5FEde44w8",
        "outputId": "355cb454-2bfe-4a81-f465-784debb249b7"
      },
      "execution_count": 2,
      "outputs": [
        {
          "output_type": "stream",
          "name": "stdout",
          "text": [
            "Reading package lists... Done\n",
            "Building dependency tree... Done\n",
            "Reading state information... Done\n",
            "E: Unable to locate package python-opengl\n",
            "Reading package lists... Done\n",
            "Building dependency tree... Done\n",
            "Reading state information... Done\n",
            "The following additional packages will be installed:\n",
            "  libfontenc1 libxfont2 libxkbfile1 x11-xkb-utils xfonts-base xfonts-encodings\n",
            "  xfonts-utils xserver-common\n",
            "The following NEW packages will be installed:\n",
            "  libfontenc1 libxfont2 libxkbfile1 x11-xkb-utils xfonts-base xfonts-encodings\n",
            "  xfonts-utils xserver-common xvfb\n",
            "0 upgraded, 9 newly installed, 0 to remove and 9 not upgraded.\n",
            "Need to get 7,812 kB of archives.\n",
            "After this operation, 11.9 MB of additional disk space will be used.\n",
            "Get:1 http://archive.ubuntu.com/ubuntu jammy/main amd64 libfontenc1 amd64 1:1.1.4-1build3 [14.7 kB]\n",
            "Get:2 http://archive.ubuntu.com/ubuntu jammy/main amd64 libxfont2 amd64 1:2.0.5-1build1 [94.5 kB]\n",
            "Get:3 http://archive.ubuntu.com/ubuntu jammy/main amd64 libxkbfile1 amd64 1:1.1.0-1build3 [71.8 kB]\n",
            "Get:4 http://archive.ubuntu.com/ubuntu jammy/main amd64 x11-xkb-utils amd64 7.7+5build4 [172 kB]\n",
            "Get:5 http://archive.ubuntu.com/ubuntu jammy/main amd64 xfonts-encodings all 1:1.0.5-0ubuntu2 [578 kB]\n",
            "Get:6 http://archive.ubuntu.com/ubuntu jammy/main amd64 xfonts-utils amd64 1:7.7+6build2 [94.6 kB]\n",
            "Get:7 http://archive.ubuntu.com/ubuntu jammy/main amd64 xfonts-base all 1:1.0.5 [5,896 kB]\n",
            "Get:8 http://archive.ubuntu.com/ubuntu jammy-updates/main amd64 xserver-common all 2:21.1.4-2ubuntu1.7~22.04.1 [28.0 kB]\n",
            "Get:9 http://archive.ubuntu.com/ubuntu jammy-updates/universe amd64 xvfb amd64 2:21.1.4-2ubuntu1.7~22.04.1 [863 kB]\n",
            "Fetched 7,812 kB in 2s (4,890 kB/s)\n",
            "Selecting previously unselected package libfontenc1:amd64.\n",
            "(Reading database ... 120493 files and directories currently installed.)\n",
            "Preparing to unpack .../0-libfontenc1_1%3a1.1.4-1build3_amd64.deb ...\n",
            "Unpacking libfontenc1:amd64 (1:1.1.4-1build3) ...\n",
            "Selecting previously unselected package libxfont2:amd64.\n",
            "Preparing to unpack .../1-libxfont2_1%3a2.0.5-1build1_amd64.deb ...\n",
            "Unpacking libxfont2:amd64 (1:2.0.5-1build1) ...\n",
            "Selecting previously unselected package libxkbfile1:amd64.\n",
            "Preparing to unpack .../2-libxkbfile1_1%3a1.1.0-1build3_amd64.deb ...\n",
            "Unpacking libxkbfile1:amd64 (1:1.1.0-1build3) ...\n",
            "Selecting previously unselected package x11-xkb-utils.\n",
            "Preparing to unpack .../3-x11-xkb-utils_7.7+5build4_amd64.deb ...\n",
            "Unpacking x11-xkb-utils (7.7+5build4) ...\n",
            "Selecting previously unselected package xfonts-encodings.\n",
            "Preparing to unpack .../4-xfonts-encodings_1%3a1.0.5-0ubuntu2_all.deb ...\n",
            "Unpacking xfonts-encodings (1:1.0.5-0ubuntu2) ...\n",
            "Selecting previously unselected package xfonts-utils.\n",
            "Preparing to unpack .../5-xfonts-utils_1%3a7.7+6build2_amd64.deb ...\n",
            "Unpacking xfonts-utils (1:7.7+6build2) ...\n",
            "Selecting previously unselected package xfonts-base.\n",
            "Preparing to unpack .../6-xfonts-base_1%3a1.0.5_all.deb ...\n",
            "Unpacking xfonts-base (1:1.0.5) ...\n",
            "Selecting previously unselected package xserver-common.\n",
            "Preparing to unpack .../7-xserver-common_2%3a21.1.4-2ubuntu1.7~22.04.1_all.deb ...\n",
            "Unpacking xserver-common (2:21.1.4-2ubuntu1.7~22.04.1) ...\n",
            "Selecting previously unselected package xvfb.\n",
            "Preparing to unpack .../8-xvfb_2%3a21.1.4-2ubuntu1.7~22.04.1_amd64.deb ...\n",
            "Unpacking xvfb (2:21.1.4-2ubuntu1.7~22.04.1) ...\n",
            "Setting up libfontenc1:amd64 (1:1.1.4-1build3) ...\n",
            "Setting up xfonts-encodings (1:1.0.5-0ubuntu2) ...\n",
            "Setting up libxkbfile1:amd64 (1:1.1.0-1build3) ...\n",
            "Setting up libxfont2:amd64 (1:2.0.5-1build1) ...\n",
            "Setting up x11-xkb-utils (7.7+5build4) ...\n",
            "Setting up xfonts-utils (1:7.7+6build2) ...\n",
            "Setting up xfonts-base (1:1.0.5) ...\n",
            "Setting up xserver-common (2:21.1.4-2ubuntu1.7~22.04.1) ...\n",
            "Setting up xvfb (2:21.1.4-2ubuntu1.7~22.04.1) ...\n",
            "Processing triggers for man-db (2.10.2-1) ...\n",
            "Processing triggers for fontconfig (2.13.1-4.2ubuntu5) ...\n",
            "Processing triggers for libc-bin (2.35-0ubuntu3.1) ...\n",
            "Collecting pyvirtualdisplay\n",
            "  Downloading PyVirtualDisplay-3.0-py3-none-any.whl (15 kB)\n",
            "Installing collected packages: pyvirtualdisplay\n",
            "Successfully installed pyvirtualdisplay-3.0\n",
            "Collecting piglet\n",
            "  Downloading piglet-1.0.0-py2.py3-none-any.whl (2.2 kB)\n",
            "Collecting piglet-templates (from piglet)\n",
            "  Downloading piglet_templates-1.3.0-py3-none-any.whl (67 kB)\n",
            "\u001b[2K     \u001b[90m━━━━━━━━━━━━━━━━━━━━━━━━━━━━━━━━━━━━━━━━\u001b[0m \u001b[32m67.5/67.5 kB\u001b[0m \u001b[31m1.6 MB/s\u001b[0m eta \u001b[36m0:00:00\u001b[0m\n",
            "\u001b[?25hRequirement already satisfied: pyparsing in /usr/local/lib/python3.10/dist-packages (from piglet-templates->piglet) (3.1.0)\n",
            "Requirement already satisfied: attrs in /usr/local/lib/python3.10/dist-packages (from piglet-templates->piglet) (23.1.0)\n",
            "Requirement already satisfied: astunparse in /usr/local/lib/python3.10/dist-packages (from piglet-templates->piglet) (1.6.3)\n",
            "Requirement already satisfied: markupsafe in /usr/local/lib/python3.10/dist-packages (from piglet-templates->piglet) (2.1.3)\n",
            "Requirement already satisfied: wheel<1.0,>=0.23.0 in /usr/local/lib/python3.10/dist-packages (from astunparse->piglet-templates->piglet) (0.41.0)\n",
            "Requirement already satisfied: six<2.0,>=1.6.1 in /usr/local/lib/python3.10/dist-packages (from astunparse->piglet-templates->piglet) (1.16.0)\n",
            "Installing collected packages: piglet-templates, piglet\n",
            "Successfully installed piglet-1.0.0 piglet-templates-1.3.0\n"
          ]
        }
      ]
    },
    {
      "cell_type": "markdown",
      "source": [
        "### 1.2 Imports"
      ],
      "metadata": {
        "id": "Y39Un5bd4rUb"
      }
    },
    {
      "cell_type": "code",
      "execution_count": 3,
      "metadata": {
        "id": "gPoHgqJf2IWZ"
      },
      "outputs": [],
      "source": [
        "# Packages to create the environment\n",
        "import gym\n",
        "from nes_py.wrappers import JoypadSpace\n",
        "import gym_super_mario_bros\n",
        "from gym_super_mario_bros.actions import RIGHT_ONLY\n",
        "import collections\n",
        "import cv2\n",
        "import numpy as np\n",
        "\n",
        "# Packages to create the Double DQN and the agent and visualize the reward curves\n",
        "import torch\n",
        "import torch.nn as nn\n",
        "from tqdm import tqdm\n",
        "import random\n",
        "import pickle\n",
        "import math\n",
        "import matplotlib.pyplot as plt\n",
        "\n",
        "# Packages needed to record and display a video of the agent in the environment\n",
        "import glob\n",
        "import io\n",
        "import base64\n",
        "from IPython.display import HTML\n",
        "from IPython import display as ipythondisplay\n",
        "from gym import logger as gymlogger\n",
        "from gym.wrappers.record_video import RecordVideo"
      ]
    },
    {
      "cell_type": "code",
      "source": [
        "# from pyvirtualdisplay import Display"
      ],
      "metadata": {
        "id": "EnbS61nU7KMF",
        "colab": {
          "base_uri": "https://localhost:8080/"
        },
        "outputId": "5ff8d057-c0de-4a84-cc42-24e6920ce924"
      },
      "execution_count": 4,
      "outputs": [
        {
          "output_type": "stream",
          "name": "stderr",
          "text": [
            "/usr/local/lib/python3.10/dist-packages/ipykernel/ipkernel.py:283: DeprecationWarning: `should_run_async` will not call `transform_cell` automatically in the future. Please pass the result to `transformed_cell` argument and any exception that happen during thetransform in `preprocessing_exc_tuple` in IPython 7.17 and above.\n",
            "  and should_run_async(code)\n"
          ]
        }
      ]
    },
    {
      "cell_type": "markdown",
      "source": [
        "### 1.3 Configuration"
      ],
      "metadata": {
        "id": "Wmcm43Cr5m_k"
      }
    },
    {
      "cell_type": "code",
      "source": [
        "# checks if GPU is available to accelerate training\n",
        "if torch.cuda.is_available():\n",
        "  print('GPU available')\n",
        "else:\n",
        "  print('Please set GPU via Edit -> Notebook Settings.')"
      ],
      "metadata": {
        "colab": {
          "base_uri": "https://localhost:8080/"
        },
        "id": "-vWNnzv65p-e",
        "outputId": "e2e4fbb0-697b-443c-84d8-9c43c9ed6826"
      },
      "execution_count": 5,
      "outputs": [
        {
          "output_type": "stream",
          "name": "stdout",
          "text": [
            "GPU available\n"
          ]
        }
      ]
    },
    {
      "cell_type": "markdown",
      "source": [
        "## 2. Environment"
      ],
      "metadata": {
        "id": "rsyNhewk5-iJ"
      }
    },
    {
      "cell_type": "markdown",
      "source": [
        "### 2.1 Environment Wrapper"
      ],
      "metadata": {
        "id": "3gTuGzIp6A9a"
      }
    },
    {
      "cell_type": "markdown",
      "source": [
        "The original version of the wrapper is from https://colab.research.google.com/drive/1NsbSPn6jOcaJB_mp9TmkgQX7UrRIrTi0.\n",
        "\n",
        "The version implemented and slightly adapted here is from https://github.com/DrJessop/MarioReinforcementLearning/tree/master."
      ],
      "metadata": {
        "id": "yC4Lo6ZlwNJ8"
      }
    },
    {
      "cell_type": "code",
      "source": [
        "# class to create the training environment\n",
        "class MaxAndSkipEnv(gym.Wrapper):\n",
        "\n",
        "    # Contructor\n",
        "    def __init__(self, env=None, skip=4):\n",
        "        \"\"\"Return only every `skip`-th frame\"\"\"\n",
        "        super(MaxAndSkipEnv, self).__init__(env)\n",
        "        # most recent raw observations (for max pooling across time steps)\n",
        "        self._obs_buffer = collections.deque(maxlen=2)\n",
        "        self._skip = skip\n",
        "\n",
        "    # Perform the steps during training\n",
        "    def step(self, action):\n",
        "        total_reward = 0.0\n",
        "        done = None\n",
        "\n",
        "        # loop to perform steps until goal is reached or the time is up\n",
        "        for _ in range(self._skip):\n",
        "            obs, reward, done, info = self.env.step(action)\n",
        "            self._obs_buffer.append(obs)\n",
        "            total_reward += reward\n",
        "            if done:\n",
        "                break\n",
        "        max_frame = np.max(np.stack(self._obs_buffer), axis=0)\n",
        "        return max_frame, total_reward, done, info\n",
        "\n",
        "    # Clear past frame buffer and init to first state\n",
        "    def reset(self):\n",
        "        self._obs_buffer.clear()\n",
        "        obs = self.env.reset()\n",
        "        self._obs_buffer.append(obs)\n",
        "        return obs\n",
        "\n",
        "# Performs downsampling of the images to 84x84 and greyscaling to increase performance when displaying the environment\n",
        "class ProcessFrame84(gym.ObservationWrapper):\n",
        "\n",
        "    # Constructor\n",
        "    def __init__(self, env=None):\n",
        "        super(ProcessFrame84, self).__init__(env)\n",
        "        self.observation_space = gym.spaces.Box(low=0, high=255, shape=(84, 84, 1), dtype=np.uint8)\n",
        "\n",
        "    # Function to return the processesd image of the envrionment\n",
        "    def observation(self, obs):\n",
        "        return ProcessFrame84.process(obs)\n",
        "\n",
        "    # Function to process the environment\n",
        "    @staticmethod\n",
        "    def process(frame):\n",
        "        if frame.size == 240 * 256 * 3:\n",
        "            img = np.reshape(frame, [240, 256, 3]).astype(np.float32)\n",
        "        else:\n",
        "            assert False, \"Unknown resolution.\"\n",
        "        img = img[:, :, 0] * 0.299 + img[:, :, 1] * 0.587 + img[:, :, 2] * 0.114\n",
        "        resized_screen = cv2.resize(img, (84, 110), interpolation=cv2.INTER_AREA)\n",
        "        x_t = resized_screen[18:102, :]\n",
        "        x_t = np.reshape(x_t, [84, 84, 1])\n",
        "        return x_t.astype(np.uint8)\n",
        "\n",
        "# Transforming the image of the environment that it fits the agent\n",
        "class ImageToPyTorch(gym.ObservationWrapper):\n",
        "    # Constructor\n",
        "    def __init__(self, env):\n",
        "        super(ImageToPyTorch, self).__init__(env)\n",
        "        old_shape = self.observation_space.shape\n",
        "        self.observation_space = gym.spaces.Box(low=0.0, high=1.0, shape=(old_shape[-1], old_shape[0], old_shape[1]),\n",
        "                                                dtype=np.float32)\n",
        "\n",
        "    def observation(self, observation):\n",
        "        return np.moveaxis(observation, 2, 0)\n",
        "\n",
        "# Normalization of the pixels to values between 0 and 1\n",
        "class ScaledFloatFrame(gym.ObservationWrapper):\n",
        "    def observation(self, obs):\n",
        "        return np.array(obs).astype(np.float32) / 255.0\n",
        "\n",
        "# Updating the environment\n",
        "class BufferWrapper(gym.ObservationWrapper):\n",
        "    def __init__(self, env, n_steps, dtype=np.float32):\n",
        "        super(BufferWrapper, self).__init__(env)\n",
        "        self.dtype = dtype\n",
        "        old_space = env.observation_space\n",
        "        self.observation_space = gym.spaces.Box(old_space.low.repeat(n_steps, axis=0),\n",
        "                                                old_space.high.repeat(n_steps, axis=0), dtype=dtype)\n",
        "\n",
        "    def reset(self):\n",
        "        self.buffer = np.zeros_like(self.observation_space.low, dtype=self.dtype)\n",
        "        return self.observation(self.env.reset())\n",
        "\n",
        "    def observation(self, observation):\n",
        "        self.buffer[:-1] = self.buffer[1:]\n",
        "        self.buffer[-1] = observation\n",
        "        return self.buffer\n",
        "\n",
        "# Function to combine the functions above into one to create an environment by calling one function\n",
        "def make_env(env):\n",
        "    env = MaxAndSkipEnv(env)\n",
        "    env = ProcessFrame84(env)\n",
        "    env = ImageToPyTorch(env)\n",
        "    env = BufferWrapper(env, 4)\n",
        "    env = ScaledFloatFrame(env)\n",
        "    return JoypadSpace(env, RIGHT_ONLY)"
      ],
      "metadata": {
        "id": "if_WAo5z6Ehs"
      },
      "execution_count": 6,
      "outputs": []
    },
    {
      "cell_type": "markdown",
      "source": [
        "### 2.2 Environment Overview"
      ],
      "metadata": {
        "id": "bRznpi8_6Eri"
      }
    },
    {
      "cell_type": "code",
      "source": [
        "# Creating an environment as test\n",
        "env = gym_super_mario_bros.make('SuperMarioBros-1-1-v0') # Environment creation\n",
        "env = make_env(env)  # Environment wrapping to grayscale\n",
        "env.reset() # Initializing the environment\n",
        "\n",
        "# Performing one test step\n",
        "new_action = env.action_space.sample() # Pulls a random action from the sample space\n",
        "state, reward, done, info = env.step(new_action) # Uses the random action to perform a step\n",
        "\n",
        "# Plotting the environment after the random action to get familiar with it\n",
        "plt.figure(figsize=(10,8))\n",
        "for idx in state:\n",
        "    plt.imshow(idx)\n",
        "plt.show()"
      ],
      "metadata": {
        "colab": {
          "base_uri": "https://localhost:8080/",
          "height": 824
        },
        "id": "ZVEC-Ebt6H_i",
        "outputId": "345c5e58-2822-4a7c-e561-3ec6a7522251"
      },
      "execution_count": 7,
      "outputs": [
        {
          "output_type": "stream",
          "name": "stderr",
          "text": [
            "/usr/local/lib/python3.10/dist-packages/gym/envs/registration.py:593: UserWarning: \u001b[33mWARN: The environment SuperMarioBros-1-1-v0 is out of date. You should consider upgrading to version `v3`.\u001b[0m\n",
            "  logger.warn(\n",
            "/usr/local/lib/python3.10/dist-packages/gym/core.py:317: DeprecationWarning: \u001b[33mWARN: Initializing wrapper in old step API which returns one bool instead of two. It is recommended to set `new_step_api=True` to use new step API. This will be the default behaviour in future.\u001b[0m\n",
            "  deprecation(\n",
            "/usr/local/lib/python3.10/dist-packages/gym/wrappers/step_api_compatibility.py:39: DeprecationWarning: \u001b[33mWARN: Initializing environment in old step API which returns one bool instead of two. It is recommended to set `new_step_api=True` to use new step API. This will be the default behaviour in future.\u001b[0m\n",
            "  deprecation(\n",
            "/usr/local/lib/python3.10/dist-packages/gym/utils/passive_env_checker.py:227: DeprecationWarning: \u001b[33mWARN: Core environment is written in old step API which returns one bool instead of two. It is recommended to rewrite the environment with new step API. \u001b[0m\n",
            "  logger.deprecation(\n"
          ]
        },
        {
          "output_type": "display_data",
          "data": {
            "text/plain": [
              "<Figure size 1000x800 with 1 Axes>"
            ],
            "image/png": "[encoded data removed]"
          },
          "metadata": {}
        }
      ]
    },
    {
      "cell_type": "markdown",
      "source": [
        "## 3. Double Deep Q Network"
      ],
      "metadata": {
        "id": "VNAJVhPs6Kgz"
      }
    },
    {
      "cell_type": "markdown",
      "source": [
        "### 3.1 Double DQN Creation"
      ],
      "metadata": {
        "id": "K14lp2cq6QXz"
      }
    },
    {
      "cell_type": "markdown",
      "source": [
        "The original version of the DQN is from https://colab.research.google.com/drive/1NsbSPn6jOcaJB_mp9TmkgQX7UrRIrTi0.\n",
        "\n",
        "The version implemented and slightly adapted here is from https://github.com/DrJessop/MarioReinforcementLearning/tree/master."
      ],
      "metadata": {
        "id": "Ugg4F3wLzIJW"
      }
    },
    {
      "cell_type": "code",
      "source": [
        "# Creation of the DQN\n",
        "class DQNSolver(nn.Module):\n",
        "\n",
        "    # Constructor, creation of the layers of the DQN\n",
        "    def __init__(self, input_shape, n_actions):\n",
        "        super(DQNSolver, self).__init__()\n",
        "        # Creation of the DQN with one input layer and two Convolutional layers\n",
        "        self.conv = nn.Sequential(\n",
        "            nn.Conv2d(input_shape[0], 32, kernel_size=8, stride=4),\n",
        "            nn.ReLU(),\n",
        "            nn.Conv2d(32, 64, kernel_size=4, stride=2),\n",
        "            nn.ReLU(),\n",
        "            nn.Conv2d(64, 64, kernel_size=3, stride=1),\n",
        "            nn.ReLU()\n",
        "        )\n",
        "\n",
        "        # Creation of the classification layer\n",
        "        conv_out_size = self._get_conv_out(input_shape)\n",
        "        self.fc = nn.Sequential(\n",
        "            nn.Linear(conv_out_size, 512),\n",
        "            nn.ReLU(),\n",
        "            nn.Linear(512, n_actions)\n",
        "        )\n",
        "\n",
        "    def _get_conv_out(self, shape):\n",
        "        o = self.conv(torch.zeros(1, *shape))\n",
        "        return int(np.prod(o.size()))\n",
        "\n",
        "    def forward(self, x):\n",
        "        conv_out = self.conv(x).view(x.size()[0], -1)\n",
        "        return self.fc(conv_out)"
      ],
      "metadata": {
        "id": "CMihkO5g6XmW"
      },
      "execution_count": 8,
      "outputs": []
    },
    {
      "cell_type": "markdown",
      "source": [
        "### 3.2 Agent Creation"
      ],
      "metadata": {
        "id": "t00uI1pZ6Xuz"
      }
    },
    {
      "cell_type": "code",
      "source": [
        "class DQNAgent:\n",
        "\n",
        "    def __init__(self, state_space, action_space, max_memory_size, batch_size, gamma, lr,\n",
        "                 dropout, exploration_max, exploration_min, exploration_decay, double_dq, pretrained):\n",
        "\n",
        "        # Calling the functions to create the DQN Layers\n",
        "        self.state_space = state_space\n",
        "        self.action_space = action_space\n",
        "        self.double_dq = double_dq\n",
        "        self.pretrained = pretrained\n",
        "\n",
        "        # Checks if GPU is available to accelerate training\n",
        "        print(torch.cuda.is_available())\n",
        "        self.device = 'cuda' if torch.cuda.is_available() else 'cpu'\n",
        "        print(self.device)\n",
        "\n",
        "        # checks if a Double DQN should be created => will be done every time in this notebook as the performance was way better than the performance of the normal DQN\n",
        "        # if self.double_dq:\n",
        "        self.local_net = DQNSolver(state_space, action_space).to(self.device)\n",
        "        self.target_net = DQNSolver(state_space, action_space).to(self.device)\n",
        "\n",
        "        # Checking if a pretrained model should be loaded => was done a few times when the notebook crashed due to too little RAM\n",
        "        if self.pretrained:\n",
        "            self.local_net.load_state_dict(torch.load(\"dq1.pt\", map_location=torch.device(self.device)))\n",
        "            self.target_net.load_state_dict(torch.load(\"dq2.pt\", map_location=torch.device(self.device)))\n",
        "\n",
        "        # Setting Adam as model optimizer\n",
        "        self.optimizer = torch.optim.Adam(self.local_net.parameters(), lr=lr)\n",
        "\n",
        "        # Setting the steps after which the target network is updated to 5000\n",
        "        self.copy = 5000\n",
        "        self.step = 0\n",
        "\n",
        "        # else:\n",
        "        #     self.dqn = DQNSolver(state_space, action_space).to(self.device)\n",
        "\n",
        "        #     if self.pretrained:\n",
        "        #         self.dqn.load_state_dict(torch.load(\"dq.pt\", map_location=torch.device(self.device)))\n",
        "        #     self.optimizer = torch.optim.Adam(self.dqn.parameters(), lr=lr)\n",
        "\n",
        "        # Setting the maximum memory of the DQN\n",
        "        self.max_memory_size = max_memory_size\n",
        "\n",
        "        # Checking if the memory of a pretrained model should be loaded => was done a few times when the notebook crashed due to too little RAM\n",
        "        if self.pretrained:\n",
        "            self.STATE_MEM = torch.load(\"STATE_MEM.pt\")\n",
        "            self.ACTION_MEM = torch.load(\"ACTION_MEM.pt\")\n",
        "            self.REWARD_MEM = torch.load(\"REWARD_MEM.pt\")\n",
        "            self.STATE2_MEM = torch.load(\"STATE2_MEM.pt\")\n",
        "            self.DONE_MEM = torch.load(\"DONE_MEM.pt\")\n",
        "            with open(\"ending_position.pkl\", 'rb') as f:\n",
        "                self.ending_position = pickle.load(f)\n",
        "            with open(\"num_in_queue.pkl\", 'rb') as f:\n",
        "                self.num_in_queue = pickle.load(f)\n",
        "\n",
        "        # loading the memory of the currently trained DQN during training\n",
        "        else:\n",
        "            self.STATE_MEM = torch.zeros(max_memory_size, *self.state_space)\n",
        "            self.ACTION_MEM = torch.zeros(max_memory_size, 1)\n",
        "            self.REWARD_MEM = torch.zeros(max_memory_size, 1)\n",
        "            self.STATE2_MEM = torch.zeros(max_memory_size, *self.state_space)\n",
        "            self.DONE_MEM = torch.zeros(max_memory_size, 1)\n",
        "            self.ending_position = 0\n",
        "            self.num_in_queue = 0\n",
        "\n",
        "        # Setting the sample size of the memory\n",
        "        self.memory_sample_size = batch_size\n",
        "\n",
        "        # Setting the learning parameters\n",
        "        self.gamma = gamma\n",
        "        self.l1 = nn.SmoothL1Loss().to(self.device) # Also known as Huber loss\n",
        "        self.exploration_max = exploration_max\n",
        "        self.exploration_rate = exploration_max\n",
        "        self.exploration_min = exploration_min\n",
        "        self.exploration_decay = exploration_decay\n",
        "\n",
        "    # Function to load the previous experience during training\n",
        "    def remember(self, state, action, reward, state2, done):\n",
        "        self.STATE_MEM[self.ending_position] = state.float()\n",
        "        self.ACTION_MEM[self.ending_position] = action.float()\n",
        "        self.REWARD_MEM[self.ending_position] = reward.float()\n",
        "        self.STATE2_MEM[self.ending_position] = state2.float()\n",
        "        self.DONE_MEM[self.ending_position] = done.float()\n",
        "        self.ending_position = (self.ending_position + 1) % self.max_memory_size  # FIFO tensor\n",
        "        self.num_in_queue = min(self.num_in_queue + 1, self.max_memory_size)\n",
        "\n",
        "    # Function to call random experiences of previous episodes during training\n",
        "    def recall(self):\n",
        "        idx = random.choices(range(self.num_in_queue), k=self.memory_sample_size)\n",
        "\n",
        "        STATE = self.STATE_MEM[idx]\n",
        "        ACTION = self.ACTION_MEM[idx]\n",
        "        REWARD = self.REWARD_MEM[idx]\n",
        "        STATE2 = self.STATE2_MEM[idx]\n",
        "        DONE = self.DONE_MEM[idx]\n",
        "\n",
        "        return STATE, ACTION, REWARD, STATE2, DONE\n",
        "\n",
        "    # Function to perform the action\n",
        "    def act(self, state):\n",
        "        # Epsilon-greedy action\n",
        "        if self.double_dq:\n",
        "            self.step += 1\n",
        "\n",
        "        if random.random() < self.exploration_rate:\n",
        "            return torch.tensor([[random.randrange(self.action_space)]])\n",
        "\n",
        "        if self.double_dq:\n",
        "            # Local net is used for the policy\n",
        "            return torch.argmax(self.local_net(state.to(self.device))).unsqueeze(0).unsqueeze(0).cpu()\n",
        "        else:\n",
        "            return torch.argmax(self.dqn(state.to(self.device))).unsqueeze(0).unsqueeze(0).cpu()\n",
        "\n",
        "    # Function to copy the weights of the local network to the target net every 5000 steps (5000 was set above)\n",
        "    def copy_model(self):\n",
        "        self.target_net.load_state_dict(self.local_net.state_dict())\n",
        "\n",
        "    #\n",
        "    def experience_replay(self):\n",
        "\n",
        "        if self.double_dq and self.step % self.copy == 0:\n",
        "            self.copy_model()\n",
        "\n",
        "        if self.memory_sample_size > self.num_in_queue:\n",
        "            return\n",
        "\n",
        "        STATE, ACTION, REWARD, STATE2, DONE = self.recall()\n",
        "        STATE = STATE.to(self.device)\n",
        "        ACTION = ACTION.to(self.device)\n",
        "        REWARD = REWARD.to(self.device)\n",
        "        STATE2 = STATE2.to(self.device)\n",
        "        DONE = DONE.to(self.device)\n",
        "\n",
        "        self.optimizer.zero_grad()\n",
        "        if self.double_dq:\n",
        "            # Double Q-Learning target function is Q*(S, A) <- r + γ max_a Q_target(S', a)\n",
        "            target = REWARD + torch.mul((self.gamma *\n",
        "                                        self.target_net(STATE2).max(1).values.unsqueeze(1)),\n",
        "                                        1 - DONE)\n",
        "\n",
        "            current = self.local_net(STATE).gather(1, ACTION.long()) # Local net approximation of Q-value\n",
        "        else:\n",
        "            # Q-Learning target function is Q*(S, A) <- r + γ max_a Q(S', a)\n",
        "            target = REWARD + torch.mul((self.gamma *\n",
        "                                        self.dqn(STATE2).max(1).values.unsqueeze(1)),\n",
        "                                        1 - DONE)\n",
        "\n",
        "            current = self.dqn(STATE).gather(1, ACTION.long())\n",
        "\n",
        "        loss = self.l1(current, target)\n",
        "        loss.backward() # Compute gradients\n",
        "        self.optimizer.step() # Backpropagate error\n",
        "\n",
        "        self.exploration_rate *= self.exploration_decay\n",
        "\n",
        "        # Checks that exploration rate is always at least 'exploration min'\n",
        "        self.exploration_rate = max(self.exploration_rate, self.exploration_min)"
      ],
      "metadata": {
        "id": "DIhdtT-16afX"
      },
      "execution_count": 9,
      "outputs": []
    },
    {
      "cell_type": "markdown",
      "source": [
        "### 3.3 Agent in Environment Overview"
      ],
      "metadata": {
        "id": "4wSw2mq46eD4"
      }
    },
    {
      "cell_type": "markdown",
      "source": [
        "\n",
        "\n",
        "The evaluate function is based on https://github.com/DrJessop/MarioReinforcementLearning/tree/master and was slightly adapted."
      ],
      "metadata": {
        "id": "VGtlqCQV2clW"
      }
    },
    {
      "cell_type": "code",
      "source": [
        "\"\"\"\n",
        "Utility functions to enable video recording of gym environment and displaying it\n",
        "To enable video, just do \"env = wrap_env(env)\"\"\n",
        "\"\"\"\n",
        "# Function to show the video of the agent in the environment\n",
        "def show_video():\n",
        "\n",
        "  mp4list = glob.glob('video/*.mp4')\n",
        "  if len(mp4list) > 0:\n",
        "    mp4 = mp4list[0]\n",
        "    video = io.open(mp4, 'r+b').read()\n",
        "    encoded = base64.b64encode(video)\n",
        "    ipythondisplay.display(HTML(data='''<video alt=\"test\" autoplay\n",
        "                loop controls style=\"height: 400px;\">\n",
        "                <source src=\"data:video/mp4;base64,{0}\" type=\"video/mp4\" />\n",
        "             </video>'''.format(encoded.decode('ascii'))))\n",
        "  else:\n",
        "    print(\"Could not find video\")"
      ],
      "metadata": {
        "id": "R2a4anjU6iib"
      },
      "execution_count": 10,
      "outputs": []
    },
    {
      "cell_type": "code",
      "source": [
        "# Function to predict and perform one episode in the evironment to get familiar with the behavior of the agent\n",
        "def evaluate(training_mode, pretrained):\n",
        "\n",
        "  total_rewards = []\n",
        "\n",
        "  # Creation of the environment\n",
        "  env = gym_super_mario_bros.make('SuperMarioBros-1-1-v0')\n",
        "  env = make_env(env)\n",
        "\n",
        "  # Setting up the video to record the episode\n",
        "  env = RecordVideo(env, './video',  episode_trigger = lambda episode_number: True)\n",
        "  observation_space = env.observation_space.shape\n",
        "  action_space = env.action_space.n\n",
        "\n",
        "  # Creating the agent\n",
        "  agent = DQNAgent(state_space=observation_space,\n",
        "                     action_space=action_space,\n",
        "                     max_memory_size=30000,\n",
        "                     batch_size=32,\n",
        "                     gamma=0.90,\n",
        "                     lr=0.00025,\n",
        "                     dropout=0.,\n",
        "                     exploration_max=1.0,\n",
        "                     exploration_min=0.02,\n",
        "                     exploration_decay=0.99,\n",
        "                     double_dq=True,\n",
        "                     pretrained=pretrained)\n",
        "\n",
        "  # Initializinh the environment\n",
        "  state = env.reset()\n",
        "  state = torch.Tensor([state])\n",
        "  total_reward = 0\n",
        "\n",
        "  while True:\n",
        "\n",
        "    # Getting the action to perform\n",
        "    action = agent.act(state)\n",
        "\n",
        "    # Performing the predicted action\n",
        "    state_next, reward, done, info = env.step(int(action[0]))\n",
        "    total_reward += reward\n",
        "    state_next = torch.Tensor([state_next])\n",
        "    reward = torch.tensor([reward]).unsqueeze(0)\n",
        "\n",
        "    if done:\n",
        "      break\n",
        "\n",
        "    total_rewards.append(total_reward)\n",
        "\n",
        "  # Printing the achieved reward\n",
        "  print(\"Total reward is {}\".format(total_rewards[-1]))\n",
        "\n",
        "  try:\n",
        "    env.close()\n",
        "  except:\n",
        "    pass\n",
        "\n",
        "  return total_rewards\n",
        "\n",
        "# Calling the function to create an agent to perform on episode\n",
        "total_rewards = evaluate(training_mode=True, pretrained=False)\n",
        "print(total_rewards)"
      ],
      "metadata": {
        "colab": {
          "base_uri": "https://localhost:8080/"
        },
        "id": "GzGmjClu9I8u",
        "outputId": "34429824-1935-496f-9efe-354746255322"
      },
      "execution_count": 11,
      "outputs": [
        {
          "output_type": "stream",
          "name": "stdout",
          "text": [
            "True\n",
            "cuda\n"
          ]
        },
        {
          "output_type": "stream",
          "name": "stderr",
          "text": [
            "/usr/local/lib/python3.10/dist-packages/gym/wrappers/monitoring/video_recorder.py:67: DeprecationWarning: \u001b[33mWARN: `env.metadata[\"render.modes\"] is marked as deprecated and will be replaced with `env.metadata[\"render_modes\"]` see https://github.com/openai/gym/pull/2654 for more details\u001b[0m\n",
            "  logger.deprecation(\n",
            "/usr/local/lib/python3.10/dist-packages/gym/wrappers/monitoring/video_recorder.py:78: DeprecationWarning: \u001b[33mWARN: Recording ability for environment SuperMarioBros-1-1-v0 initialized with `render_mode=None` is marked as deprecated and will be removed in the future.\u001b[0m\n",
            "  logger.deprecation(\n",
            "/usr/local/lib/python3.10/dist-packages/gym/wrappers/monitoring/video_recorder.py:149: DeprecationWarning: \u001b[33mWARN: `env.metadata[\"video.frames_per_second\"] is marked as deprecated and will be replaced with `env.metadata[\"render_fps\"]` see https://github.com/openai/gym/pull/2654 for more details\u001b[0m\n",
            "  logger.deprecation(\n",
            "/usr/local/lib/python3.10/dist-packages/gym/core.py:43: DeprecationWarning: \u001b[33mWARN: The argument mode in render method is deprecated; use render_mode during environment initialization instead.\n",
            "See here for more information: https://www.gymlibrary.ml/content/api/\u001b[0m\n",
            "  deprecation(\n",
            "/usr/local/lib/python3.10/dist-packages/gym/utils/passive_env_checker.py:280: UserWarning: \u001b[33mWARN: No render modes was declared in the environment (env.metadata['render_modes'] is None or not defined), you may have trouble when calling `.render()`.\u001b[0m\n",
            "  logger.warn(\n",
            "<ipython-input-11-b9fcfef0eda6>:31: UserWarning: Creating a tensor from a list of numpy.ndarrays is extremely slow. Please consider converting the list to a single numpy.ndarray with numpy.array() before converting to a tensor. (Triggered internally at ../torch/csrc/utils/tensor_new.cpp:245.)\n",
            "  state = torch.Tensor([state])\n",
            "/usr/local/lib/python3.10/dist-packages/gym/utils/passive_env_checker.py:227: DeprecationWarning: \u001b[33mWARN: Core environment is written in old step API which returns one bool instead of two. It is recommended to rewrite the environment with new step API. \u001b[0m\n",
            "  logger.deprecation(\n",
            "/usr/local/lib/python3.10/dist-packages/gym/core.py:43: DeprecationWarning: \u001b[33mWARN: The argument mode in render method is deprecated; use render_mode during environment initialization instead.\n",
            "See here for more information: https://www.gymlibrary.ml/content/api/\u001b[0m\n",
            "  deprecation(\n"
          ]
        },
        {
          "output_type": "stream",
          "name": "stdout",
          "text": [
            "Total reward is 1016.0\n",
            "[0.0, 2.0, 4.0, 7.0, 9.0, 14.0, 20.0, 28.0, 38.0, 47.0, 58.0, 70.0, 82.0, 90.0, 97.0, 106.0, 117.0, 129.0, 141.0, 152.0, 164.0, 176.0, 184.0, 191.0, 196.0, 203.0, 210.0, 217.0, 224.0, 231.0, 239.0, 247.0, 257.0, 260.0, 259.0, 259.0, 261.0, 265.0, 270.0, 274.0, 279.0, 284.0, 291.0, 298.0, 304.0, 311.0, 318.0, 325.0, 331.0, 337.0, 344.0, 351.0, 358.0, 365.0, 371.0, 378.0, 384.0, 383.0, 384.0, 385.0, 388.0, 393.0, 398.0, 405.0, 411.0, 418.0, 425.0, 432.0, 439.0, 445.0, 453.0, 460.0, 469.0, 480.0, 491.0, 503.0, 515.0, 527.0, 539.0, 550.0, 562.0, 574.0, 586.0, 598.0, 609.0, 621.0, 633.0, 645.0, 657.0, 664.0, 664.0, 664.0, 664.0, 664.0, 663.0, 663.0, 663.0, 663.0, 663.0, 662.0, 662.0, 662.0, 662.0, 662.0, 661.0, 661.0, 661.0, 661.0, 661.0, 660.0, 660.0, 660.0, 660.0, 660.0, 659.0, 659.0, 659.0, 659.0, 659.0, 658.0, 658.0, 658.0, 658.0, 658.0, 657.0, 657.0, 657.0, 657.0, 657.0, 656.0, 656.0, 656.0, 656.0, 656.0, 655.0, 655.0, 655.0, 655.0, 655.0, 654.0, 654.0, 654.0, 654.0, 654.0, 653.0, 653.0, 653.0, 653.0, 653.0, 652.0, 652.0, 652.0, 652.0, 652.0, 651.0, 651.0, 651.0, 651.0, 651.0, 650.0, 650.0, 650.0, 650.0, 650.0, 649.0, 649.0, 649.0, 649.0, 649.0, 648.0, 648.0, 648.0, 648.0, 648.0, 647.0, 647.0, 647.0, 647.0, 647.0, 646.0, 646.0, 646.0, 646.0, 646.0, 645.0, 645.0, 645.0, 645.0, 645.0, 644.0, 644.0, 644.0, 644.0, 644.0, 643.0, 643.0, 643.0, 643.0, 643.0, 642.0, 642.0, 642.0, 642.0, 642.0, 641.0, 641.0, 641.0, 641.0, 641.0, 640.0, 640.0, 640.0, 640.0, 640.0, 639.0, 639.0, 639.0, 639.0, 639.0, 638.0, 638.0, 638.0, 638.0, 638.0, 637.0, 637.0, 637.0, 637.0, 637.0, 636.0, 636.0, 636.0, 636.0, 636.0, 635.0, 635.0, 635.0, 635.0, 635.0, 634.0, 634.0, 634.0, 634.0, 634.0, 633.0, 633.0, 633.0, 633.0, 633.0, 632.0, 632.0, 632.0, 632.0, 632.0, 631.0, 631.0, 631.0, 631.0, 631.0, 630.0, 630.0, 630.0, 630.0, 630.0, 629.0, 629.0, 629.0, 629.0, 629.0, 628.0, 628.0, 628.0, 628.0, 628.0, 627.0, 627.0, 627.0, 627.0, 627.0, 626.0, 626.0, 626.0, 626.0, 626.0, 625.0, 625.0, 625.0, 625.0, 625.0, 625.0, 627.0, 631.0, 635.0, 640.0, 644.0, 651.0, 658.0, 665.0, 671.0, 677.0, 684.0, 691.0, 698.0, 705.0, 711.0, 718.0, 725.0, 732.0, 739.0, 745.0, 752.0, 759.0, 767.0, 776.0, 785.0, 794.0, 795.0, 795.0, 795.0, 794.0, 794.0, 794.0, 794.0, 794.0, 793.0, 793.0, 793.0, 793.0, 793.0, 792.0, 792.0, 792.0, 792.0, 792.0, 791.0, 791.0, 791.0, 791.0, 791.0, 790.0, 790.0, 790.0, 790.0, 790.0, 789.0, 789.0, 789.0, 789.0, 789.0, 788.0, 788.0, 788.0, 788.0, 788.0, 787.0, 787.0, 787.0, 787.0, 787.0, 786.0, 786.0, 786.0, 786.0, 786.0, 785.0, 785.0, 785.0, 785.0, 785.0, 784.0, 784.0, 784.0, 784.0, 784.0, 783.0, 783.0, 783.0, 783.0, 783.0, 782.0, 782.0, 782.0, 782.0, 782.0, 781.0, 781.0, 781.0, 781.0, 781.0, 780.0, 780.0, 780.0, 780.0, 780.0, 779.0, 779.0, 779.0, 779.0, 779.0, 778.0, 779.0, 780.0, 783.0, 788.0, 791.0, 796.0, 802.0, 808.0, 815.0, 821.0, 828.0, 835.0, 842.0, 849.0, 855.0, 862.0, 869.0, 876.0, 883.0, 889.0, 899.0, 910.0, 922.0, 934.0, 945.0, 957.0, 969.0, 981.0, 993.0, 1004.0, 1016.0]\n"
          ]
        }
      ]
    },
    {
      "cell_type": "code",
      "source": [
        "# Displaying the video to get familiar with the behvaior of the agent\n",
        "show_video()"
      ],
      "metadata": {
        "colab": {
          "base_uri": "https://localhost:8080/",
          "height": 477
        },
        "id": "TeZX5SK19MkS",
        "outputId": "ed6f6e64-0d88-42e6-a4e1-d25c8ee897a7"
      },
      "execution_count": 12,
      "outputs": [
        {
          "output_type": "stream",
          "name": "stderr",
          "text": [
            "/usr/local/lib/python3.10/dist-packages/ipykernel/ipkernel.py:283: DeprecationWarning: `should_run_async` will not call `transform_cell` automatically in the future. Please pass the result to `transformed_cell` argument and any exception that happen during thetransform in `preprocessing_exc_tuple` in IPython 7.17 and above.\n",
            "  and should_run_async(code)\n"
          ]
        },
        {
          "output_type": "display_data",
          "data": {
            "text/plain": [
              "<IPython.core.display.HTML object>"
            ],
            "text/html": [
              "<video alt=\"test\" autoplay\n",
              "                loop controls style=\"height: 400px;\">\n",
              "                <source src=\"data:video/mp4;base64,AAAAIGZ0eXBpc29tAAACAGlzb21pc28yYXZjMW1wNDEAAAAIZnJlZQABYXxtZGF0AAACrgYF//+q3EXpvebZSLeWLNgg2SPu73gyNjQgLSBjb3JlIDE2MyByMzA2MCA1ZGI2YWE2IC0gSC4yNjQvTVBFRy00IEFWQyBjb2RlYyAtIENvcHlsZWZ0IDIwMDMtMjAyMSAtIGh0dHA6Ly93d3cudmlkZW9sYW4ub3JnL3gyNjQuaHRtbCAtIG9wdGlvbnM6IGNhYmFjPTEgcmVmPTMgZGVibG9jaz0xOjA6MCBhbmFseXNlPTB4MzoweDExMyBtZT1oZXggc3VibWU9NyBwc3k9MSBwc3lfcmQ9MS4wMDowLjAwIG1peGVkX3JlZj0xIG1lX3JhbmdlPTE2IGNocm9tYV9tZT0xIHRyZWxsaXM9MSA4eDhkY3Q9MSBjcW09MCBkZWFkem9uZT0yMSwxMSBmYXN0X3Bza2lwPTEgY2hyb21hX3FwX29mZnNldD0tMiB0aHJlYWRzPTMgbG9va2FoZWFkX3RocmVhZHM9MSBzbGljZWRfdGhyZWFkcz0wIG5yPTAgZGVjaW1hdGU9MSBpbnRlcmxhY2VkPTAgYmx1cmF5X2NvbXBhdD0wIGNvbnN0cmFpbmVkX2ludHJhPTAgYmZyYW1lcz0zIGJfcHlyYW1pZD0yIGJfYWRhcHQ9MSBiX2JpYXM9MCBkaXJlY3Q9MSB3ZWlnaHRiPTEgb3Blbl9nb3A9MCB3ZWlnaHRwPTIga2V5aW50PTI1MCBrZXlpbnRfbWluPTI1IHNjZW5lY3V0PTQwIGludHJhX3JlZnJlc2g9MCByY19sb29rYWhlYWQ9NDAgcmM9Y3JmIG1idHJlZT0xIGNyZj0yMy4wIHFjb21wPTAuNjAgcXBtaW49MCBxcG1heD02OSBxcHN0ZXA9NCBpcF9yYXRpbz0xLjQwIGFxPTE6MS4wMACAAAAabWWIhAA3//7hA/gUaRBjXRvEOD9XLGjhRP56HSjbRf1b2Rz3v8sd77G3MI9roR9mCasaZ8NOvBkcpnYpGi0pjV7OYfRYh2bjoXpA9QIveYZcU5iWE/I1HZ75aPV5Q0kjj3BBEgGJXzuP1cH7td+KAjAb9ZG8iXRheZLIxOgJE8yB9P3ZqLzYtpFGyYl+EfOjvzbyGEj1fz4wLRdlGXco4vtjK+qJ4LgnAuMzcLyX0RkD4C9L7xdI+RdhXyTICmXZdVauYaOGapidikhzmuggM5bA2pNSwvCtNNRBbfRdRRzfSf22egNKG/mNR4UNbsey1QhbklsboXtjdxmCbp2/isUJO4YXQWYP9yUNtei4ivBPPavCvkz7VGpN8k3C0rjfnNXnJbn+xOuUnz7JXX1g6C0wJ5SahE82FMJwqvTDEUDz9KKOw/8b6ehSRjyr0S7RVe/o+npm2V8bZq9Qz+cJU+rSPkxrdU7D61MuP7Z+Ceite92JaESCbp0hlxsXjnHhWg8AJs/1gwwZO5q+GzQl1w1Q5dmfRRkaAxJTFia51NZpDXaLSwa94WJHWL290/NjKFe79UdvCDHd67di3wop45e2pJZ4ExVADiTPZMtODcXhF3cPb2gf43eCVFTBW+4y2Vu9h9d5oSMf/4BGt6jlyO8/eKIKvQhMwWP1EOuVqVuusDwFmegbeaWiNPbzQSl3kHHc9JYUHh+xA6BzyCSDLTrdLYRJJIPOJHaiR9hJfivv/6DFiejtNuIdUvhZ3+Uof7lpBPm0qts+1iqdC6nhLSlR7/QfvqK9NH8V+nodV3iGm1ybNKlFSuU111ljUR7npL3Yj34ywmA+pdsvU6Bs/9p/GIu9kM333/LQDfsqaauCU17FKs2OXyW6kkXNkpqJ9lSzv3W34k/dlv1v4LJ0n8AElORFSU/m22c64Dsyo+Uws9xl1AHH7xgrDA8CSAntZg19iXZjpitFtKSZgWueI2ziFIu4MbzQ5Wex4Tc2HUJMxGA6V4xF5Knvd3FDHcKOpAygYDH3sv0f1kiyM41LHlBVwAiIIQWeQOleFxhwnls3EAEkt5yJJavm8N1lfd+N3kSGfc+4yujJhj4i95FAZL9Qv7A1UDTze5EVyboMklAjc86Kp7UA7AZY53EloOjcWKDzbcI9QpdNzrxfqO4j4WOQAg+BjA1dTXto5jr6rrCVbf16LPt7FjvTyVH6q4YhxTpxLiwVpHpHVdZTMLpqijHcHIWSZSxdWUA98e222R4JsEp7fgzYS+j7qpFTYPGVVtkGvajlt/oMQS6pDuOY4zvDmHDEoKbfr1Vp1N+FuPlISRYdAx33rn8xJ0DQjfDvPuPLlLvM6nEqPO0EEXQix/hG+DTe8/IhF9PlhVFNWr8KK8udg/jgQwET3oEQ7dvhKhRSXv38o2FRql1f2j+6D9UZ/Gj1ERuK4VfPLMCx8xTINkpK3ciKsY/H2gwhJEXA44dbrQ5mTJJwb3cLZq1Wc7HC3ZCnDGTHHvaAv6d5WxHzPOTuat0MqazULnK1hbvw2ZoHEZtX8pBl+7ia1nF2vGqJVfQGhSGJVQe2ZYTuWaOu7rjg/uNYXy6Q9AbVbfvQvcbCmmooNqbRGzrW7P7Tek5wSiKGV3+Z1a2UcQSkhUmYD/ooeBb0j02FBqUR73rEi73UxK6SxelnLf8OB2J8cwUk2EmyZ+SOl+LPbyhLK9/r2Am3CZw53yQyNrPI7Z0EP2mnZMRJQgWeq2qS9ww1GzOX/7hcX+Ucjfz/DKKbn2SY32CGlD6lySeQMx9X8kfuLCv3XecPPfsDZFvmgP9XN2vrsfEHBui6qqjylQgLa0pq51vn9q452ltaW6+QHpUFp8ggpJs6JF8bxk7/1xjp4vRjqcxxAFhkwr19VaDkOFB9WLrT9knjo2pCEkt2AX8WlFLa0PiG9R6oJnHpfi3mMh4PU4E+7PRLMRv/dcknqwpudg1APWfssfXylP82YrOJACCvuaL+ktFYW2XLwsXO+A0HdvvKnOEb1aREYYiCiWBtci1KQBXVRtXPitzWHE4JrRxkF57LADdp3FHtafqx26i7w2DjmWp4dRoya+my0GfY1qaBRZTz3iOHZxpVUElUA34i6m2tjvLnTz5kmc6EdBJbHd371zLztOFChPcvha+QJS2Oio5cwcksb5khGEXWLJ7OHLU0jhc91xW3RzyCfVkeE075y/Xh2UZDKMfa4IPZPt0SIh0QmajgmdumJmu2sRyw9wPbx9Q24qsXqOT6clESXNyPLefqFvF8siNIAWp7113xVK3FA6iuaW60VXpgUxUNBPsg+bm7zOOEQITOG27UCAoZU7jNI2zFDZvhyIWhmBKUslbYIwAPfe1wgp/o0tNfYr4qE9VQbQHmxoVkdjfBDcgf0MqLVq7NFMzMsIfv9QX+51HZItmWsnCwL5fMpzdBVs5g9sROUOrKUDLpa6CRKgbc+pmly4RIe1qi0XyUb8qQgZ9JGdzO4ll11nezg7ZK9aFj6zEHahD1+kiE8b2wmMPPMgR3OxtMB3keo7DnIYDzAHOzC4VHEWKLxCVrGwWZW/JyJSeAcQsTAAADAAAHWH1pOr86BHJsPBusOeiBjrixVu7WSLFWX2y9KE2SJ9VL7PgHhf1wTe9oi+AGyrh0c1iKfOU4e31zga/Dl5qPAcm5ObuRTBGITkfcBiwKFfguyxgLBEZftocxlbCMWDEWM0AAqmbm1f+7Yjt8bhbH8dA5JqPRDTi54HLLovDr7TmoGuaAbScE5o3d5DN+HtMZhd8VeGE0C9PCKiubDLzYwI0jmw4w9wJ/erLIU4cluj1eR/PDkuPvAZX6EYBNm/7BIfr2KSy+Pd2fW/usUJYIIBJbSdhlLnFbltFudr3jc6BoL+/Qe2a/5GvsoMDdXiW3L+QIorngAYRwnH/VSD5k7XBXL9ZhRdd64hsFeSoaPNySBfYDU8gt3/5KSr0XZ2x9LsMbrW0KYXxXtcmoXUcLTUw/5wSz6crluUm65SWKP81WOKrtoEnemnLDuVKYCCd3S/KVHVq6+gjaNgBCr3tu69bJ9TOhhT0jSHocBtjrDV7CJgTpXseX0FIssJjNH+wYz+xFgOTdVLCTMs5tixPj1AD96Cl8J0IJsGPUo1WXxUDmh/jRGQYH3kyYNtRiL8NM2pbbD89yNhpyluxWLf7/tl43/PKxDP/uU/vcfPhigm090HvNLclVRXkcJ+Aw982kX7Ze5MI33ZePX328b/j4ncKTzhh0qvetfbKdEUt7m8E7w0Wyay2QuiYCk38nDGIN/hX0E0ZNAXqzZ27WwNjDiHRx6vAldOgdppi8nLbQT9dJWZC5719poI4VaOy2x969BWu2x4hwEl1euFE+EhWFlx8ilE3MCP9xGXuW7CyP3/0ofEMGiYI+UHY+AAzwtHvmhwkjR4ab0x4wjM523awHFe4wdR47SvD1f4DPJQnJs4IMV7ztX6NZdwOZntRjCHUhAWsG5/Oi/3Ew3lUEYo/MNnXxMrAnntODEb+QTRsUFNLm5Eblj7CwWLOVsQTOVRol8QTsSHdz8+vm0TNhixii8I+lKRTnbLc6TC3tegE4KOyyWJSSY6ZpvfmCw7LH43ifUxi4r6oll5Jed7wD4AE2PDAnEGTSmABz/NgYHiQClapxJ0uDPdiX+uXhXOfhKV8DzAk3JTfbKZ8quOcZU3W+9elJNxVCTT8yHa3GuEPIKbXUBLQ5bywoaCcxUTSHJ5zVp85WjlpRHlwrCtltMxNk+slpvtchYYjf4Z2RbTuoyJMWMUy/9YFChp4M9VUkhdJSn7vvV9Ly5XHghhuj/THL+k9WOaJ+qQN4SyF+YeWK8Y97H151z9p0WpOgDePdl9kIki7YS7V+gZGn4NF8fSO0wV9dW55P2pop3elXhoO5c14N2C9Xd/j3hnm0o3CzJ/vBx71VE9xSq1L+h1Vlog9Gn974ItGtIiKB8GVDiT4Kphd9yh2oya2o/n63DUVeZLzJgEy2OOaFxXaWN8w+HozeQGK7uOpdlxLTUxkgb48Im2aRC/wet9aQ0+mBNNO6t0ZzOw9RoiAY2uHLtXxZhhUJMfn6PY45TxKXWpEccYKW5yb/RIBOLt8+Gc0x3LqMS9KH+hrNczIl7xt2iXHMT/7H77LpqsmwRxW4WifwwLSnM5pqclOFWK4326mSuZBlV1UQaYcYVEal2OpVQIBkDfHTwRSorHiAr/D3hhei+o/0WL7VepWFAYdH5bvhQlbKtEdHRmeIYNm5bGkKwuNgLC2+WWGB59+RIjpTIA/ezvFZ8QNxYXShp4y0mYUJz1nhRNK2LhqYszAELa9ls+yfXGCyJas78hWuVteWmZMhJKxl1+maT+n93AZuAd3cdSSA3fwV56btB5+XYE2hsNh2JA2Tzh7IjVq5s3gwSJmFfFU5DYvdO5Mc0A4PR8N6G0pyFWu6Jt57cfqrIQTKpjg0mqrDm9e3wGF06zT1ifF9qJAk5epfsfvsunkPU8rRwEFJRgN7v3rNIPJ8s7LA5BD7AdBPXxHagRgYyOojUwj2I1MTiK0hqtJrTcrV8L8zKqafkL0pj2fmlhuW4pWWjAmbRm0FJLNcd4BfF1iZh6Q8Xm/607kOjfZWvNVnH0bwhmWBGh7KnWa06VGlhawwgVJFPdOu+kQa6/Zo2IXN9xRtPd+1CxQOTomoXNRLCxrPuTJ92o11GMjqI1MI0wQ9BWEHY2KdjJuVq+F+ZlVf/qoJVR7PzUzyLcc5l5iQ3WOQbgVmuUW/Yc7z3yY6L3ePW+mGC2Eu/g7hqXkAtCQo6CmY63qyDXCZHA+XOgKzz0XnXfSJ2RJ3csu5LIXCWnu/akqjJJ0TULmmJhY1n3Jk+7UmRhb5bCHjKaW65grCDsbFPCE3K1fC/Myq+b1IEqo9n5qZRSAUrLRgTOJUesgVmuPAOryQErwnEb9NdBEoVK8Xln/ogiJqEpym3hO+VaaXhSTyafLnQGwMKEX/k/kDBqwPOWklkRs7T3ftT7srBpDV54vGwsaz7kyfdqS+Qt8thDxlNIcK10w00NVoc8Qhq/C/MyrId069KY9n5qYGpgUrLRgTOOUwbgVmuPIcneXmwZqpu9MRyPziddkb8TZ0BgUX1RKdJGI1mnhCjQIUbLDlzoDaOFCL/yfyBhaf65ruSyIyWJ7v2qZgwL2fQ2VsvviA6CeviO1JE3oF84h4ymiyFa6YaaGq0YyIQ1fhfmZVou6delMez81MDKwKVlowJnHKYNwKzXHtLTi/dn/Ra5McCcUZ+2Gyp2fope+hExgFktcLMFRNGRk8mny50CEop7p130ibmqf65ruSyIbdJ7v2qpgwL2fQ2VsvviA6CeviO1JE3oF84h4ymiyFa6YaaGq0YyIQ1fhfmZVru6delMez81MDKwKVlowJnHKYNwKzXH8SgExzlKT0hwgV2T2x82R6Y3mmAri1ukc54yLg9e5wKNlhy50C4U9F5130ibmqf65ruSyIbjJ7v2rRgwL2fQ2VsvviA6CeviO1JE3oF84h4ymiyFa6YaaGq0YyIQ1fhfmZVwu6delMez81MDKwKVlowJnHKYNwKzXHtFUVBg5/MWCOUqufXR7ejdUTnuLxHxqVKoBelTyyP5fRpYyeZJOGei8676PdBtHVkWZ0oHa9agfkaop7mNOCnHmDHdLEh17JUTpn9Lrf4JqhRcbTjWLpxU8LuXqbSL6OViJ56de2LeyVMGJyCdw15iQ5/phDmMLwYTV6u/EF5iJzJtkGVIFRx2uGDVO5S2v7utwwYKyUR2X9zaO6AFgModzrum8I15gcE3r0CR5c1PemjFY9n8bzhfLQ19idz7kyfdqZZvj8dRGpdfNfbonG9PzuN2rEH5jQdsYIUzw2Y8gBR/bKqV4UrI+kCoYYwbbffjeKxzEN5FdDFl+D8Qdq+IJwSERSh8Ty3+sBWI9O7p0uADj4QUwBIIUHc67qetGPKqU3tzlp9oHLH+hDSYfkIsyzjeGEkJYTyKQPh6Z0GqBfOIeLwfa3YJxvT85++0iEOWj35mVb6+23RTHs+uF6PBeFFxlTkTq2rhQZ2SFqAeT8FXnMluVzpqgz1rC8FaezxgpAebxWN+iNY/qhGCLhx8jAFkmBhIQ0Bx11IUDD/oAbXAVGKuydHaHpZT7juWBEKENS1bXaCNxtKGyvURqXY31D97SXp+dxsaTc0azr8zKtVPbbopj2fXM9EwvCi4ypyJMbVwoM7JC0PhmU/x/DgFIu+JFtQ6MkFRJvXU/W1VqTphd6M1TaM/tQ7ufea9lEereKXRA4bjmsoxodNsfaH1rNJN5xN7Th83X2+izsuOtEydzy9riFxYS4a5NBK8kD0nqjUXsxYXMoI/YPN7Cle24+QToWIAmqekZU+kCm+2e0jOb8nMW/5JOx1PKH/llz8A+SvYKleXTNUGoLwz3Ugu0Khw0DKVUbLH9j60yFKdd0HeqJ8NQC2VUYtaEUWP9n7De3Wok4zjeD6kzH+OBvUh6VkHjqjqI1LsnH7ok43p+u0Lqswj0jamJCaY8PELdbpEEIBqXaUW7tfhGDWAFBnZIeWPTsRNCgYsdoO2Gu1CRskzJGcoQ8CCoTbWl0ertZpZ0shlFO7fDhbAwkIZxKlZJVyzhNMNWUDznRtDq4b6NG3Wxx0R/ECH9xwBCKkI74ecziHjK7xpORpqDsbFPi9BFDGg7YwQZ/w2osoukVMrgCbAsj6QKhVi9rt9+N8tACanGNIGLXp6Bw5L60t1b/IdWY8yIpJOHCevUsXnT1FO7eEIgA2zrug75ZLMwjj1GLcSz0KfHxvZsQycJve+VLmLQHQT18R2rmnZgvnEPGViwSi3TDTQ1WsXnMWkC7cisUlfDaiyj2fl4Z1JsCy0YEziC3yExheGvuM8gc3WMjZVz8k+YjHMTBE+Op1yPLG6o0wolCiGM8UqTeMcwlO8C/8dIsSE20rrLt5BohdKnx8b4TEMnCb3vlr5i0B0E9fEdrbp2YL5xDxlVkEot0w00NVqp4XK1fC/MyshH4bUWUez8wHwPRJ5l5iQ6Oxe2ArNdMmkGFrw2leeu24qQFEpJkDJH1/dz7m+H7SJijCUEVZ4pUkFIxuzAbZ13Qd7EYV9tLOy7eQHCksP9ktbQxIkh1nG8SlW7f44G9SHp15bMF84h4vAGfukLK1PzuM1ULlavhfmZWFj8PEKmPZ9c2FRPOlFxlTkYa2rhQZ2SUwFKnnyw6bmxt+g+Ehkpe8CcYPzI/53cTqLbB8ElH4pUkFQx0eTAuzrq/kZRNgviaYasozz+jaHV+MOvqx3xeATSZkP7jgCEVJB3w85nEPGU2KRtOrlaQ1WlWaCKGNB2xfe93htRZR7PzXhGlPJ5l5iQ4BtY2ArNcncqEpJeWO/vUBrAzyFCYJx+hE6ffiIlcJ1FVgvCVL8X9C/TwulPRedd0HfJeYYFBeoxbiOArT4+N6xhyThN73ypcxaA6CeviO1L07MF84h4ymmyNpOIrSGq1U8LlavhfmZWMD8NqLKPZ+XP214k8y8xIcdYvbAVmusrJhOVen49CamhIPI2JfWf6D/qiMC5RZsxk6hDXhZ1Dv/XlDbuA2zrug75IO2ldZdvINDTuU+PjfKYhk4Te98s3MWgOgnr4jtV9OzBfOIeMps7U+TiK0hqtXfOYtIF25FYsa+G1FlHs/L98h0SeZeYkOfsXtgKzXXJ/3oK2WV3vvDUJB5MJL60fQf9DcbXRbksZeJafA7Ood/68oiyAG2dd0HfJF20rrLt5Boid6nx8b6rEMnCb3vlt5i0B0E9fEdrHp2YL5xDxlNVanycRWkNVrJ4XK1fC/MysqVw2oso9n5gPgeiTzLzEh0di9sBWa66f0JMaNSyw/nFtTGeTSS+tH0H/REYFUW5LGYyWnwNohvoX6RGxMBtnXdB3yS1tK6y7eQaIngp8fG+uxDJwm975beYtAdBPXxHax6dmC+cQ8ZTVWp8nEVpDVayeFytXwvzMrLFcNqLKPZ+YD4Hok8y8xIdHYvbAVmulpJMgQOoE7pBPBIPJvJfWj6D/oiMCqLcljM5LT4J0Q30L9IjiuA2zrug75KObBHHqMW4lnxU+PjfXYhk4Te98tvMWgOgnr4jtY9OzBfOIeMpqrU+TiK0hqtZPC5Wr4X5mVliuG1FlHs/MB8D0SeZeYkOjsXtgKzXTKJGho6gTxUE8Eg8m2SXzAJuxISS21BiWM1EtPgvRDfQv0iNm4DbOu6DvkrJsEceoxbiWfJT4+N9diGThN73y28xaA6CeviO1j07MF84h4ymqtT5OIrSGq1k8LlavhfmZWWK4bUWUez8wHwPRJ5l5iQ6Oxe2ArNdcgBqlNJUCehOHgkHk4yS+YBN2JDyn2oMSxm0lp8G6Ib6CqxREIANs67oO9iMK+2lnZdvIDhSmH+yWt6YkSQ6zjeJSrdv8cDepD068tmC+cQ8XfKH3SFlan53GWqFytXwvzMrEB+HiFTHs+ubConnSi4ypyMNbVwoM7JCHhFugdQJ48XeCQeTrJL5gE3YkWfhGgxLGbyWnwfohvoKpgGL2BhIQziVKZ5tLOk0w1ZRnttG0OsKYdfVjvi8AmkzIf3HAEIqSjvh5zOIeLvknvU1xNT85+770EUWj35mVio/Daiyj2fmvCNKeTzLzEhwDaxsBWa6Z3MyaSoE80rSpjPJ3kl8wCbsSNcfDQYljOBLT4cLcnoX6RIiig7nXdB3yd9tK7y7eQaEGPkU5J9cw5Jwm975UuYtAdBPXxHacHfCZHURqYRPsjaTiK0hqtTPC5Wr4X5mYd6+G1FlF0ipsz8TYFkfSBUOsXtdvvxrY6dVdLLEReCVMZ5O8kvmATdiRxY0aDEsZwJafCeiG+gqsUTKFB3Ou6DvXaw3QwMC9Ri1ocUknxdonX52Kz2m9xRpMx/jgb1IenhB4TI6iNS66I5nIWVqfncYWmghq/C/MysOH4eIVMez65rckedKLjKnIwltXCgzskPhYjUSHUCehOHgkHk7yS+YBN2JHdBBoMSxnAlp+nwAAAV9BmiNsQ3/+p4qm5IBaWAkDZHm5Sx72q1YvPDnwQ3oscXUUU48tfqNfZf9XEBHLf/+9+FUgSoKgLy4xRSNHvHBhg+1ZxIMZ36g0y88f3HwlScnkmt+gOzlRdQuxvLc4oIfcvAcfmQosGby9XyL+RdndJiI4udF9zaxc+t/cxUAxfsObKJlm60YyLjpERXPRKMdTqOmmKBM4RfE0JoWZm7NAygT5JLgW5zww475VTStndlNRa8HrjXhzEe06K/YP8F0m+1nmKK9NLxONdwa27oEClreAOuSTIRzEow2is5hzLxwVSKnOC/zYDoE/XyVlJyUBfucUwrObpVhTCG+WvRela6+xz7S/bRbDgOQ+FYA0oL8ftwWA9caqRk8je8kxs5SQ/OyjBxigz/967vvIqw9uWQODOXgrTkcM3I18dwZzCI/67/Y4IfBl3u2w1CZhXJePJojBU+gfwAyiNEVe7aAAAACNQZ5BeIV/BQ1oQKtN27VRn6rqqqTRvBh2LQBImC1AB95tS/D7urRkmAvd81xN9QwPOx/DKPx6evD+oIMtzdk0UWUzda4Y2CZ/b88QV6wYxSdMrj9fZwqDCcpO3jTjkOBXkdW2KenMMGGjxLNzQOEvQJjYxMPJ0gsVqjhkJp23eKfYr0bYmmofYUGCOkltAAAAbQGeYmpCfwOxnlltykyR840EAFva/H+xyHw0QvmOoJsS8DOtjQK1UEqry6yjARXz2euxX4H5KIT4dyDJA4biBOU1JO5PmOV9DgMWLqhMLU9LstARy85Xqom3VQvUB0SUNlufzAbizDDCcESE0+0AAAMPQZpnSahBaJlMCGf//p4UbLAOAFk4wjlF3hFUQMiiTHQeUVYPUk9vBof5ZXpiJRModxupGtyq7dom1zYDJLCiYFCU5n/aa45kv+CyYE6weVhu5r0gk+GmKofcFPMrAWMh95s2lREYeNcqIqta8zdWbaJ9y1ypnCC+ompn6bVowIVzb++K1lxfodgfSE8h+Z7N/xkymiZ6KuFrHKYYjUeKTvBWfkuYRC4uyyiix6e8Lb+5iKAfq1g3L/uBbZm3fH1tX67Mftz9IxGSw/eR5KJtn4i1ZZokTJNju6bCmd1/7RsgwO/Z3D7+1X86FGVMVhMwqxgzyTErVyzt13ofdr9DEn2rDnzJ4TxfhT5HYdU5Zne4plLQSsIU/ywzlm7K5K5/Z6n/2bQcSUB3tEHvi0XPBVW8ICnIZCzOmQiL0UClWlL+UtOWS0INMPi6AGu8RiKFzQCkuamn55o9nuzu65EGtPTMOOSx67pFJ5SPyi/kgpCgR7Dlp8yC93iP/DxY3thEhOGLT0y97afbG6aPNKX6YGzVXukSCT2JBa0IHf2LKvHfNTdqTMLv0WWZY+JChgSYu7YkxRVfqfalPQ4pizF24GLsHX+DcJpmy3w5M91QlsckpqLmdAwPszUXF795bogLfrfxJTiqN7DCwvuMOxw/RGihkvT03aYV1KeM2AnR+dEC0YvC3kKQcB8sFNBox5mWf/Y5mnh0KLHEOwEMi5zR40HFSCssRkyj5GZQzuS//RRbk8OdelXu10iqdW3HcDQAeI07V0NYYUrVqtQ5BFItTF2RlyLWmf8KlQzfd2xcj/D+/A6Jb7x5ky8Yb4yFkJgx13sbd46TIoPtJdX9Mf3XB5tWE8BbO6DYFLvS5Yd65rs69WQrbzJAAuvdH675qVCLpWiYYRK5PmQGVFsZDgVAEQlM3vyxgtu/agfwJUPbLkadq7/Fl1dL4y97BRgXXWDjkPOtnaLUIWF0FoTsZZo27T4dbbcOFPwEtR2nDSp1COfSxuAt4fpPNVwWuYS3VUvWlcsjFu3v1Cw8kJDh4GCdAAAAykGehUURLCv/BxN+6FLt4ARWAOZfGXWDh4UGifcl3Nsp8jx/IATp9MttEq5MP4Z8rKUl6amBJHgpdJ964CbGlrmX/H8dN4SpvCmv3F/ZpMFu9WLEYKJVZ1wmLh6lUY3Y0gUEhjJqlexiObRUVZbOfwaHCY90npsNtMzQK3YcTRBPzQrT+8TTVHkTyZQzd9Dglz8/QiV5TkzezKhYZBnyPa67yHiISezf/sBtXrTiBUfxa4JOU6AncTyvgi4W3SKwo1mrQYKVHgISEZUAAACuAZ6kdEJ/CHyMHnTVecvqsEE2KgAb9Z6mjHMGmRRCb44HYASdaIW+FyNyQW0kAB9j8aivQdiA6vu3zE+ED08dqHu+ZcQX5yeAETBzGHV5gZFi0eG/a2/b8yjWkZMtmmOx/yBzz3WBm+espMhI1JoU0Mq0jBlzYhaah2Uoe6qxZr6cRKW5726avV4evQDy/v9rMwNjgNAKZbGxEupgyNBxYol9Y/+81wM7zI4ZCpFPAAAAvwGepmpCfwhepw+QAq53x9930NtdjsrE0BKI0yC2gBcOeGX6upGVYb+jMpwsMM3r/EV34WUzUxGbquFsPcsALxLyypanp0u1yDz9oRLpHIY0NLtaKnp4oXjg6vKip8PEEH9UREu0D8Xj+L3Yuq28lDoC3N5r6J1RjmuasTtLqobrwKgtDFdSbWwuPHQiSuDmQ07/XFSTX5ZlE2QrRqs/yXb8IthFBs8uhUPCBbWTQyziuZl52ON+VZdCYMDJs2yBAAACDEGaqEmoQWyZTAhn//6eFF24JfLgTFdqU+wxxceqSy2txXXcSNoJtFER+EAAmVSXq2a985bb0IjPOJf8DuGuCmurB9RxBQswldnkP/dCx7a34GqKSjuzo0Ji752npAlDN9aeg//U6j6GC36JpTn9IBojJ/utXNW2j57v+9JvVq5XLAZI4epjsUdf2Zn2CysLqDm6TIY2hvYqi9YYjvGpXYbX8X96wKsO2sBznUI9LmFgOffhdri1NeMLdes+4AMgSeHJTcG0aYK7HcRIgs2R0Mm11d2ifKbOXHgvOR8Ix0SPARPzswwBwaf5x5wibHbY3sz3TVwyxnycAYl5kUORrObSEl37jqNZNOPuS18VFSq2cJxpTkf9Pqr8FWh3ROfTUZ/UjyZmv9V7rsDim4sGwvqKZQdp8qoS+cEqwHsJN4DBKJqazUreK8l1a5RmaLp/xUtkvtkLetpE/NRxiBUH8G1Z8u9pFvQq0LYXLwOJGsNflXtKKu2WoNEzuiR2+rkCyPMSDUo8ijpwz/9bC0qWkqM/Bzb9ihSNqVeJtWyUj4YQfmaZvRa26JdQ4NoY1v7z2oaGokWkpB+jPg4Tz+OggQiB9WJ0mke4mFGoYppZxZ2M0ouBiyMyJ7nfkjvHyIzOdA1Z89MG9uYvob/QtOC/5eyqKDm5n7BnXT3zgPvWF/MA23n2mq0/7NGouqQ4AAAE6UGayknhClJlMFFSwz/+nhB9g0kuOAFk/gsbaJvEN/ubMXCjtE2z2Q15AGd0ZbguyTH8G/BUMPe2ObWPNWd0tCZ9iU2DLobLbsPz7gjnmYMg/BX/IVANCTQja7o4mAq+xyUgQK4xaLbTOBn8RqBHqvmYTX+oYSQc6Y7SLfL9poV0Hv2K5JKv/Sba4xNfHpFMkUrUECsRf6cxYj/enQ1Xup0iKamMGDlM8nudlDDoDv4nKomxer86traNua11OkbIvWH4jdnmxKm4whma/Pj547wsRpmUdXv8pxrVI6QJVoKYwUTnWbzq8WZHk4VIoWQroA7dMkInHNf+v5dkAIeIbjJ9+kkM7G7ZvwWIDbnsntCiDADvS2JX2XGNFEopVvGdWMoCGTvh1agMcCC6+oC3SeEa5oukfaT7KlSrWCe8HbT8hcaI96Ox+RxsSqWDg49Dwj42Qe5o8RAFvyQ490D0gBFkfCeK9C3H73xehuzZb00KMh3UYsHHMYiOPVTQDftrCHLu5A5QwIF64XS3uhRlp5DvLatOI9XKWDSj2Z2pE12CMH6DFlBn+HFnbePDwmTSV2ibNrx0e8/9Hl/iUUuJLVs7rMZSlW8qBNnDyyNIR4uA7G3jsH6sLQPxS8WXDeLpGumbuhEME8/q5c40hYZABPadGJF3J/1sEMlQUAMBxDicwKMrQkW7ffAMpTYk8gcWsOa42UX5NbdWTTZoEY08pQYNYW5ZiDbEwxAo/Cce/3kzAYEFI2S3sLeR2cuyhVL24GTbgOTYLNfc+yi+F8GVCCptXWSwcb8ckfdk9mYqZ+C0GyoD+RhKKj/259lRHWXQSUyuYXZ2uKKpPCWecSHFouOjmSmZVqVyl0XqpeX/LLlKJ2ItvHN+bND0Zg3v2335va78YbHbgOmsTMK2XoX2Pw7dexcYWaLirskqO4elyvyQbCxWcs8Qn7zwjnxkgCcICZrRNeaDGteNLS5Be7h320z1feLwkcL7HG3i4C5CzpWXml7WN9P7SVOhsoH0jyNgJ39O968uP2yiEO2sniTD+4gEDPId+rzy588hBFogLA0H6PEqULlrxLVAPctrr4PmrWG9GL/CpSbPOqXpvItDNBTB+p4FUdZzkxBep3f4aC/q3/owM2TBbOiHuIWr2m6ZQyXQLkoxYvu48L1uvmt8kYYzwQiT5MJFWjnu1+kaIbhHbjKc6tqhitY7nA5E5MQSmhkyHe9LtUxXbWpZ8n1UKCzEkj3GpGo3UZCcj95X7GdpdF0SCHFdHLYEYUoItJiaeNrzV0jIQe9tZfAMqZQIGRLMyh3B0FdUubXmaUUAQ70LxMnBnYgliuKCSGvGpKtMcEeSqnDm/IxUvPfyOYVqHbjQqqKbZdvX4YBf31+CHYEsgKTQ1n+hggO6Ya6oHfEZzTpRQBHo+b9vGY+VMsB7sy0pbIPtZsciRdfP5yAAPlJMLUr4RqD+KX8oJ2C+4mKmV0HJfLdYeDIZo640h42NZ2RMrQb0Rdn/tZRM70eAN9T4FlYTOYBNSkVncyqCUFn/CThhK3EuTcHNvUjMFlaQM/krTLVnr6S6RmnSuF8DF+FDRh1SUVCoGuBo266MKAoOlfmwvvmthDvDMnD4ALvjXPoYHapasZXPKBGOufmz6s4iECT/EzfV6/mnbcDsvaAKJqeNEz6V4p9z+AAAAGgBnulqQn8EhzimostFhR6mJoVCW+fmR/A+yEOaf7oIxtHpIDYaYm0YgBp0mtynAbn2R4ss+DjcMpqURtq3m6d/3KYWYKIMAjDqRhaDwVSpjSRWqzzukGZTTQK63aiqFQ6xxNb9PNSPwQAABrpBmuxJ4Q6JlMFEwv/+jLT5GlIQAZ5hChpRBUoIFwqaPmxYY4lHhIA8M3ZVwI9+eP0hmA3KncTGf4qB/p+9VuExYzNqfBYkSvchR4ObZA7kbY9E3pI0Q3RGv3+MvzZUHzhJS8OkrONZ+ptrnDcsFDDHMQgw+H+9WmwNAXJKoibAxkacRAUQa+pSgyqZ6mO0I0Y3DE4XIGMzkmwLXLgATHaG3cKTHKbvVm+N3fIaO5RkOrfiT6R2vOYM02j9YRmgOCWNZNfyRULE7X3pq1/jzn6HCliGb0stMQRaodPPZEtL7FHKAu0R6MZZNxzJxcAE3EQxLiDIP0rQXcU4MV/cxug860Fz/Uwy3Le5XfoB1Gi85Dy5u4kufrZIHOpU08nM4AsufilnG+aLgKFjzsSLjwvRYTFpO7hhfbZ3caMFA57KdwanAHC+GOU5bQgcU6P4r/u6JxAml6XdhM8OZCcV4cBcihZ9pphe41ZO8CMXPJRLDh9r1EFaB5W3dk84Y7gI64/Y8hrmFw6845SxgZ2fWurHFx5U3f0dzbocDoLpQqX6VkfW9O7bLfFCigluQdourtqujHvKwcUuWJBb+r/MEYtoJL7x1xnU8gK14KysoTNaiTE4/gIqEEhTBJn7FQ1guJozrssidajLBYk0QJAfiYAWXcEE1e+CQDIqv3zhSxK0DBl/m/o3GXhXvOEW0qs0yYtuGLQygWt1JcVweoWaM8ZTAw72z9GCjOP46dwkKc4SawS4Lv6hVuHFiZY/Rm/OUuDfoVXn9iN4twPpVuyiPB0ifvO4UR5PpMBkZJM2BbROwa01rDI0SEpVZ/eT9/PEnOVXbddmfbgSLQr8XgRTwJDW5kqV8l9Pxh8EbEVsdgXkHHbsOzY5KKcTCE6sz+FBhcsZuO5Vh/x+VhW3e8+xfSEArym2jWU5ZqpYnlmZ0A955w1pOxPrPQdB+IgglCyMPr0s8PqA8chOjGCdQG0PBMs5LhckTwD2VWBXChvSv0z4qqT/1/mGMfCRcZrreYlLah6YkD+7hErlmZi9UHUaGCR5aUl554A3WvD95u7lIAmKrerGH4w8V3F09XcFBzJdhnh0mmXWsxpdbPHF4j7E2SkIk/o8DlsxmwFRHst5CYXyQSdkk8Zs26PGoF6Z0j1MPTVwHMYDs1J+COElIJH8m6BYLr2QCmje1k9eJo3A9ILwEjw8gALx7CbY0MEQR2rgDof/B5dCvUSzqnbLdKKk55/y/kP+tnLFAiyJT8s+MiORpPTPsmevp0MQ4JcrHzmgZO13o3jP6KHA7HgvKqocRFIklypjvz0CHZ9wLKWkHSaq0YkRR3Lyhonx/fO1VAaPWEolXq9v5wHJq8p3IcdXfm6BL0OY2OX01TJjtNkgsUk6I3mTp+2a5pD4Rxxf6RZRe7xhUx7oga4XhGGFgLF7SH0nOWlA5kAL/vomn6+VKMHdIKYYWtxXegq1G5vxdNpKd781WDEWP05d8v6IQVC3FUEhnVMANiCJRUvy1OnlSJyDei1Y5kK0hKvsm2nYMhYeJPGunQTx4ghlpw7Ya6JZVooMx3H8t6+CSbIwTEiAfbA9lU4a0tKdZMp3B2hbRT79Vhs79Anq3kXBU54MRzYSyUBpI9zJXt/UI3k+uKpCgYjeh0cEp+gFL71s7oG80amGlNAEXz/q7SsDOjmQGJkmtAhm29gXk+4GEti3wOqodslO8+kQK14c5RJEWWl6wLVCBE0XWeNlv5DLU2fZOyQZgOBNHuHbs9NbO6HbghExtYN2iLN27SaBoRbqjdBrji3qok3BSMAW+zKgraEUqlQuoP5aB0BwAtT+6SbUT4gw+l5tohL5JqDoJGymcalUH3Su/ayHTI0WhJKeFeEg8Ba2Txs+MlO4KFEBkLw8ZobE2bID55Z++Llghh/3iXwkjNg6OXxu4fs45wQyFjqirce4zAHrnBp71Ug3+BemQW4VNu8RKngbd/5pNjF5kmnO1slWKMT7CUHcUw9MU8rwM18ilNBAcvc4q2uHYSmCQQsYcACFTbFduoDMbkEAflXMXw2aDjEF4dobjMbZoC9NGHWYCFd5JXWRlXKW1m4UDlVptj4aZGEZ/2FOm9Ix8cvctx6/jE1MpY2VToxx1T/ahkrCNQsmEtsoJNts+dS9IJFJKkg+4RYXlXBAYEfDuuBpoqFDG0kX6LXaubIDoLkmgaIrqlIhtNsBmOaG1UCF/kSthbwHhrkSquYMGsaOrd5tQnkFpEyfyYM9W5b5g4lH4o2/CTu293c0rIy0h1zW1XA7DBvj1FjaLCRReQSt0HoAAAEXAZ8LakJ/BIm6zgyu4Qpzyw/qQRAZghs/tXVVJK07cYVZYQi+wh/qwAtSOPbDpSyTGEMQmP2msyKNUZiAjfKDAwkFEuMb1WBpXg1VuQCGEWJ1MYXiUlBqynbVLftSVsonH0+fuMR+YUyv16cKD0FbyCZTn+uqVYIGBUIUKTZNOSixFMM2zUAxbsiBaPvMYJf0GRs4JAiDvdkP44N9AfexUrpYPqcqteHKeELjxkTdFJM7KXk+k5xzD+hm2rZIpmNbjKH8gqBHnG4KqBoe8FABOAlX1w5GyAesbK5jvAlsPINkpppxR4bw2oCjBfSIVvPTwBAxBwnlWaKY3SLIKU8e4943IXYqDGu78hnqmdU4+MSfjy3DaFB+AAAELEGbDUnhDyZTAhn//p4UdEJDgBZOMI5Rd4UoR+pS5jnQ8orRp/47ohF9ZXcYxL1n6Vx3WqpaxGfr8wgnhxvka6N3BizhFahphLOjhD3TuI65bQ/+Q/ak/0rxwK2FH5MHUpBraeqXzM7JfN/BOSM53hGX8GpBauDudLCoSS2nGa+uiywx5F5U5LpEp7+4SEZLU8PhgaUk4fDlXKm92HjSSFMFTnUhBugj3nzjLdJIHrQswQPSFGo+5rwSIKYaAhDoax5swIBX7yBHqk1tH8g4KDQNOH9g0tuKvGC8JNpr6ICI+2v2oE/sjccnRVEqGRFSFIu50G1efrWMRBdR89GP4XbTio8RRHlpZQCTRh3Gdm1iPCV7hYnIBq28sVuddG1RGyZWPin4KWuxWz93N9AZQtNcoQAg+eefV09sNkXYV8Xv+4dgF0j63zyLj5GCqqZPZeameixfC8nHbPWwBtrbtv+JhIViDkBudg77xRwsGC175u6RPVujtAZmZ5BJCwfUF/s73b+L7tiCRgiqbyYGJGvxXOMeLMN/jSGoTL5g1MTqJBg9Iz1hTDxQot+VdFVcAF8KNRk73860XiWViTyZygNS9fULie78F7/A7BvJz0ZN7FnH/2odR53T3eiqLauL2up2kBPu4ETIcwdJRz4kFbX6T9gTFOXLJ/xvv8tsOxy/a/I0KtpEploomAWGlH0gOBxGb8CaqWnJHc4MaztvGAgZ58UDItBNqC4ByOVW5vdUClv/rLTWLbH4q8qHNc9gfaCBCdAgVMi181PYkq4Lh3Y/Z3zUVkq4sa4pf9TBe7HavVYXzcUj3+bydIcjLIM1Wr5vBxKLFdckR06bVDg/E4x9/rnnA0szmyywaohDf2NizRhMm352PuIA7s9hP3FjnhQiupaBL9yWxvoHGR8bk+TQ6wLbsOOLC0F2NAMnPRRCT06spa2NFZc8HDyYOU8v2JoJxWQ6Ztms+BhKZx+3VYn2eEXvTQT7BNkcI2h6feJ3zwEM9J9ePu+Kv+MXFKkcmgftMB2rAhHn9EGEAgXKM4pe8Da9zmP8TTI3UW2+BB1jcBAdyhYu1xpMDYsd6b78YrVvO78HqcXsriDN0Ixr3zzRcGoI8gNFSo7NR5DXQ+fj3KZhgd+1ZemxF0ENNXOY3w5s1ytojnmATeo/Y80EaOuq5HmMQhZ3WK7rbxJPvZJedu91j72lPuKelDRKDtci8/wAKSo0uS5gDtuAjyxUPNXCoh8KlyfVMQPHNATufoOpj/7EM9bE6Em/62pdKiS5gfKXjpiltvItFO7iN7jgz13jRpd++zR7MczdqK7eUeVOusV0nsyOgIHsozt2g9ntyRTPv4EzIQtRcEuTDbOBmiaj0/CCG75nDpBT/dsozwSrtigkCiw3m63ptz1g2vJdowI7RInRRKSRSRMemQAAA3xBmy5J4Q8mUwIZ//6eFF24OcHdIAgQoLRz9YpWBneNjpYYTpAjBS17pXjdw9e1JicJK9TIf3dvTJEZSejUUpxefglqiFTsqZA3x7H7y4fQmEBFi95xXWVw8SojcoTEJnMsESwenVJufTxv8Qa+pFLWdkZQ6vZ9PQvKEjF3pTTh4ry6AM9hCBh2zd0FfgJEAGj728irE5eKbMBkwG8BueTMwM46qwey6wG1P72KbdEeREXrGoBYjfkUABcO4AQ2ohfv+KrFphHCUR4iqPgNv02QG9FkwBKE9QGVb5wneCJTCk1Yxb4v8E0rtWPkoD/s4XXf4L991rZ2Vc/b0XrpMWYcwjHuEaXY04UdT5OfnF8ThU5tf6KtW38d0vNgGS2tSqUW5oEoXNG+8I7CZR5xP0xis1nFzhFZrb6blVS9/WmWMpGuNUfMtEGv5grI32yQBdxmG9qUhD2WTV6w7DIn7hV1ilULMvxnKLqKpEIzMnZ0UeJfAUnItgxmsz2BnLOI3/bj+yRwBhm825dRkf+LvdleFCYF6Z7ZuyvTZxnXgX9Pv5lXg5iJPaNdOpLnO3yt6yWkPPdnaTG/UooZY9I44tdOOVRq+UovEfFDKg7KNZ3fAOojbW6Msbi6+TAQvHPpIcpM55R25d3b2xamapxjiA+kIf5QPj8SUZCcxIPvoyYVp3WYUnM7TWiCYR0ArWU3MDWNEJ5mmaONgEGLSIE4q4lNCTsZ5Nue0vT0EgdhvfhbITvgwKowdrfNI/IuQpcg5/88rMxSDT/+XBPeA96K05JrSCrOmC1Zcb3nfxuWonweJ3hhRshFZwSogCEl3oh8DKANsAIrA107C/WXa2TmMkED/cUDMkuMducNTqQvPiVG5yUZmnoQNeHqS0CVZwlr0qmZau60vZXJCD+/YNmbhBbvY11ZBwesFcAmKTtrDQCGgYbtfQ5cZjTw1bTk/fzECUaG+A8eSrxcIh0lRvNb0FMzKcoKO0H+BOD1tSl5ebmGvVO715EyV8pmCIcLfEqWbtFErw2hShmWS5TlNFcHjq/qLiddEVCLp/Wu0n+wx2h4rh0JrUU99HbdRDEnUNZi7VNAE7Dn+SHswZlyf1Bxqz41o8gf2pDEZpO0olNO49/OPmjsUYv6584F3kkDeGtlzYBzp0L/F0aVzfwnQRh7VHeAEt0JjSiPYWcr/hTxAAADEkGbT0nhDyZTAhn//p4YW/hwBjrO6SdWX2G4DAIcPfF7aPFS6VBlxrwNFfv4J6pzBU/e5akG5RsLILCM9O2snL88EBkQdMN5Y/higB69qZnavPaOn4h/Kj9tn1xjF1wZ3Bkc3AF406pOIWF8Ab91Uu15ISShhfmAi5ddlhI6pVzsBp8BBXlGXB41rcgPltDwxBbSTV7cMItOKy8mKU4R4iBe7ov8/Y30jd466n+/g7B4aW90DuiOxvgeiLdcTkyek8xV6bpF8Zx1RjTRsUEi9ZjroQ03kIPp6CJi3dDGtFfB2une98KDor3KbBwBmD1IRP+IfgKoVSr+WlaHmCpF04i/SRFVFqmqXcovepXFi6kz2/jAlmb4eRJjrhbJ9851c/bq7G+97SOr0jP+3qs9RATApkV46/7ChAJ4xtvqc0OP98C62OKP4u0kPicp3ctaCGf6K0yo16T8mGELhS4lG3Nq0aD91xkSW373bRX3KgWVNIrfDmD7K0ngRJ03MzpqEVsWJtLtsOYjKULEXpBf2FYiISh5SsaCJ3Jq24wCAceR0FABDHCPEL3ZSYSSV5Tg3YkrzOnDtM9bBNdrKvaVg50njLoveZpTsJRwPt1GtUncNp+LmQ/F6Dq9TWNqxExSgtr3MxjvkncbAlMjIjEAMvAvhgtp0dNJuav6q+6LZcUP56IuBuey+E+KNHmvOMnYqlBa2okYl5rYDoyR3zoresQNPgv4dfTJI/rRnb+hxiVh7iqipYHV3DEL5HweyjHF1ltIfrAa6QaIjxC41nJ6vghNtyMvC1IBpZO0YXN4f2/Uap54UZG+NSmkccGbdxCuhUcpkeJLweAaDC8ZWNIC2GuMEjA4zni3T3FV/1GkcN1SE3jaNiTu5RKgWUH+1wFtRLIPRQ/OmBC5kHMQRXm9wrt23qgeIN0wznoEGOq/v5Q+Pz2tQt/MoTIdhLfqKAwYX5UFDmnLElaLJzWRBLY8V6OuDgcKruyAxA/OXWjZMi6q3kDfRfyDEDZdJKZoenH6wggVq4IbPVXuPZoR0Koj5ik1QQAAAzFBm3FJ4Q8mUwURPDP//p4UduaSJaAbrAANvVWh+ZbPyNSXDnknBH6lWWC2NxvdOsiSTCLW4tWIJAMr5O/OZhlg9MBPmI5wBi8xii2Jp14EsUsCZ0sxXSo36i+pD6mTezdjB60mix4w8ADv2t7rEKUwq80OTHYZpnTg03mIzZlzQlPm9YC8Hq7/vgxLEUamW8R+hSu0bvnhzjE6wVu0vhLWevTdx0hwqB+52sBHHDT7xrMwshm0B6ymupB9nMVRjW7Qwb1AuWkVFsv+6nZdobG8uetTCCaq4tUzPDkJ6UgzeD+XUIaVV/AlfpPeSVH9jJUYGYYroI8LtVJ8Mz0DiuhaZQVuxFX3Sh4p4PSQT9KxQwZrBKsTG7YeDK2Wo67btbSbmylXDLg/0gB6xaeXAuB+I8lJ1lUtZvn9e996uOyJ+o9Ey6Bz//QUmJOhboKFTqLWzsNZkEOV0mddUt6NTuOZx5W39Xe6SL6kmbU24Upd1cwnuyhX00bMJObIVhTP9CML8D5sB5Uc4HOcfpU17ocwu//HJjU+SP2TQkbjf+6ipa9Kr04mFYGswSgZc6JhgAh1f+hY9ykY0j0tsrudmpidrzEFYx9mCyQgbABC8pV+LqBMktvleKzFfCN38FT3+YKv7jJHUaFl575zc5kmDAZIRa+r669zWtr9LOuejtW4/3pEtNkqeybro5eFtZ01d4UZ6Z1JKpL2NxUNOEXiI9x4LL6SAHx6K6d6pWeIeAtTqTtIjfn2gLYzdVx5ub6P/Ui9E7bYcPKbfGQTnAQBbMjH8zliLSA8u1rZpVz18AK2LsxP27nPkuzmVxcUHUZG5PmE/r8G6qnEA+mFrS3BROAidVhJKD1lzk9kEqil8TepyDgfJi0NoMPmOwYGlfBRSmVnme1UKJcWJKqUqrNKjTWwWRHa9UaYO85/KacBV55ftE8pP9J473kTAabjfr1iw6yh5rxUJZqLR4bMdKq4lBt72NvQE9HFaJ561Q9UgKr+gGy242tPrKU4ukbmydYL3hDerGvq6XHuDx/NarfhtZqJZzEn5yUKgvFjlcMSyggQC7K9WaX8+7QZLNn7IkoSEczAAAABKwGfkGpCfwh6DnTGw4BwbveeWLftrhBamB4dncN/ep3UnFMVN4AR7KRKt6t/fJo0MnxkhVDBTcinZnkuetSVRnCwzy3VsDsKVnZfzaOBrfgF06IZnpodhaLcdwVZgf95ZWUgkihhu5wjbwUxSvangVzCAJXfBWxYbzpgCwNSuQ2gV/4WMwUhcs2FCq+fxZW9lmCX7HrmVJjtxZmvzSB/biDhGqf1ENHFaIJUumH24eCQcpMfwABSPYRBtG/J7DHCSQOvBP/sL7TlPkgaBfdbHMT5LHy4/+ZENTUlfNXja3FqXy3orJmB8yrQo9xskLmRcCXOHQ/VGjuQLfjpoNAHwaQP60d1fr3GBIH0jxsTgQ5nztJ7k+ewiJRIJYcedNMlHt3dX4KV4wlOED+AAAAFSUGbk0nhDyZTBTwv//6MsB91SlDcAT5HqKLJJEPWGFmxRId3soyiiqZ9VH00p+O0oi1fTN7WgmXt7TYKHIV5uedxJ+D/AW1h3cs6JM401zGgndnD5XO7Wiw1E+ZckOdtabDmAR31FXGK7gsbvAifSwtFeCUhvVwosHiUTVGnPtANSTXrhvWx9YHjF7H6BldC7QmxYbTa5ntY4rj6BLIYBDDYF/VZZvTGo0yMOf2gyCtPEz3Jv5TgGKUocYmO1hRzFn3VcC6tLagF2/p+uDbzfSauE9uUucJ56UekE79D0XD0bRx5xrLZsmdzKM91AOLT18UY0faCT2yAVAODjBla05bzPhuJ3kT9KPE8VtO359FUrkFL1rZPyr2WoeElwCbqJPP2EKVD5KJdPx1tILGChDuu4Touf/qf2NGchUq9wTp3hMKrDUbSAlIHXRIXylGN62JkrP0r5r/fDPV474HPZYKmM7RPfKiWJu4KsrQJ01ZkGPkWmyx8XHDb2ooVuRWGb26cqWODXJMjBtIVu/82F0anMfIPYfblS087N+ymApY7oolzxNRvZYXA75hReOfwCpcSJI1Z8jVY6/DvTzY6Rn/1wYVJyknqz9m4J7JUaIqwDQtKZIyWU6LXC2kJtEWSlvx8PgiaKo538s97eiLe3iNiD/iHUKafG/sFRfU48tSPeBOfJ2xt/uoNSsd8Zxah3NXz2ShcKdkwo2YV+D7NHNDf+NxdF9Bn+1wDcY9U7E6qqZH9qNID5F65IUe88itAnQf/bTtygAh1xqbX9J9fN4KvhaBz4PqESzxM7GaPUzUG/6TA5nUR/ApONMLLDS2OS4bzfF2WtLkRBfx6sc/AbWryV7gQ+tB2UMgAkiQnkxIkK6ElmexeH7ycVtLvU9N7u6uDc7iHUtI/8bZbF0Ku0zJDf8gQHLWuq+Zw60gPG+dCNhkPHrE2PM2MZdMY/9bn9D+E5u8zjNqQo0c6vJHbwDuk/zGu1VPKE1Nzz1J3obvyuhNl0USmNugDk9UZNynKWX99CH1MHvyc3QGbj9h+Lq6cr1mrOB+zHWQZ/VWsXsuWTMwUQ3wlalAtnTZM49VpFHHaHCJee4RHmi61PMvaFn1imT4BdWIze7NQFeiBDc4BLbDmRzyWrdNzjnCu47Ymo5Bz562LAGgTUReu1HidYVs9KR0HjuHz5Wf6U93z46tbpS9HWWZtmlZQoyQ5JQjjQ0u9F07kQENq5HIP0bk8ytmuzY/ULXcIiPmQyvO9aV6OsrqN3uXS+4+McK9PxDgLQXZ+67xEFVGlwW5HNOPLk5fNi8L2HsUeET1t/vaRu8pSf2UZfF0WQkbcoNPbbHNWMC3NqutCmySOAFKboeh4LrNP3tWHnTbkbY0peo/gH/k9ohRBV3uxFB0NY/Gpn25NHpNECQvqRaXrb5epozImi2+P9iKeXvbHJKwgzin9upZAKhG7ckgRuiRYyh99pES5Fwebpuwe2eY1n1xy34O0u1JmPr63Os3N3ksF6JSb4iTXuelgPTrDXfVs3fxc5eMFWXxkT+za5U6mRqg76B9HiusAYZZWPDbLGChJK+DoT2BM6dpzWJ3A7OrpEXpV+3/X0TiGRyVdtxX88Na1G76kCyH/UZTQrq26QRBq5QlnoToK5hpidUeweyAEmbb7cBuEdPBEjNdUsI7EP8WVeBsg6vtwnrG9i2H48sIVLi2XinAXpKR/SDfBThtKGz0ZmPIu1dPr6WIhBt2CDtj2UQ35g18ecOuI/7l+Bk3bUSMVMinaDbvYM03KSQHCrAKFq3RoJks8j90FoXg71wAAAk4Bn7JqQn8Iabm8ALJTVfxrWD8TAgEgvKjAhDILaAFUldYpRmyF/NhtjWqa4iApgLF0tupC6rsEdwuq8uu2lYprNdzqlTnruOtMU3wffHOWotNhejKwNGS2ebcy3nEcAAPR/axCe/mhbGf+XgDP/BaB3OSWw7bSH8lMSP/EPSjFWn/9CQfVYDgyX3hyxT3uxgC2akR6VDUcEcv8d+0PDZuGzOR8UGXyXV77Tji9zGxUD9xg38msW2oetbRxm/yh1l8ZA+KRF+oAaiwOtQxKWr6i0p4xahgNUxmL3odgZTYF0DV0msnqG3T2zj2M3JjuZECtvm0K7R6R4V81i14RtjU6NGbkIuhR9k17mVvRiBmNXgsKnBpmJvP5v5y2Q1plwzgDRXoQ2GJK0QYMmgdUvluaC9PteaFgwkdtXw3f14vCaEBymvH+vM4cxUN3cx+w21qsaR0fjzaH5Fqw/itoV9kDKuJsCsfR2Jdc861mwCuW98NqaJwb81NnNybbboA4j/Z6Zzlh803AwI+RqfLw3jUatfj1jeU8X6ZvxY3ao/urlEZhOug9b3D/zh7v44ieYXcEyGFJLyhQFxIVAT5AINzLPwT08PHwJEBu3SMmyrHShuSVSPQY6K5GlfTOlumJCJGFzt8Y/8bRPm2p3kAACWNHVtvIV7DfTVt4TvpcfvUqgy2VcI/PZoAtJJObGoqBH3cz71ehaktn2U9PnqvKscmv1IHg7AlxGBJMdVv+90fMsawGW7lshPMJhgQDioypq6KgpQN6/+S6jmMibTTyqAAAAbdBm7RJ4Q8mUwIX//6MtNnKeju0Bbljz+h1xxiE+qnPLcU0u1QYZe8rczY6agsS7C8RBcersqM8j8ZYzk5eLYyyMd3B1JdRbKYR9K9IIESHQ5OaVd8U55HrfO3HnHzdSOe0NzX50pzvlQSDs0t6NQSkI/l3gt+oBI2FROqGTwqZ9UXhxItmOygoSPw10idmecWPDKvl7fM/YOnCZtsXi3o598xD3JqLiPwLMLmVI5YNzA9z7MZZ0mJ933hFfG6nPYhu+yMUjBJYyGh8SoHbtuMmkmjPRL0fP6xRzKulxhbituAq7yKNYls1iiLx3BJkyfrbOEqVKa9AbH5AqrDv/A1M4/uTvewHLOvZzUDaFfmqDpXgFwx8rU9h+eWY9dyA0CvFuzcVaBWz4hlBr6O+hsy8u+Q1UYhjKjT6HVC0Avtcxxs/zzFXhQ3/Xa3a+0o/tbDEasuqulaz9GiQ+nNe5R4XadB9jz3a/GQaHFSa5CowXcVnI9Qq0SFDa8sd5ltvdaNQaawkXq/df2Fl9dcM2WDfteDbjbGM7eAdLHdk4ZEWVr2CaQs6yW0okBQtDp9uGPwLHtWJqyJAAAAA4kGb1UnhDyZTAhn//p4QAYn2NOFOOm/sTVV9iT6wyvvk99aqRVrUpVlJYf7JyBQxe8dFqwfQAU2tYjE7BeSEZezMDYxs0MEar/crNkIGpAv92YpFU3DkUQgBQKnCg6FUwSwqqWON5gFBZZZtayb37E+Uyb8Yne2sCODp4xhnwscDGrpCaPrHztmq3FiTAVD7/lqXqZhEabQJ9xg80jviZx9omdsBZhBY1SdGgKmL9N1/+Fpw4Vx2TI2W97a1WuVJl/ZBLlA9OUlbnBLrM6EbL3pl3GpyG1Z4YOO9MqoC/8H+3ZEAAASnQZv2SeEPJlMCGf/+nhB9YWWcgBUchKR3mnS8469N1zIWWV9VL2FsIsCRAdZcU5UMJfyfeVi+2lNFLWD11AizL5YSEM4y0RVWnpvbW/dx/MS0Ycrw9MaUz7kJ63REhU/oLewLuBBdxQKnBaSf5CRqskSXORX7onIEeMIRPHe2ayUczI7VlZBQCMX3U+mpcdfq9+R1yItLd3MQZqCM80C9cUcPr4VD/c5gwpVvDKbxr67M9xqi02G0kZN0L5v0hMRMcXUdZAEpQ1FsyitNn+oxR24bC4Jkg8ClAxeyBJdSJ5nc2bIMCe/+8034uCt7GqyS5vv3alzDdZUL3WlOOOLA7Dom+H63dnCfJa9/z54f6bnO59X7pf7QL6dgKa2AlXv52/TfdUWSnS+137h1kQRWrBNkHiQ4i0w70vM6/AEKrURsMoZxVRzhATlHx99lqY8m5g5PdlwgOXmbhQo2kg4XjvfAjaoxE12I6q3YWIa4E1kUK0cK79/a6JoL0TnDHwpeolcUrzWnqiydEnXgUNNWX/rKZ8ZbwvR7PV2rsYNZUeCgpwtx1rm4AIUPQd976nb1SaumdHzPGrXmJ3mGs7PuPSQopm9tgO9HtE48BjXgHL63aFaTlAeG34o4SjU4H3gLIc+27qr/ITv/NFkGx+qZnDL7mnGxjnKUx1a1TE0dAPPntTL2kW38DH4E7HmHUL16jc/9qlSzkTba+e+IqmzB9ASayA6rGoeZHYW7S+n/BKjt/Ot2N5UmD/otxM6qvmE0fslkNHXQHrHcNE3Wh7aJDxYsbmj+FhhhQIj796c1j3kFaHzokPdrpZU+qrfMQbj8EWJudmWYWouhBViXqGUl9j4+L7+XAWB1bHddBAQaHzsmqFjIx7feLRZLh9clGeDyIW9CxsjV2x6mkKiG3qqFBrdc9NPPA+Bj+cz/aKC9cqtYbR74NY5g5wwHa5nXAFZpHOtH4w/JJpD7JHyBINbtsuP50wNw7K5wugkn9WzsrIlKoFiTK9YbGKNz2QYcbB1odcR2lYH++1VsirpEnnpldBxkZa4q5T3/pV6YCT+7oTLQKa3qtlquWTIlLp3F0K0MMSr+Fdcuvi8diF2sz0Ux615jAEi+EfypoRy+4suydKC8ErlSuIj8TpXp0AYo3pvLnmaxbRoy54KWfgKB9TBJYlkUsavJwsUe20UTaPFJBSulmy9oO4PcoUfRH8Rve5D/yPy/9QvJEn/tEyG4xsgg3FlYGYDZ2f6QUFL2T0fcPgBewlb+F+yFF3AUedteHIS7sKu0BmhS9X2eqk1vIf5T/ZwrXwWPon3mxNAy1d4IjmGyA5bJ/JbJHDhZAdUtBV/U2aGbiGZpriXJstj776OVRcOi245dO1o6bBdLNeWdn5b7YSah5F/BKyLXxnioDTrYt8/LbjkwyJoQYm4FGcOhw+urmqwY/VL2eNq7DIwGdhvNyp3F4f+wwZ1dTQzMk+51zmyctfVqPUvZAr7teP1FiUzwGsMztu9QJ/j0sMNbxRKE0IKCJvPTPB5F980llcPByP63OUsnc02rkZDC/Lo613/ES0HEDEQtbw+wCm3o92ccCHjg+oD+AAADu0GaF0nhDyZTAhn//p4UbLAOAGuacHab8+LgTuMoxKAlN+1sDHyf+O6Hk/bLhP3Xb2RISQ2ywLvRTiiyfUlu4bYJscBWemJQN/yMmBo5YcdydowuPodaLxycCTqV8FbYkLLsp3uf4BQ44qbqtOaCcon00N7DLJKRkDlV/86+5N7CP+VbR2X3Pc6wZEJptjBovC3Wi7lgzdES3o0RfWyb9B40a0WfnvIUOs+UIRP9yx1xsY9cED/FuPNrju1gZyi9UuMvTwWE2EGEN+DCHSKH35uH3aZg80rnkpFnoz2eMOrxihhAoBjMhGsAL6XHFwyK3tmmwSrflMoXwq++Asq1VKbd0xYqRJ4yEyofNzw4jusRtP7HbgCkr7jG6T1Sfss6RMhZk5d/tqJCJ92fJx7Qkmg8N5eu5vYtebPTHMokAdp6/1wRlvmvWCfRikoNWZxZ0YHLqgr48n60cGAgoLZcBMCw+8NjhcDHzamyFnDITTeou258Vvyw1IMv1YnaymrDYppUQGNnXe6MZCge4js6+gUivYfu/NaxkYJUTO62dVz35F+jO4UAdY6+r62rJVrKVKzA6J05MhnT0ZnSbCup9FsSOFqLzlCgIQqFwoP8ppjmJm+V9YJsm3uuiah38BFnWqykX8HsEmtrDT4Ir3eIRuriVwlNrsR/LDfWhuOs1XmEuEMYAmrvnccWT1oclRMSvhTJQt8yFhBaRvFgKZ/6uOlA/1lB727CeK2YDSflOBJl98KjltpNNImbRp3Hz8kgr6ePBsgRtchUPBHs9dgWj2aYbaNHm6wyGb/Z8dmmzUvoYhZplOXZ3k12R0taQeRqEPo0pfzne7G9+qpt1IqKjsr/ehd+h9jYUf/xM2wBIJ4X4IVVoyXDKrbFOe27B6I/ZAO0F0DPy6W6KwGSh5bHmlnMXfqgNE3yx7Kkj6ezSpOjPLJBU3Fh83m9+nCUXmhPZienH4OkH0UHhZqUki4Zia9redAReI7CU9D3RGUIBvzZtK9Yw1UHBgyxL6fTOaJLMd78UkscakyJHDMoDrKKTZAm4/09ZZpd/VbEise2nOYlpYGiQL80t7uspTgzhNj+m+wEIQiUpPJv1tCFWndl0ExLM/fUw1m9rczogqXuC68SXhx1obi6WQe3r521+qzvQvbavzFXp9PWHob1lRpnieY3c2rrvQJmkMdjJZIWYyrH/8FSf3QzU/C25UprXiblS5/V290Db2yrI0Fyq1Il67CkvZOCuKDj7AD9EkCzHYPdyQs44ElA8aUax7cAAARQQZo5SeEPJlMFETwv//6MsILrSppaABPa4TRltkpc9Px+3ld+6/5U39DCLy1nPRBIJiKhIVH1xwLI0LVqfIlk4gin8wh3vqOtjMNjbxrDZk5lbR5NZHeVtpjssBNarsldh+5w0myNuATYsw1UmfrzwaUafDN6gi+K818wQOFEqsidzOZaNSDNwjnujEcohRDb1l0ONRRjwilRX9wfOlJYM5p0HEvI/XEUN9NfKHMmhU3xk3hvJf6ZsImpCwiJLDyEsZX6aMAtW1diXn+Rup+PNIWtHzXY3KuE4WJaJSnzWyEn2kX6VG1TOkYQ0FzNI6XXZMJjF8Irs6cL8lJztU/xuQtomiQJJhRy5JNuVsvzcdojRUOnLVSVFipscrXSBIoCBqvQ4ZYgjyb5CNAgLCIUkTqsIGHK40xEeQ8Xnfu5vCQUWyR203JDeQKu1Oxu9knQeueDSIUuQQYqSsOq3MBD22Fn00H3swHXrYe5jI7WmbH1h/AYEQht264elbmErLaRx8GKW3NkxmHHqZQaGePB2VmzR9aFyGsxYFZQVITJhwJynxFuKVwPIsN57GD9/f363jmEHZDj2NeWEPD0Ae7pxqCoJqjJRTzaZ/BzCJPmWGnRkzPvCNWLuNwiiB/cTyZDGRaNLFMKr0QuKLCOUujQySaTytbfw8DE7vqa7BM8WUNCjTVcty0q0RL1LW/E3Po041MqA73KG63JWMaCGAJoUUIVOttA6j0dkovl3E66Xw7drYURKUzkF+7is/YYgoBUSwRocYFXDOSmv1gnnHjkU/eM4MYgbJME0I5eLL7qzUmC0lzV9etC3mNZ1Fajjn7BftkSz/tJFmTFKW/U5oRsLk0t0hmICifnslnCMU0qd7vOwJTHeqxsoeuyiJIOVlXVfCG9M18V/an32tR00YYGuvWPcuWEg+7jjqQtlOJKfuzNqr7UnDMJ+7y0531C/G5BPgS/RuVnT6xQwZcwOmz1U5mTgYXSp2DaC9dZaa76npZfCGVR+7+YDiZSZ5xRReu+Ss/C/lVp3lhoqw0rk1m+MvM9UYaqh5dCb/09rM/ij6LPVx+uAVeJGIE9QXE//13wubDMRaEG0+Gtne0WWyJj6bTIYUcKm1Cxo9wFWJpPt3HKO7aoSN+uJGpB5Jh1eXWuPtXKnL/CCEdou1AWale8Po9fGxBK8XFAGYPWA8mlydVOFnVPf7GROouawnVgCHAA7h7mHD4ImcOQXfFm5ZHmUOhFxzEtVkVB0hbp8c5vMvJ6eKnfUAPdPY0cjuhB5l5x11fyOTZEdrNKNbc278SR7YOjxMintArWXQW+FWQEIJDNgaCU7a9wP00d/bxHR+v0AhOkiIfjkUuurwzwv0OCoyAZojRaflnlbXMYL3CmwKoG/tQNoNLtBtOoxNJyHQM85E34l9DgYpBBujSXM1XQFnVQbotSp79rif4ZiDM78TUJ8GeUzzxZlULLhDx8CGTlAAACawGeWGpCfwhpubwAslkAn+vWD8TVzAIkPpA6ta2gBcNo2D5iwbksyWGKKWw+kmY81tAvPPFXZDgIoRUzHuPIK4BNISlpGDsU5ifumqJj85KHjkXUbZEPWAp3RTfap+Psqq8BwEUnKX9kV2ScWjQ4Vj/YfH4aSBH7uIynzBgm7W0QocfXke7o1B7JqToN6rQh1ICilWBX9wKjyv2xWFXL9HX2bF5mf52ntRNaAqxeGW7eSRlCKq/xc3t5ZuKU6ylXDyYo8ARGMHJrMqU7xuKms5U+myZP/gkY+fVQcLy8imLvPE7fObq/4ugjDauaeT30m3D4IN039Pvl4DcYFC8pYLHhjhNE/9GyRU/U61x3SPfC8Occuz7iGbzZb8ceuGfNky1XMuOG0NuaVJoE4drtpzkTATEOOeuB7P5PdEt8mzJOPVND8GwCn+XAvlFjHZkpI0XVh/k8pgZX59DFa71MMhwfv1EqZzPlnZBkVB4x1LUGXZzwDUNed/c1kclxoCUl8rjLTONl1wQgzCRQ06ykI7JB4U+92/6KoSe14Uyi9Mtb5kAb427KswBAqyUSaaHA8oIDkXnjFU+zDbn9h2oqzFvYCVji51DKYn6rc0aFYg6+xtCpcPyGnxY4R5UodVWzqFLBKl6Gb5n50lASTx0MMCGC7e/tX6zjZm5ZzaWxojFOVM/ra+F/J3IPEJ54F776uEDMriNHgfu6IxRN5NMLyCuu717EiORmJeqkeFUkUqej1tYf4veTXbQkwv0Nd78Y0N8O2kjY9GbMCufmYCV2JeXGcSIR5bvQMj8DcWJLMeqbFJ/Y3smicjx42YAAAALQQZpaSeEPJlMCGf/+nhRduCqc9yANvHRGspl8NtD0ItLGVFcrRvS7WioCtN3vpHbgM0AJek2zw2LDR6S/Z1P3AgdHf/48kqCtJnaB6lokYbMKEnySoGUAy6dLUI4I3C899PaKRXiYCA2IeXCc2UwMENW48vc4sSkq7x/S7tF0w99N2G1cvWuaMXNJ4jj/IlKQQB6ItWCnzgv5hKraXuePQdsoQd/7EfNpcgC2PpUuGfiRuQNLy7oBxbDipoPVOm4xW7I5X320cdYLTTJ2nb6JjfvcE7ah03ok0ydNgE2SGPgvBMzrUMGZx8MsHxwY0Z2EZsZU5JoDqEjffiB4g0NPENGGA0IpI+MQeL1ZvEfEOoW9RtNLqPYQoMaSM6xje3HZ0ccyoxt4wbqW3IJ20LluGmy19DbF7OIySfvMfkTgzUhhcTwzF5QJMBU/ff/1bGtQ6oC81yLadUbN6AUOSNGSexnIKGY7hlbdQOINHVHuKI7K2FGRUnPNdDdaQl1nA10XmGleKdvxb9pJzH6s1N86Hq6xrogFShykhZQ0Smsz7Z9lISNLjHX7RMPKD8bEyDhbuKzOfYqDrgs/i03ZNoZMB4WAyRoYXTWLDoXMD+PGfEdsny6/uZNVTJ0AyR2AnyDjzgNU/Wn3z9M5BX5eS3RFHCq0h+2hdkNM9B8NP6MIsloFKvb3MpPLeDlaot4SIPRdGxvVh5Vb2yLUgnBW7mFsb9N/KLyHTSM4PB8iQqd5IBbFPltE8oR7/mxGQR2kni+buYzjXDHf//xIQExUCn2BAs/JkUKjihFJiOnlox6SXaTtqXMivugWjlDbBEq0VgVH2Ho+Gx7lluXa+/xatjFNEf/8dH46G1MN5YwXbQG43oZm0CKvfmB6bsEV+CTg3CcAKBtYw2f2XJauSIBtFW1/i/5ro3ARV55d2tmxCua8XoO/7L2LsnQLsOClau9b3BDhAAAG9kGae0nhDyZTAhn//p4Qd2bjow5yAGdZxBh3gTYaokO33QZgRLiMKBklxRjOWqwcQ4TdgnerPKFveovCQsXJmtW4AntqRDI3xXAmUl7XN40a7UpuJ80wSxeo4xO2GGh3gcXSoIYY+qUyzz8C49Z1l0qUA35Ao1pYL0Hs3NQH195vXKcDB5xjqVc721ft3ylFWWOpZ9rbZTPr2gQ6XWtFA9iiV7KVVXHb659PAfbEWmtilgm7sbg2/Y/hT5TNltVPTRZ26cyZmO9L6iHiZiTlc5KuEsyiNbUAvD4+p6uA9sN98AuJfRbFqstFxr4U0jSKoNN+PwVS/QENYwrD5+azShwP3Z165iXpfGut51xc3Bdh46BFK9axsio406UG/pVoLqIyysH4QYr55n0BH4BhKHwb3zxHTdKa3Qfuf/PSurLw271WkWqek+pGlLbaDiZeF/bFoxeRkvK/p/c/wOOxxy/hnvNDAR+RxcNoXtvlnMCphdUamrw287wNdcYrvjR0Vm8DqKBDEAZZYim8sMvMl66MYpn8xE23duC6W/CF/+NazpwKkTCcd0YpTkCbxh+DzNkLh3YJGaVBZaKn6NiJWu/061k3h8tRjKv9/BE0F+k5ucw7wvMNK6zBlKDM6l46NZPZfXQfEPUuXiRW+IWTOmayVub2vmn0pVUXt9qdBYd/JWjmGgT79Q8mSDvDAx2teacGF6ImCHMEt4K6e4x6TcZuqFv+IkSAEebggOFCMSU3k/DKGdwW9zUF/IXE5yHF1lmK7rb/FncVVf+yCWAKPbd4Onf2owVdlWcOMH+aRgrrHjksvs1+JeMPl3JRFGXsDShnbYPL5/yU9Q2UOR3pHraK5FGsIABhKlU+FMvZgfgCwIBGz17TDOc4s91a+CH4cuPvHHtCQFs8anzHUxq7CcJvOjDmQW0OLdAhP3K0mRv3LVsXmL63jih7rl08CWMbh72bVLGxZ6Zr5cPXqKukqUeZLcqKrBbY06dcYDT8z39Gw+27fzjaJ3jWEc1M2XlM35mu69q7yJprbJyMC7dgYTVA7kF3QHPJWbAaOGCZfBRaSAdRuPqGRL87mtpzP4b2HlhqOJ/qHr5wDcmQAPMPmRW8YYeWO3t2krz7Bw3dpXSHZYI80SfEWQ2CGyR9Yo6guSOXv/Wv9xWF2nf1YxKE3d46Jj8ObOZL1oSwNOzG3xJTjpIuFs3FzdG2yw/+CFSgHqj3JsxE93AR/Lhm+DJO+hA777WOgKGsQVgiYCHVJTUu2a171qfrBzJhxJri/CVkJEiNL6ivkzcI4IkpiN7ZuiHI0nU1rIWOs0bCE2lEDqEu4JVvE+0TprtyPksFbPmVRXAmP/vvKWIkiD9ekADaP1M2RSVdufgM/Bsm+/bFo8nbjQvMtALDd3RLbNoR5TYHhhq7hOp78nrbcXY1r5H2peYHhcbWnLHxzNLG/B9jo/Fd5ApuYizb4y4+FHEcEX4g7kLiyPhwkck96m0oyKTlTGz5Ekpk/o+DUFZ0Mh8mLoqNW/FkzUQv6rtdZC9vOJK9PmI7Yu+Ude3RdkpPqzku0afH64JS9FlI44FIWKaiFdCamksuH3DLqAPlhwIK11uzssZ/bp39qOK1S3tQpPRqW/WG96SR4cdtMjdUOh2sSp12PdxTroHlFgEXDCiZH4woD9WhUbww7SGGCVJvjRbvEr/1mGVrb7zIxFrEj//NHT+OvMFerh9woiVymC4wIwMZxPaLjlo4Yk69UfmvfTOytavgfwn25ttLHQLhVqJArV3EwEKeWddvUrsjJMO8O0dGh/cE71XwP+oHxHvMtsonAnXbv55q0vhia+1qGOz4N1jwIxSoPBsD4T3MbD9CA7Y9Llg+pD3lwIzmaoftss3xlFFl3Ks7AVnZdAtGJIZ61JfE48JpgfwK0/lX60CSMW/mU9SPyo8V7d33vciJlgtYUzBjw4Iy0zYFgZpmf4VVK7+iGh/ogZQTW9Ax2rGGR7iKELtIpUZf83Uzyck3JxMroO+W2NfkQlZmcolJm0fobGSO8yldtci7CSwdKVrosamxZUZ/BSEwjCd+x0H12yC6CD3YULwb51oI+ObCAhmnXY/58LStsffPchRX2jRajT/ntvabZgbbHFfLOowSnfR44qvHxKjL3eDDAdrmDaa45DfqmnhIO4boKB8PBhBieiWJrYqQS68tzh035Kv8OdCu/9rpT/yTvtanSIFsDd8SKJLi09APE+GXALprxi743+P1MvP9ro4kgT+eGdIlq2GLBdJ35nWRXk6JcFhEAHMYiX6cXl9qUVCHGtjZnSdZ4nXDmBlfjUM2rY3G1XxNJ1ljppVmrZeEk0npF9HbDuDGrOGcCWXo9/NJeMze9g2aqIhq3qDsvmWgIAAAANZBmpxJ4Q8mUwIZ//6eEEedMrZRUpDqnE2CVTk4E6bZuTSsUjso8FQccBvbHTtNlanvOQqKCWTAB0wp/oiN/XBWAxDTHw5FWH/mRAEmgPq4n1fnjFEpVQo8tePTENqBi5tcKoZp5HoTS9yg4uKN2hokze9bGqmaY3RPWGQh//pzNhf0LIR0CRc4LtAfwA+pKDKGfygayKiaJZw+a73UbzE2NdLLBgCl06B+zCvXa8F+Ag7FfC8eh7BCloeisCVerXyKhDB3QAtF8V9DREnM4tZg5R6DJA45AAACDkGavUnhDyZTAhn//p4UbLAOAGuacHab8+LgTuMoxKAlN+7Ur4kk9vAS67mrtDCEAhCy1RNPy5Lj/FuHxC4uTXPZxeAWcxwj5R7+lyvIElQedrgYOkefqjSkrv7l8T8e70nfWOeKUtJO+swrH93cU1HdpgJ4LuSv/stRaExTQrKqeMwMbztpy3HN2sNKrPcVgZJQLtfjeO4P/ieoo4VjUVX8saPwTrEYCkJqazS/kIs+ZBASXbZICjzKmBCnOUgOUzp5kSF1WeW+zVLu1C+vXuLStVTGEX7vtuL1Ol8yivIyW3ql3cAEcE5puenfSn64pghvNViAqaJDdT74RBdGLKdWkqdc1UOXWHohZBWYQaq7A0U+PaljYlCJs5xmgKHTxSJRKascI6GsGOTxNcXYE0ha6Ur1DhCvifFsktCjp3WvvQtFtU4ysssOgYU1OgiY+DsITPMBKWXrZ2YEiEicEuzrd0uvbPmmTuylFEQWgATwgemVvARv50Eg+IvS6mpP3+Jid5fMwv6H7n+0n4uacXRS5cyuSBhLGOQNeVKtoE0bzgj9xZ9PrKaLjrJyoL8/UpZMF4IHo6D9L5Xs8bHBFy5KZaDZT2yEqIYGjnOfKOyX3QrmXPTdrMDqI6sxd7XcZciDH98zdyhmtXtO936QXF1VeoQ9HtHMcmIxFo6L3vbtT7puBupROkDRyezHycEAAAFiQZrfSeEPJlMFETwz//6eEJIcDgDXu4WjiWERBygV1lgIWxKJrwGoSa6Rl3PbNSWl6spk0+YRNz5Y+zcW+ivE6azJD5R96NPZRZWQ5m1xSZgp7lHdQZysVF5XydcXzeuApJ86oZp72Wwnm7ozIhtp24SgTXN0JHie7kZQgMxiN8su9gCg+3K6bEYWzXy5qx12cXs3OjCCx9pM4NLFzjGkHdmdLOIK3rSNLm8FDnPPPcZJ1NeGumEB2+PzBa5feqvhfxufP7owcxrC9BRg3sO9hbysQwMgfr0PbqDYUM9fGCMSJW38OrWlD0qGObzm+HhB4X4/4eQqpxkIJ1Z3/aUiXo5Uz74KnGy+TsCnVJFjvHiz/eAZF2Rj7jqJ2okUT91ze02+65kexuP057W7gMdzq0OEYXUfdr4Sys9H//iayQjRuv/fw1CU+uhxQgaKQ+r4NMLOS0DvCdt8QEVbnqGjoip2AAABewGe/mpCfwhpu9AAK6QuNwIv96xsXi0EHXOSe6hbQAu7fwFcg4b9prExQGGtWZqZ4eBVme8tXQtQb2Uvh1J65CkegFOwnEamqEW8HuFQwjlvTQSFuBrIcvZI9tAiyfCJVu3/Mu/pBxtYP77JoK40uO7EDjBMr9FxSxEA/zvvT0e2fBMPHx+SwfCeb3WM+Zq1auKxC6zYnIhQVIdABC9LWPcHwjjXz+upQlfwsdKU6CJJ0PYxbacOAiINfumPH/9Y2cSiZJUdW4pH3biTm/zQzs73By1+u+mUrSMYRk+vKCIRCQ8ik1HCfQ4QuCEyOMkjVMmlnL17u5Ia3HFebefbaJL4CC6cAngO6jx5h8xUa4nXVf0X9GVG3W5o3wLzbEvGsfrbeKMQLJ2zDSVPEkPFf/SotXofM8cUJwevl5Yuz2vmPO89JoM/xCuR0wCcfyZPWznXkeV/uhGZ0GNFuHFgI2lulEHgQ09Jn0sFBAZFRRaIGKQRUAXmSBBk8rgAAAR6QZriSeEPJlMCGf/+nhRduDtLnfRMAA29T2Tsrsi0191Xzm2v4nVDlz5H3flYiWwwBAgp3gXW6l3uZe0wId0vD/8/FgPF7G1mKbUK/D3D977IQp/TAGQwjsFMMao3N9Gw+tpjL8jP8IuR0otwFXxmx/+MJpqwQFW11eZT6QWgCQPY6X6ltQbr++fa1YagzWg4iM4d68U5IAK4lXJ+OiF0ey6uBoeyVX1Cd0vuF81vU9+9eLK0ax2pXD9zmwKMCuku2DNGMLnQXpL6iVvVgWUieVh+9syaFFTUmiVEk1AueMGq+5bfJJAyvrJ28UsFiKcOlznuekig6WU6Uwf01u56xXoyr+4Ov3RyxkSQt9GRsOrNzdg71s3I4lgc1W8ps885rt47Zm28zvhMvxoXclNF0bgy/i6woezFpZltZ3KP8/22h86grBgg6/uPePwVlB76Q0tmWmvWax/AfftsnDuQXSE3o74IHPVfBKFdqHaR27PXKWOBRlXBsdiY7I+pAr3nAhTMQaxEjsPn70wISrbbO0NU/Pqc0dx4dTRF6Z3Ht+2LUbOGi8AFnWES9hJx6We0GhvEaekeFYddpluyrIoZGZxYvydR0BFCDwd8w7i4ZjoYj7rOdWAmAJeSzRIHUe94Q0G5Z5yd9uH8wLHf47cBaRscw22zGDpc7wfhxWEoQfsRz+bqzN761OfwPtp9kqYSNEEf5WouATXClo1S4bC4UHPBKtixTHbf/oUnkaLurAQWtkY8E5LNvchobGbK0jDmwH70nxMv/VQMX0y5axuYeU2FTvyoAhPBLKH1RxMXqf7hmPIU+0ewqtTqpcUDQqcZqn8gHR6wsBSeUXTNg9F10QmT0t86WWxlE0dBwA7AmplMPRY0hXCBfG8Ai5BthAmIv9LeaKGClpxMidzSy9e09HN5ymbMF+o3Np55yV1Z18robHCJPPr7Z3xiCq/JogWxB+ko8culdkrzoJw3ECIbwn6Fh2AY0tcRddXtFY8xpPptdgekKRo9QfbAo173HLI9q4TpECLLkqmG3DpOxifWUeySuuLTCHRmLwxlhcJds+tLv3iKfsieCz3D2npOeg/2T8EhEhVQkwfuPEShWTNxCV7qjjgq4O0lrQAQEgfuIXJAFYMpkpGZK1tACyFfX5rR240jVJ+OUkOUg4hgVpL3IriuNac3wjvXQs8hS4iOprvt148eeoZZ9KBlsPQHDg3T8F6xAO5aRaHSady3oTkHFK8Rd7oA9apzf9mUUhgVINxDr4j7LWBk1CopJS0FZhMmYpDY/RUWHifLPhbmYY7MldsNhWtKewPQvbbj/puG5r29QDannabjLKgjJ6B5eAcMOBzzGA04XcOjImJscYRLx7AuOOF94YeD3beVMlTZndL45AoHq1xK5olu4sEJFsfpD7rZgSZ0vn9EByuUV/Mm+4JIgTO7uTvCAXiWuOEit3yosZ50emD6enHWgqGkTGZDRdEoGR9P60rrEcNfkvZTvWYK6A/LHG2TEdOEXJN4wVDZ3mRGFwFrGXiBAAAA/0GfAEURPCv/BxN89kDEALVDmrqm8ZPtBv4hnJYa9Lt44Ht8hb2sCFdlX6J1nbZIPongF2a2hZfCvbQtJq8fr3BMkFAkUTl1rTQFvAQIXJF2U92+A4KkRjGDGlo7GiJmdZnP3miFd2Rf2oUAQ7qH3/ADVhQny/tHiADcsuPIlrdOm3OQ8YRr6D8b21+kIDFwjZ63NHBPF7Nywcg3y3oNt5JlHUKZsWmGBAJaGrJR0lHWzX23A7cMNGaMleAXYh6W6igWWH0KW/QXXWHC5NQv3wwU1i1MnJHgWZAblxmEV7Sv48HnFf1OqtYwrZeQAfGCmUWCfGWkV2jhvWASiEFHKAAAAKwBnyFqQn8EibraG9uEkWvkd4O6X3WorBoiTGSqw60gqcNVMEsImGG/7j7xwZmuS1CDmGC1AB/3toonStuGFRfOvJq6TK6SxYjrGowoXwNs0TV+b4cbxJQQpvzo5ycIAvzWB6GlZzawEWa9w2GgIPFUeit3O9Cm7R6t5lwAcI/W9TWFl11sgbsAAns6Zy/chRSQdx+0BL4HeaxPF8xy63Bh4yl5X3mRg6MKuT/hAAAB3EGbI0moQWiZTAhn//6eFF24MTu/TqfIrvJFIxU7/jozAC1e1mR8/M4h+eu5VS21aa7FzBtbJJa+cGwWiOQ2O+M52q1Qr4qMsjEBryhJzdlkclF0yvHyPyqlsP1+Mua1ekqVBEIITLoXE+uhzDsS4PW87pYwzQzdQYIoKdmGj6Uwnr7T35dFN/xwPGwoWDZd+WhEE11k1vWtc92nCunB9P0ZRBK8YFPW1JqptYe2ChlzKJbYVx8fpK4J47PC1MzTFOXoFg4GIxgHl/t04VJ4GR2P4Z9rM9K79Ew/i0VhiOfNPDfQpgdCReg3fL0Ug3iFMRAa3Cpy/fO4tVOiPvuvQ5RPZZY9kPQY3Xn3nuEwFrTnLbxu8IHLM4CxrbRBhRI7Fa+XuHkHa8OoLseTgxMOWFznLf2DNHciDHqs0Se+M6V1KhbL7p1rHkVVz+jjnGVp4hVTcF2dUZ/tUstvaF+oH6ERPTWFdVu1cZ6M2CySJrNM92AbjTnWsAz90JMTGYixJp3lvj+MMEXTXDsxwX5WXHKLFtOTIWCOuIRJOLxNHkzI52Otiag2jJBRZzkdf1XVdqVanHUFxDKMC9Mod1Zf1QSq+gFo6RqOw84e0Wuv1ehj+hS5TxOKI39Yh8BMAAAB+0GbREnhClJlMCG//qeFhdDDQAWpo3Oo/GSs0bGRZZSsv6WIaqat1HpRixFfuOTfh2Yj0He2RMCyxOVulK2Il7ZdSmgn+/j3qEiumItdpRgsThEr6Vq+iL4Bew45Y4Kj0FCMJAR7Ix6hyBmeRz5X3Qfa2/7d5O4hzG5aeh7vCSesZ1AiIS9tRjclIeV8u2+aIuqqeiObK239GboXkRvx9IixoX9tK0LwUdeEyPFn82FHeu6cZteb3b+eqmHt+gXEW6kSxxPNNyMqPd0bpBn/SZ/gyG7jjwPeDLX7DNMqTIAlfLO0t7jIQJYjkp+OW3ijm/IGe1b3BOW7DDPGL6qNztvf+xQj6Wzw+ii+Qd7S0TyEw/N5qmVuTvcJb7hJdTLvJO9k92WhzRXEv8F6M7/xx23ZAxYw8TWkfPOURR5cpcWQo4Hs4bXVSqH4Iw94P2Ge1ipKZ83sEKgBdbeY8L44rFNpSpC31Y0Q53KYx57edjgX+LUO1YK+ufMuSZylo03Jav3KlOEfIpgGIIfnb0oEnOofsCyi/AzYnwLW0dg59GVpYuhzOEC+2Smt3AD5cEQMm+im44WOd/uUkVluG+xfPXcFLLKWJQrNr7Hq2TDZ8SAoU44Sna/nrbOefzogqCbnX7+yHC9E3ipI097UxJ1upgsQspXzF9Eqmf6JYQAAAohBm2ZJ4Q6JlMFNEw3//qeFgQzR1OoxCGDQAp/MYHNa4jDKGclfeciw7mpnQ3PdgxbjiQZye+2OcGx1rRyST0Mg/BFVKf+dXVhfmkYHy/jMECA63mUKCZMjr8v/Yh118EnGln2kWx7N2g7wghFhQzWFyiZtKmAjfmwMplaNUDnEi1b+8PwXSJf/V6fQf9J79s7qfftRRgRTKVQGtGIGjJDTgfIvBbZhamSnX6dQBvfY6CawwN3sQHKorBz3GHlEV+j85FJfaPopESIQTB0khs/3kEr4+d4nt65gK2EAbjTg1C7fMoXpVpby8BM0tL4jFXGEodbGDALRAuUNIy//FoSyFWJtfhBdPETRVNF553IN3yX/PWaep6zILHPlLjPiezll0pNlpP8rbP9KvaIda/a193V63AF/xl6sv+islrjyrPsNHjzQAjK8usiIdX4kKPvyQkUuhIp77tbIrEDT/hAh5Y71ibsBDMQ7h8dG+L3c1zFM7pICEaQKubgP25vR4mqsfDDzk4+h7/8+1Qzy98RfkTTPKNwIMPcv7PDapdRVMC6o78xtLp5BaXJDPBf1r7rMapiCzt/bjIWRj3A1DCBerL+ql29IargxIuSy8+vqIrgUnoUR15AsYDXsekVixWqAvC9KrClqlMqA03IHi75epiOvK4WXbmog02JnlAVsF3Qsxih+QV67oRYJywfmoWdFcypAmoLjNFigncyLukYTWoiy4KDT4Ecd0EwrV8rH0GsxhMxTcGh+Opk416+L3h3lWUicn91nHAKtBfQGeW3wsWvz+VlmkNgNVPbJFRDiI+gTK+WOCOCbDBbegdNY/xRybztAz4pvPG3HGFaAzXRgLhPgTRVB9ZkAAABJAZ+FakJ/BIcl6csSZSFNf67tu4f5eSOAoHzuc73hkTmqaj8E911kHs/pNbJODKW5UOLUeroCnGCOHzL9Ppy8sM1jg6BiiTQRYQAABH9Bm4hJ4Q8mUwU8N//+p4Ql6uBjQAst39Ag8xWy+X7aSueeI+wXrzXox/Bp1RXrDxUnKS18GRnCtvgm3nR88hgAKMteZtG4dYexbYDjTfZTSX/5ntNbqj2OMEFF1Iq/LBs9qZSmu58NMwOPjo+E3qg/X1uyruRC4pquOEXW/cLpAlJldu7WIhIIKNCpmPLhaCuUDKnKhX5Bj3d+aXt2ceKstCng1LZQbHYsBlsDm1EAhG49OpLp/foq0CvwUEq4R1x32/CTyF7Iw+sKzy4B7xzgc51Ig3Y1N/1hJC5k4M/3uHh1krj2+ulNbPX4h9CUs1ydgojbmDbZFkpXJQydc2urBEEMKdQ8HprLSkEjxlWqaWf71PVFVgD8+NV9NGEz6nj+THQmStU7nWJQyr47q66VpkzhdgyDjitcVlYhCgTDpFY66V5CFfza4J5fBQdXDuR+7ih/ceEbNvRw/UZ5WK201VhQ35BrA0emscQVeWNGDfl47b61uegsWhdSHaexDqYRTaYG0cPza6PxtHR6F0KZvYSBJ3fwi7bpLmqW45QNTcAFfRrr15wqAXybzZvjZyOowqvVCBn9FGfUmYoeJMLhZYnJrveBoO1CfdTcaLeYDZtFJTv5DTHk6Shyg5/NQ26jdxZfESmngw66A21zUEzfxylufQ9RiEHB/+iuaAhSjRn80SS3ZUuMeGlzwB/V2kwsX3K+pXgpfdv6RLiCBEJGcw34BJ/o6gPbyTVjykoBOabO+tSYbGaedZXLrlwW6H7lksLSJGMlB2P64LXWPJy9i0REfZi/mDCjmm1mqEe2O4U7L/gA4M+n5tuXXEbmwpuirTqPnDXPhEB1/WaJ4IgLgFIqEmz5Tfw4MII9XzfHOMXczIV95f/tSmPVf6NoDD0iC+TOxRQSFUzZIKSLVYvx7jlYRIf+nkRPKVfzoWr1X08vW2eu1FkhAM93pVn7YfnwkNTorqr8qddKoSoCj6563rCnyiEbS2iJxlOB0poDR5Q44i61yPYVHgVB0/tLJLELV/BUdDQ0qiwM0MNuC7erY4pLo3VeTMY5yF34/dnVMNMOQIePJJvFmrtwvgBF/ByDP4yfwFKCVb2NuU2KDcx4PIzrfTSGm2odCRMWvYSbSlPZCnMusjznkjos9Y9oXJK92hwZFUtl7HEXz68Mxh9hfrKM7FFGfHYkl73SzzU2fAtuu10jlgZHWLCQLTBt5+l5DFEPhO77BGPuKy1CTBebamu4GBywjwnWIlhQ6AdRghXCdfM76nggYNFd3fJpDWLq8p6F0q92EbFGWzEkKLKA5YlOZby07eDwdssuGo80vlitk3yitUx5mj92tYDDfKWrHC+9E91HLUJzWHg+Drn/a1BsKeNd9ack0hEzCfZaXEnSdBqx/xeWuK9aALWXxN9CA/sVpOt/99+JIZJkxqDJOw2mgTkU8dFEeAMd7K2ofktfh7L4gb90JNcg2GXjctFYH+QUMzxz3uiD4Hiu6OAasxylcGI2xV0GlcY+M2UOWbetZClcrnFXj0pcW+Y2+QAAATsBn6dqQn8EicJXlor/7g+n6cAkRqVp/Rbs2SEtyhiad2DD7DyiETcdS02zCMQvO/PsMEa+96xMsFvh5KVErs6oSGz47uEALDzK4e/z3RulJlFHWbb5XDp0Ay0kMr1FM9bfvb06vvPpjNMbF7CZIFRTvRicQQWTiJqERxtIvdA4mi9Vx4Ujc/VQ7yIMIMjaQBJxLCvsYDcsC5I/LCRgeXCAY70lLnk4JcbS2TSAZlBI5hnyDgSwVwWT4GBw3exT/UKke9Y/dwt3pyX/HK+vU9z4CubgZlccbeGAOdmvNo1g0s8fJFey1ToqbSdcvFFTjlGoHU7z9pclnSIHGCRRjNRmi3yeRvAlJf05QKrebdCjfyRvxaMsHHFR4TW5gmXnPNyawqpjlvQebQpJ1uACTJyTortI3/S1QmX+bkcAAARYQZusSeEPJlMCG//+p4QkldAgA3Ci8zZYbwrN62g5z/qJWh1Tj8VvN5bB3d4O99KW2Hh+pWkbSSEb8EzjdPtqR7gzJF76G+pZpvi3/KIzaEdzKr5aFroU0bBERKHoqJlGEu80Z5HDuoiUCdg1f4Y7AnO2+MyqYumSAmybP2ye/qRsiiW7hO+knZRrE2f9nQq/e1GRRcQy2xpaKmA7JloqLG7ZSR4qyp21pXjDtal/wD9InfXauoF8taLef0jrjlWLK2pJo272G0s6p2Ja52Mo31cT7gs05gh9ZGMz55uNATyuqCOWrRuRHkCLYideVTAibviYNm5R4Tr4OPoAzfn7KH1hmu6c+6vUn0y3iEf5o3Q1pclIm+TE2a4XoNM2fLjrIH81B65i4lbZ8Sxs7n1NCzjW5VYURJ3EkxvFpBsIdcimOs1cshnEgo8VXxmzZepniD+/2CArRkr61w4ORe9uleQ6Anu5nU0JV/64h0OkYVTj5LaP+Zb7DVc77D+zF5jGbf7RBBDkniI6mpkolqZr2JY1lO3/Sx1/mhY8nCF8ugEyuyjcOU6dXzqxqaMlqTTdOZ/HIKOu8fJchMt/NF1eL8PUwuZbOwM7rK1W5bH4FaJ0mYhnqxKBahilWG/0IPdVeKfXFtFHdYL5L8RNcN26jNkukgl1ktECS53xOb58OvAW/A0WbdYCTSRQm0cEwV1luixOHXECv2I6fFv2SdpI5mhRYdQS9e6L2HpI0SVba8hh1zuiiUeIpsqdkfrrlhhRwIi7csEZBSgPfM+verW92Jv0+NUhjrz06PJ8znomFnqvcLsRSi/tVwtiB9lHiORNFeHpIoxsXjLe1P9TOLitdULE+BqNQmINwVZ/w2cDyJmXf6iUXY4UgcUDToFHexQ44TQabLphVDl7/nDazYLqiM/Z6oxvkG89eWN3ruLFsmJFvzJho4gbcRZq1+IkexLCYOfemoYI2ajg/Acn8LEi2QQCYe6I7tG0emU2RSudouXvLCIMWixJbOWDfLMkpMGkZgE/GTdvuDe/sWn7z70Ozje8sq9cCJ+DWgVFIgCiBGxpI0+nk6ZkSfNW4V9heMh7rvbCwzaEf9ksnsSd8XELfFXeMmcmYEz4pKFnjW6Yff8ufyECYcP2OWPj1dJCA0NWIF2Qd0hacWXaV/IxWKbemBpW/uva0YJwEVbx7JLdIB20n5FM9N2wrmt9/xNzxvdvO3Y9PrthZ8MqDyFD1zzuww8ZQ/lVCxO3ZJ6RA2kSno5M11vXi+5uvusBnOfSY7yQFarbRZxCBDXfKOyASW1dZitvQCx6Lhv6UCbLHwnheCtcSDg93WNjb9nKfikUaMZxMGWIHI9ogo8GntRCB61Fbn/4v771bjgfsZ0S4C/2z5N9AUy4sU+hvXOt4LDP2uPA4WJEDaCN+VsUP6KG3pez/SnsPblmKcS01tgTYs59mNU0z0Gc2c/4OfVDXMBb0kRdIjWSSQjUF3AAAASEQZ/KRRE8K/8HHN6r92ABXbzIxr25XBhTZfV2kRrR7l2tH3l1GikeYK/111Mh+flFkl88cgcE3RgoWTyJKITxtAi7R6+ZyCJnWdeuR0cEwZx6B0mjwZAMSzdqhAmzDZx6LPju0kzMDUtHZ4x/Dz8XiwxzqG9iLuU6E1H6cn9Le5it7lJV5BK6WOy+fyp+HKjV3J+XzT88zsGFhgWksqzzXvsJyrXxgu4mmo5U5kxMKmpnW9akkwOxHOZ5on/Bu+2rr0wDve/O3iVJYi9RIPsE6cPXpw31ecVSMmDgjcj4yUw2MxsPrRMkNR0HNRX9gryxxEM/IhDShzCBwupYBZG0l3m9990E2Fo/Uqcyy5zTF7RiWzuGK7P/fdAlCW0b4TZvcLXq6yOVFw3U9aacC+oHpgE4zJNAsyh2LcKUgvGc2nJO7p6oW8XQxU7XeH1tHMY+RZsN6C57gxwno/+YpF+0qswzwy0YPufuMM1TFcq6veOgNgGywKCgM4aT8aCQwRcs3oJIo4hTCjDZx01a1VhXM2TTs6pBU068k95OeZTb4woLTBuZsB4t2GxI10nC8WheCGikJ4ZuhKFmNDCsQDyqo6bOHJUD9m3uAIdTHy11pJ+mdAHObvyILt5Z6nzfvDKj+5PtrUXAroxV15LEqGF+q6CjFoTzcry2CrIucAvSNZkQJf3/v848dL0a8jHo57DX6W9Gz74dbSN41vZTeoKtcS+HhdlqgIGpJ2ye/AKWNtnhcouDg64QOCUEU6szXkn15UL4I3Snvfyz3omt/gaPSm12VAM3WeWXzvaKK8cohegHT0fsO93KZVo0w3D3TPL0qjRpo6sC749iniMtDV8nfV3xtvTE6nsSHulw9ru8skRKtriqGtcbMYT3iLKojJwQXpb4QFJcDegyFezDGTlHl/sp/Cd1EF+iunK7Z3gCFEGW2NJPVd9+BSqHwRLRiw9M+AMvJQWzMao5fIvAXRQAp+Ar/AenbA0ogySzMEjpsV9B8XGU8xGunMqnQYAp95yniBHobm4cND9/S6eizvGL8AcMmrOb6GrWYKL4QTWU9hvevr6GGGe6J0J2/ZMCLstjILMFNQA5i7UdTp49Wn3ZU2pPvIixKsrPsUWtIF687sTF1mIgujoEVQoKbcXH2Yj9SaKQejGnC84gg/r/49S5hCsDrmVmt9XxV7s3zm0HaVGuzz4M8gRJ01D0jFvCeuoxY3pAy9QO+iGkS2wIp2S+qMOM7ldI9XrLcjRc5Y4abK8IG5q8o/gJWIaxhuTZK0GDw88JzkbNUZ9rPOR+lyOtBJSroA9lt/B0xygKmcEP2LMm0BrwuHFlOzptqZc07nYnOz16z4XquvudCvcUgoYjVsoFgG+4ULXLIeJMZE3qksulf177KUakrkR7BKz+LG5Y7k12lQs1tMNbQOOJReJkDSTmjYw9FBHLaiHDadnNS00lZ3o0/l/Dq6cbsvcWAMQ3NltiWY9ftOByD9Za/Qy4j+eZnCT/7Arr1oiCPITy92jbzfAC7A0OQrD9a933GYVgQHbDqwAAAgEBn+l0Qn8EiqU9x2cJZ6HhUC5WHOgnt56wJfqUvjHKzgAkg69zNcUkecEuQqt+lSIJHRoQOO4NUZKy3s5OSEwpl1aKy6Fg3UpeZzwfJv9Wbtv1GpIwY0wSkLjbhyBSOeAaNCp5HJtzc9Oe84uaqZ6LXct1jAn7fgUhB+PsJ7PA3ZM9k8jmWcgq0rIOWP6Tt7A2NTPCJm6Rnjh9yJRSkNdJqJXKxoyDq8Tw/nrknONzuSNol1ldzSR3Vkm28Y0U+IO4VIB6O+R62a5y6Nu4cWOxrs0K9ovnY8Ex8siYqi4AqKQUit9mSzHQHazKSl597XPkx9YVxYHbSG6lQ1nF5mdALQLijjT+RJLL3SSu5GRKxIBuBASYLCKd3MXtiRDpxQRNcTGexWvmp6zb5i5tWEjIxNfrYXPpYp5v4NKVerug6f49r4sUb2H5uszYjJ8vpy5+MebE/9CYQ8US31+iY06tU5oXBG2ZY8akQxHPN9kLILeZNxBL3QHF4GTdZaUYm8MzElo7Fnw/2mE3jU10V7PN5D1o8aDNAasGD4cbK240mV7MSqxp/E0Qxqk0JgP+KoUgftSh64aZPD5FKn6+Jwew5pL4dCCsBjxSEWj6MbAPJHlIBvnU+x5HIS2m8NVMfeEJxlyCAOFmBPl/XLiqVOO2+wlT8XU+ovTqjaNHf2f70soAAAJNAZ/rakJ/BmtjIofIueGiIJprJ3hrsyAfAO0HUWkudBL0sCCHsgSN8qQXlqAKCfQUdqA2eyGJ89DX5qt0bcQ5N2Sga+oO0wbzAxHO/VZmXUB6H26DpaTBDpVwB88Yo2Bf/kDrdZJa9U1IEuEd2UPb/ugkW1Clt8l6w0lcotGmE49fLntmBaz42+aArgUUWDyUE7HZ8jTxioI/zsBlY8ToNkJHeI5r6QabjVyUApoNHpMitUJ+xbOEqG/ROw+1JmyC+7gw0jFoQzs4ulqmF5htLFD5BWxh7mrTQZwE0Vzg9B5O2aT7ZpvaLjtQIrkmBJD5sY1HDrhtTZu0yu+roVQj9esJFf/h0XT35fSd1/kB9xRbhl+ZsE5IcGnBC1InRwnzilx/kDTJt5kjFimaThiQhxJNQnT4zQxKZd/FkKZWsW1UalM3IQ5/57Z1Khva+2UlrlnY4EWNnwdnU7krHol1vW2JHK9/kScXzZRsY0jciA8yHi3MXyxAyVZhUyMQyQ8ErdK3u1CaiY6x/TU+S3Da1aNh2tf2n2wMQQEow4Y/Em+ZVL5SZt7GBJnHgP1HsN96HD2Ji+NzT8zmD7bJYX6UDF+zQJBWqvFemklRZ9MpGdrx0R44nacsG+ZC+TmtElRQ12OFwhOak6CGAMaN9APJkFmPNQ+QhTqROJy9ERTPfHtPgcaKl1+hazUudUymYxXOskLlFCiXT3O+LinUJ76DR5u9uEKsUgl70FjCYZIFPsR3OUzBNqcM4tmA+BCPZdZFPMugzAf1CI2Uv4QXmAAAB8pBm+9JqEFomUwIb//+p4WPA3dQA148Yi/kwcH46IcY2znPn8EwaPMAh6lpbD5w0OyaNXX9q+6o6KAjRttCfnB/QpuqJBHr1uA3X4/wYabiYneMduv4VbvA+V13fMiUR9NyuJJEhTICPu9o3dA2RC8S0L4EF2OgYxaUkH5R0KFPkTfz+I4MhRszUnPzW5ooXNEcCa6OHVH92GgUbJHllQGbtdCHSPS2TVukJAlaoor4UH9RliZZa17aKHKCh3qGEad0gKyB2Y/cSS0G/qsor7KQFTwLOJ65SefiB9VwYqDXv4jeJ/MTkZV+myXXJoHXdCAaihqDkGVYdSfKvfuMHg+NEuJVVzVWPWkVzFXx5RC2qAP04knQD5TlZyZg9YFq0GSLzRn4+twCxaKCRUxWDWolOdiLT6vS+6vPCH06hN7dOXJ32Wmj/k2vv8ScPG090/upf5TBxS+NTFzYqOEKexdDBu5wPdcbmuNfTPBi1hXcZO+jwEw8SeRreGX8a1jT5N+IR7WuZRL/bjgmhhyqJqx5gJq9CXiFc/L3P0FPsAU04aY7iaZ10fTr9w791neZ9IXhnsv1rReWpnOtdTRO0f87pPEPWvWNM5etEhnylKK0DDLvwZEgTIYicGdporTXqrkTs4SqHULkX4BDiZkAZvrgA7K1gxViPDE7KmI1nNUhxabWebd9Sduml2FW5KVtysvGU2tB1FlLLjq/fXbb+dAanEJ1yp7I8QdZsW2aaOVF1UU2S79UXyp0EXZlkdWTRK1RjQ4xASd96qXjr0rJ1Z6aBMEbzl8Er6PIw9YC/9WqkLIm++wRtEpyqakTeTV/8HTBEG8RyKuxfnaqqrVKLkRuOAib8nkTVpxtDEBQ/K28jSTdhCTD+iEy4/F0jqdjIx9IcXScBLpP3HAN33cB36PkJ+xURFz0Uuati0WdKd7AzBNPcVELo8NKQWItKlbYI82v1MPxHIaZHYT7LkeTGBLmcbJMhIwbKJYMeZrJx7T4U4kKkOX4PNUbnfOnh/fAgV6jzn9tTFwhkrFHPgOY7Gv3DSTpw71L4ZXJ9qPqrnZCndHvPDBk9J1fk+4ioj1M34/17Pl4gffuqsqdRxIxdjn2VUkFSIQrMAV3PLWcNo+EwdwI13RcUp9lCV/XNL4IXihAJXQ5gxnp0xXTzGtIc7wI47paS+y81LiMJ4ZZ3ny6OC6iv42Z8MV/GfTSmBeJGmW7sMJEZQsv4nlk35VSDuGNssNjrKf6L/6Rlz52sDDFHyNc0wYt1rY+htN1GMyO9P4e3/8Dwptve2IshFcpA4DxblEQtHUTHbRdL1LbhT3zzbr5S5TFwW9oFlKGBdUCXuYrAlkFpqvCZf9daYrzIHd5W9D3h0YCKCWUrShKrgNfJzkh6ap69ExBgUGvgVBlQ3eNyUTNy43frB/LCs/ifVdZk4BZ0koS1Pv4e2uP03laPQC5Q2Ek6J8bhHjE6RQVyDA9ECNjxY2pW35qoKVqk9IBqNcKUfGFD2Xi4Q6hLD2VMc0J5+ozQGMK8vg/b0OZd4ABPd46P0NCopn75Cf41QVA9k+9tz2NSukj4naCt38p3Rss6PVEPJ3rVIOMDpgsJJhSlxYIG5BaI9ltUTMmcN16gcGvllMx3iR7SDgiiyrn0J/Zz5GTkai6UVc2OXo/nb6z1mTzKppCMFYBNbnfuy45dL3SKn4gyJ8A9QHGGGi91iUijnetAah4vyhLo8+yduUtcYlU1IYjfRwcD6zjJ/azeWSNublu2nP12YNBPy1jlUkKkGNRPQywkMZhJZJ8k+FtYJBc3EAO6XH+tX9k1aza1shOamYVUzpxrH/OQMhvDGplxlX7qDdY8rvGiZ2aHGNURe5bqMLlen0yYy6XYnP4R1WNQ9yfrTGy7h/o1ew+jVMVtGCNWsl24kz8ehHxTCpKVIO0nbs+H29TOF59z4ZpABoklcOK9lQ5Hu9bRHRBm4qePzPdvaEnQWoUEjV/CXYqGKPAMeWfb2x2pM5VKzX7yI119UGM9oL00fvaV+jKeR+8EpuqoYEcLTlsrKXqxINznQPlWgXcjUwG0K87KOVGo7DAlJyecKKelNE5wX4ZusNnjs5rwn9VyaD//tu3LeQd79Y2L9Waey3gwM40zEIMPL7Dy2ZXNAT22Fhbvfkcf7x3trpi0JdI1brf2uLiJZrfDtsXRpHgvyQMj/A4ku7UkL2eXgOCPeVP3VbEuLpNWaMRDlPgUCNQPp72MGzeSQBoEGKinZQnOTD/2PNYhbM4jDPh/Z9XkwcfW7PEuGYsCivSr6f/X9vK5qda939moRHvTgMQAZBzx2wYmTDedAktGamxDV1UkrQjDQseQF/rV3+nMs8vS1rgzvDGiEnMClK39yVRJz+s/lTBFCDUdNrLLfqu2K0dWi0MTMUzegTIvLMhiqGaDkMKC7/6SWY3LXqxtFw2J9QCKuiF4WF7Q3jTb1scrYVk1Y8bLGPfd7UtSwD9Ick7aDN6zpwKV53D79yPeccVCHiEwybZd5kt1L3HjFQ7re1lPBf9CzVlapyxJkyzHaO0v4tatLuC6EsczxdzxUE3Ph47ey7+dXdEMssrD0AqeyuSc8TBSXae7bQsede13ow0T6yNfKpkh5i7L/Nqx3IdEFMMpdV0K4+TAGvrmScNmSQVfkpLkwAAAdhBng1FESwr/wcc3qYOofUdT2eBBI3xBjAXjobIbk2j/in8dGAFzl7R9YZgvGdGrKFCwbIHjqDnIa+QbdXk096JfefhrV8QtGiTeBTgOEdK8+npbyLxOwZ5ocA9N2XnQfdywI7Vo+oVsdtGD2C7rtK8l7+7QTMEzra9HpiEoMQOCTB8DM2F6q8MWNl86RmwbkHbaKPbcxygLQsV5XV1doVc2nO2WsBlwBNnI/kWmX2wj9qUOoHvHU84Fa+8Dg9ydg3vIXzc2gHS+BT0x5WLhbyyA3qU+VLds3I5HUPqPWwBk3bfKGl/fDxHxfZXEebbnFzfmPrwWVeWTbzqzp/Vbws4hLT55x4scYUgJVjvZlxhITSiUy1Hyf7hPQEMJoLi5TnKxlBoqDmlMbNvSuRgC7gJSsy9y5H8ifzoKbfoEdb9Y6QanRCFrICKeEG3CVchiao4F06uDuevjG2yhzf+da+9fbAClgxQbeb3LM7MSx0fNox1atV+PTp6m3+7d2fgp6LPsitPRMThbLBzwYQlTnvk7myoknoJAMBam16fnVxAHsJXHE3JuSmQWgh+pNU3dh56kJqlyHWU0EqgyoC6yQc1AckG1noLqR3zWxpfLYSsTN5T9+52VFqDAAAByQGeLmpCfwh6DnTSQM2cbx6agCP5/ZwQ3FK3Ifn3o7ImAMcU+YKrdCutLfwcBHmgATghxZuYIj93koMHepf9CnokKfuHIFI54Bo0Knkcm3Nz057zi5qpnr29YrYcnpL5OTxr9b+18PdtqToZ56eiCBe+NOWO68LUxQFHjErXBpPxcNlbCBKrOVTfS+CAE0LyA2OtKaR0YVTHnz+5EvZOFtUL3bRUXOb39wRH2K4mL55Bb2OrHKqqsgQ9lactMbcRCPMCoeCnCgiiyp7u3z4I6Sq8jbsCyhDgDSl1zeVAZJXobLge7KbuKfWOiZg9Qps9bhTd1He54V6Su/HhAyzlJ/7SXwBZ6E9Op+t/2aPyHKSdb6+b4pxonwc8i1UlzA54NbNNsUv9IJM72Aq0vTD/c2cE7o9rF8KYVtp+OI8Llu3zON/TLXrwGH2+n1FQw4n2zE5kYpJKJwus1P0STKSfN3WnAjIIONOcC66t+AwhZqFsQELxRc/zkKTbYBH1XAKf0OI9F6fBpwiiod/finy3u5UR9HCehCLYo30uJ/VshDlEt/BE138y6uGgbzrDRh4f/t1WzEMURLdTum9w36/ZBsspt2OcLT5oLYEAAANPQZozSahBbJlMCG///qeHGz5jQCdZk0pLpiLr17/f/VJj8sKfVhRlf4Mp2Gaqurciz8z4n1MFSi4crAE+GobFvZMsGmsJwU0JpvdvdBUg/XzVSt+ltA7zgb6uPpaSAK0jSoxGJ+v8AdZ7jjtkeEoY9VrgxzjgTCSf77OZgmP6+JZdR/5bW0bBlKqjQVGb6dO1tZkAGsHJ2jANxW/aDGGkFeJeYrCM9MrRvjNv+B5f9wQb8TCN2WG44FQJM1joHj5LeNSgNPduAu5OasIEYe9GkSuxQ/ENqKTj+7jhLEEotwLWUIIiDXvnRA9/i9p3Y/RYZPbs7w3MB9VQRUY8AbJ29NdPsCCtqH/N7ULCnfhHN5oe9YzFHHVHf/4Eg8RjepwfYAU1fy02064nysQdVicC0mE4FmrIaDBkugVaXhdQuc5aTULQG/uzaB0MEwqHqAtZPu9Jb6K7k0TAq3gIB+qiG/KeVGaKSRjcrpkESse6cF0aInQtrVXXkeZXdb9r3XWzye/fIfJ7xTQh8mim5aT1LkE6Ncvwc0LHX3NVCtUIQrQIxsTUzrzfQg1cR965Oo6skqdej+uMwk/3ywnpsSCQ9rqYkwiMVZOc2h1MkVpCZwQnLkRw/ZbcM+q+qsyX7uTEadiNOdHOozt0050c8FXeG67bUWgomECyGniN5KyMKGwp51cb86cnhDGsvDxOKFZ37nR1jLOqsFBpjLiSy8NIWB23SVA05FSToEKAugxyrQCdu1yZJSgUFb9mct1kyIMz5+SgYza7VmhDzPepW642tc6D/ic9DrN3xwLbORjfSjywfYMLny34VcXvEzdsZkwZYEZ2Dfsr+TwNm73NrNbhakTiQUA2Fjj1EOFW1jHsZcehXXmFMCEL3ecL/QSWcHUfGeD4kFpMSLk4LUP9cdusHda7OsQcu93QyDeIq6X4MTLb9br/wvc6sLGHK1u++FzGBZkyrrBEKNVI2pBTGMupBivVpC7kMmZq0xEGPPfKr+jCB5TLZCgkFU/zutfkmUjzWV0Km3tuc6qb7EpTD70xGBHgzwsWguCqvQKOrg1Iy7EdcyccLa12x1b3B6JYPVSGsDZLSfPaNBSsnBFWvlxVrJxDsxJiEgzRbJY/5O6oXgAAAa1BnlFFFSwr/wiTFZdvSzZOuj5KBbFtlI/QAlnN8w1bg//7I7QADidLzfFLbpuQIC7cCnyx/Ll1Aa9g7AingzuClBO2U0ub/cqG5hREXye2RmXqmL4tVUDZw03r9xu7vXdjaNJLrYTezZaqc95/ll9qUspXjH6DQ01T3D0iVpfg37kCWA/zsRy3gjaRtzaO57c3ZQvlj7amGV8PfcVH+vnSA5uUNrhr4WGzTOpdNl08AS6aHpZ6dw0oQi5rHRcltQZu1QWEXGMWTHDHj6s/46zsFts9VUsc44zLupO5S0aJnZtCkY7OFT8VGZ5YHi9o3QlWi41fhU5ixojCkAktYuN0CWicvNad+8ZdpU/S6XalTLqHb69ovV35FidUKszJnBd+QzMJnQCbsnvdoRFbR4DeC8PTCAoQSqDTW6uRGakZoiXyoX0+AMuXpwMPKIcRFWodRQZ8UdqLcOeaVF8HfN2HFn5VIVsaCZSU0QNK7vt/A/6HvNqdS4X1zpJvOrvY+4IZ7VgaImnSRYEyYr8SmydRmKCGxsLAbjWOpSBHiNDB2THXC9V4kCbw/nmp3zAAAAGQAZ5wdEJ/CHcRBABaqaoH5esHxV947fvW1We1pS+knkYe3x0I0C/cg9d9rJFXj4lv6++dlly95PVdqzhQv4L83Ru7P9itP+MbfOSjZJItlRZHAoaO6rjZx6umIIpR6eeyQHZ9PW9R9BswmN08BMHn2Ir0Y7u+gDcvIavYM31bplpqZYTmv0NfCKlhsEwcmhzztxDJdsCcY3Wn6dbkTpO3B9qNJqqax8RoLcIenHr/605Bo/VRw8OXkf0XpUMeCvcQN8/eUtRb9R1l4Qkbp9yTSm/RhcFenIIZ8QXOntL7dCZH9NfW5xkIywSSABqlxGKXfEOsGnlHd7C9qmEaZRSjHyhIRS7/iGbLLktZ3H+JxhYiH6jb+iCJ9WqH5RsIFm/c6njTp+Leo0tnX+REyVU71zoDnZSea6svwLdZdDcI8WqD7HLJYMxWr5X0Pn4gxlqb0t/vEq3dOKj/fABncjmqHOaR+r50XvJgrfTgvpLCLakF1MBQ4U6XVzFWa3PcEXj3NU5kXFwrEzofzYGwvPGB0wAAAXoBnnJqQn8KKWPzdzWeCTVkwGyCQAJZkq6HJk0aGT41BkAWzYx90WL44kT9jZx6umIIpSnaW3gNcedtXBPfxr79xdYdMUdIcXOYSZEhL7zxG34VjBG3CnyqjAG4SJ03r8Rba5DC43XbrRMUtoh7K7AX0JJZJLromZXugaOHrN/RDaIh2hlKhIHPDwwJ4fbhc7o+IWMH8o0/LQSB4nsVhBqtumhRxAbHLetS8XWPYIXGY52dH3fX2RSo7+jH1/x094HuFB9VkIwv95CdwCrkuwmYxmPL6NfH4GNoprrAXbEgEc6rzg2Qjh+gPV62VTgKByk36u3SPbMfar/STigBZA2SGXDSFCxX1luGTLYhfUPQd5CqC/LwhW6wCNFbkaEAkjVoiIENNHxB6Zgu/zMAXIrVhkNTRKrzs/JTxvK9/m6g13y88L89p+FzoQ3WLiL+vStXvtmkUupDfL2nWDd4ipzmoQGDHuXzl4Bd195txiowSVRLplMJMebFR4AAAALMQZp3SahBbJlMCG///qeFmCphhLc7Mi8AfVWa/+qyAC2O1AMCJoftc2rA7ZqeP81PhVp2WgN6Qf0itxHD8CPOZnVnCcF0+V+vWF/yvQRNPd6Jvzbkyq/Iw6lY4+cVdoas3+OlFB+yBglAqA+1zx9A1awotlzjJKWQ8PLwPqeiibiZoFCrlP9DnphBM+LKueyw/pMzavkmyeFQlXEHO/fIX5Lcsw5v4+Xs06nlvOD/wRe0ZaR0rMfK4MBiW/lU06x8lgW6t4eh5vlT/H/kI268BNWlRQ/oy9Uk2g9pJ96knKd94xSTmQedERQE/QmQEiJFNJtSpcOupJGP3fXOF6kh6dvsQCpiT7NnoE9DqXZ6DhzXOVbDVu448RdeH+ydsXur6ecvcE5OtdJDMI3r2RtposuPvlz/t4/0u5HeOlpI99x3ouf6KDDBkPGKIW2a6FNraVUXaujjb6MuMjKYinUO8juU6BkCO1fYAX9JBnMW7b/graz4h/9atoeRtyxCPN3/j+tAIB338XkXx/aETYrN8yx/uvBbtS3Ktk+JNz9rk12Yj3BYT5U/uAICumztvsqbeQ0qElOEMPCoTqGL1Ig2pIA/ql4x0DNPVTFEGnvRsyyp1c2888fbhViamFLqcm588bTFWhCVDCHBfpmlo1bKmBfbHlYkZEa7A3SwPNmdYsSxhw2bRpqlesj6thlXYjLCGKhvOUnuG7U0p2KdIEqmB5cV+WuvTlOPKrqK1sUDKZCeYuT5KD3eBDKuz846wRHM9NtkYnNeAoB5txzr/ftQ7pQDb2WKjGbbtNiMZs9xaofJftikx/uSwRrNtqsdgIUc50ZH82s2J1mp8RLFkcQuaLoPsWyiUNKoEuAUIN+Cc9b5Z/ZLF63uplGfDWDD+g+iYYX9r3gYr26w85rThzhGtKV9I0i5Ymu4UkJQhqQxnpRrrLFKd3YE5YrYEsAAAAEyQZ6VRRUsK/8HE38KiVzPWmyEANyCNQqil3DdLF/xRLkbEVEegZrOIINRngmYWbDruYkPLuJHTN1izKlXtwZMzXthXFf8v7FF6uBBgfLAjR0rj/kuLSYJkP8jMxlc7Ihhsw/K2R8S0HHgamgwEH/HbSz3DFAkxuNV1a0Z25nQffNBfswMxzkzvVKvTPBxyVQOAvDG5ExbU2zHLjP9UeWjAtso4MOzZfNTj/0wnTQE6qzrFbEN4caqdRI0GpQbvSoXPT0YDx3A294AZLg0LnTiLm8JKKtjzkOvH2fptp/yjivHNfigEJASBpPP/WdehIPNPDETXkpKGas8V/Za+zjb8IdrC1fDXvzRVJi/37YYZa6E+gfDsCKM3FYVoN0qtW1Hi8MHlGwEgMbSFeitqp1gRzPRAAABHAGetHRCfwh8iiIVnkOcGTATTKb1fzjQKl+zT/+lL6ACCotQETPmBZiKa2pgE2X83qTP8K2o88yCZvtkU5r8I++oPY7/eGNQcXZx5aV8iE/AsRXVe4cB8JqABlgi/lFtShxx/ua0lRsJYh7NZDR9CtCmR1lUur7IDg1AHpBULGbq3UVY4bxvb7I43qtZpds3/EZTasrEhBb/PFMBFWX0SrmvRAUd/uRStJNGV7bcXtURiD3//Dfbe2fFtVlU9UFFR7AKrQK0UmMkKIBKHQwoFiuUUxWCmoXkERd6mY7EIWjxOPVn2cgYnmI80xYqyXTpygts1/YsPlU0IQMx0Af/WEEFCgHzqF9VvccLSevyc27b2FGfHyI3wg7WMBXIAAABFwGetmpCfwhpubwAslNUD8vWD4q+8dv3rarPa1tAC7t+8xy7kIbrKxO2yCbBTaB9/eZstDc4thwR3z4fCLLID2hu5gkdyhhxr+BPRIHmL5RKwmd4zfoQaSODF3tb6L364l9ZqXkJArqJjv589R3XjQDqDm4L9pHYeABydyiezHgKpBzLGzy8V2Kcn/bNIbHYAqsQXZkmJZYHBgcEJgsZe12XQER3X7qt4U9mU+Ow/rdmIeZ3XtDWcGzf40ynpOMh/tOK4U3qNLEexlluZa6IVBJQVmdwr/U4OyeTLtEdwJCAexLvp7lbbdcC9kGn3mY0EdrMHb00PIXFOPPK2LohutFCAcZxI5GkTvnGeP5qf0s8wTVW2qSBaQAAAb9BmrtJqEFsmUwIb//+p4Ql68jcigBZXCTVthzZADbAT0d906LscB2ALq+WonYr7Q213/0Wp6biAJd3OD+CyRMhT4Fahca+d3akXuvOTrvwsvK8p4t0N+VLeehyEFpBpzTBr4Vj2XaJsztUvkx7/5Cc6VAaeP6NktHWkJzi3Yuj+wn5zjdEzioFC4RnmW8DTy7JrZoQTnPNfJBuavQFmCj5oZaWx/Yj4NTanqc9S1AKRlnUk9mJDooDwFb3YmCmd5ogxh1+7cdV9B/aEOgmKdNrTbcE1tLGrCyAkbg50lPE4PpDxbIsp2XbDnd5kEGXkddY6QGtDE4EH5j6uwJ1eOGCovxBFxc9ZOxuABZsFXVvxNkGTIgGoidlbHRBSAGlETk8MHqO8GyhzKDiuK1h9QOX9uaLzHjrq+2exR5S8BT8meBfBMz1jDWKFLqy1F9VbXZQTz0Lq54eVUPhT11Soso2x5nJ/a0dvaYDnnxvm/nsZLnEBf+fuH+jMjDePgZLzkqRemTKVHnVeaX86u3GGf66aOyIdtiOn4+sgLK5/JqlP4oxsoFxmb9xQ8UGxdUrxuTI/zt288iv0e2w3NBGzncAAAC/QZ7ZRRUsK/8HHN6mPNiAFqk5Ou+IfbO4AXW8UhdcBKpJgzDkGakIurZlrJnZ1OxEjses//41YzN4O/8Y/JWJNUgwuWfV8WH5JGB6C4JGovXSksRjdcwEy+BMnsF0yZ68oAh76Epy3M8t1/zzHOX+U/Fvtj0Wf2ofMYggPTAJrdGDlTf7IWQntodGWiG5WtbW7iQxDKayl8IqDinUdPaUqnFFjZvMjsf/BXGQ9hx7QH+86MjWhZmaPEcAc8N25x4AAACUAZ74dEJ/CG2aTgUoMDMEsf+9G6Z0xkwqMc5cAHe/8eqPEyL3NVgEY6AGmAK4TIaGHGYsyrAeLKACjV1h7Usfyi7Pft62Zc8mLIiBAlgBkH+uEq5hNDTRPHnpVRzDWC6lxcxHkKgUm9hZfVMMd/vnhZ58S5L9CopEhaufYc+UAaKm/2m4IJdY87OCdYLszelN5teLgQAAAPsBnvpqQn8Ieg50m3uL3xfEAMwx15B6+IuW/TrLJQdO6W4i7pk56M6eq7pIxkvjQURcLIbjjzUTk/zRRc1wVt1AOY1l85abl/Ri0C+gSUcHT7Netk07c5btqaFhAijQrDY+ru/+iI95gzcStCQrYi3bW4/FeEyLAvMgRi6dBj9+JWAPOHCSsMJeEqcpbjcwiAlwDvPKda90m7riFi6ijIr4f1hFwfa6La8uo+lm6AZAIbMi5+z/SeHYisJ9CMOJQ4vXJLjPk+8l2qFQqgKuX+JZzKKpX3i9tJ4pa0exZDJVGIollO5yTvxIjtKAeL/C41IGE0plyjZ+/7K2jAAAAXNBmv5JqEFsmUwIb//+p4WAUKMz8lwArHEyr+jhs3tMjah/H+vPShrsEwSNjWn3LNF6KR+U6X+7+ongut+Au+hiZYaEPqtYQoQOCOSBZA3igWJUO8FJxNdj3WCz/eVWTu3JZU+kIthEkK8J1aTM6Kw9FDeZBigPv+Fd8FW0wKk95LmV/itcgny2lwWGUBPBhLapZ6ZoF7TQjbgD7nC+FNMvv6MGEwkyiLQxWydNNUsWYOlxIMZ2cw85Zs/Mcf4FtrG9DyHB8PgiGIv0T29KuPZUmqhb7dSjw4if3k+mNpepBvIB0isU6Hiau42w3nrxX+vkmwRF5EH3uTd+l8RExYf0gDFW4v7PPy9MFAlMPX7Uo+e7kAIhlMxHazVpuwKIL8wksmtA8CZm7dlUdpfXbjyWYnAcLFCmJrNU8e2Xyg87a4k/vDnwcxi96TNeOFxqPBwoAENNpkGfs/fPnLYUGUOwapYj0yvUONXwibyYEYbYu/86nQAAANBBnxxFFSwr/waq+A0AFqvlZ70aViOmzaTKg8eCpnQdTSXu704QdYZqLJDRVyjJOeHRYI6BA+nrRWBpjtFcT7a85h86iXzs+aSXvSJUgA0FAKtnh+NzCrf0SnAN+YIgEKVLqveHf2buzBAluBKi6uc+XCTg4rGrDf/3+fCrsPbi0epZR/eciW5KnDvmVgPuNGlO7m7PtD6k9FGrCN0aL301H7XoKJo5jSS8SwQ7+xINv4RpTtW5YTI/OE2lGN+1mLmLnSC/RkB6NsVul6FYJlO1AAABAQGfPWpCfwh/RezYCd411CzxADMMdeQeviLlv06yyUHTuluIu6ZOejOnqu6SMZL40FEXCyG4481E5P80UXNcFbdQDjPZfOWm5f0YtAvoElHB0+zXrZNO3OW7amhYQIo0Kw2Pq7v/oiPeYM3ErQkK2It21uPxXhMiwLzIEYunQY/fiVgDeN8qjWnpVmxYDqIXgLCuNz/OAl79D8JIbBKj7FDbiGKg46FF1d04NKugxpYdrj1A3qgAdvil2Qf/11HifxpYmZUXlEAHt70sEFGYK5dFM5aL6oMFKHBstn0WCHPXg+3Glsundxtrc1NDvqgtxgg02f/AoKeDn3PrNji0/PBQAAABWkGbIkmoQWyZTAhn//6eFFriYnO6QA0kxTBQS8jWydrM5erZxZtAQk1UZhSv1olPV6fnh23xx8rme9C9uvDowPLqyLpjpOLkyh6amGvHG+WPGF4ZNSNbysdmmEuU+19Khur+3eCXkHRhczfPTV3LRSoJjwhV3xasTg4ilR8da7IVJYH/7pn18Ai9kEcenZADEzpYwN0w7O8NHAgBAEM094onWTjv7Ye7NY0vuM+YVQTgHNyPQvBWPFSiT2Ea3PZEsMw+VyuQ94rkzFyAgubK6Rf+EsFauCem/vmGnvKVrlPTTGYLcytZHkyhdX0/V3++WsH//XiOlb9+dLivBVCwyHA73mUe5mDAHevm5WnM4IhoqHdVRiPZq2lTxMFLBkquACsHBl7iXQ/pcPKvVPBVZ/YRkJNZNqqJPHIH47gw3o6I0mfNQvIKkleRJwqwSyHNturFL9ZHkBdzXTgAAAB9QZ9ARRUsK/8HGlaOK8pvWD9Ka91rQoANRHfm9FFhEHQXMX62u27+qWRMKQKHp/zbyuAfX5fXVn/J4Z6rk5f5XNO7meN31gqtoino2I4ilpX9HtM2z92KUZ+E9kTkcIbzOt08QTkDrWuXPPifmiMbdpGDIkvZ/FA6yk/Vg4EAAAEHAZ9/dEJ/BIqcghR7ZhKIlN8I6ioQhZjsUAA4quAraSNJdrHMLVwDC0TXiUYuoSlF/si+9aZXhfaYaVypM+Il5PI6BVQljfl9ke8oKOGhlDJLMw/2zPBj2jVpuF4dnD9z+g/kseca9lY6G/Tlov6EdfOBRQILyKiGABgQ6qGbgk83w1a9djb31Rtnx0vGYsMkm/Rba9Jkr8e8eG/w/IoRX8PmjVXgneBI97r49gV855686f17jSqXlwts6nqOO9PaqNxZd55feV2onSXS1bYPrP7lR+sSplHMHiTsoQ2Rr4ANVzSBnfC+b5ZqmVSw5/NTqXkUHWbzqOco0SAPZYHndHricKwe850AAAE5AZ9hakJ/ABxXWql0AMwx15B6+IuW/TrLJQdO6W4i7pk56M6eq7pIxkvjQURcLIbjjzUTk/zRRc1wVt1AQGg0zlpuX9GLQL6BJRwdPs162TTtzlu2poWECKNCsNj6u7/6Ij3mDNxK0JCtiLdtbj8V4TIsC8yBGLp0GP34lYBMJrt6FISuTVKk8XiZcq1Jzun+cLTHp90hAPESU13l9fNcSLJFaGiYfSNwkZR+naeRXtfpDSMSvBODkqWdK5oPYADvMqjnPKc2wvg+p2DQ8pFpDw6WA66wKyTDzVdro/O0f9y9rJzc+tsEnRUjhALNTTYZ8n2lTvR3aT4HajT6PQuOQNZq0We286MoQNmEqsg/8rrYCbQXulamdPA2rhMtjTFMK58I28vyrC8wvi9H6e7lIPMOvsNQ92sqTwAAAX5Bm2NJqEFsmUwIZ//+nhR89ezgBZOMI5Rd4UoR+pS5jnQ8orRp/47oggE3xtqRGoY2xZz5mDapAqTMKzstbjETQmIVJXZE0RMi+/5Ez1Ij5m3Yeto/wkBOH3cnMFRYNqed66zeUfG6t5qT7lWU+F3b4UyGtxhrOzRWXU66EX3RjW5kpBgNilIQ8Z9spciLfagzz9dcmp+ay8oKKXueRjLys8DQkOTfjGIjWVDfhthCq/pqf9FB/RIm8UzMBBj6ooEjIDmoe8v7RpIijUalm0y2W4YdoVOq9kRQdSxIu0gzUj6PdfQ8UFYKcM9rdlH1pMGbmgX+iVA0syDIpTnuOaLjCF8YLMPEpdn7iuwheDuLqtKoQ6HElNhZJgV3qulaA4pFmnTlohIiZuz1hCwC9rmioVcFuYG+4XD+Ta22ND89Xa23Y24fViicUL39zkaLCE+HyA48+jwrYYgCyAVwk/z/y5v40QGLV5dk/nzZNMBi8ika7ApE3ljaKC4h0ydgAAABakGbhEnhClJlMCG//qeFgQzNOfNcoHCGOZ/Ee4AixaivetsZVmvDJzSeoXrOXVr/yyMbhzp8tyfBTVUFCA0h5FDwySYBha3QGisE5Rbh977eGnu1NIOXOh1qxx9kG32w6QZLuWWH4D/U7qKkZxFO8DwpWv4PvHNA5dN2ymB+WBYaOANvocMsXa0VEr9qh85Dzl207B1ZaJOPnu/GCDBsYb+rFpB4zVvFmKUvHTg6m34qXU2H+EeMZ+893iwJwGnr5AdCt1Mp/1x3mUPkNkcxiw2dNSyxOHLSFIvj/sw86nhUmAoGsJKOxH//40jxjCz2RO8OjiZh0sFIKUSOicEfWIbyrxVrOjssqohmdxuzcP1HUcROONLcTEoZ6ttBrCR+Rc8y0QJyAHBFOnjSisEUjQaGOKVLvq86GDgoD4WqGa0pUvM8drjtCgwsZVHqkyEU7mo49Hfr+sTYj99eRf7kIT02JWcmbUPDCjb3AAAAwUGbqEnhDomUwIZ//p4UXbg5YYpB4eYACHfUtip676QIomMNHqO64ykb17wkryvvDB8kFxIf7rx3kCPZUzYcIEk/6bzjFb7aRPwINwQ4iwnBq9MpRYVbUoiEdWiki2nAFfXK/+gsCDoh9RYap77l5UNVRnsZXRPp+0QFdYooN333q/dcaqICVsykUP3OEc8Az8X/7GrDoWPIp7QrblOGrB6APO1P2/8K5Lk5L4HtodtsQemR7SWHnrcC4B770U2dOsEAAACQQZ/GRRE8K/8HGlacfNiAIRmbU0OC8ZkFVL6m+2KMoye5+Ig0mqLj1LZ6VhxTpnqO4F2xvWUAR6Og6U1XW3gPxdSOLu+zu2sPPfJt//jwblKXxGm+SBzkU41h18R8i4/vZARkkQdzHk/C1ZPwjEv/d5nC+BFhU77m3EbhVD5n6uC6WRvSaetCkHdi71k40mTnAAAApQGf5XRCfwSGMoSAPvPVsAM+D1QVgh2f8b91jqaWQ79EAXeysn18eIJT0oORpv2CG+hoW5BHMYBqs/JT5tAvtBNBCouO6wvr24UaWb+q9GfUq8s3cUeCfQdKF3YpAJKLtOdYVOOp41o7rcz8JPdmLRqf90iIupia/rej5FTy5OfCb8DeXHksGgeMTNEZRiZwY1nrtRyuCv+ofxG/tgF4zCw40MBVgQAAAKABn+dqQn8EicAhDpxQr1qUAIfEzBOgn4mwAMKnaqqVFzlRze4IHUozCLJJVGP97vM7Lj2HGV5cimTV5ufp1wlsLSGIVeEMcdLNIEE/Xigb6wJa1h0D7xBCByAdsAB9CSpQF/x0krryEeG2FnjL9cjJp/afzwShdOIBvlgsX8m+WihETfEoHqjwPS50yxNlUvJN+IlUmfj6p8b74oSNuyT4AAAAj0Gb6UmoQWiZTAhv//6nhYwNjkAEPVI+jXCmU0yyjeQ9oCTDe12CnXHtYFW9/Wkji4SkQUiJKUS35KsBb/IW7c371RKKH3m22HUrOBjpelyloGTv3SL+/47i1xZv5PyGMJjzisOy9odcLnWKwd/wU35zDoZYjyOfp/D6kWMVrSBMNZpSjfAceyxNqAlDvuaYAAAA7kGaDUnhClJlMCG//qeEJgfEB+eAFhBiIL3D0fOl//Vo+k+F2/hcAFCWRg7wPaL3BDDC4O+vFZa1MxYZF0TrxajxIHfxOTVZ78sMiqdv90kUQ67GbzjzQpTBOSNGnWXyckcJonLKvNkHBdRX8bM+GK/jPpuXzvMHFwEH72G8+GK8JenNHsUCigDlraoKrunlrXYkANGT3KRUDpblOrng0FVxPUZ7ftO8D2Qfz52qki/LeyfkwyrV8V8S3QPCA2WO8BXWaomcHUrcRCt7X1RGbquIy/u7+F2WRxck1g9s+53f5dH8DfTVUsf0hLnZR8EAAABfQZ4rRTRMK/8HHN6Zrj9qP7sADaui796ynlZLOS09tZ5f4Afr/qOiJuOVQluEjRlsMJM4ZFnIpQUZLUmosY0kR6UlmI9T+S1z8AwLNOIdmr9izLTStS2XmY3iqrmtCdIAAABOAZ5KdEJ/CG2aIpBRps5cggAQEUmgq/j3uK7LxIBIG64/A+V/QTXXWtFNO+G2xXKkiVbHTLtAzgDQ2nNR1fM8RRxCVDv1etKLgGGWeEqAAAAARwGeTGpCfwh6DnSbe4xzsvI4pGfeK6UAA1affczjJ6kAf1hE4UNilP/UWvtcUbBoU44xDAG4TRnz9n+f/2PjRvX1wLaStV5dAAAAj0GaUEmoQWiZTAhn//6eFFridINvZgmxABhDoHyXuxgNo1UACuPqJEsi925j88mhjgRNT4k4iAg4thicz1WAapzOvBC7CV4ZaZ+4QUy3qXfxP/259MXR28wDTqxO+w1bnkeHwSZ3a3QNVh/5PgExW3+kimjQTnpKvsCmnq65NvhPc4a1BiuirXOB5+8eQiyRAAAAaEGebkURLCv/BxgB0AAVxaCBXKewgpLdMuXBGVs9ucU0W9PYhlnr5le6fpJSkcsg9fVzlONSL29v9X187IIt7ye0lgoTwTqn88/jNhP9SjIz73s1wGV+ag+SX/NZZvtbD+bf2thSygybAAAAqAGej2pCfwh/RlaXWbxSvUSZtIeZzwAOMXNrXHfo4nMQADEZrcY9NGu+MikpgqDVtZ0zOSu++LCKhi0kQE18df0vBOpid5DBkAFfawXUEAZaaO8VrxvuwhsrbG2wWZK8ulVDHB+uXSZidCrFs1vwlPjABn1eLCi6AtjkL5Eyzir0wGjzBqqgOXVCtcPkwg73V1lfFuy7Clm87GC+CBSfhqcid/o2El/HoAAAAL9BmpFJqEFsmUwIb//+p4QEkpjaySk+3AEWLUV71tjKs14ZOaT1C9Zy6tf+WRjcOdPluT4KaqgoQGmDAgQ+UqxUhd98e5zHACoSS4Bp9+9Xe+ZOdPcdYCcuf3zSHH2QbfbDpBkuPn+WigiD05jvmRFXm78KV/cK1q909LNejWQ0bAEDM6PvjwIhIf3jeggmfSmCmPs0fW6mOdbGEtTXRzZvhP9H2C4vjULFdLFVFhqF3uT+e2ytcNA9JRSQGaRa4gAAAM9BmrVJ4QpSZTAhv/6nhYXQcgAh6pH0a4UymmWUbyHtASYb2uwU649rAq3v60kcXCUqRAzVWvdpn4681Yc54Jp4T6kGkpm0PCT7ggeGphTL/v/oZn4Uy9g3LEfNYCZICFOaNv0CHUi6VHdF+k9ftXWsNryEr43U4r0lnl3oCC9037IFQeJjtqpkVuHLhl7eRliyD/Hrm3uRuspdFw61/adASNqLLEZfzYh11Buf+prCXVnhZOqRTWe7uCMEsc+fPEZLktEc/RXkcvy8D2/PlZEAAAB1QZ7TRTRMK/8HE3yJjenAC1u7mf1BFmrn4yXXr46aHd5jWEsTG81ptmALBYu6MvZjAonyQFXtxHV0MerBHupNgTnNqFaUh/CsZrHvTvJHnHVM5848J2+djpxuf5Gg0YGTZlk9IBFvX73zCX67VV8D4QzISubAAAAAJQGe8nRCfwh8iiHu1izk5IMqgAZ72xBMkadc59OrudgKt0C1TRcAAABeAZ70akJ/CGm+bgBZKaoH5esH4mDjg339up1bjlf7MYHtELKnWGrNhes8zFWozUYJe+OT8KyxvooCy1KsczfUxZlQrrYOJQ9ORXqW0y/ko6EeCnAHOTkcmJujX671gQAAALpBmvlJqEFomUwIZ//+nhB5J2lgBqBtbbrx7ZDcNg41BaWv67XlJVl9ya5S+A0Ry8AXrx4dHVIQnHZOMVaIKEo78rY8xC3q8x8vXFJXf4zN8bF628Yap7SRbobI2dfoYrXV1fMABDdJ7KBe6oCJuRjT7xMLt9QrUL8JDXUCdh9oYOacpZTFGER7qTifvZ/ebqXWVQ4c1odArzgi29UIrK9jQ8MBUOyzAu6xnExoIv4w/+Z5d/tZiDYtPYAAAAC+QZ8XRREsK/8HHN6n2aFgBo0WtFaoY/2qeWTeQINx7yXXAX9PfwBt5zinX009msoVmyQPOBZQuNJ650JRySnvT1DT7t0kJtPUSCdWuj1u1qzssFAw0cG+ueTRyuDTn0yxW3AKz7ds6nKQTvdqgsxsniINUMSh40piN1B5RR6n1QaX/9Sm8/XbfKpuBty5N00kxFB+fSs4g/91WABRt7/YjptkUlIr0bM+VxdruX9ZQbpCzx/Z/73L2k6Xn3oZgQAAAJ8BnzZ0Qn8IbZpOBwkTVz8EKYhXAFT1890bmvBAC/vLOWhubk03cedfk/9+7kwXaum8eavPtXwCbLa9UKeZpLmUes1xCD3N/Ph/4tGcORSehDJLBQ/HRX1NZ79kqVZ1A3IW+DlWuygsmiyMVawq2yBt0rS/5YWxqQX3TXSPBvHOIMEw39zPvwgy3aiCq/ly/kn9aKc4kqBzeoA3Zx1DkmMAAACuAZ84akJ/CHoOdJsVpPeJ7AAn2s04g8QcOhkx6jiaNR8tqU8DJ/QeiZQu77qLGkvqeRlGckfoqbutyyRjePOhlqcTUtbJRfzBYb1jpWmQIHVVIPsd2qKP9yPJTSd9Fje44AnRAdL/7VVhaIejc3xDTVZKaq3ArrQBqpZK/fZ34HF9BXZE7qkGaY0bFMgt3Y7JI3j1j86Zwhc+dUy3BN7uNaxcRFpW9jK04dwoxT10AAABOUGbO0moQWyZTBRMM//+nhAAMi5O1liBR/hi3RqrGYDhGAG0yqtv9cZTt48/sYK1xABloxtSLeSFh5/L4EhMbxBq509eOlg92DFrc8cgsOLqtwJoSZpIgkpMdk4qJbJxUEWRXxbbm089upEyyq+gZTfpi1N1bwe6PM+iH+Y0kWYrDwyJAm8TnorEmEx+OjYCYZjDGYUACpI87LdS2ME5EzBJRBF0D//M0BWjh90yXdOIzAOkWM6Xth/w9T7RT6LehSldT3iliSQb650Q9PjX0C7C2AAE2mcYqlMC+XW2hPbs7wHNTXCiMmsWyhtEpsDAqbFQdebwj+h0nETEnK9OQNElnEaksmKUSLNKTlia+ySTyjomFH+rf1Dw/h0kJ4qdA8dfcVhsajDOf11vh2CsIGq3/krl/pNvuS0AAAC0AZ9aakJ/CGm+bgBZKaoH5esH4mDjg339up1bb6dZlwpLoBMSxt1ona8wbTAtAlVVSoucqOb3BA3fM64Aq05icLQ05lbk3pRo4en4Zxk3v8x8ZmQTUdUD9QyRsuJ5eNg9lGrL+itrar6UjQwgc8SF6hIaIRToy3tZFAFkT7LtO406yGvmrJFsO86ky5zenfRp96ywwsDygJAEvEap2zB9/X01X6KFx1E67FSlkMQrKmwgek58AAAA10GbXEnhClJlMCG//qeFgQzRzvtIwF4ASUBqNdh3ajZ2AoHSt23O65mNUm2T/6D4fHKMSKDN3lRFmvS8XEUxnd/9ICl/XG02wFIXwQdqGpYpu4o/m/2mqxgzNOQ29fxf56VP+utmoORWIBMeu1EMKWKbEqCmrPH+SO21xhywWFUpyxbSI7AhjLVbPhNqH0Fs9FGwGDCcveR9pQHdjQTeS2UYX6UZNMRUdQIeIy+55U7RdSnW4qx5nEp02gstjXR2ugsxXC2Xh6Q8NjtMp3stkmexmhwdSctdAAAA70GbYEnhDomUwIZ//p4UWAQAABAOBeQ/wsYLBSNvRa1fBaoGYtFO7WyO9r8+m0bSrk0dtECnb8KuGQ/E5AkxAWTO2IPhMGYiamoDWCUbfDLdN24O6hyd2lnS1aG48UAaT0SOhoyaW4uHXFJVUWDCiRqMmhH6CvYK0P0QdDcRAEbziVEZ0N+QX7O3O8DvDntjx0TBXdV74GP0Bwjnj8vb36rIma72OyVv7yD/rk/P+YZkxCdnetxJisC5swRJe6fdWP4i9V7wNk9fbOoZXF3QvODKKK6pvnkRjhyXR/yQDkrT0vc1/iEEj811XqfDXi3rAAABP0GfnkURPCv/BxpWjjIsmZ65ajAABWk4FkHr6ucpxqRe3t/q+BiLu5TnozxLYJPBWGfz0s1C3Q4Jo2qqhjmJZuqlncJnHcyWo1HU3iTqKnQDqXYNSNtWYRPMAxHBJsQ4yWNCWNj6u+OP39veHtxK3YOtiLfuDBT1A27LmAFcIsKd6e5hQ8dKiLfhF30MQMcRbun3SKkUY2y4h5WsUo+t3Y/XUeMawTxLxp7c2qVxvBhUcJDm6zSph3Xnv/FBe1F5FDP6sMRdxFWuWTQzdOfz9rg86Js4IxzXK1sEvPE///YMicCB9NH5GJfopHCxwcYLxwaBZ9Y7NRwfplLhCv8zMcxceUOgC+YZbaHI/Ix+LZ0yw8LQdGvjnq/yOd93BixNslYbgI0eh5rKooCTnEJBXUaPiwGoB5ppUX/2beTIjYAAAAEWAZ+9dEJ/BIqcgeQNccyIlAAVnXz3Rua8EAL+8s5aG5uTTdxzEdY737uTBdq6bx5q8+1fAJstr1Qp5mkuZR6zXEIPc38+H/i0Zw5FJ6EMksFD8dFfWT1wgWZ6QBcrGv3aFC/2Gf/gm753NQKQhEVtlXlqLkpymbz0InrjH7wYy1iYxo5dpwv6wwwJbZ54uBD+frmY6VZwBmbZGjxWikvFuzWX3I+T0j7XWsBs6PJkBSbe0RR70nqzALExf45HNSLo3w44AWUEynMlu3VR1WgEA84gWSDZrV6F+bUzrORbvnF0RRRtxML81Ti2JcMSesOYAINXjRAsuMBfx43gAgRoPqAAHyHGl0fc/Q990SymG3dtLhp30MAAAAE7AZ+/akJ/ABwCdtsgPHOQAcYubWuO/RxOYgAGIzW4x6aNd8ZFJTBUGrazpmcld98WEVDFpIgJr47TO81saV/gx4G2bt8R8cIAy00d4rXjfdhDZW2NtgsyV5dKqGOD9cukzE6FWLZrfhKfGADPq8WFF0BbHIXyJlnFaHlM6WHEMYOXVCtcPkwg73V1lfFuy7QhYqVX0gABSfhqcid/o2FlR0lly+M+JxBJ/6sQRWUh/4+HNgAfTegZQsxHmqbDCCExZ2rpnT+96OGg5opW0XmU9Ak1VZXiHWkne6c34wiRTB9nJvCs459Xw8i/rhsc2W73QOBY2962lMq4N/51Ib/Eq0tyrKVelQEVuVhvaHfC62VCmzZOhTf3/MdnCV7H/xLILM79MlQTlLV4ShozJsvCIk213OfHqbewp1hHAAABdEGboUmoQWiZTAhv//6nhYwNjkACaG0Q+TYxjacwUtbMtLkrJmqlLnjo5iVNmWgoSZYq8WgRktaE/J6je9PUgx6o7sny//NMbfosrMjP+WJWEtOnKSJemx3/Omum0ld/BEih4PYqrvI2bmM4wCDCOTcC8ktAegmPfdpBioIGmDaGfheW/2TGHWn20DGeccZGdSsfxHLeFYny+sU/IGoAH3deZj6LEEv+ap4jEoWgVzHvO8rV0GzSnLIDzFaoEPxk/un968Kgwtg9oJIdpo/6A4LswstGNcnYFkylw2xHPnz+8hMALoOiwe/HCxjhSIzt1XUYNVbL4vd0E9odmnoktnTyEV8vd0MTa83fNR8s2gVdCCTAe08BUKuuAXilvWPsjVstoKZAF0ESqu4me8y8VXJchj0pGJiOVrXv4BDI6N4MALt5Cxhxb+iISjVAiP7QS8BSSgaT2zY66eIRDsUTrHZftAWqO5bk3ceUpL7qM6bygJi1YAAAARVBm8JJ4QpSZTAhv/6nhYEM0zEYH+4WeG8mf7kIhlaFteP2pVcjiwIol3VCwpR5Yb3s5vRy4Kcnl/GAGjo2H6p+z9PzO6Wtt/jSI/icwvd45smv88ka8uDYUib2pztl/XJAOTQuQHyflvvFciarxN8qOqWy2EqQUPBEA0tTpfkQ3AQyUH5eX1Nb2UxWftH/T4anuL6OrOQDUmgpFe674swSRmajmjS0FuBX945PSFuF3jpuDPbV07vKC00/x6dAUbxY6/KagMJ9aLXjS4urkYPHut6+yTWreL4/zG7C6rP/Uyn2xG8yHzRp4WNL5gAXxKZMTlNi/eQkESrvxRQf1mqeMw6tPGpsHbU/Cx/4SAxEHPOow2DBAAAHJ0Gb5knhDomUwIb//qeFiUswZEL9aAFPnpxt5c+l8fuW28JPNcejpo8tay0+EmSrXHPA5AdL4mIlXrDV9iC4SLBTPRw0X458pBxbz1fJWIp76HWJoSJUW4Tp/fmnAFv792qBoYrq0+SH+iddFUZgMYvrZREU58q8P5mRNJqiB/03X3wRlVhqChqrJBq6pODvFJHh0e6ezS6iaXfMv4Yyq6drxkRLxO4VYjXYED5Gke1liZkiG0LJIdkafErjgBL2KS7NyBTJ0N2IWe/9uK+ibV8QPMqNwMAARJVYlQ8sm9hczJChoNvYSKHgxvC8YUNvjqp3F4vnJL9ZxsGMiNLPSPMGxg3l1RZf1i7puBDhBDWOPIiGkYUCKeHulKcLXx5DE7ariGKlxwsU1wH1XBv34u6p85RozgoDx9ML3ywJMkMNbHqFLXaqv/ipEb4IXClFFT/a3m5PG37zv8oeA9MXxL31JImwcdnAwh9xgNstXFCCTvVOG4ydWwlGThMNh3We/3WyQGcgHzZVhTj889y2AS90s1FRn67WVO9MwMQh4lYS4nLO4VS/p1YAZFNX987yqy+mN4Xq71Tfc+JkwB5sQRLR24bubzT2NGZfyGjJ1lCd51Z68DHbfFTpRNVpU+sD5z2cRkmKwxdg8GN9q/0TIgvkGH0l9fySAC+AfGTM9Dvk4DcSfjhyGlJ7ZDYQ25HGltP0zKCRL1IL+druff1sf+GEf01env+DCmEH8rCxklFjVNYb9KlIr7GHNfdbwM2ZyEM4Sn1Tnh9XI+PiEAdZ28xdg7gCMX7yp0JbMbPObVxJuQIPmmv5VGSGDDEuhntXNde6HscfrFLuCpT1Ccy/zi4+/06rj/JcTtL9G4Ra8Djb+8iPH/XbogpyadF9SBcx05jU00oSaSA8rsABRpv6WeMgxFjsRymSBDrFoIfVRS28/o3NXT73oltDSZCA+t4wCTPu56RGr0K6dYoO/5sfgDVX3EJyAGEQsGom8u2WgPUZjiQ19Gi95vbOFic6sCbC/VRfNP3UXg7+DagjSeTLb7ZNG31LluIhGrwdRsswSaJro4LYN9fAEdX9xG3e5oNV/UpiP5i+4YRYkJXuhWeSE//IH2xWGhHuf13cDxM2EbziKWmGJt/4EBWl7m7PWp+HL904hsrLBCbogipHAiX+BONszutqW9x84UWfDlSV8+l27iQI0eSXlVlEM19/Z6hzBdHcbTwiZfc4hxBnf6r59Sm8VALEQ/6EF0WcPUb0vdDJzlHxW6UB6HQ1Ot6Jypy0mmRIyHxrNX48SsUt2SojrtolheAMLhr5dXifsLEi4sVrZQdsLsCuDiRe4xeFu2IY0j3sLXByX/INY1ue3FM3fxMK8RfH0D5FoIkyNqgFw3DB7QWE2EW745ItmsLd6Inak00edipZiu6wjCHbBl7NXVWSY9bhH1nFGvWot9LkPRqvHYQkCYJMicG7lDTpWQdTWkFz/5+EWDdhRPQ3EY/qX3pGZAWr3d5qGnXo/14MlvqqpBrxR9C/IlKLQ26zaM80L/sjt3sLObQQkiYauz70GPbUye4DshEJPwdnFwBuh7fV9q0m+aDT9OCz6hYukM+7id1F6+/GLgKZGuZhwuq/ZZ45KM/tA4B0ouhnCRmen4X75UJ8jBgaK4qyoShrDe38vBlKPhFab0TuqVnWR5ygmRKc5JGOwRG4IJ+/8Q/i2Vtt/69srw14YBI8kghdOOPAE4+Mlzpcg0DacgBJRxgiXUCqnSyET18v0d4MvbysSc8rcC4L4NqvCkSUnpoOILhsJQo+tErd9IMCC5BLYebsofio9OIwidByD1VV6dO4BV2opMrxUIFd4EnRqOx1p76RkeVv0YHlyinCEW94ZJ0Vu3bOlN2ZSjCZhJTu9Tqm+kcP4LTM07r2wOC9ciIYA8OybGV0DTKVSce2ogGMSE6m2a6wwLjxihRA/wSphtf8T6OFfbMzcZNlfuCfIelD4zapWCwBfQD4in20VqJJwPbJnKavZ9+J9cDQB+rmByb9+kwJtaXZo4smEM20p46xqFJ6E/p9hqug5+8oK9GUla2NVaJU0drSHz/mRIJk4NqlSoGXxM8AM3t7HdJMesy8Gw8wLdDJQyoBoUOqpR5ILFDnAhuetT0I+7vNATaqVI4tcc5/di+6NumipEeGMeuxv32ujxxaIL0hyZzG4Lky9UZ0gImCnDFRvV2NH7dURh2oB4jVTip9fDn7qxaxwINxpTOBN3p4cPUf4S7RoqSLkgcxmfA+woSff7WWwib4gDNhhPJOybP83JKC+nmTtdUjxDk+XgSIQo8tzjvASWv14d/qHITsqxCIOYgQeuwgl0N+j/2oWsViwCadhqNi3AQMBSQWbmurWgwsmTq1IUxMoYeYozOKBJbtKtuLcPbmwCMWTiTcWoWN2tHlaXs0om7vxEcqK/YsEyPqm0AAAAFuQZ4ERRE8K/8HGlZmzFGo/uwANq6LwFCy0sC96EtGVYHj2S2Md9G1g4HE/XE8P70vpeGkH/BC3JaGzLIOpnYy67lh2ZhDcrl1FyKGHXsMzgx8q0YFNG5NVshU0XJKHS7EOq/CrQwEacb8NhZnlPSJFcd2ctz2E2+ogRoPaKEyTG9yi6+lo85st4STO0tO0jTCjN0op7GbPxUs5eISYoLmypvbOCcmSLnzehGBWauwvn6RMK83BBiw+SDIMS6PlcY8rqnmvNBGehqQO8nfcF+a8TliqD8lrG856YjMiNNnO2Xu80VlgNLCQp3AqUO4r5N5eU0o2AMJLemB5CyK4316joAVj6T0YdrWl+2NbB049xE+hUE3wgCRHwSSc+Nu+6ptkay5hbssztKneDTnwOfGtcCUImwqLoc1H6M8LX3DHHCtEFm8odoeX9idbxRsvXe8JG3ZVqUCiTkjXZ/zmH/B7iJ2moYPkHer/jyAj/KBAAABJQGeI3RCfwSGOolyiYt7ThEoIbh/ZG3rGE6tEAB4xrBwXtzW40ruVA+duBavU71Zz5Z8Oj5BOwE5CrZPbTN2vAdR7If6kd/wImi1kYvNiZu6+LIJ6jRJjWA8LoFHak7bARGQW7Pg1+H59GNRJe6/dGIpcORfG2/Z4zx8fxfth9LlExa8BnoouaXUfa0nOd4j5m5hpaDCqcLjDnEoS7EdGENXY0vPzsRX3ot/O+1FclsN8mO2QfIaTTyOMbai4F0XROHEEYZt4aN5nC2Vmu8zEiYoiU42wQQ3V4EmpuLTcBfVzeptTq4xU65lpYRlZ4MxW6dc/ZEZK9Y0zGQ3vxIxHitwfmxR0ZkdoduCEpbcgdlyd5EMWRpLu/fdw9SzfHQ98pCVTUNjAAABLQGeJWpCfwSJwCusCBAFBsvkPO9Vjk+9x9y/Bkxf2FLUVTeixppTXjHoIPVs36/jyDGvcuGkyUOPrxvWumVxL2ZUpn12e6rdVEIwaw1P0haQgaXXer0jG2NruQCTzvbwnlwhv9yX7A2ebcqs9f8fBIlmVm1KQPLPZKNT53QfMzUc03WTP1lxz3THerLvvuy3N7FsaTwWDWIgcJkZrr6N0MnWBP5KVSrN0gLEeH80kYy5VBZwziLq4t6/y+e8y5NiinXB8u1RP8Wvi+mtEUFrJRXZjtgJo9Y78J+orXBYtwO9M9/gg3ZyHCVGFygJ3DUVKwvI7d3kllq+JVqYScQ06hagCdqKnzY8OkMncSLB+eYsCg3k1i/WoN0OBu2BCPkeIJoeE3weVD9GfVHGKWEAAAJcQZoqSahBaJlMCG///qeFgFCmRgiAJHTNf/G7exParUfD/O//C7qZJHvPLQz07Z3ja5OUWEGBXLFBsXXLGzIZ4/O2bPPmNvk88Et5Bc53GIsYzVuzeW1uB24YtBCyMR1G76g2crNiGDJkjonRjDtHClmA3w8f1y/Pa0sLMXvDrX1QDzYYmfnBZ62nsOWjiSJJ8Rwho5D44S7xf7B7qLQ3UfNpJdC0ot593JS5uSMWKipM9KQuq2cn40VKJ7x4Al2DFrcvL+nazog5uYXo9+96UG5atUNVFfBzs25qgwIumcLREdyrACjt/CWqZ9ySr7qKUurAqnq+KTMGCkcAbkENKhlZRRREjKqNSJ6JtH/Xhrt5zepmRW27kCof4oTk1TfbYkXraL7BZddKvkzWABj4iD2wXxQzy742tyVI/NnW71lrjYnOHD3w1LWNBhmk+Zxsy/ypfyJDZV9CTmtQCytv1Gh7Ctj3VOE8Zhnh3JwLdRAdQOWR/BwcsNhUXd7fiEyVKXL0mFn542NJAvVP++wvS3290ppZebyje2E8febx/9fHXtDSDLKLPkxrYf8Bp8w/WQHoDEoHegMQBQkj3Pe69bzcbBz3Z4Laua1KrFYhr8MKpCxB0q7D9LkDSDKujFv0R8kClwJtBSjJTMpcdEKNx+1eanq6aNTZSTyKDsA0IAWEk3aLbsdxv/7bfDOryd14vOxRXID5QXh0aIspYRPIuhwvTNcV4hgZXangTQRDGcWqmqacpni50kA2P/+dm+le4YzIDle+5UZ46OuKT+w/Dpb1esrNEasYXap1xwAAAKBBnkhFESwr/wcTfuhGwRVOo/iIuy0j5p3/RDaKEQAg/Pg3p3Oxrzi2xM7rTrhR/H75GM4F95CKQblQwPEXIZjKAiJujk9yMIf36mhQbHYYG+oluOx0uZfvPIo1fM1/q+o44z6dBg5oDE/w+0uD0ZIB0D0KZmDoiqBlMjzqx2hWfONdTYbn2/BuWNjazRkiiCroLQ9Lkf8gVKL0oTK6Wo6AAAAA8QGeZ3RCfwTKk9sDQ9LiU/iSNVEwAjLzRDYemEob0seJWjneykVC4qct2NTcbrLzkrpE/FQQPIua2rdx7TtQPF9KMUjaKVb26BHGrbkcILh8qaeGcLYx6JXkjHSxsjIcSPQloHX1csgY6eG08kwzLpwp598CTSRWpZ5GHObWMDJYJlN5clRNDU9s0rPQpfg1JID5j4gvShObfpJzhqfeDNhPpElrMqEjoRQsCOsPmu1RrZfLkWSgmN+VT1zjj7FesFp3ve3Z181j8PxpKFy7zH/mn8YAeHFA+y6s+kiMiu6GnNgp+/xQdmeYMddznZUDVbAAAABJAZ5pakJ/Amm4NFKI2Z5pD+3voqdBAfQ+6msAJWwa4gRwDcWMsZwX8L+JCbpxaYGspK7B9eMQAcSuV4hmHVjx5gs9gN89/tHAnQAAAUdBmm5JqEFsmUwIb//+p4Ql68jcigBZXCVV+jk0KOsejYg0LVL3cVa5+PxIKg8XRoZXKJJXJg4dZK0P5W6JOW8mr9d7S2BXoKgkWW8bRFUNwtLcKm4LW0EeYO8AyBUuOebwsFOGot3QMkzwTlYTCkPiEq57CTm9TYHs5J7LButsZfT6YQPF29Txvy3yg0Yv96KtSCZCDPwwnwsy2vXwR0lxIBg8ddHdMBAETEtPQyrvQelSDi/rC3TJM1tVyei1ZXefkS1G1k5R444rTCYj+/IGNWXxqMVF3dK7g7BbEWRRNG3zscrRA4M6ftxkPeBar/2jUIN/0U48J7u+toERosYlZwsxA1BMw00YdlX0xnxCOwIInEgDmssFSbmQsi3RMzD31D14faJDDjRrbo9jXree6cW5NH0TVtQFZwaPFvlxjtvrK0FkI0AAAADvQZ6MRRUsK/8HHN6mO6cALVSx2uABgco9Pv4ZBXfDwR9dN84y9OrJqg2g8LKKq0EN0GEli9g7Tb2A8OJk+lERzJocSu9WGCVsw4gpk8nKyfdkoxO0/aGbq7FZLv/aBh4XFusRq5YqkI8tqC7QBJJgWcB5TxJZGhOgogySUM6wyZ78rOmIccZF7b6g5CLsqCEwjoWuLFmr6tPIUaTNOuOQdNq32ldh3Kn03Be5j3O+TafYP4aCnloRq57SU6k6KqiU6p4tXjmZanxAv26trlC9v6Ow3+0fqxf3rLyB30TUvPtP6xENue8dHqS06GBRrXwAAADxAZ6rdEJ/BIYzmNlZ1Hc3SNSLEMbuoj4p1rb7ADjAyq6V3o5lZySICP/uRkYYJPFHw5AH923Zlvq/Q9jTpbplqurhHOyPw/2aji3nm22VqtZGbix5G8nAhoFqqdCF9Zd5XBZG14kWPYPDvN81FTJPVw7AaS8yqxtGV9Ryfe77sqK4fPoiIjYz0o1GBFzDh+Mmspv1K5WOP9rDKcl5oC6RdIqNpnY6a3IgNojcDYG8sFnR+gRG8GPp+lpehtc5FMGRRRvsbbzJdRTFYN/iiV3RiVgGHOsf8OS4DKcxbQg83X/AaMKrz1H98eRnWMvg9uisgQAAANYBnq1qQn8EhzYgNDgjuph0HiULDIRAtIsx0cAH4IY03AruebRwVe44a7yAY9wZlxZVegCkpA81gGFlDwpNFPE+Fk0I4qbyJDOu1uZ0jBChcPRydiP1oS852RNdofi1KPEhgLle17U7sd64nP0daX13Bd/K6xxvZrkkTULrKWDDNehy/t3Ji/EnnNbAHz+C1M/l9FozEMAmt1AMpStwlGFAhcW6CLV+ZYqWJzTlWUhLTDzUUfoTGZjdlZVpZtY0e0i2LqYa7A7qW9h1Ga5SRqDoYGY7M2QTAAACW0GaskmoQWyZTAhv//6nhYBQozPyXACstP1sVt0kENci0ZOJICvFwbQDQh8xzVTc9Yp7jO0FSJeujjULJ7O+CLkJBVH0hISWX5SC7mk+KvWgxbloZepaogNWxsWqHfw0Zcp7D9S35kfXFosVQrDZJnYDMMYjJqBZXQBSDSVj69O5peYv2uFGkkcq0c1b+LxQxg4zJFzwooiLGrOjR2sUA6nvyYPXyrdpn7QtuSb5tPBlhTjYLNmKQMI+Ckj3oqXuthU9o2m+Ud+qjixmVR+mryTHfUVwzGvZ1I6UuMCDQc1Is/rTvlGUzRAi1J5ueRqnuBTWEgMkbMhjs7Nm3nTCsElinCL63t0OXSkS3QJHXE+VElJ2t7uLxq0pfxUhOUDaGKS1ZL0QEC03rK5k2S3RkYnC4XFvjRwd/sw8n9xboU3Zza8ww6ip04++285PWB0CiwhcEc+yYxGwjPqiNxyxo71kL0dT4irXxHlRbx5Mf1gHtHz1AeYwxc1ur89Gv+0Q4tfg//9izc6k5q17bE+ZRIjibMyjqfvQBqZf0bMp6wGRgFHdDPtoDc1sRLJJoLbW7dud/UCc2/iRqqANSJoMbD+snsIKDF+2j85+ZYs5/Z8QmoV3Ov+e5tpNWD1MoB8gNl6kCc8BO2Zp4CYlYLNZOUXo+NoeeBiVajMyGZEVwXECMsoXsyYjmrFALNeNVphRr7NEtUvhT8cD0+g9J8PzI124IlnXVI/L3r5z/Ibtl5HbqY3PB8FLCxZuyqFwT0T9YKnlSuZRa9hSFDPZe9/eXiAlwBoLBTGmIPsjcQAAAVBBntBFFSwr/wcaVp9mhYAaNFrSuaITCjiNIJwv/J3o76ehYK56ltmvZlc1g9aSZ5Xq/7nqFtrjLsaKnPc2KfcE9U/nZfC53KkbOBTMZ5T0iRWmGzluexGrO1JCX7WXn22bSmqDc+A7MWyuk6XygGpeiDJCOx+AosEXb7RYvp1tUIsPeIhDse3rQasTfzlHOZ5Hq+5xp8rjCh014KReZno13SZQvospj6XZxNXi/7BQcT7BI5HBqnZlYoP3Cyc58Ih0uYh1UJ/M6PWUrx/hkTr0Ej795TmcfgThfNY9YXQQkM9BuSs9aEUpo384l3nxPQiz4u1PNBzU9Y/j3118rnL8dVFerdMh5sYcy86GmOL85405M0u6vwNmu4CNojyWlyyIkpBXC000DAE1Pee4KyTYl74UOTRJ9SfnXolye4mMk0HtvWWF05Ee8iZ5zm/sPIAAAAEaAZ7vdEJ/BIqeXjfV8dzZrNmB4/cgo8ADg6GW7L9z4sD0oI4Y9wuGyaXpIyMqgQMR7JWvGwovUZgT+5L4PQS9wc/x8peTrQmIPRz9YNW91zawSDdvCUTa7rdlUDRrPATqSok4BmjPunSUBHBfajZTu832xGvoyJ4QjNTfWvmjqUW+WqndwGmF3Sg7MBQCvkIQzt7NdHMdfgZ9gGHMtLnqW99nnmxBxUXFjpNSHhyPsmBbY8OT1Htcm2gmBGFZVByD7tYJXKx/lsw0bl0/5m2jEsS/QJgNd+G3+izI6luskovbyz0q06Rog8AKNOgIiaBbYl417cunP2bgX9jBJ+gQdHsQnxdb1BknA4Z3VvFAeC7NbReJ400xpFqAAAABKwGe8WpCfwSJwQ8b9GpblyIgCg2XyHneqxyfe4+5fgyW8TWvJDrXosaaU14x6CD1bN+v48gxr3LhpMlDj68b1rplcS9mVKZ9dnuq3VRCMGsNT9IWkI4JinrBMbrBtE/fJKd5dYcSfg+H5mNLjzQnqfw5oW+mbsquC5PQaWswe/cHzM2h8Psk4LrObj3PClQuQXY4NWlBv1hHrLOtb0FPSN4erm5VOAI2uo1LSmYGTIf4Gxp3eMgF45J6mJFYZVwML7TAElQTr9zxt/DkmzIWEEUCteL+N5k4VABD7F5fQk5xcstz4zcKkEs+pEL8kzFBuQ25+4bwW5JnsOv5SDUORYVuR8VqulcZQcEHP9PpY9UCIqEtrEm2iyHPJQy6HRpGHFUPvdWkNiBSrnlhAAABvUGa9kmoQWyZTAhv//6nhYBQo532kYC8AJKA1GuwentDt7JDIT5izCl1iPRUMlhfO0tZ/XFFNFI/qIrCHuXESle5OqFuseTT4qkDIopZU9tO2l2mhcD2A13qe+O9Y1hLe2TAwJplKdWWHXb9VOQhIGDg769LuO1AEDGTrtKppFizsfD7qdegMdGFssHS18AHMzXgni8BEG/GT+KoGjPXXeHpzGL6vkd16p/D/jf7DeQ5evfoG1jWqQenIOEINpCUxWNER4v1db3x/iMuqLVae/UAxnBVTGH9yyT73k147p8zM2KjT6/n/dhG7xZMkIwHTXPF2BgNUt+lX9b92QRpiShguGCAlHhDggYmx6t5V2UiE/wSvqFPXvjD2PfKEGOZP/8tzvA3VvOL+ehT0xj1zy/CG9DPYp838MxOnhO/xuvsMTRqwVTlW9l0pFgzM7+89L5C+EFfp4Lt8fMJtPfeLS5ugLA4oHPW5uwOqKNdHQoVLpgoaevBaC0uBueo9MNDXi/nVYDloDzbZMxBRGjUsY6Dyo6SXsEBQ7zDDOpFFV6//7aoSF/0lozcsD9SsK2XKY3PZwGsztedVNf6tmAAAAEjQZ8URRUsK/8HE3z0YhkErBlGS1tV4D/3icpbLQAXGBfa2ax5aQ8txD9dgBCNVMxXiJ7tVzh+Vsd8d0j7Wety+bpL/2ZEUssF0HFWKe+iQ6vFXTPIcxgXYZsiLHG07rb1O/sGjgL1n2+DnlBfVH+pt+GgSz6t9+BBa/3oIeRcYK32hJRwigmN+tapJmEjbs/k5aS/n5mM73ObIcGNwVZmPfWDBzJ2UvxVckfXXxnzg2JaQpCmo9x9JFnY/AEPxWL8VFd0ccbJAz7mvXqazH35wAFJ3C68SAnhwexkJ8G5WNUuNIZJku7/XCGkfqNI6ZCY8c6ji2TeHXyxSAHH+/kKe/lCY0e7Y4/dA91X59b3BGAKxFuQxVuUfXQhGJoZGQHfgYSAAAABRwGfM3RCfwJo1OOqv4fIGbjlRwDii0R+cMu3cbCqk4ULZFRlFxZ5eL8whwI2pc64efz4CTs4TyzY/k4SeOO6FCPrj74NeJISd0vkbZhh35vLO3EjObZS8QqHGz6lD6iMWDC+tt54o/w2QkWzEvhoX7gdBQJz6Wi/hILL2KMzl6SHvxY9OzqVXEnqVg+9TlXgXsq0Sn7ZwyqOD9FR6vC2Mqi1K+bZK+Q6IY5TTbVi3ZTAMGqdiC2H4YUlu6VMtVhTSLLPt0oeNU5B/3AOlp1wmktv0rToUNK2QDj5OibeFrbnOIUsOQicFMhp6oej4Ug6AFBvUBgOAvSkM9yMjQ7cZHjZRxpTlk1b65g4g/IMbYY7QkSBPdgKbGA9XBkwKrNYyp8wGoHKquHz4kGamweWV6SLHHPrFY67KUmKQSi1nbNQYKUFSYFswQAAANUBnzVqQn8EhzRCHX30PWOdsAE36MLe8vVXSXC7/PKyNc38FAOUj3tazd8BBXCmEMj7mitntkebioWxjogtBZ2GKsT4xJNNnSMV/izuRZZHE9ckIqw+/8JiCqJkVg4R+zJrfdl7PgIKZTaQJ6d/oOBxHIJD2XO0e5EfXPfJGVKKGB0b7+5PSZ3MS8JIsNfcNGjluwCYno8X+i8Qx0clK5NjYEku5gdx+++EpN2qtGeOGpovb/jPKISXtLrize9CihM8dBvI9PhoU1kl7/HJH/+nLpUuT2AAAAD5QZs6SahBbJlMCG///qeEJeNsRUUAK4pUVqrLXtKrqg2OMzIQmYbIIxWDDsLWb/4vQfa4xNggIYqdgaiQQff1XZv59MX1bJCwtnej6J0cIDB+QSSJOjW6vmjY+s5GLqMa9JlCKm1/uybbDQo3p9zMllQPEd9kpSXxLjo8UYDGn395Is4uYiD5F4iIr98E62loMkfWIx27gqsAEVQWfbfu97ozgfUGr8LToZoglPJ3o9utcDspY/UJKYO7jgG6ko9MAdVaAZg15IitOkHW66zwbfPcv2jY+aOyvQnUnTQlaWPLICEqeOlqgi/KKvGexK8skYNvEWj3QOXBAAAAv0GfWEUVLCv/Bxzep9mhYAhFEg7p4OS2OUpcpWlfmOwnFJsc0vQwN/avfP3NVdKnRKXZT0q2ChHz7XMnKcGHKbfo1F7Rx5O/WVPwFvYEpZc0ZiYw/bXyaXekpAmBkLlrtZVDBVBdY03v6yP/5QhOkBl1s291AMxDIo2gmbyTSmxd1QMRJfNU2M1ycUAjs8JGS5QOLYLPA2YeCacE9n7ZPyo0GIQUfw6cV9h5hUCjW2xZz9nSXkL/TFw29rK5x8A9AAAA4gGfd3RCfwSGMg1y0txNxT6n3l8ABnlcDVvthSqvz+779wak6ZXm4G2C+ms0REYOuYmNTyAATN3mCSDdKXYrcx8SsldHYiQiW/AF3zlcXqtbXAxoNHUymnzTaY75NtOEqbcIOJ8ORNSd4BZYAncDA43hvRqb4w4wRbK78Zzwothkb2+mntN3nxF9G1eRJK+A7NVKCPjyEX+BTcLiDFISL5q0qjsKzL82X+M4m1L3rryTIumwcqQEHdrUqcAnNmR/sgBzZUBNljlShowP6DghtGl0N7DTLU/90EuMOw86eE0V3lsAAADcAZ95akJ/BIm/uANB6e8zWRJt4gCH3ftMAVgsNd2GFgDjLgL85yhHfs4ZSdqgv+GTgJzr55fCqwkc67U5uNnLc7MNWZQoYacEaZopb7ji3T2MYll0Yo4WTjs0hHgWGY/4Vw5PqQqKNP8+lPm1N+GCknYuxFNtT5wqQlZrZhtLtEw5XGB+tHAzIzuHov5x1VLzGRo4Vo2hZKCXCbeNiOPD6AjqzfYGo3h0sv2B95oFVYiCfssx1a+3UoM0mxgn5Gy9R/873SRfOYreN3b3BxfykI5resC2gL3fXZMPeQAAAHJBm35JqEFsmUwIb//+p4WAUKOp/CpYQAbie78Pl9yXJwtHvNO2s3sQNVmf2uAanCGA37Z+dOp/haCBV6MiWqafk93yNlzv5PYcyL55CfR3Lot1XkysN3c8lyvOzg4rAwfIIjq/hBP0GNyBsXjg2xiNW7wAAACIQZ+cRRUsK/8HGlaOMnvv1F1zTHNaiOwSBb2gBF5oNGjVF2MuaGoR/cGpOmV7cPxAvp7uwRGDsNd6g82EDOMRRk2j6OfSTnaY4GUqKNxnVG34NDoNcEeL2mwL12Zyk7I3Bq7AKK86FKJtpVbQCpjfEtiis8VJ4hAns9cnj1o22JlJ18ae0iCJQQAAAFoBn7t0Qn8EipyKnMRFdHD0SKeXffPQAJxzdh62z3FuEjdIRgyIT0xreke2cmo0CncWvxGd1zRfKmhEaxUYWtqxhnBelsX25oSQIBCJ1oBOXeAHAS8kK/3KiN8AAACOAZ+9akJ/ACoXCKDsm7Ey+IAh937TAFYLDXdhhYA4y4C/OcoR37OGUnaoL/hgdsY+DGPhVYSOddqc3GzlubgZ0OSK7zPmGLaKW+44t09jGJZvigOBk47NIR4FhmP+FcOT6kKijT/PpT5tTfhgpJ2MteNjqfOFSMNNbN5pdomHK4wP1o4GZGdw9F/Oft6oZgAAASFBm6JJqEFsmUwIb//+p4WAUKYQxXbA7RAEw0zlft3rmoBLTpBQq0pkLwHnP/dhnuUgPDtNi4Peb1lE+DBhRlJC5rZsvIFLsXeHC+ocBqVhUrG0XmtAh4ObfFSjdrReRfTLaxxnQoLH5FQJnfKE0WQh2/108tpeFFDm4WyGD5P33xG6NVeJAj7QozyUhA5u83cW1nDZtoEl2ldukXES+RXkA6VDriVQhwOm6c7GvmnKd6Tzn3nih4iR6lwE6/ZPdwswphb0QTbQ9t+hMoki8Q8gvHCE9s1TGnrsfsFBXdkK12aa00JPfCFhTAGOTGz1mPymIPzbI1MBkucp71i/5cm7aR7PdiJRQeZ5du6e82WQpi0J+GLjpDfTiaVWBP+sIpPKAAAAP0GfwEUVLCv/BxN/CrWRAQAAaMd7xE93IigtgdLz6ExaOt0FUsvDNCOdXW4gmpfHokCmNfTEnUkQu+oAL1nRBQAAAJ0Bn/90Qn8EhjI2Iz7Isp2zkIUliADdYMhxT4yfLVnEXCoBw9RmInK6lMahQPfx/c1X1y3kHMXjzuk5TJHNjIYhppGsBUTNvGuhJFGF4Y42+a3SJK0/JOTTrdPW6oFlJHU/0ZYKLGL9YxN7Q51iR8ezXGgfsvzjsjsYvScbesAGcIghq93W4O84bMxnrhUGCsnjGUVWwiKG3FXsaWAgAAAASQGf4WpCfwTHJiRqzJMc6HnGa3qaWpbuAGx/+n7BtuIByVP+ihYwciR+9j5DFBVL+StYDqJn6NHQFKCvB+w42Qu74YK1ddYEH4EAAACAQZvmSahBbJlMCG///qeEJevI3IoAWVwk8QEQIUdXdgyqWgCzQKKlTYU2IMnKufszcjI1IP/ENOzk83tc2nds4S8UvH8iO8tgowfB0sGBo8qlVN6C/Jm7anqTNLp+vpmvXhG3GILyKuv49JaBJKhedLUzrxfMKVQNjf6PjCxts/oAAABBQZ4ERRUsK/8HHN6mPNiAFnxn63t8HiimjuzU5rCHd5rAjNrinPNnp1uWmWDxPMztTwzNamFJoqYSBlTcySyIXQkAAAAoAZ4jdEJ/BIqb0FclbZtnz8AA37KrfrLgNQ7fLt9Jhyf5dVIAl6nGIwAAAF0BniVqQn8Eib+4ARca7VvbOtrQXki4QAakmfY3meFWacK1M1l+9Tsi/wRlMpDwkxzAM/43msXEDSSvVdH2aNzZCIaISFsXQ3cG5eKfvXYbd1lalDqPd86F8A95yl0AAACjQZopSahBbJlMCG///qeFhdByACHqkfRrhTKaZZRvIe0BJhva7BTrj2sCre/rSRxcJSnINciloS/+7oXrRfEgGo31oGh0Xe6FkXpVwnjCmPgC5e8r7TOPwkTe/QJ0b/bEVXiqgoHBFly2gI/u1JGCc/7BQhrMpOjzqfgVOzyXlv/Mpoj+HrJ0LYQhCIXyipiciUDZz9RcFZMf5yfxSUdadKfVpwAAAB5BnkdFFSwr/wcaVphBOsMqO4wKvAAIKspcmEvmXoQAAAAuAZ5oakJ/CHoOdJt7jC4rx9qAFnjKOFmUkOyHJ37aeg2MrmVR7LcSgxthTqHiwAAAAZRBmmtJqEFsmUwUTDf//qeEJJXQIANbLNfuwjevudA0K0g4u1mgY3NMTHtjowHKb60KUO58CisWGQkPn8q0xT11hcmEZdU4DpBMB/hV3zo63BgK9P5m4V+SIaTtuRsNQQhsNWh4/msv7Dk9g7/JEXZe/xo/Eponw/HmU7GbcojdR+iM1bQ9PWIJJl1LEwO/IqG7AgccemMfpp6B9RF/zrhNBwnbMTU6crLIvIJietzB+5BNAfjCzfHgpsUciwz/jaVFrxk0NqX2xHg3HaPkcSaOW7/BUWI8reXW7DsoJQH/3+1pQ8XYXvGolLaXF31k/iTPJ3H6RYFYjcJfZ44fFus8xpv3g6XvCF4yXm6f/DmxvCfyShriX9fJBZjruNlnBur+Y+ZHWwp8FWEcVOmSCA+82+4OOtsISEW6tYZiFRujyCE5ueyCS089O8woUcvOn2Jwb9yfvqjBcv9JRixmp1/9P5+/utFZkUs62e/YKzERxWPfbYYGq97AI4M6YTxvgkvRjKFTtpNzMGcm73is2AgE64bhcQAAANMBnopqQn8Iab5uAFkpqgfl6wfiYOODff26nVuOnPyPIPwfmOj9lNtw/ouTlqcML0yBOfAqGE9cGTIb4EQEmXCiv/IcexKWD+j0J4dlb+EhcqCx03TMJYIebqxoeN5+qocWDd6F3xBQwhg7gsv5IbaEoF1bcjpva1g2A6HnTAeG5kSvT9VT6rAIaRkxl9UiNUZsVF/+WN9tkVmyZ3ymqMNGj1t6OdzMJww5SK0xEs8qqHIB3w2N7HDYDHaoidpL72KNPPr+bEl8j9QBUxkKpcAOAK0IAAABSUGaj0nhClJlMCG//qeEJeVGA/gQATRRqNdbz+/knIJPhudri9oXYdnEZ3jg8mwr8VugtqmL7Do1i7xgH+y6kFSdtQ0naE1r/bg4y3nY01dBi9vIp0JwHS86ttB360T5DAa5PxYOx13hGSnRagISw2HaxEoz3D5JHTcCTrh619Qy0yBMa6Bb6FpxbOXz73EbLs48zlK1i6KpgbQc9oMAGv0etGf2qk7jxP3I5AUum5onT69CYvgSnjxeyquirmiD4M4e+LQGItPzQqMBYPKd++IBSY4WTt1MboLIsSTxPewClG9zMvRX5Fw5jGhiD+Q4vnKgTCwfAZ0alCdW/X9ftuOH2UXEmG3+3fOyucPUtr1zHWXiafZM5dLmEfr99JV72GQaGQJ9jDKhgAx4piEXhjdvuoySZPGQK1KavdIJ8Skd+KLJbA1m5eHAAAABO0GerUU0TCv/BxzepgfiGNb/ENLjwqmKKp/9On2wAuMC+1s1jvjNm50sVnRaFfNL2MZGVSJ2wIWrYGYWXqUWn/Mgh0x7AdT/vRspdxoVFFHNxUGrfFE/qObH536yy9C9qEK74ngJ1JNOP/wNcyHXd6nOOTZhd83zwiPLHcbvVX/OY3d41fpJl2IH6fGj9PyrlDf4OKB8ieeLaVVwUqWavyf9QE0N2BM/fiXA7KACnAvph4fkWXoDMq45SGY0nshNdOo3FjYruY29s5FysipjYjcAcJKqLHM/B9JtUdTHZwI0uTmgXLtcNBykUzQfq/ZlAzsriXcs6aaoeBgk/ioh0gE2XUMAbnImBMHB03NK7KbGa2U472rfnWEb3BKq9aXl5kN5dWlj3FSAvct30K4dAszJXgO6asiKyfOO+QAAAIIBnsx0Qn8IbZD2/Ax8XJALENoNLlEM8hWlPAC3jnAYvpXTgWMS91e4Z/YT+jWX+zGow2S9oqU8Mubdac/uohhyHn5CLRAlKatBnHJgFDEdjQmRBOiHAKE4rBjr9zCffukRp7BdduKu3pS8lCz3H1n24Q6t4iPTN+ggfpH6G02uVJGHAAAAsgGezmpCfwh6DmSPL46jEWh/2AFTScHyj5BtBkuQAS+nVj7gVXlcxFvolzE0uWi9K/haRiQ1vXQYV9hDBRhrzUrZv0ohRnYSEUWcPh94xijU9/CPB8sjOWYIW0IoERfQDxf02SePNnY8787An4VjE6XL1+oQlbv0PDUCVDc2RVo72pKuf0E8hj0K19hxVZ2PVdiV5fde3xuOXAM5L7VeYfUXWivRbaqldHzyvbyIthWb8WEAAAHVQZrTSahBaJlMCGf//p4UWuJl94Y/pADRhCYA/YziPleN5Np2Guw5yRsrXHUZICO0R6VZgoHn0o5gEosecfYKytwFX0DVRSQlm1quntvMoM5cUCF7Qg4k8ehUlSa8/N3P3CSsEU2Ni64Tb2D8ia69mKHEiBAapENn/6bbe5+/Njb51aBju3p5sq5heWVHUMRX7uh2zFY5XlmZ1IkM3F4TzKe01w7TR3x3AzlzG31leUMQqXea5/YTeA86ab+KL8sKNud0ESn7I6pTdeGrspyjMKWiAn5NQifsD5q4wWzk5HpMCpo3aMSpkUSj4RORG9KjnYoGqxOyms/H7swfP9AVUrpQpf5cOYmsQGDIGdHZx9LXy8CG7E+el5G9JSniJrUjTiCxX4gKkVTu4j7ngttvrpRvXuzuUImAtks4QnJtAszZbGNd6fzeY49cFw/khAh9/5JUwbmFeuuk6VlisRcylO1Jmm28ZwNOgEk2LIO3fGlbe5ZgNn6Zm0Y3zS/XqWgVQThdsujLBI1Hk0FGbwfEpHuOjIaUOWoQpuRJWX2fwM9oGnliyNdU8qW15W0cyfYU6cYThMgf/t9B6a3QvTocizK8J0D74TN4sohWExPPDGoRVZy/BgAAALNBnvFFESwr/wcaVp9mhYAhGZxroeTi8Zom/zelq7pjrR8G7EGqJd8AvGWilu49/6u2IJE9xRzDQKUtwNrecST0me1q1Z7rMX1jdJo0KCfpcS3xlGw05Dd/Z9Vk3xE/wAVwfmskjtY/eMSb1kksXh62GwzPlvGEi/AGLE66dUERc7fMKLF+gwZFKVyuEdJXMm4+rIkXq6KAaJMLRPJZ7VOyhrbdJQP4EgGhs5rojJoZEt3suQAAAVUBnxB0Qn8IdxS4AEkORCyE8oNnlOG2Iv26nVuONZiGfTsZpOMIFVujl7XosaaaLKgEZWyY20/oQtquEN5LrcMxHsla8bC72JMCf2zrO/KrnvGv7wXfmsnmlDW0FTxkjqiKlh//UWzThECks513uboFg2JpYl/G3tquPQDTWuDAQcY1ywWkGKqHF0+fho2NWV6mLYgtHWOVLBi4tkq9WZp99+t6iVLCAqnMyKw35p2MsZ0Gixo/LADUoAslx05wZVFudBtfPI042yyt+QSOW/O33k0vlsOS3pRxIzBpN1zm1wpgPUjlW7kfOGSART0BQ0d21nbkagqDp3Qfup6sqLB42WvVuTX6FUXzTKKEG3QacwfufDt/h7pgzgczoXursOHH10s9lbAB1ThfIVdyuQRCjQKhdD2IXa4TG31l/KkLVBAe7bC967Bcm2TODownXNIOdy9DOQAAAWYBnxJqQn8IcaBtOulRZgI4gBGU35uP2rRkdhCiwn+Ta3wFBJ7Fe4q4bG/1TgyxMMmza/D6XHCeDoD1M0ozNbDCZGDT2Ex/hbLk/1VCftbLKCY98YZ3iM/Wi+o0UyX+jNK3KVq1EnsD1AB7Q+cw69Ub/AaR5CizpLYefVQbhzq4J5HVr/0uHiNcqphv3tQvmY6wmL+ZKWmF2iUGHS4qO7h1pWBlkG1YBupJZ5OUMDbnRfcDqJIYO0/upwX2eQf6sTm8cn618CJg5h+fq7/Cda0np2o4u5aGBXmZMcM//IN6xBPHdxJhdj0TbibJRW1NufMMZxojArXZ+65zXqtKPdB/ZA6zkmYfo+MAN217LMBWs78Je/LSQcfOJjyAXQeJ1ZK6JCb8ecF+ePl4FIsKwHobM+fvt2wu2JszqNIE2RS3KP/agLnOoYN7A8uD10IaQXR2s8wtoSfFHoyTaUXw9vx0zSH6oknoAAADeUGbFUmoQWyZTBRMM//+nhRa4mYxVdeWAG1Q5YlwcP+DV70YNOy2pABS8SRFDFbNk6Wm1XwoqfhahiVtvHr8UHkOyZjjDK17eUp8X35riJ5iS2/jIRZ4RizQxg9WvhXfupJepWvr0i7DfZ4MOJOZI0/Eldxu2w2lhjup/QQ4mE6+FIqrIsq/YaVhbwvGa0Z90NYEgnYXv8keuU3Py8VR9/vAfFLkyHjwVlYR/VN+xMP1zw6rXDTS87hidDFRYmP+ZoCvntPuyt931WvSlrm7FzkW2HmVb7PTV9mj+9z4K4HRlRlWiO08gxZvKyv1XvNlE1AHDRgdY3G8wo822sxaPEVMubgdPP/6eV6N5islHLOcERKX4hgxKmYqzOEkgel0/s53EwOqaWCoVuQtYiJ0pDCEMBZPqWiY1j6F8sAOV+QnHA5JFQNxo/NIsqIOYklDEleBgM9jP3b1jzOTDPuDYuhLmSID3oYSuE1/zSPf1FQDVLjxXUil1KtgoJfE2CrCRb+4S2reLpIOjNWblzCYtEXWi4dhi4WvKJEBtwLtxNVRiseIcyg5taPbvoYjzEHc5DyYI9WexOOidjCc73MQHQvTP648JoBLTrhzJgpDEq2kMM3mwK50A4o+gTP7u4FW+bqZvhHOW9Mju8D6oplq2dkTn7uIBtRBz/5rZbCDjxUP9mUp8j6Sl3aJnv+15litAnPhv671kZ/noEgIke1c/3DN2daKu1YZsUpeobcvBqVA23DfCwSoOvWtAx2kPGLlbfIZlmekICqRAx1zgq6Zti8VYnzxgFjwqhVzT3kTNcbBTbG3aVaAcjwdXXo5Q56C/NiqaefrweMd5j9NqFhNkctIFPfr9wG6qelZlbQzmEQcYGPTaVhVZjKQjOqMqmpOxCB68rquASQKbb3862kLka7MZ8eAY1++SMDWlAKpHK7fNzdgcRRvdxikKWJLwx5jFmJhwdXnVNsc6O2Qg4K7AaXGoHMARqh7jlM+f83H4diu3Kmetcq3LL4jIwD8oMrjDND+9VS/GRhXTNkvcvEE/sIcWqxi9H9hS70VJLrPJi2rTjFbGJ+ZtiCQkhZo/p8Lrjpod/BnC7ZJ/BLOOybQeXxarVb0qwZnMYKW4yzMMo6SwQ3km7TSGooAjCMNbwGyiRt7t9zV50bKCUXREoVQkJPjUStUxxVhZMwAAAGLAZ80akJ/CHoOdNTVudBdKySoH/GmLst4fXHCVvvXpcAJaiADb4OvfyPL+hA6VkOswkvytH2s6Mocx9zUMEaoK9AQbh9gz3D1vrNxDg6jzer52Maq1dOXYqMJu2jx3a6WQL2szzDUmBp+YcV+6HS3Xv6ceEun7ARGx3PJHcOwSyRKswfP1ypFOgBuXK88zQt3N1YVPe+gYHmQvNLmMFOjf96WqkkYsfnqUsXZ0+xsLAM7yp4xqUoTufJm9BNIB4sv59iYfJBSKYkxjjptOGfsW2c2RQGI7Y+1G0srXjsDliyuMuVT2SF/X6iobbEbWi+wtyD8leSyD1JblW3EfDaCz3izQMU2fWIxS8hwL0tOou2B7XEaepACPaUmqpkEgdpZCKKixScfIoVcoew+QNikt863KJ4vNN3tQ3GW+1mAZ2KfBJb2Txk5wmzu5u9Gx52FIUEOjhSPOiXAG8dWHhgvBmzmNG87zmXLkGc3O4+1bzF+jBvAZhyjQlwMR4/LPZGH9Emk/lms7ceY7ucAAALaQZs4SeEKUmUwIZ/+nhRa4mYzGPbpAEIo03J25IeirEo9QeADEnyldur0dlMZ0O5W4V6o6ZlpAYgXNileM+t16uIT4+t6cGfS/CPGCq4csjT0FMA0qz40E8/GQUnFofIRT4hsgz1LoSNPMIfYFjadj8he0VdtCxs+X2s48T3nepFf0ixH1aHminu51DaR9GR/rrlLQDKiqhgnDw4rK5DcWYZKse/tyIAMBWuTVemVRzA2ci/Xdz0IexJwBkvApJrIQAHKj4powDr/bEmzctstn27Y+Ly1w2jykr+X4/iqmGdaZH5qYJ2tlR9R+UhOnau9pnMcGkESiC/5Rrgfv/9zrPm+xiK59rbOHekd9RnH7l+hZL49XwPa4v9b4VTRuliSObNN6pAWaV8z7mVM/K8/PTeAW3oVphQJ3Ajj8HSdtHTm7+Nw6NFy4nlkTX3p6zdlt+HyrHFVeOpuGO88fxw0m/ufh4U6STYEueB+BORT+FVmgAb0bgJNPHJS084kodSgsbKMGc56PsOrLyYPTDEPk4FrmsxhUTK2NVmL1Fn+bnqqebYOOE3f1BizpoFlgtchGP2CFvvMDO/15K9RWFUPbhHzzeNEIb5e+FwtB/E92oGIIKwUfwKMWghXpSNMuU5GdQHB94WZqo5SYIj/G9JBYkJNXOtfbqsno5PbQAPq6GMFQO1n9x/2ePqBOkgJbF0wl4rXYjCPsCYF1GWC6JAKgzkku3K4eYIDBVqLYUls1cbtF88Y/CvK1OzfNzg/yTlwmFQ4kzk2GPkV5K6Kn5Iz9374W8gcgjvagOiRRdX2gDHKzJrjsc6Ub8SiEViWg1KG9Ov9Rs50EzfLVgP423usGLmhxjvZCXkmn9HkNGNyGb9yjuDb/oAViZXclb0I7JPlm28/ez6eDH8qd8AqetMVfgy2XRQpuRv84+t6LrfXQAqLqTuHRI68btVgPMfOA3lLgABgNDMxe7b4TAAAAglBn1ZFNEwr/wcYAdAAFcWgbBJNJy+XumXsTGUtQAmRot6duPXHfaUd+9ETvSWkRnzK/XhwxICEjyeXAxCMCqkAwopEXqB9iiXxfq1UXSTvu9guhWn+9CnmDEVIjJRp8wnx3hkGdGU5Eu/MBsmccKS2WUUvakkt36u5q1MMFHTTkMBVl8PvJn/5gR6cS/CCipIn3jNdtQH5xmXFm4ViN1NzWDv3PA/sCa8VbnRCbWJen6omiIhAID+VmuDy6y4e1u/m9i3BNVnbFOzp28nxDHnmsuPU/nQ+7WRXct5EcHFdfEQSGt4AFEsrhXWYyRi/SqFzWauZSoVMS/si6vwbzFCul1SIBv4R0mlz9aUK8kg0+HXLgXzqFN9EeF6aKYteNL5n/KoGktP6hfIhezlguog4ZfV+sRYuP9isHqUAGRsbI4PgdbZVHDF/u/3kkBWiNuesufgpSF+IcBaaL4OXvZde1eS6DU67FHhKIn0QbcOi9m6tAyvBQJDSPKe0UNNuLAcieNPM+CLbBYya8OxnqqHiQJUBxdQ+5NpBrFEnbY5lHqGCjgAqejguNWpdiJ+/HXL3EKn9cnKpckY7khInkFBV+BnHGBTKBx46DSFZ2r7CayX02vqC1nVTKdeYJZCbxD/mGHsXfu3erwwam7u6og05BREoe6JfLoT32Rei/G3r9C6sxWnL34LaVQAAAWoBn3dqQn8If0Xs7AIw/XjWdfovujrHlK3nKI9wYptV5u6zfaigBcLN0GOJzFEZxQWZ4idd49ejCdSy86Y6+4O3WyqXcdRHnmXtVDkWPL1XxCbpcxRLrUrwpyBVW6Bn/hXhfI1c5Gc/g3rZOlHgfW7PqRtMd8rsujRfSu1Q2iX8MnrnyogPOtYVSxJzrng6bqqA845jwDhi2VAt5iAC1CjeXhwESsTS7nE6x5WpIF98+nQrJ9BmhM3EkR/LvCMaXR+cT+0A1DYSbqbXL2b7jigHn80AxGJDiiAZ6nqsYPFDCtaermCtURu/sQgHGwrAzzusInv7GZ5aXKvo386twFcoMs26c1HgRgoSIt/0JBpexXG7+N0lFgsAhDyrjIx+ayf8mzBzlSMV3nh793N/Cl201VudupGp4qqwx52Ol8Ja34oKR+8Jt3vPX0CfwC484ftuEkWVrrqWFZ/a1b6KS33hVunBTn5S9L9hcQAABSJBm3pJqEFomUwU8M/+nhg8cG5l8SAZldwD5uVeJY5+DpZkFJuM5ZcABWSFVkpBMpcs0o3GUphSytYVkVuFccfH0E6gXE3Rs/NHNR7uOB70N+Br0zn3C0k0OUpjm87yPBOdyYieh61VVo3h8Ybxs6kjACBdrUL+vt/OoT63qyEd2mNpBvs3mlXh2EFoyA/+5xvr9LijPYNMUcBJaZNxaIQyktG5JvwD4aWL4iQOrweHGvG9gbPAiLJX34To5ouYd1tfyWibuX0XByPY6VPuKmi0mpH8apzXqDeyfcFpNEqEdKlnC2YUZ3zBDdXrJW2MBVH6whCKWOUXkAmiqRerlcnMFVwc0DXVr1jD5WYBtlcdZkQWCcfrRhZkQ7AS5c5xN4CG93dZ2NcuTCLxo+7W368+ma/ymq2mIdPEnfY0oiyVCUf1EakP71XGI9U+vGe/zdrWJI+hDLoHauqwicI1pywBa8u9sID2BsQ2NLBTWySn6anl8IuMis6v4Q+0+jffUKxk4jGQIQMm+jj4CVf3DIvyJ1TP+pXOF0T+oU23JzhunEQDYQ8/AhYpbGcMQorLxvgHa7wTkAa3lTfGYBYF8o6PzP71JaAwm9MfTbjT3w6vAeg+FbO8Ldo8481mCVr8qQiYL/RJ0VyjUsk9WaAGANpj+t0338XDv7BAlMrRHJ3zMGCmUSax13kOwrc/wuGKyh4RRvRTmu2BT8chV0PyhEBQqwQ7nC49BAjTQ4oR2ISb2HREt3z6PfSxRLYEGD8NIBpdQV9enVh9XNI+fj2ajWqhhY8gE9J+stRPQsOICoCmrvkH7ceE7/VKzKQSbM/NWMf6h4dKQu7uPcPACp837J6Uo8F81ucyZfy1i5gT3vtS21RtPkJgCbYN6zmHXCbaEuV9YARaugPMzKSUrRMgs3apI7ldfVpQFtoqWjiZfL74BeXrNNg6LsDex0c+Hk9aI+rvBMaQJYa5ymKGf7gyq83VSedabMboSiayPAdDEEvHH0Fak6k1dH6woBxTRRGzkB8njmrYnZvg7VgXZ0ulycXPkqEgAVAyXkqC/pkd/w7CDwe2jAOe6R0qfz315x3ncX/hvXbDn4d7/ETIa5P0gIe9Y6NhE7sf0GZJ0s3kTtLMzmceqDl3RyYu+RtjnrbNgpNQCNMLgxX14lwtD3EbMbiZTpQ2Qf4Hj/H7+bNUPp4vfRqNkMWYCBjzkCvlxcSwl+dxfbuUA9mwQcRvDKL1LXLIeUPB/hM6JQykK0llxFI4aL10JwJ8L7bI3aIYStbDL/iR+jw1m+KhyXtaLsXfyFeeqQGZehcdHVrWtuC/wofbgOOyMr3RbcT+/uK9wrOMlaZqxwwP3PhsEYFCRyv7kSaYxvqbnV5HZpMaoSA2nZHKVVaq2ywy0eVvYe6eVZJNNUt0iENOi5FbG/ZXZIpyZOOH0oNe3TMvOmheF374Xhp4fNWtLjB/CrfXpGqoiVSN+bQPyiELievjsrscw9CyEOObGoHHXQU7hSM0BIo4yjuv1tCPWhSNRdLH9DdXTX9cYUbDwqryLf4677wshG4sDmbFP+Wp2qvr2ZMpHYie8jpB+SkGEzdOQTbUOgTs20zvFyv+ytwdhAN8qgcGhItY8WD4vZ3zYdDbbPIVDdnKH0Q1tpoPwCpyJ9m3Zc7YtJSqyQH/oy6Zl9qMNw9Y5J/E0HUW5zY3nZRiPgtcjQAevDa6YlJETObSo2GCBSlzN77BqOC7zE3sn1kOt1EmonNgI5IEOowAAAEkAZ+ZakJ/CjWXTNGogz6tW5jmejn1ypqOka2WLmgACAyQDWu1vFzO+YAJVAC7llTVMH7/aZ1wdwhNebN4jUm3a9TWSUsYFgaQD3EyR1dMRXBrZrn4LdYB0JHAFftoC10QrE0xpcpO75kevec40csWQTnQEJCWN4LKj3+Zjc9pa+KArw/Vfvvyctwv8s5nsgXt8EWTq+G9heLxDkMA4i0WtPpr9KCdHaVmRV5uSvCoVuHuXpcneq75uEKcDPxf49WAsWKDyDZrXzuWahtlWTVA8UBcMqYacjASPcdvnJv5qoeXJLt7UXNJK1MwYGBaOFf9iNOYvlop/QA08Zhr4l0V85qmLW8K+ZQhURwqwhUK52qOqOHSSUAypWeu+5MFipHohfPv4QAAAuxBm5tJ4QpSZTAhn/6eFGyyJQAfBm9sDEh4IgMAsyi0Likj3wlik8XoQmEjCjDStzOI3LoD8JK2VciP+d4XWphP2n+cU2BaZQbqqZ10Suawp7jpY0F34dtqn4NSJdsjDFFd5JOToLoE0RXBVFstka1neM/l95WU/vR9RvBMkr4acJbpt5ye9fxgrpNZ4VZ7nwsko66hiLaRbwK/nN5+lVvOl5PAV7kaWV8NDuIzcXbq3p6jMOqyprgx86P8/mP+XdZAuHQGUF+Wdoj9bG0AjCZy+2faBjKG49g9ZR5ASKPt/hLY8qJxgqC6xn8i4rNa8UuJP1q/4IzQPndCUFoqL+k42Lz9ec/Plzoy57uytIw5cXlXfzHhFOmNQmLyB8ec0DOHhjcHUhn57RuTAe6oVkwJy4SY7uafs/IWpCmn6QPJSqtLLfghe3KDrhZpiGAsKX2I2MeASCJq1fy/xWhH3+LZ/p2TXrtnbG21N4MyHN2K6oxQkZPlUyLm87C8G0ADZ/aURc8PNN9qBYYQGLblPXLcp0OfliSJo576NFJOY8dvGf/V68n5teMUdx2c3+WNlsRE55HFmtye0LrR1xWG3e8QT637HZaUpmI3JtbcKe0J4n/6H5v4189Fszlj56GNxbiqG/71p3rsh7tMYoMkMQl0+OrdTiXJ7LgjK3X6c2ui+x+8wY+wGcd4/Gf2lGg5UQgPhdTnNzsK++EHXLLol1OAIGLDfflHqSXALGuoVEjoZmaRK9BiFLBUYL33DIYotAyI0el3bWheHTJjx9dkUrsC3Abm2iJ3d7waG55UfB1JFm7cUIjhraIqMNZ6bNafH8nZM0LoBq1GDNwuunaEUYcS0EzoyUufuVXZ6ybv0BLJCYdftbfS0uc1Pc7gbyJJIiXY3by7N/2uqnbY3mhUmHzsLShVljPJkTpafvxu9N46SSWXcgqzv85YpC9OxJyYbtloXW/Q+lXjKZR4GnZPb3MyIrfMq5otyxCIiFkwAAADGUGbvEnhDomUwIZ//p4UU2wAAJU5UGvSynCIzjfXiOWr/FvhieX57X8Jlsd+ezElv47QWxVa0lTh8RqhbOZEqdIco/YCymDyjX6RiR3zmixDILDNQprqsNVcSTj3Emd1WViutY1S1o6cUPhkejYtB/yvjYa6i5KaCrsdcHespoPXUGIF/xyyEpbBNlpgQIpLQw/MtTN4py3t4i+CNUZd3dF7mA7NuHT/ZRm/14hzBzKFyAp9eEQv54VtZOSpszZujWWE7FXR1J3M30cDan2ln4HT/9CKdpJhta+R+/d2Gj1JcUuEiqrV302g1nIIfnze2Fpsl3VxXw1vfSIipn+mV3tiCXu/rAfmzZiSvoNjEPbia2fDx9A+mF/jhHzkz8FXkb4xGdoKp4xWCXettInYLAaxg9hTOaHeAeiVF5TFANum3bdqf8ZwcisuweaJLqQOkg8D750nkSawCBqfo1rEUetRqY/NfUNcwdlDN/RWUAupVUEt5dJU5jy7uVJDfATn6I1owbC8Ap0lM00mCQWBAeGbL5XzizPKoXmkWU5Z6oW89oRW2oV7mXTTVeBnov32ABD910/GppMqoJgPaBOdMR2vFakzF/FRdAc5CvQ/f8EBJmm7H2nMfjVQQzrJuw4bzhTQLyh6zos737cWdt9Nm7nh6l3Wc864UzrPDeenU67vKKV74k2qpB6y+Df+R9X/na8pR31sNCoQOxyhCqxytmASYO9iGdwTll7pdEhZHEJ58rZ2YDJDRnm3qVVRRhIU0T/GHYYzzWqLlaUWbihsPCGPqy37ca+hngJZRjQdyfkmyB333IHMNj3JMWKlN62C7/Mc30ovPbhkDPbARIqsVaq/vCCfxg6Q8HP/UZz3F9oB3IjEOOxxAdkgXapicHQRXQloAbUwyedb++8jLvfoI4HckFXZ3fG5oua+4eKl7/Gej1BnztlIZ/D3u01ISRnFI89eAJ9ymI+GnM77oD8HnL/zKEqEt1nNBChj98M+YMqrfry3y3/FkHXuq6G5CuYR6Xb6jinY2LibIo4RWm4HMSVyI9AUlwDKU4EAAAH9QZvdSeEPJlMCG//+p4WOR6IgBGUyapW1eFeZ1FDm5CoX5ina+1BIs/OVkbU8M1Vg5e227HS8dPhYJ/7eIjk4V/D0Y/QLKvXLuv0e7a0MoDzptvsCujsuiNfDH8QNjAt1h8Dncn4hsP+tqhdGBLT3SNVCdecIygjlipcDuzpzBTelQA1ATP4vMcEZ99FH8AYkT7tyzB4PmXt2YPdzG//Y/ogmJ6m/qImtM8WEy4KFpDqebptNGMVPxQ7Bdd0c6MVZJ2PB7V6SbJ0jmDxWVuTo/FctngdXp2YKYSMyvL33fQj8YjyjQ0vIAGXDDuqj5C8hsd8G2XqAkhdkdK/L1/zrXqUGXXOMwmaqKD8Ptbtjxm0FW8nyOMGJybjaJAwkQMyrDjP6n/uLnINouqlPRgjv7tQgxvM7HsE+H/bq4Tui2fFv15IwZfJnjwac09BDCa1GCKZWYhCFK2oR/z5BwgCtgM6h8kWuipy4WbXgD3w//5OpbuBjKnnLanvHO31uQq+8EaKrksCWRb4V+iJ6sZkizB35TttrXoSglrMKpADvEvkssD3K4I9+Xo/a8Fu4GoBrNQJ5jHta8+LeWOmYxiV0WOn9ZVaWBspQfeH+SNAJfnCv10UcaQ2j1kzda0F4KsfUrYRN6sdUcMjr3CXZmjXsP3OGftop7sgnop4JysEAAAQrQZvhSeEPJlMCG//+p4Ql69LYigBZXLuYR4wuFq2LJ2ubDt5OsHSgjqHywUDf3VBHD8IagbWMqKAmDJ4Ej3Ej1YLBmpf7DJXwu5DgOpnNutQOI+SB537/l/GUOQS/Zx5TIfpBJwdlvpl9thdHwLmR7XYdGsBE1kAqvID9N0IeILQSifyUbhOD15nJQlKV/E9gOSnAz3EN+cvQWLCPJOMkD6Swlcp4lgyih2kJLcEFgLW+NA71QZV3xo75jcd3nKF30ssJbKYVukFQvaANUIELFn1ftr+rlR63h/ADExHmQx3eLXo5YJF8JEOi1cDYCK3eeyFHLfjVU+RLE5elAfQ7zYWyvV+ZDl6Ap6cLNnZxUWT7LCa9ycnzDZ7HTTn3sJmDfW3sA667ORGq2JpyT0+Up3wtN6juG7+QO8b4HrJ/YClHRyPHWwFvfoSI4H1gQcccOCMWzk7Sq1/FBvaDISTTs+NTZyhNHtSHHJZHp73sdkFhCttaddztJk684Hy3XLMQpmDQLgYNOjQdj1ipPOJp3BxepD3xgs9tsWH1ctBQCrI0YDvN2cnbULDInFyqMP02ZrlpDmMmf25gJHV+r9vfBXJRSWMsGm0pl723tnlF+lW8hEDQY5zW1jw9cfrGds1r22t8IgRe/bnpARqhxWUpbxnBHBPEYver5884Qu2knQaJY1TtA6Pvbop8krTWGdCvBAXfgHZtkbnAHlQTtsMPIyzDsdZiEXtkBIM8eBAeQmWRMAt1vZXhJNLqLpEgaouRLcnJGFR0nwWMOOy1eSzhntZEy7/Pku7sdsJnLDNU/l1wqcVW9FNhjzAhVH9UPpBq6AJ9Qatic0jwAJ4T1EmYRzdsCM12rvbil+0U2P1+7kK3bsBP+5LTNFDsQNPJ+AlNG9YJsS2IVc0HLE4uXvV8IArSes/Q1Oaqs772NQ2gs3czaRrQ3DmnprJ+61FP5uyBFZMgnzyGU/PRlEOKTomOaVFFjpxA0avTmY1XDHOcCbEhRDYKClD7Pgyls00MWErcUx1s/+PP2dmYA9XNTDuI/QcC+eB1dveAIJMrWsN82kk9IpmTnpJFUKhAAVW/0l4YKNUZ7n6H5DT/o8hzKcsygfFQE0cFr+asX5a+4qt8iMCSNTDiha+jn+yeAImKpG7EHVWMfdZY5iVxQsz9xxHGJZHXSzJSWjXh5F9n7wnRINAhZczQ7mp6DNxg3ZBEyx7kdbWGvJkU/Op6Cmjgota7nDouad89C418riUO7ZtmXtXVT0ps6Rqdwulgeb7VHi6tS1MvbaHIsELL/Q1Xkl4tErRHmeDTUOAF7xC3qdZ8Vq27j1EUW3ygS4yYoNRnPJ4ax7XD3nEPnd3CbJAZoY8fckRm9DKChqrzc+3GuWJ7/LOMHj7wgDNhJkyJmdGvU77YdtHlo4dUaGofMAQAAAFLQZ4fRRE8K/8HKQ9QAz1GqkKVtU5VQpCqRlCyyj9SFCU0NUBVFeObZI8cRdP0uaht56ih7wDYuJOhZPFpHFZ7Eoc+uwOuFWvb0Hb1Um7XlDdPy8ygin/2BerKRPJ8ioTt2rXmp7beZqTgyIxvR0GrX2F/HSdelbbSjb3rg5PY5B4j3xo2w7Vcmguz77yIwXCvSo7dbqP3Pi29hikC9kicTpvVHFbHCSHSEcITv3VqT3r+JJE563po/TdHjyw9cEPWu3GAVmYI0ILjmSIO0FlkCUxeHahz6y+/H9aWaoBbXP4KgukaR/V78hs1IB8cJjXE+42Wr9nfPt/G1uPi41dESzP8PV9Zvuypxr5FIuN8snFWtiEUJlQ+znPXWwANj5LvHCRYDF3TUuNJF9GEDSZb9PlBGypMsxtGyKla4G5hPc1OZXX0BMJ/MFgsuAAAAPkBnj50Qn8IbZpN7hCFT8KNnI+PX7jxpkiDWfKbt/ACAGjqSKmtZH5XcpTQL3DnYEME3iAxp39qyc6ED+3Ydbt4QAE1eWXrm9Iyh+QdTz65VDEaMDQc8/VlbqAa81BmUUi5cKsi4y/T6pxOrUOPZQskDKHmbuPCA/kqbOXcL5bkfbpicuzclYvSwmjybe/+VNTTp1zrJa7kDmViTYkY5tL7TvfVbzeDY+RY1xTb6A0NLkrkr1oZcPJhi7tPCGqVHrXE0d22ERwAjMLo7GMKUMWwOtLb8OUJPU0kOmze4FAUuDJw2hdIbljmYDUHgoj6/j5WZmux2aDoCIEAAADKAZ4gakJ/CHoHWFcI5QOXCH03RAMKLIMHLydKY/+aiy5tkwq4XABcCZVg2S4kiGzUCImKwHztWgsZTeHN4MQlamp8g4phk7BwRCNBwKtSOzobCAMFUwpZyHltPX4Ml/IaOlFv0ShNW8vFh3qCYkBytxd8iP8yqil+jOZPsJNa48haRO0HYPeb+5qvEQrtd2dDQkiN0ZAfai6JkpEz2CKwrrgeKFxeorTFJogtY31uJ/SFSEN6cy9xv1XOzF0HbamlFw2mKEmnwM7DdAAAAe5BmiVJqEFomUwIZ//+nhRbAcAE9ZTWdWw+lybXCtGiK8eh98QVpw7jMMydIeqY6fRPiaaX26DeLHO6O6KxKhm7YwmfCANswXjiG56qLPAn0srRHkPlBCXYWh2zLSsXFD0KBeidvuu9EoUiOjV6MOMCz1TLIlpDsgheMM1SgJA2G7KKvubvTzCoXkYIwfdN+f5/vifyDYLFO7laE5XWYexBKDRnMxm2dz4fvcLNeHV4C8q7zw8t/u4ORCCYnuRJWY5o8vABJuhbNPoisWmoxOD9ZeGXmEDXIvix0btAa9P4yXu04W9GIX6oo5mtPkaFeBWYVYTsFZRhYvbJud9PzgRWgtO4uoiV4k3Xr4vZ1BeQcrdKk9PJ6rKumbncuNdXHCAlNpW4evkDItqmImk4/NuMkp83Pw1YBQx+GD5Cpai7uMC3X5sHjDiswIEyzX7ZK5DbKoCscBibGzjJShSDR3ACEPLfUrkrlW7YU4Wx6Zz3W+ynqBDS1p6bn3AW3On0i4wz2X1tCakbFGIcvWYfEnNkobfuruz+bGUAHi9c6hgg7MjYzxCOW8N/NbgzYPCzyyHoWNIvb0Epr50gIYzAa4d/JWar8UW6yfDs5Hfhw9PX8VpczbXeziw3oijFsKrT9w+WatmoP3VG0iDZ12JTvQAAAPZBnkNFESwr/wcaVpx82IAaNFqEcmRYQNrcM/ZYC16MHX+nq5CbYyMqTYxc/5JgFh6WCZ3PV5WYHZd/zV6nGW/hcsH2mHVDjK0+SwcwcxdHQI7GiIaINGwaZnhuUASkgLsuF43gXwMZFzpjiKbOJo3fY6wknIrwP7DVUIg3WC6BUQVr5oExRlygEszurMyjVAT4qhfs3UPIUGtfyjgbYQbKQMSdi3A+i9RrhESFreiiWf0iaNanHvCssKES/w6ZBneZ0IowAUq4bOX2LH90rwWbQxklkSWZTq1DnC0iZz7dU5NNWKgikL/Exqp/GxJtC8txcb5YWCgAAACOAZ5idEJ/CGlTtwAslRNA1pVh+YBT/8kXkXP+dltIcmkv9GlcD0ckmbwuR4e0Lrs1NDeDBzLeOGKb73cJBy49xAr7E6Xpn0Vh+KfGO1H2L4DkEgobPenBztM5dBSqdANX8uHdk92F4dfWAPWqKExazI0nXZCqX/J3umYpUD1NaFfvejKJSIbmB3zgL4OvgQAAAJ4BnmRqQn8IcaA3Byt3mKY1Z3sE0YAXx0zwA1TTVA+3bUaIpHOdyH9bjGCqj3jpaky1mhQYb2qUKYZLxYNcyPUZ9u2bc9shO9BUOMDLNnfqV3FnzWFCczFaNy6gOy96m+oAJublNkCUsf3Rbvh+PypW9k4/L+u13XcO0KteeaxLaLPCBKs5gkwNp7mfj5/aY2f1qxR4VklJIt+g4EV4gQAABkRBmmZJqEFsmUwIb//+p4QCIkLq+ARgwoNr11UCE9ylUVIhsWfX11//7icVtIZ0Frh2cZk693UBG6v33JGwQH/CZZ1s6G/GMH4xmSwn3WwT3U/ySGFjHJDUGPNf8VlqciJRVLZmyRns8jVp/sDI/N/BDI5rFjNQLQf98q48s6ReWAz2VPJ+Eooo3wXmm4ew8kF8QvYQ7EyjV/62fjRevGGah9nynTM3MWocPQR36a7HcZLRfi4gV1ZqSRcjHnzV04QufmyswA1e3Rto2YVP7ABJXicJ7uYQ/klDLFTkDRkflgDTwgauLiDtnvQPzCgucaQU5Ol5vS7GKX+kPjnD9KTzq1qmiTpC1xtC9DQo10BS66FTuvCil41tMDASQMXpCc6fwOPUQ+BQn4jBH/yX1kh8Tf/SvJrjUjheKFaptj404FrF+6wMxyK/vwY8gN7YfMxsCA5jjM1caI+yS+H5IPeLag/ig4//6giczbq4ywEk3Qj3nbN9SPkYb/nxBmeFk53dlGYioX06qoFxlin5BMsns0Q0fY07nLx4+hGTAPyKoxPJ1KkKsRgVeyZJfSW0r5wCbJHeggALDxH2t4Gfe6lJ+Jc15QrEPcA9OOH5RwbhW2gcvDUxgGReoyGJR4PccWZq6+jeVQKwb2/GmiqI5k1CL+qCgbA9JlR1nxxXfJ9Ei+hLMlBwy1f2Xerw7mzpL5jRGzLoK/c7+90HnlafU6ZiWBj6VGl/8sw83LlM+Y+8HR/IBXRbdpvdbPcaECITdVDSc2gYenGB49Dzg4Ln4McTYCiBu5q3hVLeWVp2ZVlInis0k3dl6/WVdRVt0sgXY0XlU7BSOk0NcQmNNT16U2pLKp6u72GW8qw1J4w7zmFKMOxjMV9142kndXFyi3Npuua6AptixwUEY1F8qiry7TefHzyCNYG4nIhVsZnzE2SjF/a2rfYwcgiJjhVsLRXtqtkYph7OWN0lr0dAfUW4Oo0H0tYVGreuPfYA8KE6MvDSfUT5Cz5G8mYb5uZw0mQHJTF7lyMW3lY1cCWLgUK04tX0lVnQHl47eXqbBIzdYTHJI5r4LU8rEODQhQoNk3ipLaj4YFH07w786xbixxaK818NyYBraK+XW+ysNTosPPdsZwOIiRkb7Xfr+W1prT7KrA9nHKJDGNUnpnTa2qYgk1/K2zYnjZyA/wXLh3s9PI7tRwgHJ42GgIqkbKUKCvFoHgof3XysBEYy7gDZlVJM8PWuMCmQULa3E/ljrRJrGM8eXVDFx1XSi3J8qXsYOq//UDzSSBj77uLWAEMVScnmrHExur/mTn3buISB8AZoXFn4cLs0usrgCFgxg9SLEAzC+dphIFj5IWQpAW+RFsiFg4ZnSsysodyqBB/yZEqBPww7F5ErFPY3zuMTwiQ3Ry46fpIUN1IpKgLtS8VCUQXfRCbQzKTB3db7ymsJsXmWpHoxUlCZaXaRibVmGK28vTL07ipRgoQsoCCezgJbTwxctthCsNBwp6Jo2X9CjeyuFKfyhMjwA/AGeyp/BGwBMon7LD+sUG3rCC2lT2FbEBQOY/7Q9k7AarLlgoF694duEltFUkLXTJQ416Xo0aZWcDB3b+VjQdYE9914h8SWUdcT0vuD9NswKKMEObCcngggm4sjr3ySUy3eZLKmOsl4cIRRqZ6j/VeZ3a6T5+3meu+QxcDKwUOzt8bguCIJcjjWEfSnVR4Brugqy/+1C0KZzoc5mi+SuN8jT3hs9NSwJzLlhdppQUn4Twomjx31+TTHwX0s/MJbmxmFvrksDeH6OQfwBzwLun6YQxhZ/LDEC3WiUFOplKcbw2iehnh65S82gzrwas1x/bVJGT4JY5KVVzoqOeEDB3YseOQ9YmoK/OuBIkk1aCUSuR/CdQp3Q7jzkZrlvdCFStaFfEQe06rCR3zlAP36S4+xTccd4zEi0QVTm/rl3r9qttYkpifTSMexrLZwuGo5IHABvSYtTq+ii+N06+owPSsix2cLcKNkBvVHooqFAjzkGpwMxNUjwOfCMJ60G0fiVlhwTkYXKkUtTjvKZ7I2NmJKFFbkUbrgNFX/q2nnKz/CS8n/8DJpG8SNXFkV4DMyY19Y7yo0ozg7tWdH79LcI7r2eLF9Youm5uBCtZz3H9HuUQAAAX5BmopJ4QpSZTAhn/6eEHiXpYAWCku3MFTL5XsP4aA/6jfWNCNILqlfd6deOv6Lz8JqAdy5OPwF1880ssu0ys/o51GJDj+WyXhdrmAV3vUAG2q0I0VoRQb7AUDK1+Q+hwHMcmfn3vKqH0Dlx3boXgsfSwiw5CJk1qtv1VYvkN0u3/axxHKPpzNsmcMyaMpJ7V89Lgojc0ARj5DuXhW9+qPjdwoAfR2xXmHYY7CPDLt2WtLE8sSMOM6ij/JIEk1NXj0fgE1MJJJPUc+4lJUdRTR+4Q/y01m2UmRb6KAunib/T65NMOmQeNwGtAyT14KXfsZgCOMTLYeI9OXLqauHcaoOFqJlJcyWMwCr0XT+qwVQd3hk23Y9BqsN/TCktNKwjjWCg4OaPrbuBEO770BXGK6tQFojPKwYK5XzGaehocd/OaIO9475pBl4UWPSweRH+hIp+0mtz0BJNQFd+NRU0iULUmQFguQb2yOWUGU4CkslIbHT7O5oisK2YU9Hqn+pAAABMkGeqEU0TCv/BxwvFAAFcaA/At/dKVCe+EVPH6G6EJ2bkjTefDbhSYg99dVoTclUcMKggZ7vlxpcwaGRvVTVDW/eWrxMM+DWHEWanH0H9o4vtnxXQbS//jHIopGVTdyhIDm0pGzhH/7cRzofzZnzW2GFGqsJ2jyl9sLfPnT26pGIjCiwfGUfh9f8QvfDwPJ3h+N0BLMn4oUvihWVmij3LbEMxMoC+sISvLAxSyjNcdfr3AXsPlld4xlk/58rJYV+utjHFy7g1wQVGiWK++jzGk7OncOa0axrYpEXcnvj3fWRuHOu+8KG3Oon2ZdlkjgD6LmPIFggULgZUlS/t6IErbGCEZ/WwcA1s81Fp/bD27vXH0o+hYasPULfLLXvjkgPtvmWcFAfnCcdQPEtNtwBwxIPYAAAAHABnsd0Qn8EhjP0Sash7WDLj19JYAHXlyg1qCm52mOvd3gAlq3vbBY5Fd67KL6SxjtR9iriOHpUU3IppxIBVK7+6k/dNZTD6+gcdaBuuTaatS4Ixu1fN4VWVnyG1FSjJhynSJ2wBLT4FBSTLlsTTbNgAAAAcAGeyWpCfwSHNqiopeusb0AHmqpB9WqjHtZnac0Mkh5AiACdZpTbrb/SBmCpv4Ya9c1RPRxent/mHVXGxmCCGdFzL1c+uOD54St5rjvVejsaoNoxhVvszuo7xLhXcYGkoYxkX+8prajoVORRpAgiRMEAAACrQZrLSahBaJlMCG///qeEABpaN863ncKJe+oz3XzLu0yxYufJ0/ovoNXdeM1c4AKjrLC88lLGN0eACTw+2p+6eIL9QyTMwgCpFl/3c9UZFe3gDOQaLaNnsWxNw5Kjq8pqQ7C79SL+n4xrUwFDcW2M9260uG+cq8JTQ4gjvDPue7gx8WANBNWmAe8MalduW8dd9wzOQSW5aUNHFy9m0HpMdPW/XYjJBFkiYysoAAAA3EGa7UnhClJlMFESw3/+p4V9rXgAFZnTBIDb4Lvrai2ULurTP2xpHJGzDr+oXC0jzWYKZpHoyqdMy+QAml2yQ10uV/snqmXzK1K0XpP+icibiuu3SM+lCefLI0iwHZXNxmzg51CwZ81EyJAgE/RhgIRtkXNC2HpHnW+VIsE4z5nG+w2Er9mHJh+fzGQTflCxdHzJXbgqB5YaRM5W2iZcUGICgPoXC0ylcDSB2JnFIQZRq4DxYuGaDvDVADRJUf5ZU/b2F85N2InydSCdfEdvS6XkX+Nrdh8XemKVTUwAAACEAZ8MakJ/CHoN0ysXV6vuVBefG4Bof5wGAExWZ4toJuBNUaDDN+QcR1l4zpD/Ib0KUNDLbZBDniqbBPJ4fnNY0ixbXse9fP51zczkWiTGrRooAomg3u0khRNlFCgeXD7bV+lgiXrA1x+mTTQbb7So5OQli4muLfU54TCvw+jwmvCxCcOJAAABpEGbEUnhDomUwIb//qeFgFCjM/JcALC5WM/uOTx/SIIyp5EOQ01Tui5aDGESq19qe5aT6NMPsBT/4oXSg6N48b8jV2oSxFFSjqVWoFvcImwByH/WTHDMjPpmZTOB4h8D8euCOapM7+E5UZo/gHXei+zmF6tyIRglZzSZfNoNefXuT0bkn7CdH5KVg4kN3YEFby3IABFtW6/opSP7MuZBkxhPe2rcEsDwBpVcgZcfZ9afiJK/eFM7OCRQ1HTWxJwLBpb1CUNa2kiosOq3/tLw7nq2xoXc+0AEEWWMztE/qeT19gJ/HS9B11XPVYYoni25mSxnzJGvNTCLRbyQX3DqKEWkA4dSpFnYPMtQIR8OL4Jfrx65fIgI/Fin74KoeCYpPcGGq0z0XCYRum6wEVXv2IoejHksYfFIzZhu+P5ygyIt0xG9zcqwiBK9PshCdxxEDjbLoU9gTOUJD06PLEC3tTKETiLKbX2k+LQyLNqgoQvfxfvq5gkpjG3tleBX9oSI0PtyZ5LltAHRXDb1L8kTuFpVQ5UnEBgf5/HXUKiLwHXZsAl5QQAAAM9Bny9FFTwr/wcaVmf6pxwTYAG1cwSp+kdnb4Jecm60C0QlEWyBCrErDj/A8PSHIUTCY0L5n9J7o0odqqA+de1GztkF43t2cqvuccovbGcf8o0cEvRq0LVhD2ReRMOzaSfO/HUtXEkEZW4//wUuVzsA9ogcn4YNlVMO5ewuLfnvLgMb7B24dFP3YODvabefgKMZW0LBU1fXApKPqlABcNYno4kvvAgbq9apSO8V7rliVQ9vrEMJttZoGZCaHTwdbCY8LeMd47XhwiVh6wQz9F0AAACGAZ9OdEJ/CHcUuABI/QaB2QjvPLQj/lmaRmBOrho386aJ8vKfJs404J7l3VDRdMe54PnjzK1yE+p7zS3rWsMBNXhQgRAlMryQgDWh+opyp9iDJyVrPp7Zv21vTsf8XppsOJGgY4uQeq6xqvJJGE7RJ4/H07tLdqWYOQYyBUH4CmTgQbcTkx8AAAB/AZ9QakJ/CHGgbTOPU3+Kd3HkQBYcnAFam/Ze9FzXlV3YQxI4KEjFMgCjOa3jODWD8UDoRHZf/dIKj6d58ySMFsrorj3qg9D+IY/qx5b1bINY1CemSOYSnOqJex2XkCpafuR+dQRKNZmk+wKxIttCLa/kShpnhC94IpNKE81vwAAAAZdBm1RJqEFomUwIb//+p4WIbhyABCUUJ3+oKPez7zSIoF43uLTjgkdS3tD+I21Dsk/LDMku4bkHmBszpzhkgYlMDphpm0gEE08gv5jEHyxobsDGeAoOLjjwWoeepmsDtjofZDW0WdhkJiQDrqcFwK+tSfJSYwBiKUOEk8Ihvphnk4gX6D28BrO/5IrZhAnf6zXAw/4Lqc/nVGX8aNkKkGE25iHfyjHSL2zBt2K5/BY/M0kAIxBtDDTYgFcQ7X//UCPSVhAh8VhkM0PdnpI+hJdNFkGX2jtQrOEphS2fvfzI2ZW22fGjci8rFHBP/gmtePbBxhim4thOxMRvo/grkQj+eaDVuWVEbsWkY1ejnnP3902zEjDZtUqhfWBnJjEE4Z7jVLJpdosXijDWs214c/IVUkL+UT8cyLkVVJwnLmbFTB7XcoznUpvALkRQhKwL3nE9mfahfmtgUQmfTE09EAYKakYDu0E6knqDz8uias1lhzhiQ4lDVOEe4k2TIaARS9EWWFH+dEmFDSI6BTI5afD2rKnHeSOkgQAAARVBn3JFESwr/wcaV3C+bW4pqLvhaG3dGiACcMEz4UJhuokvmz83q0WDODsZ3RmIK90UiUuMK9PNXYaxMuipk0q+/9YcXNEglTTH6Lox6UXxNUPj7DbZNA6P1of61jpK21PP7JNn+xcXuEfZ+/ZaM0S5RvJHhbD+PpRBB5G5fFYktgKEUoyUsFv+ZOmsEypVOEbgSedNq4SMhWmVbPVw0iwlPUdMMDqsSoH7KlY5lKg2/rQolSFDByHZAkrinIVsF5PazFmcS7vfaT6Hq21SKNPVIUuXuhw+r686F+U9r/YZ++y4k+1N965zWprBA4DpzcSmSigOZpFqLmhNbz1CLaP4af2wkctH6TLtGvW0Y/I0dnNuxaVAAAAAdQGfk2pCfwTHBOVOajJD2e4ATV21VPLtXxxFlfF7W8e8ByuAI1iISlOxhvoRnTTbDErHFvm9kItAf11L+tHz8waEK1AVyYZuXtu/91O6R1THLTT1dCMe+YiI34mBOmqXN45njrjzEZIt4Zgz2Yto6j+gT647gAAAAMdBm5hJqEFsmUwIb//+p4b7uDLJeeAPpN2104D5Cbss9mHh3DYub/To7UD77B4QqNs9tRGTc+SD5fEQSsxJZ4LQrG+vKB2cCpqW95AqjSwgQkE4e3MMmBgKmkWGyLGeL1HBNurCxMTDOL3jJsy6Bdh5N9Gl0XGWw4s+xtL9ra36QAgU4g4Q2eXfIIF3BtsRDqjOOWZxaPUqUq8q2SpFzMj3Lo+9rJ/9rynEUm6/6YXFvnxRe206vv4fwW2ZTnXliGD06T+I7v8hAAAA0EGftkUVLCv/CIpqvttbUIAWjcqnxQx3bSKyxRIau5vmoHnAvFonJO1hry3dinZrV/4WTb87B7Ky1OsIH168aJhMHslT/mDLPZCa/uRnahD2hI9Z5ErV3B0qau6pXJ3wjXHI+ArBDaFBBdwdHXhOgn+KHr3u6D/6B3aEBSoK5UscOnzvh3+ci3pvoIvLRBNf7uBqpuVxjWncO8i48gXspK+ss9APQbt7mz+6cJVEZsaexrgcmggpR6Bqi/4LWCamPX1UWDKDpZjPhzRu7zkvucAAAAAlAZ/VdEJ/Ci6qQjgQR22vk4YFF6+e2IxQAAmB/Mm3uAxpsPLKIQAAAD4Bn9dqQn8EicSQvbNem4Tf/AALZJNASKameD83T7aQkKYDNRU7xc2bBYLozGLPSHfw6zoC7Sxfpkl8cMiRtwAAAMJBm9xJqEFsmUwIb//+p4Qlem0CADWXnff2Nj4A+K+5ZqxIXKMUPLi8a3CjFKJvmhM1IJ91bsAsYpJaLf2oKRYjKC0eDt0H+fRxIQrcFiIn0iriaUlZ0+8hqP7/UKIRWvAsCqo5zw22yeINhE2AaTCLjWXOaT3dQx+vLjKQrWEAIP8Vwoi4sB+oZm0mUc2gmsBpPoO7sx0UQXcs8JOQgZER2jzam8zymDQ2MLmAOmVXyneoZ+wLCQgLz/nSq0YivafqxAAAAJdBn/pFFSwr/wcc3qYLGUzGUivP12bvUtBYL6f8AENWGilu1LNhXt4r6STU3Tes1mW8msVsEjRUEwbrCgu99IFtZE12HW8pyCoWtRe15JrhMC94RYZ6C+wSwFwPiKxO5cWu1cXIhv7CiWqD0GoTsow9YqEa16x2uepykyAUgHWbHWNZLWtHnvwvi652B9Oe9ZQt8PzmQJGBAAAArQGeGXRCfwA8I2XQBUrIAJ+xAorTgerOEOU70jVbmJCs71kpiNgM62oUsiGkdLGvm0fqZwU5QBWqZuwdqx8U83yLNBjYS+g8Myv/hWfp7M1smNHXKVIL7JD3oxPm0sOp8CKPjQzWJZZn3XcIcOYHRM0dU7x5IX0vY/gCcMqCeT8Sm1up1aPN85ziihBTZhxx8nmAP2BAfmyYE+vMj5ycnKk+IrNZfLR2vJ+g0Y5jAAAATAGeG2pCfwSHM+IIPTt59X1f3AFVhke4MdL/C+e6NzXkLyfg2Rg3Woy/qrL9OZn0zdEMvu+tqjUNCT97ihpuEv1TzTkaWumjYO/B2iEAAALvQZofSahBbJlMCG///qeFfa14ABWZ0wSA2+C762otlC7q0z9saSa//IlNHiw23ZuEdzJ/kOtr7S3daE3ikouOI5pQucA427kT20/FHe5Ke6XZBchyv5EIHpxL0YsoJIjSOFwrL1VUSmgXrFf+sYDe7uFrqruqd3daW2wbUv48I4SGcWpA9lCAtTZcvyLbNswjjvURm3SZtebPOXIoiuPJXlmB1DEN10jn9xlKBRO6yRU1O3p4iMprOn0W+QRmdOZ7dy8tw0hRgBjd6Vj52qSxbEirMN0lPtZvsQbDAiM4PXeRTtLHih5OfB7w0e4lHc3AsU/Tt/8X438/6xW/Upe9D/rS6udGSc0A3EFoe+jWOLpkqX5HwJzzUVqUKtu/YI6/ht9/zgok/tl20Nki3nsSa/mw4Ifg3qx1d948pBfQPF8MDYx5xh84WBdZR+f85kDbyvTDYn2aK3e0ircwj84L74SAH93BF76BHNvD1RCJ2fN7zXfCgO0WzznPYV++z89j1BPW0KvOelLhU0AIagvfMixMTqVuYFeD5xo//9TtZitHdkoy7ikJrORJP3G2tPjeOeSoEPH+bt+S1KGHc+pXP7BLFZ77lqLumteHbfZeLkA9Q2q1wldbbD1LKtmM7P43kXcMv2vC46FtUzRalYSyqFGh+wYd3roQBX7Ve0R0UYcZpHYVx2Q2xy7Use2deRzUIdwNCidyRhhKxjpP/jROqILVuwEs+t76D91+4V1OxQP0erEOtbDUtRMutFe7IEPELR6Q00JF2UnWuVtA7zrRbdc+ozYqJKXTl2WNCqNs3n1uP/kehKcMAcSsJfRyf008FqdCeY0VsCe2nJuQ4pMP+yxmBjnYXGu7WpdW87+ozOdBKs6EnZHM56burcx3kvu2ESWAw3sjmrjf8RkSn/5fUKJqtIztyrbIuE4+jJOQSeDkdhJlXON9jPhIHvaoJSjgBcKh3oAW7671RzkreNxZdk8d+36NkkC76xzy0czdkQAAAC9Bnj1FFSwr/wcaVo5E/WId85V0RdMh9yJSg3nP6O6vBNZfw1+QcLvsbxIIMnmigAAAAGUBnl5qQn8Iegiuhe0Qdq/CSnu/xo6a5p6LFJRCdgcvurncIAVuBMV4E/MXz3Rua8heT75BAU2WDymJVYGdFQ/DimwO1RWOD9PdJX/jxvAnmHDix1axpHW/Dj6C7rVYKP/xM7rOQAAAAGBBmkJJqEFsmUwIb//+p4WAUKMgCXACwoG5neBMB/gR91mCcOgY1RDRZSPnw7hQzVrF6MOv1tSjCz0PmLGMS8WO8umj+Vyq2LBczwDiBSVqP1JSbl9zHa7d8clzyPxDo0EAAABnQZ5gRRUsK/8HGAD6AEkBYA7j360TGyxQfE7N1yVkuv/mwip9SrbHFW/hipdPs4nwGJYzIZuEMKnTTn/2wq/jUrq59vjASVVt6AacoX5u1MwvQL/wUlDBcV6zA9iJxutGcFTybimHPAAAAI4BnoFqQn8If0Xs2AhX1aivXg3DSoATRiaNCO9HCWOxQPcgFd+XyUkCGqU+nv4QCZ/DrJUn3Ou9XZlO+mUiLuRddYfWcoBsufxCLwjhWjBB+GIGGDmr+0ri1EIzQ1/vL0RSnK2cliTnrMCbtNB7AIkz+9TeDEf8Got+E4xz0AXVUSBnCH5MdU+Xe6NBXkq3AAAA+EGahkmoQWyZTAhv//6nhZgqYOSF2lAAVkfkkI9Sb6hkwuQk3SwbdzA17CesV1a+GVtfn+RVzsVmV+ctQoN1jt+ZW83jmuOK/Lu/F4WJkZ8zIU0LGLslDcu3e0v4IxmtvdXC8hmbTLuMkckY2hQrF6R5YI9IVETbSFExARttwQyp8Xtz/mrBOnpLgaVMut3wr5YP841gatfvAk18geP2Is1joh9eEeKTLlpBExespaixpfh+GIl+TMwskXCIrDy8WNXtrSD6bMTzD4ZZEOQnkSzcaf9SUPObcRkvYT+u3KfuJyosmnkuxhjLBwsct8DCnGUJIHJpv3mQAAAAGUGepEUVLCv/BxpWmEKaVu1NVPr6NkxsvWUAAAAkAZ7DdEJ/ABur/XOgBQL3f/249nGtfC6Pvbni1kfN709xQEBJAAAAUgGexWpCfwSHNDeqtfbuAF/txL9JldFsgQcKpLxKigoRnFdaEfym93ufgjhRAAG4EvlK8tiyTAkWOLcu8G6t/aZSnQ7AxbaPydqAu10UZlOMm08AAAESQZrKSahBbJlMCG///qeFgFCjM/OtACU/EeFuJhvkwh2LeuSt6kkWVwgumcvOUqv97VIwDns5iKDrkAJj62Rk5hFQ7Ui/Tes36SGH2mjvE13Op79ds5s1lraz10yLto2mF4VbEyDVS7OjDe7Beji+cdR4adHOxcxaNoVv53vl99YTWbsh1kmVt7xk7F/sZpKXGNAegMbztd5T2PsHEQlgfvfalNN/oVUihxF72VxJ9HbnySPmgek+4MU54/Qe+pFQ0Oc3aLyjmoB1vCaRQzAODMtRA5sb1HX/t62koTY8p4wUcHgaHO1PDkHfDHZPjcGQN+j29v/+TN6NZ7ezMyWaYbLfnY7ZC5A09ZMpTX3zFlIJaQAAAMNBnuhFFSwr/wcTfIXN9qP7sADaui8BQsp5W86Es+k6KMEAmNYjRCXBIbA/Rf2YypZsfScBmqQB0JYYbEV71QR6He7zvKZGUZMT83BZ4Zy6o8NQelyzq8CPaHMnUazE9hV2eTi60iGKbnRUkWMvAdF1QZrl1K9ipDgC5t35rp+hzG+eqwcv637qE7O9QmAOcyvpPpkeDhYX/3wrnZg0IiRynL2pOsf6mOjl/Ue1U3zUy4GyEJbWyglbnFrUiPqbI1nkdHMAAABIAZ8HdEJ/BIYyNh99QYTxp0dABGhxD48zRWt8cTkClkK0uBAIf//kMelQ74Bai6jqtI8QMyJnXnsTHTikbc14XFSg3Wch+vEQAAAAlQGfCWpCfwSJv/EE15KTk4Aq0gAlt7M4rqGYnIancqCFMF6Xhy3FkEyvAbr3n1sCP6tQwiRfaUYt8zuyZ3F5c+/184q0iFF68c95onIq3nE6RGrCUfjOlqp7+LdwTcIbOPT5dKnjnpurt3gi/K9X/7xLfOhI/s92I7V79Fwz0mTJcBRZuzs3L3I5USEDmBrR+bVb/dUNAAACL0GbDkmoQWyZTAhn//6eEJD/32mQAAJ6XZi7H7LnB32j+RbhpP7LpzYRvq2KnSBBlcaRq24VBVTAs6T/l1Fm+1MNwAFgRpInNfEDrSlsj+p+u2Q3ZVEVismI0RgkxVP+WdhcoI1whE7+N96ZZVvzsaLS6hJ/wr3DZ4vqyoshXWNQcvpWlNNBRFHWb/A0mHL+GuFdrvaXg76msGA2TOUCNNZUG2dbX/882Cdf36LPeiEVeRoD2k1fIl0340BeRIuardRTMqTSBRkKNa6GhzCRQYlhZMERKLhJYtq5c7rg3Ei/b1+83ja05xE7Xt2cyhH2YJgYkrB+Ef+cSB3VRU1vaNGgaurue1mWme8L60lLWJo7aZYXQc1goHOyKhUlujBkIZIgP+cLCw/CrpIqUTk517J4TS0xGHCSAIEdHndQjxouGfbWQvK6T6931G1y1UZjrn0bjGgjxnxYol58esLLz1979HSmFZO37zDecfjB3aJaYOyc19+Hz8nbRTDfPiIUGeMGIVUB04AZ3FfjI7yUa4OesAPvowyVdAUnjh5MMR/xXGOvH5kAw13ENwgEBX9PWfZ2IsROJE6AQlwf4NNql85j3R5BtJbhvnx0E91MzEf2HMAN4C7AIAZekyiknB8f0y/OaSUjbLppxtr696JEyLt5LDHNVcrfQ9GiQt3je5VNjoXAgdVIdMPYySAeLXBsJLezfkPC3IVcU9Z0OxVEBNGXO/LbzU4WzVWADtaEvOYAAAI7QZ8sRRUsK/8HHN7ZCp8yKO0ryCTgLnd+ZSBX+QCR/ZC8BCrQnPstMtQpebGB+n86hbODQ695B3JnjkTdu1G0fwEJ3ryJdkORGteKOdro407Y2zngDEN8h9roKyVMK87VdCRsUAHHfbkWqHnvwb6dV/LSFJ2hN4BT3Slomh/8fKs2aPilohujcg5RD6n+KlzntuaX83v56yuKJgx7msxxFO7E79FiRSBfcFyvHRuhk80QS+XraO9bW43X4F0DSCu8wpZiwLVrFj0X2/q2HslQapVAjwg8PB/LGZdJ2aYwbC4LtwwjIAFFkRuG85DyDVTssBqV5KDdwpuygLML/21FG5sIAUqpINZ2P2R7fewyCz2h/MjCy8FKmUESvGU/iEDmKBM5xhCHu9KbL/o7n4EM/29JdfU1RRs/t6zjvNx5OA50S++nUH+wWQi+XlAQQu6WItXyZB0fF2ojJRHicSqfEN1NC3qFX+EYONV7r9fdbHvt7Q8aoLD6FKTShv06tWCGhXjqV6lV8mQoQuVLUatSvjtZouqjrUzahCbF4P7OsEpfNppwh2q6j9cse0ZnepvSu+I1Vc9f+4Sd6GgS5IsVldnHzKR3M0wGVypq9ElOLKmbFsLi92B1/TU+ph00JLnSfiMxXJu0D+AND2+QdvVgtOB4rUKboDNYxffa0K5FR6+QJiizgZ0bQU5D4QMF+Qa0f4t1l+4NfKC0+Gq/Ha6UfWPzMyhxvtq4I261JDdKOkfADyF2LvTmu1JvgAAAAG4Bn0t0Qn8EypPeprU+IlakoR26qlx+pMcdSEIAEp3O1Ezjv6m1AxuojWga+UIeF3hMRUHmALQ3yc3sQMP3B3wNy0ODef/bghARKTmPtFMg+z/d++++icO61jGnzjkYMr3bJhBxf4NeYaKY5L9vwQAAAIkBn01qQn8B73e03uJPQ5jOlzmrIW++ygPvG9bdsWDCACGmHL++1PLV9mST14DI9zEWu+uvqVabd8Teyp14r436DiuOI9N9gG7FA7ozOwELuhhcsbOuAh92uLGxi8XpHmTc2aewlObAqwalNzZPL5CsdpR4H/hR9mp+enmsqIzZw6eScQI1IHE3gQAAAYxBm09JqEFsmUwIb//+p4QktZJ4APx11Gnq2QcE5n4rA6Xg/zLhVK6lBj3a68k/lEf9rclkpCy5V/P2SB4g5lNNV0/JeUODwHEhYr9mxQ9EyVmwh8CcOPvH2B3Szfdek/+JAViwKQ+prujAn35meQ/JZQNX7gno4IVqd0haPDyBBqpOg/10/Z+Su7FRqAYtOpSR2dSnlxqfcY0NiudikXuf8cLeXaQT+G/wS966q1E8RpPZlnZlDob/jmOd//L8Ozly+wYLbheVTyMytkE0ho8RKoYaO58PJIo3Pohh2RuYzMCPsAiejzhhJVfrdOqa2OYjx9KUHIubbg+X9nuy9gUTXqSHYM6KhNBqL37gQ+5s3dECGbLrGXzlqsgFozdAagSvieG4t9FH6L5myvzYYmcrENaxuYAJLdBiGDbj1rvFfc1vB3Nx9fAkW+BzZKG6AlXk5TbIA7kkzA8OvR5oD5hAnepL8vli4s8IrGKb48uP0CNWpM6Wyw7Kp/xDwv+87SoEofiwRu5Un3fgWykAAALVQZtySeEKUmUwIZ/+nhRduDsZO+iYABavv2Uip6YqQvs5tzHUYQGde77wYiWypvA0/BYqmRSEb42c72v1hIQr7KjTJDk92zj2cW3E9leBV0YkDTiU5l0wfA+oHBZMsNirxw0qTxCWwFtmYKtzAPRFUJHqMhcORJ/KJZDMHiuBM1yw7bSHghMGI6DcVR0zOUOii6BoGMZRMB5+uvosLRabZbHzDlv2RlZRj493EHi2TePxVAFTB22zmfZSFqr3ZlOTVsfCSHsKweZF24a6jmovWaMoLtE7veXow2kOBo3fr/rDfLERo6AF3d4K+89lV9+FiRE+1LVhNDb7K+isBftKpmEkQkNQKHT0D0T128gp/PLgDSZ13elLm1gsMus42vwrfMKGAzPVzF/sB8RJ/w5iB7SZa3xfnJCeOL/ZKijEsjaTdZadAt3/ZnUJTw76lS7c0nG4OMfeghWtaZv8udnDRKHwDla/PocfE9RJImQjD3uEUKSTfG0HU+LQ2ETCdejNl5QaNCHYYpV+dIOmdV6MkPmhhW+OWzhen0MKTi5qPVR65JHk5buUkv4ABIUwdmDInTL2Sp9+9VtmnL7kovdMCzoP15XHLSnjy+MVtJwf88Y3G/8qQUXukArwMNY7pEAVIwZzg9+ItvmZEbwOUKNu78wpu8eIDL6ffBwwnKupgp4WDC5uka5Zf0EcIjxnh/z3XTh2elxdHoyixzZIt6rpmtvsD3KlrutVFBEO1QqNP9Ed7LMm248YcUJeQlhKdhoXXIHgzAE5RdZUcIuS8DLPLybnvmcwnc8M+tMkB5HoviKxuvbpIgxpAr2M3kU1+6FEEuz3DLVCOVRwB8WgS2hsDih+xTD4ioqRpXfpmIw3Z5oSUyP6K149OEZ9m0SEWHJMXnLBXx+JA/u0RlLkUgkLpSpH6U0Yl6PmBzqh8iDW/zBgG9c1/u6+qjKx7m/kIiaNJc4OiRAAAAB8QZ+QRTRMK/8HGlaYI2x7TeNkTmuZ1WYpV4tSKvqfCOvvgh8jhUDAo5GtgBJNjHwELXkPSdwxWKBSzPC/Caa5lzzPCJcDWte41kP114CausDBwOvUoIepJQY2gpKA5cMY6GXCgfzC+QkAAj6Ouv+d3sz/bgZWn3ROsSSf/AAAAPYBn7FqQn8Ehymerf7ih3Z7z/b4F1G1L7C2eXuzYC7Y/wZH9hh26AFq+VQ1Agba1+8DzhSRGFJj19Q+/VwsPQKRzozXvlpnZhnhnHtd/S9n7jtH0d+nJKF2cb52TixeSSyENH14jTaK0B8RzogG6+FvKNctBocWzIosqVP9i6M281Kla3s5C26lbEfyId9oNaLXBx/nbOkl4lC7/i5G9d8OlW8CmWlxg3q/NAQfxLxfqJNMTc4bklK+a48j+Nxcrt+ztSGsqEf5kWBmtuUWHamFyb6I04uJ3yB0YsTFccv6I9vkcXbQCtG6hcpx0Srh32y50qUHVLEAAAVEQZu2SahBaJlMCF///oy01sBOqC1gBn9VBNZQhoZX6eF/dEa91U0UVw7syBm2OkUQysgVkbnWnzZzRkR9/v29lf7WBkugql9Wz0ZPCRTSPVZ4fnuKp4o+DqSYqFylLA1WbVe0oun/OZq7iNLQl43L4KyJa9nE7I/ZQD5Zn2r4ZXSe0DrS1CISG/btnPLGtjdarNI3B+TBUmXpWCoXj6hF57buTguzWgADSNVCSJKwValfe4vEGjKq4lRSn06qOkNQ2cvY4o9/Uj62HGYWFzhVKUdfesPAqgoll2mIcK9J2cvy6SHqzl0+LCI/6DcH5zG0jW/SYY9cdA50jk+kKTXlX+BwojZNVkA6S+yW4oUEtoZtolJBwjQvkJ+m+sUmoJTjisDC/P3Qm3DJcNPZJJ2ql1JwClQuykjtYwYG/HcR1RbhqzCWJaW+feKcyk1VnHkRXGTs2cdl7Wo6fc4LFgscfoWBe6P0S5WsWtvYff3O4HzuG0lBopxvwOZgnAEfDxVlQgrExl9BZCZwsxkJSoBPC/evm92NOQsYFd/eVEjcGPhtAoJWnABqY9oJAouR4VhcekOQ22W4eP7PH1X8Imual2sk82xXVzrKPlOHxFNuF74LsiZbhVq8/IFeuTsOA30len3jYH7GDHIKgBVAX02FTVT2/bCT6aHzT0ryI4ragZ6eIMjxXbcQ/lvVwtPMgm/RixXgEOv0A6qlu+LBd5l6+bMA/oAIIYVjQDQm6P/qo/PULL04ijpNyQCjgswuwHGLLOLkUWUUGNdC+Ij/HdPbtoDGJlAFr2HJQXbhzHZyxqxVRXpjfCGtG0RVUI0bFUgEJ2hBHFPE93JORKqMaYpMRzfBITDive1pwvxLxGUyUEeLn8UW2xrc30lET8OU9uxUPo+4ZsDgp0Il23dFjdAxfoGA0ipn8DWzU8BCVgzz6mty9p1tA+jOtkTbDrT394X+XrDXp62R31tKCfUSXR9itAynFQSE0yNX7yYrliiyFuD+QJbKRni4QVqautMwH9KHZcWuWUpeiyWZbjZVkgXVkhX6SAV3FOYmq5EMUMeRzyb6zOpNfEj4aZ36UCwaeSAKYKWxDGwAJCe0WNQxseDJdVS+erm5WddBQAeDgsDa4+lkWZpvInCfJY3XwcgMEfCETZE6Tv7xXfHFQat1/1/eNBjLPL2Z78vN9fj/5VxJmG5yry2MbpxpBNyG5mZc3I/+5hQMAAOAvmiyC4waarpJBehetSyzPgdODhiGApFOB7YDyJ4wuQUlJJJjYzUMUaPG/QIkjSGkRqbJ492o+xHzr3tdiMvMjkKVrJmyPAAIXN6sbwQz0BBCcl0xwkPBmsZa7GMTyq0HOIyw7/KQbWrmPSquBpwKn+lR4qSHIqD1/Gm8g9o0lgHZHSIM3fi0lRjNBHTkiz2xX3qJ7q7yS0zp3YjWncknRXf1d16jQBm9rhQgbX2bc8x3kGbEM0usiaencwO7Y6g3JxmpmwzRITL/hPmtRB/70VYJUTFA3Y7ZxVDRd3EKUiFcUHmTW7dLYCQQCKdnnqSz6kZE2ZYbHGFviILmNHWvwNfRaSQdIP8TFPwGcFMGBNcR/e7JEKgsY252NVgNDi29GnMHt8Cv1+HwSaWsjpRFxJjR58kaQUOb7ad5eMejJqH8EymV1oEKxR8vli/eWnA71yqW2MD6I4ILkwzYLW+5lJsnJN2zo8bfibF1arSWjfyUWeSoh+W0xM3c9zSaDGfwIYkB1M2qRR1sapZcHaK15wT7VzzKxI0VUlOJv2wZmgiuYL8aEMq4s6BOW/HdUAAAAQRBn9RFESwr/wcTfQZy2ABV1cqafmFNofeRn7T6umktwNGvKxQpVIWtc6SMdbuXIHE+/lmkpLXORz/71Euzx1D2DShl6Cg1+ey9cqcg6KqwiwXcvSJxa/IIa6qL+FKbkw16K6+um0wlMtKLN5tfO71pimdK7WUNyS/Bm47QIAN+SVkyBRnx5hGBmZ2vTcuUFUFQK/ZloZRVnuJvML191elJmfeomyhcOfydxRIm9f14enJhiI+EwTECpGwdqW9NnWQRhaptTYjJLOCzEf0otOUpExYb7Swlmj2XGe8cy1h7XEtRHy5LNXOjQDNPOtU7cX0SBxhbxCjJ6VlA2kBjXzEbdrkLcwAAAKEBn/N0Qn8Eio5hzEkkLPS1TLpb0tsS5LJdKiF5FMhCOsuPcffOZs9dbPipUqM3ZpgCV2vwVIWHUvYEnGPOMHTb0rpWXCACceE0u/ndJjqzI/NvtW5tpdzIQn8+GUpzSXTRr1XG0gRxEG8KXpFpgyv7JdbyKYXWr4eNLvmFXzDbWXrujJrLyNqL1t+6Ss5t7O6X21FBFyAp+QqcjtGpw/RkCQAAAeEBn/VqQn8EibrF6sFNAzObo360j5U+xAVjC2HZMUtI1hITYreR7wnjgAEKL0AG5rRSAzPBLNtLxTklAuodlqk6SCA+h9JPZeBTSUG/mVy+Q1v1LMcRkx4ULZ66sZfnMxQtElhlwVKCnzYXinjn6ZsBtxhn+1UfkGznRARf82hSvkIQ29TsCOPT7bNrj4nvpo9fsxhzG1wIKCIfYAYKZ7KpUgO5SK6unRIF7fxzBuf1QVaOB9uHvMwS8oYo3bGAHFM6W8niLZFkFJa3jUq3nETKvT4BfdkPoL9ZOIgKRUhDoN4Ko2EG5XTTaEhKnPaW5brPbVVfHYnuu9QTZ0fiWk0/2AIL8ixvxDDCFUI3dt3JBLGgWiumEft8irj0CvzJsnAofL56cZm097pDON3PMDtFrLtXekAGtDexyUH52/YwJIK7OyPAb1wpCzFj4UVeN44WSzR0ENeVOaE6jjcWSIT4zL3kVF8aUz4kS41AjEYv3CB9C1KTMrsXQ+nKC+HeLUSUM6/uoiadW9GMFrt2v6sN67qRl9/I5mXwy1lkXEAbmY57RP8L40o2kUZC0lihT0P/1Lv467zONWRUD7WPWHbMYd0EieBRGHs8LSrc801PQi5kPvSfEnwUpibRXMmEyrgUAAAF8UGb+UmoQWyZTAhP//4b7Ke+MAipSdlOEwXErZ9dekXz8DhqD4VO71GuX9Wg3sbUhddWvfu+OHI/18KdMp6NXaCCU0toQobwcgB1R7PtW/L+2ISAec/58b9jtRK1hGnNKH6FyCrZulbnkYTYkqnRAJthZjr+fgHzFVb24KOIlLvQPyWVYS2Lhxxj1ytwslDnT6kDc2ZPrt4+lHlX7DYm7fv+dYY2XGyrTX3IOLVKS+U351122RbSWlsq5Se3m+WQMyR3IJ/ogkXB4ggrwbQSBdCHlzFeJFRWCRrYPP64TzhciPJCM6KIHEPkR/JRf+H7UveLci/LYZt2NfxCSnSg4f54nyuyCb6ivwX3bCCwi40mTseJOIZTlfm9dtmvKGQq0B9GNBIwj3zCfGOmSWOG/gv3sghra2IiCIkeNEs5oz9Xssbk5C0aY4J2Fr8NCnEMbtoeHjzzFuJz87X6pzEwaCZYZsVKgMN3Gz681fylJ7kl2plPZ8aZB70htKGXcmR588VB4an/h38o8mASlYjYeVGl115cFEZzMiM5udxMkXx6SEor9dsx8dR8F4nw7ttx4L4/61O3oDzFyeKmPKpiikeG5gF3AdJlfYBPXYmINW2H4EPzwulq2ekrzaJFidiv8oJlE/jnMNStDWsNwBqh3n9NBSKD5W15kKDI/JCzv2F9A+VnUmaAMCP/qSb598BAAlQI5flev3YXXMy4LYrHvoQyPaCcvlakeILc/przzxr6SsHUkOaucTHFMazqZsKzjPOT1yurkzwTQJE0+uIVAkgLgo8jUy0BcOTKUK/WkadqUQvNiZf/x+Hzx6/30RzlG3LXxVh1SYO+Y/a1Qt5cwVUhqEzzP5nG2R8LVGJwNQR63A8jQ8n/roZdfsM+GB2xtxiKHTuHgWb99gTh2HYkcV8PRrKaeWS9E28t15i1oghsaI6uVJHW0c2XnS/MibBPqqs7B07puOy6JIsv3IWdxvcP6kdbMDUWA+Rf0GJQiYcqvzSiZwBfW+q9FjFiU1WVMSlObQPjhIndXcnJCOhJZcmIz/URgkYdJ7X1kF15/LVnwKWaJzTKcX6Jfa9k7DZKluhhnWyPb1LBQjt+pl9R5qQs3x2dzbBd1lj05w0U39EDwIu9njB3dbNgKvXR41LiAIFsdrnGxQu7BrBpujHS0quDi1Hc4Iei3QJ9KfZRcVDguf7rtyglcmpyYg8dDUvmHeyQv3w1342+t2YKXNX54/5LPbbRCLtK5eex/1LRBJ+fAgYXBK4IWolPc4KDSGRpERgLn+dsKh/CDUkiExxUkTvboKMxRKRJRcn+nOmzqptvor4OGojBIOM90aescJ1ScldqGM7bH/knyl7Zj+hbemQxzc19qeJQOf7OjPVIQ/vptwLVZ0acvUtg1PfCF5/HHUcRkyRdDpLNoiJf/01ZBjKLdagprI3RVSzUuJxFKEC0mmZ77KA9vmP8k/ns0Kp/yhlHtM37YtPWdhbyWZtwOpoTKuYHZcxSoUmX9tWyfd2kKcbvwRB46TTwD6EPtss7FF7aXIpXrYGD+C/UG4/bkEcjUZBn7uH/VdUj1Xz83P4fnbuFaP/kIJdxZcGAavJWfPweJnP+AW+Lqq4G+Vl6xIG9Pt+C0Uud97xSpNi1jgLfyiQIcePuj7XDk8PLWcwinQhsqJtq30sOPGwWg1Rp26F7dWo8NuuAPVHfk4aGGR7plVegB4FB4krQZdh9vxwTuy/r8YuMYBEt4sMTq5C7NOHKHLMVw0qSh/TxzKpDi8sbBKjIcxV+tVbw7qqTiCrNYn18rAIQSox1B7cO+aVVPi14ntyLUh6gVCPj9WpV/xEW/Z3SL0gbH1pZfsPu0amFpRwFG0tEDZ4uO9DuX3sDAGXGn7IDbNL19UQOFWOlllBzt11up39s14frYlwNx2PvRpwkqHRLchBy8xNWfMBy/FsMmEgAYUs9rOL30LMeNojRCteJr4kR+OP56ubMp3d5Or3WdLIEnXO3KmxuaqC41N5UmJU0WPhgCYcytDRjjvtpOQAAAWZBnhdFFSwr/ye1/NiOEEfaiARHUm1bnumt3x7Kx9D9dCVLbj4c9DtumsSL7816cnkDNrTybNaZi5fXrDCpvWMAE7Ns3GLxiQ0IsnY9laBMhw9zW6BbKPO4UPgxTJ3oP5+IbSzmKnAcb43zITqPWKACcAk+UnLGEcDkkSdBWQ2MJkiNNExtGYlCKtU/hVU0R0kiy9YYb48k1Tym9PnkDllm1MwX7JjKJB5rH0qTQ++Dfi/fNJ8D6WwvzSxB+mZoHJi7Aetf5BxRyloL/1BXurrtz2Le8KvxBqrr4hT7Y+AK9JV1xverY4MLZ8g56rig2mUN4nwhj9+R4+yiIk3Ys6LKiD+qu4+goplHtTayU4QwAz7lA5IMEvIGOBa6Ovf5kUme1dyO9uSc6slf/O5tALFeCjPsa43GYpZ/DmWTJVqDVPLrlGbtJXVt5UAlT4zfvjLdnG+AQamIy8FNNjmyAxniX+hXNxzhAAABjwGeOGpCfy0zYVshNR86SujoK8dhDsOhMeKLZzmyutW2J9P+lCAFqqJgJEpr7p2rn0y1il6dzXqJDirsoONm2ST/zxmE/o3CyIAfQH+ooLYbC0HDJXgwsZuAHCSgyCO5+AXzSjTDVMWsQt8m3mye8TNstsALQutGkepowIwyZjst3FMHhYtNuWkYXYLgv3I3R4KySsLAgEJJaISP9sb+WFg/CHCs4pvvVQ19+NH6b2q2gYSoaoRbXwRNROT+TXc6YWsaUszCnP+Profvdxd88yJaX52o31yhqHi8WsOm799xs0Vfoo+/3EivjehqVaB/i4++Xw0AN5XNN0TviY9U3yc0U30UvH24yTHXxReAHdAEiveoAFJ10ZJYhmsGpZp8w6na+BPtV9m4DBz9lgpd5C1stZx7raRzwGCQzvhFFViUvngeSO3VDspM2tU7mIGll3NXSnpmv6JilZ/dQlczkr3iwrJ857m+0eYrQ6QqT7BdiBRPnBkT74zhdQCGaMlgVn/wjJRXTmOIx5/qjXSrwAAADJptb292AAAAbG12aGQAAAAAAAAAAAAAAAAAAAPoAAAcYwABAAABAAAAAAAAAAAAAAAAAQAAAAAAAAAAAAAAAAAAAAEAAAAAAAAAAAAAAAAAAEAAAAAAAAAAAAAAAAAAAAAAAAAAAAAAAAAAAAAAAAACAAALxHRyYWsAAABcdGtoZAAAAAMAAAAAAAAAAAAAAAEAAAAAAAAcYwAAAAAAAAAAAAAAAAAAAAAAAQAAAAAAAAAAAAAAAAAAAAEAAAAAAAAAAAAAAAAAAEAAAAABAAAAAPAAAAAAACRlZHRzAAAAHGVsc3QAAAAAAAAAAQAAHGMAAAQAAAEAAAAACzxtZGlhAAAAIG1kaGQAAAAAAAAAAAAAAAAAADwAAAG0AFXEAAAAAAAtaGRscgAAAAAAAAAAdmlkZQAAAAAAAAAAAAAAAFZpZGVvSGFuZGxlcgAAAArnbWluZgAAABR2bWhkAAAAAQAAAAAAAAAAAAAAJGRpbmYAAAAcZHJlZgAAAAAAAAABAAAADHVybCAAAAABAAAKp3N0YmwAAACvc3RzZAAAAAAAAAABAAAAn2F2YzEAAAAAAAAAAQAAAAAAAAAAAAAAAAAAAAABAADwAEgAAABIAAAAAAAAAAEAAAAAAAAAAAAAAAAAAAAAAAAAAAAAAAAAAAAAAAAAAAAY//8AAAA1YXZjQwFkAA3/4QAYZ2QADazZQQH6EAAAAwAQAAADA8DxQplgAQAGaOvjyyLA/fj4AAAAABRidHJ0AAAAAAABhR8AAYUfAAAAGHN0dHMAAAAAAAAAAQAAANoAAAIAAAAAFHN0c3MAAAAAAAAAAQAAAAEAAAYYY3R0cwAAAAAAAADBAAAAAQAABAAAAAABAAAIAAAAAAIAAAIAAAAAAQAACgAAAAABAAAEAAAAAAEAAAAAAAAAAQAAAgAAAAABAAAEAAAAAAEAAAYAAAAAAQAAAgAAAAABAAAGAAAAAAEAAAIAAAAAAwAABAAAAAABAAAGAAAAAAEAAAIAAAAAAQAABgAAAAABAAACAAAAAAQAAAQAAAAAAQAABgAAAAABAAACAAAAAAQAAAQAAAAAAQAABgAAAAABAAACAAAAAAEAAAgAAAAAAgAAAgAAAAACAAAEAAAAAAEAAAYAAAAAAQAAAgAAAAABAAAGAAAAAAEAAAIAAAAAAQAACgAAAAABAAAEAAAAAAEAAAAAAAAAAQAAAgAAAAABAAAIAAAAAAIAAAIAAAAAAQAACgAAAAABAAAEAAAAAAEAAAAAAAAAAQAAAgAAAAABAAAKAAAAAAEAAAQAAAAAAQAAAAAAAAABAAACAAAAAAEAAAoAAAAAAQAABAAAAAABAAAAAAAAAAEAAAIAAAAAAQAACAAAAAACAAACAAAAAAEAAAoAAAAAAQAABAAAAAABAAAAAAAAAAEAAAIAAAAAAgAABAAAAAABAAAKAAAAAAEAAAQAAAAAAQAAAAAAAAABAAACAAAAAAEAAAQAAAAAAQAACgAAAAABAAAEAAAAAAEAAAAAAAAAAQAAAgAAAAABAAAIAAAAAAIAAAIAAAAAAQAABAAAAAABAAAKAAAAAAEAAAQAAAAAAQAAAAAAAAABAAACAAAAAAEAAAoAAAAAAQAABAAAAAABAAAAAAAAAAEAAAIAAAAAAQAABgAAAAABAAACAAAAAAEAAAQAAAAAAQAACgAAAAABAAAEAAAAAAEAAAAAAAAAAQAAAgAAAAACAAAEAAAAAAEAAAoAAAAAAQAABAAAAAABAAAAAAAAAAEAAAIAAAAAAQAACgAAAAABAAAEAAAAAAEAAAAAAAAAAQAAAgAAAAABAAAKAAAAAAEAAAQAAAAAAQAAAAAAAAABAAACAAAAAAEAAAoAAAAAAQAABAAAAAABAAAAAAAAAAEAAAIAAAAAAQAACgAAAAABAAAEAAAAAAEAAAAAAAAAAQAAAgAAAAABAAAKAAAAAAEAAAQAAAAAAQAAAAAAAAABAAACAAAAAAEAAAoAAAAAAQAABAAAAAABAAAAAAAAAAEAAAIAAAAAAQAACgAAAAABAAAEAAAAAAEAAAAAAAAAAQAAAgAAAAABAAAKAAAAAAEAAAQAAAAAAQAAAAAAAAABAAACAAAAAAEAAAgAAAAAAgAAAgAAAAABAAAGAAAAAAEAAAIAAAAAAQAACgAAAAABAAAEAAAAAAEAAAAAAAAAAQAAAgAAAAABAAAKAAAAAAEAAAQAAAAAAQAAAAAAAAABAAACAAAAAAEAAAYAAAAAAQAAAgAAAAABAAAIAAAAAAIAAAIAAAAAAQAABgAAAAABAAACAAAAAAMAAAQAAAAAAQAACgAAAAABAAAEAAAAAAEAAAAAAAAAAQAAAgAAAAABAAAKAAAAAAEAAAQAAAAAAQAAAAAAAAABAAACAAAAAAEAAAQAAAAAAQAACgAAAAABAAAEAAAAAAEAAAAAAAAAAQAAAgAAAAABAAAEAAAAAAEAAAYAAAAAAQAAAgAAAAABAAAKAAAAAAEAAAQAAAAAAQAAAAAAAAABAAACAAAAAAEAAAgAAAAAAgAAAgAAAAABAAAKAAAAAAEAAAQAAAAAAQAAAAAAAAABAAACAAAAAAEAAAoAAAAAAQAABAAAAAABAAAAAAAAAAEAAAIAAAAAAQAACAAAAAACAAACAAAAAAEAAAgAAAAAAgAAAgAAAAABAAAKAAAAAAEAAAQAAAAAAQAAAAAAAAABAAACAAAAAAEAAAoAAAAAAQAABAAAAAABAAAAAAAAAAEAAAIAAAAAAQAACgAAAAABAAAEAAAAAAEAAAAAAAAAAQAAAgAAAAABAAAEAAAAAAEAAAgAAAAAAgAAAgAAAAABAAAKAAAAAAEAAAQAAAAAAQAAAAAAAAABAAACAAAAAAEAAAgAAAAAAgAAAgAAAAAcc3RzYwAAAAAAAAABAAAAAQAAANoAAAABAAADfHN0c3oAAAAAAAAAAAAAANoAAB0jAAABYwAAAJEAAABxAAADEwAAAM4AAACyAAAAwwAAAhAAAATtAAAAbAAABr4AAAEbAAAEMAAAA4AAAAMWAAADNQAAAS8AAAVNAAACUgAAAbsAAADmAAAEqwAAA78AAARUAAACbwAAAtQAAAb6AAAA2gAAAhIAAAFmAAABfwAABH4AAAEDAAAAsAAAAeAAAAH/AAACjAAAAE0AAASDAAABPwAABFwAAASIAAACBQAAAlEAAAfOAAAB3AAAAc0AAANTAAABsQAAAZQAAAF+AAAC0AAAATYAAAEgAAABGwAAAcMAAADDAAAAmAAAAP8AAAF3AAAA1AAAAQUAAAFeAAAAgQAAAQsAAAE9AAABggAAAW4AAADFAAAAlAAAAKkAAACkAAAAkwAAAPIAAABjAAAAUgAAAEsAAACTAAAAbAAAAKwAAADDAAAA0wAAAHkAAAApAAAAYgAAAL4AAADCAAAAowAAALIAAAE9AAAAuAAAANsAAADzAAABQwAAARoAAAE/AAABeAAAARkAAAcrAAABcgAAASkAAAExAAACYAAAAKQAAAD1AAAATQAAAUsAAADzAAAA9QAAANoAAAJfAAABVAAAAR4AAAEvAAABwQAAAScAAAFLAAAA2QAAAP0AAADDAAAA5gAAAOAAAAB2AAAAjAAAAF4AAACSAAABJQAAAEMAAAChAAAATQAAAIQAAABFAAAALAAAAGEAAACnAAAAIgAAADIAAAGYAAAA1wAAAU0AAAE/AAAAhgAAALYAAAHZAAAAtwAAAVkAAAFqAAADfQAAAY8AAALeAAACDQAAAW4AAAUmAAABKAAAAvAAAAMdAAACAQAABC8AAAFPAAAA/QAAAM4AAAHyAAAA+gAAAJIAAACiAAAGSAAAAYIAAAE2AAAAdAAAAHQAAACvAAAA4AAAAIgAAAGoAAAA0wAAAIoAAACDAAABmwAAARkAAAB5AAAAywAAANQAAAApAAAAQgAAAMYAAACbAAAAsQAAAFAAAALzAAAAMwAAAGkAAABkAAAAawAAAJIAAAD8AAAAHQAAACgAAABWAAABFgAAAMcAAABMAAAAmQAAAjMAAAI/AAAAcgAAAI0AAAGQAAAC2QAAAIAAAAD6AAAFSAAAAQgAAAClAAAB5QAABfUAAAFqAAABkwAAABRzdGNvAAAAAAAAAAEAAAAwAAAAYnVkdGEAAABabWV0YQAAAAAAAAAhaGRscgAAAAAAAAAAbWRpcmFwcGwAAAAAAAAAAAAAAAAtaWxzdAAAACWpdG9vAAAAHWRhdGEAAAABAAAAAExhdmY1OC43Ni4xMDA=\" type=\"video/mp4\" />\n",
              "             </video>"
            ]
          },
          "metadata": {}
        }
      ]
    },
    {
      "cell_type": "markdown",
      "source": [
        "## 4. Training"
      ],
      "metadata": {
        "id": "BRG6GPup6jpj"
      }
    },
    {
      "cell_type": "markdown",
      "source": [
        "The original version of the training loop is from https://colab.research.google.com/drive/1NsbSPn6jOcaJB_mp9TmkgQX7UrRIrTi0.\n",
        "\n",
        "The version of the training loop which was implemented and slightly adapted is from https://github.com/DrJessop/MarioReinforcementLearning/tree/master."
      ],
      "metadata": {
        "id": "pgT-Uu-y4T2N"
      }
    },
    {
      "cell_type": "code",
      "source": [
        "# Function to train the agent\n",
        "def train(training_mode, pretrained, num_episodes):\n",
        "\n",
        "    # Creating the environment\n",
        "    env = gym_super_mario_bros.make('SuperMarioBros-1-1-v0')\n",
        "    env = make_env(env)  # Wraps the environment so that frames are grayscale\n",
        "\n",
        "    # Checking if a pretrained model should be loaded\n",
        "    # if pretrained:\n",
        "    #   env = RecordVideo(env, './video',  episode_trigger = lambda episode_number: True)\n",
        "\n",
        "    # Setting up the observation and the action space\n",
        "    observation_space = env.observation_space.shape\n",
        "    action_space = env.action_space.n\n",
        "\n",
        "    # Creating the agent\n",
        "    agent = DQNAgent(state_space=observation_space,\n",
        "                     action_space=action_space,\n",
        "                     max_memory_size=30000,\n",
        "                     batch_size=32,\n",
        "                     gamma=0.90,\n",
        "                     lr=0.00025,\n",
        "                     dropout=0.,\n",
        "                     exploration_max=1.0,\n",
        "                     exploration_min=0.02,\n",
        "                     exploration_decay=0.99,\n",
        "                     double_dq=True,\n",
        "                     pretrained=pretrained)\n",
        "\n",
        "    # num_episodes = 1000\n",
        "    # Initializing the environment\n",
        "    env.reset()\n",
        "    total_rewards, episodes = [], []\n",
        "\n",
        "    # Training loop => is executed as often as defined when calling the function\n",
        "    for ep_num in tqdm(range(num_episodes)):\n",
        "        state = env.reset()\n",
        "        state = torch.Tensor([state])\n",
        "        total_reward, steps = 0, 0\n",
        "\n",
        "        # Performing the epsiodes\n",
        "        while True:\n",
        "            # Getting the action to perform\n",
        "            action = agent.act(state)\n",
        "            steps += 1\n",
        "\n",
        "            # Performing the predicted action\n",
        "            state_next, reward, done, info = env.step(int(action[0]))\n",
        "            total_reward += reward\n",
        "            state_next = torch.Tensor([state_next])\n",
        "            reward = torch.tensor([reward]).unsqueeze(0)\n",
        "\n",
        "            # Transformation of the done variable\n",
        "            done = torch.tensor([int(done)]).unsqueeze(0)\n",
        "\n",
        "            # Taking experience of previous episodes into account during training\n",
        "            if training_mode:\n",
        "                agent.remember(state, action, reward, state_next, done)\n",
        "                agent.experience_replay()\n",
        "\n",
        "            state = state_next\n",
        "\n",
        "            # Checking if the agent reached the goal or if the time is up\n",
        "            if done:\n",
        "                break\n",
        "\n",
        "        # Saving the rewards and episodes\n",
        "        total_rewards.append(total_reward)\n",
        "        episodes.append(ep_num)\n",
        "\n",
        "        # Printing the achieved reward for each episode\n",
        "        print(\"Total reward after episode {} is {}\".format(ep_num + 1, total_rewards[-1]))\n",
        "        # num_episodes += 1\n",
        "\n",
        "    # Saving the model weights/experience during training\n",
        "    if training_mode:\n",
        "        with open(\"ending_position.pkl\", \"wb\") as f:\n",
        "            pickle.dump(agent.ending_position, f)\n",
        "        with open(\"num_in_queue.pkl\", \"wb\") as f:\n",
        "            pickle.dump(agent.num_in_queue, f)\n",
        "        with open(\"total_rewards.pkl\", \"wb\") as f:\n",
        "            pickle.dump(total_rewards, f)\n",
        "        if agent.double_dq:\n",
        "            torch.save(agent.local_net.state_dict(), \"dq1.pt\")\n",
        "            torch.save(agent.target_net.state_dict(), \"dq2.pt\")\n",
        "        else:\n",
        "            torch.save(agent.dqn.state_dict(), \"dq.pt\")\n",
        "\n",
        "        torch.save(agent.STATE_MEM,  \"STATE_MEM.pt\")\n",
        "        torch.save(agent.ACTION_MEM, \"ACTION_MEM.pt\")\n",
        "        torch.save(agent.REWARD_MEM, \"REWARD_MEM.pt\")\n",
        "        torch.save(agent.STATE2_MEM, \"STATE2_MEM.pt\")\n",
        "        torch.save(agent.DONE_MEM,   \"DONE_MEM.pt\")\n",
        "\n",
        "    env.close()\n",
        "    return total_rewards, episodes"
      ],
      "metadata": {
        "id": "ROt-HCUP6ldN"
      },
      "execution_count": 13,
      "outputs": []
    },
    {
      "cell_type": "code",
      "source": [
        "# Training the agent for 1000 episodes\n",
        "total_rewards, episodes = train(training_mode=True, pretrained=False, num_episodes=1000)"
      ],
      "metadata": {
        "colab": {
          "base_uri": "https://localhost:8080/"
        },
        "id": "3EMyy3KF9RGT",
        "outputId": "93e953be-3b5d-428b-8e35-f9fd3864b315"
      },
      "execution_count": 14,
      "outputs": [
        {
          "output_type": "stream",
          "name": "stderr",
          "text": [
            "/usr/local/lib/python3.10/dist-packages/gym/envs/registration.py:593: UserWarning: \u001b[33mWARN: The environment SuperMarioBros-1-1-v0 is out of date. You should consider upgrading to version `v3`.\u001b[0m\n",
            "  logger.warn(\n",
            "/usr/local/lib/python3.10/dist-packages/gym/core.py:317: DeprecationWarning: \u001b[33mWARN: Initializing wrapper in old step API which returns one bool instead of two. It is recommended to set `new_step_api=True` to use new step API. This will be the default behaviour in future.\u001b[0m\n",
            "  deprecation(\n",
            "/usr/local/lib/python3.10/dist-packages/gym/wrappers/step_api_compatibility.py:39: DeprecationWarning: \u001b[33mWARN: Initializing environment in old step API which returns one bool instead of two. It is recommended to set `new_step_api=True` to use new step API. This will be the default behaviour in future.\u001b[0m\n",
            "  deprecation(\n"
          ]
        },
        {
          "output_type": "stream",
          "name": "stdout",
          "text": [
            "True\n",
            "cuda\n"
          ]
        },
        {
          "output_type": "stream",
          "name": "stderr",
          "text": [
            "  0%|          | 1/1000 [00:21<5:54:01, 21.26s/it]"
          ]
        },
        {
          "output_type": "stream",
          "name": "stdout",
          "text": [
            "Total reward after episode 1 is 1007.0\n"
          ]
        },
        {
          "output_type": "stream",
          "name": "stderr",
          "text": [
            "\r  0%|          | 2/1000 [00:22<2:36:54,  9.43s/it]"
          ]
        },
        {
          "output_type": "stream",
          "name": "stdout",
          "text": [
            "Total reward after episode 2 is 233.0\n"
          ]
        },
        {
          "output_type": "stream",
          "name": "stderr",
          "text": [
            "\r  0%|          | 3/1000 [00:23<1:35:32,  5.75s/it]"
          ]
        },
        {
          "output_type": "stream",
          "name": "stdout",
          "text": [
            "Total reward after episode 3 is 231.0\n"
          ]
        },
        {
          "output_type": "stream",
          "name": "stderr",
          "text": [
            "\r  0%|          | 4/1000 [00:25<1:10:55,  4.27s/it]"
          ]
        },
        {
          "output_type": "stream",
          "name": "stdout",
          "text": [
            "Total reward after episode 4 is 231.0\n"
          ]
        },
        {
          "output_type": "stream",
          "name": "stderr",
          "text": [
            "\r  0%|          | 5/1000 [00:26<51:51,  3.13s/it]  "
          ]
        },
        {
          "output_type": "stream",
          "name": "stdout",
          "text": [
            "Total reward after episode 5 is 231.0\n"
          ]
        },
        {
          "output_type": "stream",
          "name": "stderr",
          "text": [
            "\r  1%|          | 6/1000 [00:27<40:25,  2.44s/it]"
          ]
        },
        {
          "output_type": "stream",
          "name": "stdout",
          "text": [
            "Total reward after episode 6 is 231.0\n"
          ]
        },
        {
          "output_type": "stream",
          "name": "stderr",
          "text": [
            "\r  1%|          | 7/1000 [00:29<35:21,  2.14s/it]"
          ]
        },
        {
          "output_type": "stream",
          "name": "stdout",
          "text": [
            "Total reward after episode 7 is 231.0\n"
          ]
        },
        {
          "output_type": "stream",
          "name": "stderr",
          "text": [
            "\r  1%|          | 8/1000 [00:31<32:51,  1.99s/it]"
          ]
        },
        {
          "output_type": "stream",
          "name": "stdout",
          "text": [
            "Total reward after episode 8 is 225.0\n"
          ]
        },
        {
          "output_type": "stream",
          "name": "stderr",
          "text": [
            "\r  1%|          | 9/1000 [00:32<28:22,  1.72s/it]"
          ]
        },
        {
          "output_type": "stream",
          "name": "stdout",
          "text": [
            "Total reward after episode 9 is 231.0\n"
          ]
        },
        {
          "output_type": "stream",
          "name": "stderr",
          "text": [
            "\r  1%|          | 10/1000 [00:33<25:23,  1.54s/it]"
          ]
        },
        {
          "output_type": "stream",
          "name": "stdout",
          "text": [
            "Total reward after episode 10 is 231.0\n"
          ]
        },
        {
          "output_type": "stream",
          "name": "stderr",
          "text": [
            "\r  1%|          | 11/1000 [00:47<1:30:08,  5.47s/it]"
          ]
        },
        {
          "output_type": "stream",
          "name": "stdout",
          "text": [
            "Total reward after episode 11 is 519.0\n"
          ]
        },
        {
          "output_type": "stream",
          "name": "stderr",
          "text": [
            "\r  1%|          | 12/1000 [00:48<1:06:59,  4.07s/it]"
          ]
        },
        {
          "output_type": "stream",
          "name": "stdout",
          "text": [
            "Total reward after episode 12 is 252.0\n"
          ]
        },
        {
          "output_type": "stream",
          "name": "stderr",
          "text": [
            "\r  1%|▏         | 13/1000 [00:49<50:31,  3.07s/it]  "
          ]
        },
        {
          "output_type": "stream",
          "name": "stdout",
          "text": [
            "Total reward after episode 13 is 251.0\n"
          ]
        },
        {
          "output_type": "stream",
          "name": "stderr",
          "text": [
            "\r  1%|▏         | 14/1000 [00:50<39:00,  2.37s/it]"
          ]
        },
        {
          "output_type": "stream",
          "name": "stdout",
          "text": [
            "Total reward after episode 14 is 249.0\n"
          ]
        },
        {
          "output_type": "stream",
          "name": "stderr",
          "text": [
            "\r  2%|▏         | 15/1000 [00:50<30:52,  1.88s/it]"
          ]
        },
        {
          "output_type": "stream",
          "name": "stdout",
          "text": [
            "Total reward after episode 15 is 248.0\n"
          ]
        },
        {
          "output_type": "stream",
          "name": "stderr",
          "text": [
            "\r  2%|▏         | 16/1000 [00:51<25:22,  1.55s/it]"
          ]
        },
        {
          "output_type": "stream",
          "name": "stdout",
          "text": [
            "Total reward after episode 16 is 249.0\n"
          ]
        },
        {
          "output_type": "stream",
          "name": "stderr",
          "text": [
            "\r  2%|▏         | 17/1000 [00:52<21:24,  1.31s/it]"
          ]
        },
        {
          "output_type": "stream",
          "name": "stdout",
          "text": [
            "Total reward after episode 17 is 252.0\n"
          ]
        },
        {
          "output_type": "stream",
          "name": "stderr",
          "text": [
            "\r  2%|▏         | 18/1000 [00:53<18:39,  1.14s/it]"
          ]
        },
        {
          "output_type": "stream",
          "name": "stdout",
          "text": [
            "Total reward after episode 18 is 252.0\n"
          ]
        },
        {
          "output_type": "stream",
          "name": "stderr",
          "text": [
            "\r  2%|▏         | 19/1000 [00:54<18:28,  1.13s/it]"
          ]
        },
        {
          "output_type": "stream",
          "name": "stdout",
          "text": [
            "Total reward after episode 19 is 248.0\n"
          ]
        },
        {
          "output_type": "stream",
          "name": "stderr",
          "text": [
            "\r  2%|▏         | 20/1000 [00:55<18:45,  1.15s/it]"
          ]
        },
        {
          "output_type": "stream",
          "name": "stdout",
          "text": [
            "Total reward after episode 20 is 252.0\n"
          ]
        },
        {
          "output_type": "stream",
          "name": "stderr",
          "text": [
            "\r  2%|▏         | 21/1000 [00:56<17:25,  1.07s/it]"
          ]
        },
        {
          "output_type": "stream",
          "name": "stdout",
          "text": [
            "Total reward after episode 21 is 252.0\n"
          ]
        },
        {
          "output_type": "stream",
          "name": "stderr",
          "text": [
            "\r  2%|▏         | 22/1000 [00:57<15:52,  1.03it/s]"
          ]
        },
        {
          "output_type": "stream",
          "name": "stdout",
          "text": [
            "Total reward after episode 22 is 251.0\n"
          ]
        },
        {
          "output_type": "stream",
          "name": "stderr",
          "text": [
            "\r  2%|▏         | 23/1000 [00:57<14:50,  1.10it/s]"
          ]
        },
        {
          "output_type": "stream",
          "name": "stdout",
          "text": [
            "Total reward after episode 23 is 251.0\n"
          ]
        },
        {
          "output_type": "stream",
          "name": "stderr",
          "text": [
            "\r  2%|▏         | 24/1000 [00:58<14:00,  1.16it/s]"
          ]
        },
        {
          "output_type": "stream",
          "name": "stdout",
          "text": [
            "Total reward after episode 24 is 248.0\n"
          ]
        },
        {
          "output_type": "stream",
          "name": "stderr",
          "text": [
            "\r  2%|▎         | 25/1000 [00:59<13:33,  1.20it/s]"
          ]
        },
        {
          "output_type": "stream",
          "name": "stdout",
          "text": [
            "Total reward after episode 25 is 249.0\n"
          ]
        },
        {
          "output_type": "stream",
          "name": "stderr",
          "text": [
            "\r  3%|▎         | 26/1000 [01:00<13:16,  1.22it/s]"
          ]
        },
        {
          "output_type": "stream",
          "name": "stdout",
          "text": [
            "Total reward after episode 26 is 250.0\n"
          ]
        },
        {
          "output_type": "stream",
          "name": "stderr",
          "text": [
            "\r  3%|▎         | 27/1000 [01:01<13:05,  1.24it/s]"
          ]
        },
        {
          "output_type": "stream",
          "name": "stdout",
          "text": [
            "Total reward after episode 27 is 249.0\n"
          ]
        },
        {
          "output_type": "stream",
          "name": "stderr",
          "text": [
            "\r  3%|▎         | 28/1000 [01:01<12:55,  1.25it/s]"
          ]
        },
        {
          "output_type": "stream",
          "name": "stdout",
          "text": [
            "Total reward after episode 28 is 251.0\n"
          ]
        },
        {
          "output_type": "stream",
          "name": "stderr",
          "text": [
            "\r  3%|▎         | 29/1000 [01:02<12:51,  1.26it/s]"
          ]
        },
        {
          "output_type": "stream",
          "name": "stdout",
          "text": [
            "Total reward after episode 29 is 251.0\n"
          ]
        },
        {
          "output_type": "stream",
          "name": "stderr",
          "text": [
            "\r  3%|▎         | 30/1000 [01:03<12:35,  1.28it/s]"
          ]
        },
        {
          "output_type": "stream",
          "name": "stdout",
          "text": [
            "Total reward after episode 30 is 252.0\n"
          ]
        },
        {
          "output_type": "stream",
          "name": "stderr",
          "text": [
            "\r  3%|▎         | 31/1000 [01:04<12:22,  1.31it/s]"
          ]
        },
        {
          "output_type": "stream",
          "name": "stdout",
          "text": [
            "Total reward after episode 31 is 252.0\n"
          ]
        },
        {
          "output_type": "stream",
          "name": "stderr",
          "text": [
            "\r  3%|▎         | 32/1000 [01:04<12:11,  1.32it/s]"
          ]
        },
        {
          "output_type": "stream",
          "name": "stdout",
          "text": [
            "Total reward after episode 32 is 250.0\n"
          ]
        },
        {
          "output_type": "stream",
          "name": "stderr",
          "text": [
            "\r  3%|▎         | 33/1000 [01:05<12:18,  1.31it/s]"
          ]
        },
        {
          "output_type": "stream",
          "name": "stdout",
          "text": [
            "Total reward after episode 33 is 251.0\n"
          ]
        },
        {
          "output_type": "stream",
          "name": "stderr",
          "text": [
            "\r  3%|▎         | 34/1000 [01:06<13:20,  1.21it/s]"
          ]
        },
        {
          "output_type": "stream",
          "name": "stdout",
          "text": [
            "Total reward after episode 34 is 251.0\n"
          ]
        },
        {
          "output_type": "stream",
          "name": "stderr",
          "text": [
            "\r  4%|▎         | 35/1000 [01:07<15:05,  1.07it/s]"
          ]
        },
        {
          "output_type": "stream",
          "name": "stdout",
          "text": [
            "Total reward after episode 35 is 247.0\n"
          ]
        },
        {
          "output_type": "stream",
          "name": "stderr",
          "text": [
            "\r  4%|▎         | 36/1000 [01:08<15:34,  1.03it/s]"
          ]
        },
        {
          "output_type": "stream",
          "name": "stdout",
          "text": [
            "Total reward after episode 36 is 252.0\n"
          ]
        },
        {
          "output_type": "stream",
          "name": "stderr",
          "text": [
            "\r  4%|▎         | 37/1000 [01:09<14:38,  1.10it/s]"
          ]
        },
        {
          "output_type": "stream",
          "name": "stdout",
          "text": [
            "Total reward after episode 37 is 251.0\n"
          ]
        },
        {
          "output_type": "stream",
          "name": "stderr",
          "text": [
            "\r  4%|▍         | 38/1000 [01:10<13:53,  1.15it/s]"
          ]
        },
        {
          "output_type": "stream",
          "name": "stdout",
          "text": [
            "Total reward after episode 38 is 252.0\n"
          ]
        },
        {
          "output_type": "stream",
          "name": "stderr",
          "text": [
            "\r  4%|▍         | 39/1000 [01:11<13:26,  1.19it/s]"
          ]
        },
        {
          "output_type": "stream",
          "name": "stdout",
          "text": [
            "Total reward after episode 39 is 251.0\n"
          ]
        },
        {
          "output_type": "stream",
          "name": "stderr",
          "text": [
            "\r  4%|▍         | 40/1000 [01:11<12:59,  1.23it/s]"
          ]
        },
        {
          "output_type": "stream",
          "name": "stdout",
          "text": [
            "Total reward after episode 40 is 252.0\n"
          ]
        },
        {
          "output_type": "stream",
          "name": "stderr",
          "text": [
            "\r  4%|▍         | 41/1000 [01:12<12:38,  1.26it/s]"
          ]
        },
        {
          "output_type": "stream",
          "name": "stdout",
          "text": [
            "Total reward after episode 41 is 252.0\n"
          ]
        },
        {
          "output_type": "stream",
          "name": "stderr",
          "text": [
            "\r  4%|▍         | 42/1000 [01:13<12:38,  1.26it/s]"
          ]
        },
        {
          "output_type": "stream",
          "name": "stdout",
          "text": [
            "Total reward after episode 42 is 252.0\n"
          ]
        },
        {
          "output_type": "stream",
          "name": "stderr",
          "text": [
            "\r  4%|▍         | 43/1000 [01:14<12:22,  1.29it/s]"
          ]
        },
        {
          "output_type": "stream",
          "name": "stdout",
          "text": [
            "Total reward after episode 43 is 250.0\n"
          ]
        },
        {
          "output_type": "stream",
          "name": "stderr",
          "text": [
            "\r  4%|▍         | 44/1000 [01:14<12:12,  1.30it/s]"
          ]
        },
        {
          "output_type": "stream",
          "name": "stdout",
          "text": [
            "Total reward after episode 44 is 248.0\n"
          ]
        },
        {
          "output_type": "stream",
          "name": "stderr",
          "text": [
            "\r  4%|▍         | 45/1000 [01:15<12:14,  1.30it/s]"
          ]
        },
        {
          "output_type": "stream",
          "name": "stdout",
          "text": [
            "Total reward after episode 45 is 251.0\n"
          ]
        },
        {
          "output_type": "stream",
          "name": "stderr",
          "text": [
            "\r  5%|▍         | 46/1000 [01:16<12:02,  1.32it/s]"
          ]
        },
        {
          "output_type": "stream",
          "name": "stdout",
          "text": [
            "Total reward after episode 46 is 248.0\n"
          ]
        },
        {
          "output_type": "stream",
          "name": "stderr",
          "text": [
            "\r  5%|▍         | 47/1000 [01:17<12:05,  1.31it/s]"
          ]
        },
        {
          "output_type": "stream",
          "name": "stdout",
          "text": [
            "Total reward after episode 47 is 250.0\n"
          ]
        },
        {
          "output_type": "stream",
          "name": "stderr",
          "text": [
            "\r  5%|▍         | 48/1000 [01:18<13:52,  1.14it/s]"
          ]
        },
        {
          "output_type": "stream",
          "name": "stdout",
          "text": [
            "Total reward after episode 48 is 252.0\n"
          ]
        },
        {
          "output_type": "stream",
          "name": "stderr",
          "text": [
            "\r  5%|▍         | 49/1000 [01:19<14:26,  1.10it/s]"
          ]
        },
        {
          "output_type": "stream",
          "name": "stdout",
          "text": [
            "Total reward after episode 49 is 248.0\n"
          ]
        },
        {
          "output_type": "stream",
          "name": "stderr",
          "text": [
            "\r  5%|▌         | 50/1000 [01:23<31:28,  1.99s/it]"
          ]
        },
        {
          "output_type": "stream",
          "name": "stdout",
          "text": [
            "Total reward after episode 50 is 625.0\n"
          ]
        },
        {
          "output_type": "stream",
          "name": "stderr",
          "text": [
            "\r  5%|▌         | 51/1000 [01:25<32:13,  2.04s/it]"
          ]
        },
        {
          "output_type": "stream",
          "name": "stdout",
          "text": [
            "Total reward after episode 51 is 639.0\n"
          ]
        },
        {
          "output_type": "stream",
          "name": "stderr",
          "text": [
            "\r  5%|▌         | 52/1000 [01:28<32:37,  2.06s/it]"
          ]
        },
        {
          "output_type": "stream",
          "name": "stdout",
          "text": [
            "Total reward after episode 52 is 636.0\n"
          ]
        },
        {
          "output_type": "stream",
          "name": "stderr",
          "text": [
            "\r  5%|▌         | 53/1000 [01:30<32:19,  2.05s/it]"
          ]
        },
        {
          "output_type": "stream",
          "name": "stdout",
          "text": [
            "Total reward after episode 53 is 631.0\n"
          ]
        },
        {
          "output_type": "stream",
          "name": "stderr",
          "text": [
            "\r  5%|▌         | 54/1000 [01:33<40:30,  2.57s/it]"
          ]
        },
        {
          "output_type": "stream",
          "name": "stdout",
          "text": [
            "Total reward after episode 54 is 621.0\n"
          ]
        },
        {
          "output_type": "stream",
          "name": "stderr",
          "text": [
            "\r  6%|▌         | 55/1000 [01:39<52:49,  3.35s/it]"
          ]
        },
        {
          "output_type": "stream",
          "name": "stdout",
          "text": [
            "Total reward after episode 55 is 1035.0\n"
          ]
        },
        {
          "output_type": "stream",
          "name": "stderr",
          "text": [
            "\r  6%|▌         | 56/1000 [01:40<46:03,  2.93s/it]"
          ]
        },
        {
          "output_type": "stream",
          "name": "stdout",
          "text": [
            "Total reward after episode 56 is 609.0\n"
          ]
        },
        {
          "output_type": "stream",
          "name": "stderr",
          "text": [
            "\r  6%|▌         | 57/1000 [01:42<41:47,  2.66s/it]"
          ]
        },
        {
          "output_type": "stream",
          "name": "stdout",
          "text": [
            "Total reward after episode 57 is 633.0\n"
          ]
        },
        {
          "output_type": "stream",
          "name": "stderr",
          "text": [
            "\r  6%|▌         | 58/1000 [01:51<1:08:09,  4.34s/it]"
          ]
        },
        {
          "output_type": "stream",
          "name": "stdout",
          "text": [
            "Total reward after episode 58 is 1322.0\n"
          ]
        },
        {
          "output_type": "stream",
          "name": "stderr",
          "text": [
            "\r  6%|▌         | 59/1000 [01:56<1:14:33,  4.75s/it]"
          ]
        },
        {
          "output_type": "stream",
          "name": "stdout",
          "text": [
            "Total reward after episode 59 is 1033.0\n"
          ]
        },
        {
          "output_type": "stream",
          "name": "stderr",
          "text": [
            "\r  6%|▌         | 60/1000 [02:00<1:06:35,  4.25s/it]"
          ]
        },
        {
          "output_type": "stream",
          "name": "stdout",
          "text": [
            "Total reward after episode 60 is 649.0\n"
          ]
        },
        {
          "output_type": "stream",
          "name": "stderr",
          "text": [
            "\r  6%|▌         | 61/1000 [02:02<55:50,  3.57s/it]  "
          ]
        },
        {
          "output_type": "stream",
          "name": "stdout",
          "text": [
            "Total reward after episode 61 is 621.0\n"
          ]
        },
        {
          "output_type": "stream",
          "name": "stderr",
          "text": [
            "\r  6%|▌         | 62/1000 [02:04<49:49,  3.19s/it]"
          ]
        },
        {
          "output_type": "stream",
          "name": "stdout",
          "text": [
            "Total reward after episode 62 is 617.0\n"
          ]
        },
        {
          "output_type": "stream",
          "name": "stderr",
          "text": [
            "\r  6%|▋         | 63/1000 [02:08<56:02,  3.59s/it]"
          ]
        },
        {
          "output_type": "stream",
          "name": "stdout",
          "text": [
            "Total reward after episode 63 is 1037.0\n"
          ]
        },
        {
          "output_type": "stream",
          "name": "stderr",
          "text": [
            "\r  6%|▋         | 64/1000 [02:11<53:01,  3.40s/it]"
          ]
        },
        {
          "output_type": "stream",
          "name": "stdout",
          "text": [
            "Total reward after episode 64 is 652.0\n"
          ]
        },
        {
          "output_type": "stream",
          "name": "stderr",
          "text": [
            "\r  6%|▋         | 65/1000 [02:13<45:54,  2.95s/it]"
          ]
        },
        {
          "output_type": "stream",
          "name": "stdout",
          "text": [
            "Total reward after episode 65 is 627.0\n"
          ]
        },
        {
          "output_type": "stream",
          "name": "stderr",
          "text": [
            "\r  7%|▋         | 66/1000 [02:14<35:43,  2.29s/it]"
          ]
        },
        {
          "output_type": "stream",
          "name": "stdout",
          "text": [
            "Total reward after episode 66 is 251.0\n"
          ]
        },
        {
          "output_type": "stream",
          "name": "stderr",
          "text": [
            "\r  7%|▋         | 67/1000 [02:15<31:32,  2.03s/it]"
          ]
        },
        {
          "output_type": "stream",
          "name": "stdout",
          "text": [
            "Total reward after episode 67 is 250.0\n"
          ]
        },
        {
          "output_type": "stream",
          "name": "stderr",
          "text": [
            "\r  7%|▋         | 68/1000 [02:20<42:55,  2.76s/it]"
          ]
        },
        {
          "output_type": "stream",
          "name": "stdout",
          "text": [
            "Total reward after episode 68 is 626.0\n"
          ]
        },
        {
          "output_type": "stream",
          "name": "stderr",
          "text": [
            "\r  7%|▋         | 69/1000 [02:23<46:54,  3.02s/it]"
          ]
        },
        {
          "output_type": "stream",
          "name": "stdout",
          "text": [
            "Total reward after episode 69 is 607.0\n"
          ]
        },
        {
          "output_type": "stream",
          "name": "stderr",
          "text": [
            "\r  7%|▋         | 70/1000 [02:26<42:43,  2.76s/it]"
          ]
        },
        {
          "output_type": "stream",
          "name": "stdout",
          "text": [
            "Total reward after episode 70 is 633.0\n"
          ]
        },
        {
          "output_type": "stream",
          "name": "stderr",
          "text": [
            "\r  7%|▋         | 71/1000 [02:38<1:29:06,  5.75s/it]"
          ]
        },
        {
          "output_type": "stream",
          "name": "stdout",
          "text": [
            "Total reward after episode 71 is 1413.0\n"
          ]
        },
        {
          "output_type": "stream",
          "name": "stderr",
          "text": [
            "\r  7%|▋         | 72/1000 [02:40<1:10:32,  4.56s/it]"
          ]
        },
        {
          "output_type": "stream",
          "name": "stdout",
          "text": [
            "Total reward after episode 72 is 623.0\n"
          ]
        },
        {
          "output_type": "stream",
          "name": "stderr",
          "text": [
            "\r  7%|▋         | 73/1000 [02:47<1:19:53,  5.17s/it]"
          ]
        },
        {
          "output_type": "stream",
          "name": "stdout",
          "text": [
            "Total reward after episode 73 is 796.0\n"
          ]
        },
        {
          "output_type": "stream",
          "name": "stderr",
          "text": [
            "\r  7%|▋         | 74/1000 [02:50<1:10:45,  4.59s/it]"
          ]
        },
        {
          "output_type": "stream",
          "name": "stdout",
          "text": [
            "Total reward after episode 74 is 635.0\n"
          ]
        },
        {
          "output_type": "stream",
          "name": "stderr",
          "text": [
            "\r  8%|▊         | 75/1000 [02:51<53:19,  3.46s/it]  "
          ]
        },
        {
          "output_type": "stream",
          "name": "stdout",
          "text": [
            "Total reward after episode 75 is 248.0\n"
          ]
        },
        {
          "output_type": "stream",
          "name": "stderr",
          "text": [
            "\r  8%|▊         | 76/1000 [02:54<53:43,  3.49s/it]"
          ]
        },
        {
          "output_type": "stream",
          "name": "stdout",
          "text": [
            "Total reward after episode 76 is 616.0\n"
          ]
        },
        {
          "output_type": "stream",
          "name": "stderr",
          "text": [
            "\r  8%|▊         | 77/1000 [02:55<41:14,  2.68s/it]"
          ]
        },
        {
          "output_type": "stream",
          "name": "stdout",
          "text": [
            "Total reward after episode 77 is 249.0\n"
          ]
        },
        {
          "output_type": "stream",
          "name": "stderr",
          "text": [
            "\r  8%|▊         | 78/1000 [02:59<47:08,  3.07s/it]"
          ]
        },
        {
          "output_type": "stream",
          "name": "stdout",
          "text": [
            "Total reward after episode 78 is 626.0\n"
          ]
        },
        {
          "output_type": "stream",
          "name": "stderr",
          "text": [
            "\r  8%|▊         | 79/1000 [03:03<50:16,  3.28s/it]"
          ]
        },
        {
          "output_type": "stream",
          "name": "stdout",
          "text": [
            "Total reward after episode 79 is 630.0\n"
          ]
        },
        {
          "output_type": "stream",
          "name": "stderr",
          "text": [
            "\r  8%|▊         | 80/1000 [03:05<46:29,  3.03s/it]"
          ]
        },
        {
          "output_type": "stream",
          "name": "stdout",
          "text": [
            "Total reward after episode 80 is 632.0\n"
          ]
        },
        {
          "output_type": "stream",
          "name": "stderr",
          "text": [
            "\r  8%|▊         | 81/1000 [03:06<36:18,  2.37s/it]"
          ]
        },
        {
          "output_type": "stream",
          "name": "stdout",
          "text": [
            "Total reward after episode 81 is 251.0\n"
          ]
        },
        {
          "output_type": "stream",
          "name": "stderr",
          "text": [
            "\r  8%|▊         | 82/1000 [03:15<1:05:31,  4.28s/it]"
          ]
        },
        {
          "output_type": "stream",
          "name": "stdout",
          "text": [
            "Total reward after episode 82 is 1305.0\n"
          ]
        },
        {
          "output_type": "stream",
          "name": "stderr",
          "text": [
            "\r  8%|▊         | 83/1000 [03:17<56:27,  3.69s/it]  "
          ]
        },
        {
          "output_type": "stream",
          "name": "stdout",
          "text": [
            "Total reward after episode 83 is 629.0\n"
          ]
        },
        {
          "output_type": "stream",
          "name": "stderr",
          "text": [
            "\r  8%|▊         | 84/1000 [03:19<48:36,  3.18s/it]"
          ]
        },
        {
          "output_type": "stream",
          "name": "stdout",
          "text": [
            "Total reward after episode 84 is 625.0\n"
          ]
        },
        {
          "output_type": "stream",
          "name": "stderr",
          "text": [
            "\r  8%|▊         | 85/1000 [03:21<42:50,  2.81s/it]"
          ]
        },
        {
          "output_type": "stream",
          "name": "stdout",
          "text": [
            "Total reward after episode 85 is 627.0\n"
          ]
        },
        {
          "output_type": "stream",
          "name": "stderr",
          "text": [
            "\r  9%|▊         | 86/1000 [03:30<1:10:42,  4.64s/it]"
          ]
        },
        {
          "output_type": "stream",
          "name": "stdout",
          "text": [
            "Total reward after episode 86 is 578.0\n"
          ]
        },
        {
          "output_type": "stream",
          "name": "stderr",
          "text": [
            "\r  9%|▊         | 87/1000 [03:32<57:55,  3.81s/it]  "
          ]
        },
        {
          "output_type": "stream",
          "name": "stdout",
          "text": [
            "Total reward after episode 87 is 627.0\n"
          ]
        },
        {
          "output_type": "stream",
          "name": "stderr",
          "text": [
            "\r  9%|▉         | 88/1000 [03:34<50:09,  3.30s/it]"
          ]
        },
        {
          "output_type": "stream",
          "name": "stdout",
          "text": [
            "Total reward after episode 88 is 631.0\n"
          ]
        },
        {
          "output_type": "stream",
          "name": "stderr",
          "text": [
            "\r  9%|▉         | 89/1000 [03:41<1:07:02,  4.42s/it]"
          ]
        },
        {
          "output_type": "stream",
          "name": "stdout",
          "text": [
            "Total reward after episode 89 is 628.0\n"
          ]
        },
        {
          "output_type": "stream",
          "name": "stderr",
          "text": [
            "\r  9%|▉         | 90/1000 [03:43<55:50,  3.68s/it]  "
          ]
        },
        {
          "output_type": "stream",
          "name": "stdout",
          "text": [
            "Total reward after episode 90 is 627.0\n"
          ]
        },
        {
          "output_type": "stream",
          "name": "stderr",
          "text": [
            "\r  9%|▉         | 91/1000 [03:53<1:22:35,  5.45s/it]"
          ]
        },
        {
          "output_type": "stream",
          "name": "stdout",
          "text": [
            "Total reward after episode 91 is 1566.0\n"
          ]
        },
        {
          "output_type": "stream",
          "name": "stderr",
          "text": [
            "\r  9%|▉         | 92/1000 [03:53<1:01:20,  4.05s/it]"
          ]
        },
        {
          "output_type": "stream",
          "name": "stdout",
          "text": [
            "Total reward after episode 92 is 252.0\n"
          ]
        },
        {
          "output_type": "stream",
          "name": "stderr",
          "text": [
            "\r  9%|▉         | 93/1000 [03:59<1:07:47,  4.48s/it]"
          ]
        },
        {
          "output_type": "stream",
          "name": "stdout",
          "text": [
            "Total reward after episode 93 is 769.0\n"
          ]
        },
        {
          "output_type": "stream",
          "name": "stderr",
          "text": [
            "\r  9%|▉         | 94/1000 [04:00<51:01,  3.38s/it]  "
          ]
        },
        {
          "output_type": "stream",
          "name": "stdout",
          "text": [
            "Total reward after episode 94 is 251.0\n"
          ]
        },
        {
          "output_type": "stream",
          "name": "stderr",
          "text": [
            "\r 10%|▉         | 95/1000 [04:02<46:17,  3.07s/it]"
          ]
        },
        {
          "output_type": "stream",
          "name": "stdout",
          "text": [
            "Total reward after episode 95 is 625.0\n"
          ]
        },
        {
          "output_type": "stream",
          "name": "stderr",
          "text": [
            "\r 10%|▉         | 96/1000 [04:14<1:28:00,  5.84s/it]"
          ]
        },
        {
          "output_type": "stream",
          "name": "stdout",
          "text": [
            "Total reward after episode 96 is 1280.0\n"
          ]
        },
        {
          "output_type": "stream",
          "name": "stderr",
          "text": [
            "\r 10%|▉         | 97/1000 [04:15<1:06:18,  4.41s/it]"
          ]
        },
        {
          "output_type": "stream",
          "name": "stdout",
          "text": [
            "Total reward after episode 97 is 251.0\n"
          ]
        },
        {
          "output_type": "stream",
          "name": "stderr",
          "text": [
            "\r 10%|▉         | 98/1000 [04:21<1:12:49,  4.84s/it]"
          ]
        },
        {
          "output_type": "stream",
          "name": "stdout",
          "text": [
            "Total reward after episode 98 is 625.0\n"
          ]
        },
        {
          "output_type": "stream",
          "name": "stderr",
          "text": [
            "\r 10%|▉         | 99/1000 [04:26<1:13:44,  4.91s/it]"
          ]
        },
        {
          "output_type": "stream",
          "name": "stdout",
          "text": [
            "Total reward after episode 99 is 1589.0\n"
          ]
        },
        {
          "output_type": "stream",
          "name": "stderr",
          "text": [
            "\r 10%|█         | 100/1000 [04:27<54:59,  3.67s/it] "
          ]
        },
        {
          "output_type": "stream",
          "name": "stdout",
          "text": [
            "Total reward after episode 100 is 252.0\n"
          ]
        },
        {
          "output_type": "stream",
          "name": "stderr",
          "text": [
            "\r 10%|█         | 101/1000 [04:29<48:32,  3.24s/it]"
          ]
        },
        {
          "output_type": "stream",
          "name": "stdout",
          "text": [
            "Total reward after episode 101 is 234.0\n"
          ]
        },
        {
          "output_type": "stream",
          "name": "stderr",
          "text": [
            "\r 10%|█         | 102/1000 [04:32<44:12,  2.95s/it]"
          ]
        },
        {
          "output_type": "stream",
          "name": "stdout",
          "text": [
            "Total reward after episode 102 is 248.0\n"
          ]
        },
        {
          "output_type": "stream",
          "name": "stderr",
          "text": [
            "\r 10%|█         | 103/1000 [04:32<34:32,  2.31s/it]"
          ]
        },
        {
          "output_type": "stream",
          "name": "stdout",
          "text": [
            "Total reward after episode 103 is 250.0\n"
          ]
        },
        {
          "output_type": "stream",
          "name": "stderr",
          "text": [
            "\r 10%|█         | 104/1000 [04:44<1:14:10,  4.97s/it]"
          ]
        },
        {
          "output_type": "stream",
          "name": "stdout",
          "text": [
            "Total reward after episode 104 is 1399.0\n"
          ]
        },
        {
          "output_type": "stream",
          "name": "stderr",
          "text": [
            "\r 10%|█         | 105/1000 [04:46<1:03:32,  4.26s/it]"
          ]
        },
        {
          "output_type": "stream",
          "name": "stdout",
          "text": [
            "Total reward after episode 105 is 618.0\n"
          ]
        },
        {
          "output_type": "stream",
          "name": "stderr",
          "text": [
            "\r 11%|█         | 106/1000 [04:47<48:09,  3.23s/it]  "
          ]
        },
        {
          "output_type": "stream",
          "name": "stdout",
          "text": [
            "Total reward after episode 106 is 251.0\n"
          ]
        },
        {
          "output_type": "stream",
          "name": "stderr",
          "text": [
            "\r 11%|█         | 107/1000 [04:53<58:53,  3.96s/it]"
          ]
        },
        {
          "output_type": "stream",
          "name": "stdout",
          "text": [
            "Total reward after episode 107 is 1432.0\n"
          ]
        },
        {
          "output_type": "stream",
          "name": "stderr",
          "text": [
            "\r 11%|█         | 108/1000 [04:56<54:02,  3.63s/it]"
          ]
        },
        {
          "output_type": "stream",
          "name": "stdout",
          "text": [
            "Total reward after episode 108 is 634.0\n"
          ]
        },
        {
          "output_type": "stream",
          "name": "stderr",
          "text": [
            "\r 11%|█         | 109/1000 [04:58<46:54,  3.16s/it]"
          ]
        },
        {
          "output_type": "stream",
          "name": "stdout",
          "text": [
            "Total reward after episode 109 is 632.0\n"
          ]
        },
        {
          "output_type": "stream",
          "name": "stderr",
          "text": [
            "\r 11%|█         | 110/1000 [05:01<46:52,  3.16s/it]"
          ]
        },
        {
          "output_type": "stream",
          "name": "stdout",
          "text": [
            "Total reward after episode 110 is 625.0\n"
          ]
        },
        {
          "output_type": "stream",
          "name": "stderr",
          "text": [
            "\r 11%|█         | 111/1000 [05:04<49:01,  3.31s/it]"
          ]
        },
        {
          "output_type": "stream",
          "name": "stdout",
          "text": [
            "Total reward after episode 111 is 618.0\n"
          ]
        },
        {
          "output_type": "stream",
          "name": "stderr",
          "text": [
            "\r 11%|█         | 112/1000 [05:05<37:50,  2.56s/it]"
          ]
        },
        {
          "output_type": "stream",
          "name": "stdout",
          "text": [
            "Total reward after episode 112 is 251.0\n"
          ]
        },
        {
          "output_type": "stream",
          "name": "stderr",
          "text": [
            "\r 11%|█▏        | 113/1000 [05:12<54:11,  3.67s/it]"
          ]
        },
        {
          "output_type": "stream",
          "name": "stdout",
          "text": [
            "Total reward after episode 113 is 1428.0\n"
          ]
        },
        {
          "output_type": "stream",
          "name": "stderr",
          "text": [
            "\r 11%|█▏        | 114/1000 [05:16<56:48,  3.85s/it]"
          ]
        },
        {
          "output_type": "stream",
          "name": "stdout",
          "text": [
            "Total reward after episode 114 is 1435.0\n"
          ]
        },
        {
          "output_type": "stream",
          "name": "stderr",
          "text": [
            "\r 12%|█▏        | 115/1000 [05:18<48:16,  3.27s/it]"
          ]
        },
        {
          "output_type": "stream",
          "name": "stdout",
          "text": [
            "Total reward after episode 115 is 627.0\n"
          ]
        },
        {
          "output_type": "stream",
          "name": "stderr",
          "text": [
            "\r 12%|█▏        | 116/1000 [05:21<46:37,  3.16s/it]"
          ]
        },
        {
          "output_type": "stream",
          "name": "stdout",
          "text": [
            "Total reward after episode 116 is 632.0\n"
          ]
        },
        {
          "output_type": "stream",
          "name": "stderr",
          "text": [
            "\r 12%|█▏        | 117/1000 [05:22<40:38,  2.76s/it]"
          ]
        },
        {
          "output_type": "stream",
          "name": "stdout",
          "text": [
            "Total reward after episode 117 is 608.0\n"
          ]
        },
        {
          "output_type": "stream",
          "name": "stderr",
          "text": [
            "\r 12%|█▏        | 118/1000 [05:24<37:08,  2.53s/it]"
          ]
        },
        {
          "output_type": "stream",
          "name": "stdout",
          "text": [
            "Total reward after episode 118 is 622.0\n"
          ]
        },
        {
          "output_type": "stream",
          "name": "stderr",
          "text": [
            "\r 12%|█▏        | 119/1000 [05:27<36:29,  2.49s/it]"
          ]
        },
        {
          "output_type": "stream",
          "name": "stdout",
          "text": [
            "Total reward after episode 119 is 633.0\n"
          ]
        },
        {
          "output_type": "stream",
          "name": "stderr",
          "text": [
            "\r 12%|█▏        | 120/1000 [05:29<36:06,  2.46s/it]"
          ]
        },
        {
          "output_type": "stream",
          "name": "stdout",
          "text": [
            "Total reward after episode 120 is 623.0\n"
          ]
        },
        {
          "output_type": "stream",
          "name": "stderr",
          "text": [
            "\r 12%|█▏        | 121/1000 [05:34<46:12,  3.15s/it]"
          ]
        },
        {
          "output_type": "stream",
          "name": "stdout",
          "text": [
            "Total reward after episode 121 is 1163.0\n"
          ]
        },
        {
          "output_type": "stream",
          "name": "stderr",
          "text": [
            "\r 12%|█▏        | 122/1000 [05:35<35:46,  2.44s/it]"
          ]
        },
        {
          "output_type": "stream",
          "name": "stdout",
          "text": [
            "Total reward after episode 122 is 250.0\n"
          ]
        },
        {
          "output_type": "stream",
          "name": "stderr",
          "text": [
            "\r 12%|█▏        | 123/1000 [05:37<34:43,  2.38s/it]"
          ]
        },
        {
          "output_type": "stream",
          "name": "stdout",
          "text": [
            "Total reward after episode 123 is 634.0\n"
          ]
        },
        {
          "output_type": "stream",
          "name": "stderr",
          "text": [
            "\r 12%|█▏        | 124/1000 [05:44<54:04,  3.70s/it]"
          ]
        },
        {
          "output_type": "stream",
          "name": "stdout",
          "text": [
            "Total reward after episode 124 is 1416.0\n"
          ]
        },
        {
          "output_type": "stream",
          "name": "stderr",
          "text": [
            "\r 12%|█▎        | 125/1000 [05:47<53:40,  3.68s/it]"
          ]
        },
        {
          "output_type": "stream",
          "name": "stdout",
          "text": [
            "Total reward after episode 125 is 623.0\n"
          ]
        },
        {
          "output_type": "stream",
          "name": "stderr",
          "text": [
            "\r 13%|█▎        | 126/1000 [05:54<1:06:27,  4.56s/it]"
          ]
        },
        {
          "output_type": "stream",
          "name": "stdout",
          "text": [
            "Total reward after episode 126 is 1423.0\n"
          ]
        },
        {
          "output_type": "stream",
          "name": "stderr",
          "text": [
            "\r 13%|█▎        | 127/1000 [05:56<55:05,  3.79s/it]  "
          ]
        },
        {
          "output_type": "stream",
          "name": "stdout",
          "text": [
            "Total reward after episode 127 is 621.0\n"
          ]
        },
        {
          "output_type": "stream",
          "name": "stderr",
          "text": [
            "\r 13%|█▎        | 128/1000 [05:59<51:34,  3.55s/it]"
          ]
        },
        {
          "output_type": "stream",
          "name": "stdout",
          "text": [
            "Total reward after episode 128 is 636.0\n"
          ]
        },
        {
          "output_type": "stream",
          "name": "stderr",
          "text": [
            "\r 13%|█▎        | 129/1000 [06:04<56:39,  3.90s/it]"
          ]
        },
        {
          "output_type": "stream",
          "name": "stdout",
          "text": [
            "Total reward after episode 129 is 1587.0\n"
          ]
        },
        {
          "output_type": "stream",
          "name": "stderr",
          "text": [
            "\r 13%|█▎        | 130/1000 [06:06<47:29,  3.28s/it]"
          ]
        },
        {
          "output_type": "stream",
          "name": "stdout",
          "text": [
            "Total reward after episode 130 is 625.0\n"
          ]
        },
        {
          "output_type": "stream",
          "name": "stderr",
          "text": [
            "\r 13%|█▎        | 131/1000 [06:10<52:25,  3.62s/it]"
          ]
        },
        {
          "output_type": "stream",
          "name": "stdout",
          "text": [
            "Total reward after episode 131 is 724.0\n"
          ]
        },
        {
          "output_type": "stream",
          "name": "stderr",
          "text": [
            "\r 13%|█▎        | 132/1000 [06:15<59:15,  4.10s/it]"
          ]
        },
        {
          "output_type": "stream",
          "name": "stdout",
          "text": [
            "Total reward after episode 132 is 1342.0\n"
          ]
        },
        {
          "output_type": "stream",
          "name": "stderr",
          "text": [
            "\r 13%|█▎        | 133/1000 [06:18<52:03,  3.60s/it]"
          ]
        },
        {
          "output_type": "stream",
          "name": "stdout",
          "text": [
            "Total reward after episode 133 is 634.0\n"
          ]
        },
        {
          "output_type": "stream",
          "name": "stderr",
          "text": [
            "\r 13%|█▎        | 134/1000 [06:19<44:07,  3.06s/it]"
          ]
        },
        {
          "output_type": "stream",
          "name": "stdout",
          "text": [
            "Total reward after episode 134 is 624.0\n"
          ]
        },
        {
          "output_type": "stream",
          "name": "stderr",
          "text": [
            "\r 14%|█▎        | 135/1000 [06:24<49:58,  3.47s/it]"
          ]
        },
        {
          "output_type": "stream",
          "name": "stdout",
          "text": [
            "Total reward after episode 135 is 818.0\n"
          ]
        },
        {
          "output_type": "stream",
          "name": "stderr",
          "text": [
            "\r 14%|█▎        | 136/1000 [06:26<42:12,  2.93s/it]"
          ]
        },
        {
          "output_type": "stream",
          "name": "stdout",
          "text": [
            "Total reward after episode 136 is 607.0\n"
          ]
        },
        {
          "output_type": "stream",
          "name": "stderr",
          "text": [
            "\r 14%|█▎        | 137/1000 [06:29<46:35,  3.24s/it]"
          ]
        },
        {
          "output_type": "stream",
          "name": "stdout",
          "text": [
            "Total reward after episode 137 is 616.0\n"
          ]
        },
        {
          "output_type": "stream",
          "name": "stderr",
          "text": [
            "\r 14%|█▍        | 138/1000 [06:30<35:42,  2.49s/it]"
          ]
        },
        {
          "output_type": "stream",
          "name": "stdout",
          "text": [
            "Total reward after episode 138 is 247.0\n"
          ]
        },
        {
          "output_type": "stream",
          "name": "stderr",
          "text": [
            "\r 14%|█▍        | 139/1000 [06:31<28:37,  1.99s/it]"
          ]
        },
        {
          "output_type": "stream",
          "name": "stdout",
          "text": [
            "Total reward after episode 139 is 242.0\n"
          ]
        },
        {
          "output_type": "stream",
          "name": "stderr",
          "text": [
            "\r 14%|█▍        | 140/1000 [06:36<41:46,  2.92s/it]"
          ]
        },
        {
          "output_type": "stream",
          "name": "stdout",
          "text": [
            "Total reward after episode 140 is 1584.0\n"
          ]
        },
        {
          "output_type": "stream",
          "name": "stderr",
          "text": [
            "\r 14%|█▍        | 141/1000 [06:40<47:56,  3.35s/it]"
          ]
        },
        {
          "output_type": "stream",
          "name": "stdout",
          "text": [
            "Total reward after episode 141 is 595.0\n"
          ]
        },
        {
          "output_type": "stream",
          "name": "stderr",
          "text": [
            "\r 14%|█▍        | 142/1000 [06:44<49:50,  3.49s/it]"
          ]
        },
        {
          "output_type": "stream",
          "name": "stdout",
          "text": [
            "Total reward after episode 142 is 1431.0\n"
          ]
        },
        {
          "output_type": "stream",
          "name": "stderr",
          "text": [
            "\r 14%|█▍        | 143/1000 [06:54<1:15:55,  5.32s/it]"
          ]
        },
        {
          "output_type": "stream",
          "name": "stdout",
          "text": [
            "Total reward after episode 143 is 1556.0\n"
          ]
        },
        {
          "output_type": "stream",
          "name": "stderr",
          "text": [
            "\r 14%|█▍        | 144/1000 [06:56<1:00:54,  4.27s/it]"
          ]
        },
        {
          "output_type": "stream",
          "name": "stdout",
          "text": [
            "Total reward after episode 144 is 621.0\n"
          ]
        },
        {
          "output_type": "stream",
          "name": "stderr",
          "text": [
            "\r 14%|█▍        | 145/1000 [06:57<50:03,  3.51s/it]  "
          ]
        },
        {
          "output_type": "stream",
          "name": "stdout",
          "text": [
            "Total reward after episode 145 is 624.0\n"
          ]
        },
        {
          "output_type": "stream",
          "name": "stderr",
          "text": [
            "\r 15%|█▍        | 146/1000 [07:00<46:31,  3.27s/it]"
          ]
        },
        {
          "output_type": "stream",
          "name": "stdout",
          "text": [
            "Total reward after episode 146 is 612.0\n"
          ]
        },
        {
          "output_type": "stream",
          "name": "stderr",
          "text": [
            "\r 15%|█▍        | 147/1000 [07:06<59:26,  4.18s/it]"
          ]
        },
        {
          "output_type": "stream",
          "name": "stdout",
          "text": [
            "Total reward after episode 147 is 1430.0\n"
          ]
        },
        {
          "output_type": "stream",
          "name": "stderr",
          "text": [
            "\r 15%|█▍        | 148/1000 [07:09<51:05,  3.60s/it]"
          ]
        },
        {
          "output_type": "stream",
          "name": "stdout",
          "text": [
            "Total reward after episode 148 is 620.0\n"
          ]
        },
        {
          "output_type": "stream",
          "name": "stderr",
          "text": [
            "\r 15%|█▍        | 149/1000 [07:13<55:04,  3.88s/it]"
          ]
        },
        {
          "output_type": "stream",
          "name": "stdout",
          "text": [
            "Total reward after episode 149 is 614.0\n"
          ]
        },
        {
          "output_type": "stream",
          "name": "stderr",
          "text": [
            "\r 15%|█▌        | 150/1000 [07:15<47:20,  3.34s/it]"
          ]
        },
        {
          "output_type": "stream",
          "name": "stdout",
          "text": [
            "Total reward after episode 150 is 609.0\n"
          ]
        },
        {
          "output_type": "stream",
          "name": "stderr",
          "text": [
            "\r 15%|█▌        | 151/1000 [07:37<2:05:37,  8.88s/it]"
          ]
        },
        {
          "output_type": "stream",
          "name": "stdout",
          "text": [
            "Total reward after episode 151 is 2553.0\n"
          ]
        },
        {
          "output_type": "stream",
          "name": "stderr",
          "text": [
            "\r 15%|█▌        | 152/1000 [07:43<1:54:26,  8.10s/it]"
          ]
        },
        {
          "output_type": "stream",
          "name": "stdout",
          "text": [
            "Total reward after episode 152 is 1429.0\n"
          ]
        },
        {
          "output_type": "stream",
          "name": "stderr",
          "text": [
            "\r 15%|█▌        | 153/1000 [07:47<1:36:55,  6.87s/it]"
          ]
        },
        {
          "output_type": "stream",
          "name": "stdout",
          "text": [
            "Total reward after episode 153 is 1437.0\n"
          ]
        },
        {
          "output_type": "stream",
          "name": "stderr",
          "text": [
            "\r 15%|█▌        | 154/1000 [07:49<1:15:52,  5.38s/it]"
          ]
        },
        {
          "output_type": "stream",
          "name": "stdout",
          "text": [
            "Total reward after episode 154 is 623.0\n"
          ]
        },
        {
          "output_type": "stream",
          "name": "stderr",
          "text": [
            "\r 16%|█▌        | 155/1000 [07:57<1:26:06,  6.11s/it]"
          ]
        },
        {
          "output_type": "stream",
          "name": "stdout",
          "text": [
            "Total reward after episode 155 is 1324.0\n"
          ]
        },
        {
          "output_type": "stream",
          "name": "stderr",
          "text": [
            "\r 16%|█▌        | 156/1000 [08:01<1:16:55,  5.47s/it]"
          ]
        },
        {
          "output_type": "stream",
          "name": "stdout",
          "text": [
            "Total reward after episode 156 is 1438.0\n"
          ]
        },
        {
          "output_type": "stream",
          "name": "stderr",
          "text": [
            "\r 16%|█▌        | 157/1000 [08:04<1:04:58,  4.62s/it]"
          ]
        },
        {
          "output_type": "stream",
          "name": "stdout",
          "text": [
            "Total reward after episode 157 is 625.0\n"
          ]
        },
        {
          "output_type": "stream",
          "name": "stderr",
          "text": [
            "\r 16%|█▌        | 158/1000 [08:12<1:18:48,  5.62s/it]"
          ]
        },
        {
          "output_type": "stream",
          "name": "stdout",
          "text": [
            "Total reward after episode 158 is 1404.0\n"
          ]
        },
        {
          "output_type": "stream",
          "name": "stderr",
          "text": [
            "\r 16%|█▌        | 159/1000 [08:17<1:18:51,  5.63s/it]"
          ]
        },
        {
          "output_type": "stream",
          "name": "stdout",
          "text": [
            "Total reward after episode 159 is 1340.0\n"
          ]
        },
        {
          "output_type": "stream",
          "name": "stderr",
          "text": [
            "\r 16%|█▌        | 160/1000 [08:20<1:04:30,  4.61s/it]"
          ]
        },
        {
          "output_type": "stream",
          "name": "stdout",
          "text": [
            "Total reward after episode 160 is 632.0\n"
          ]
        },
        {
          "output_type": "stream",
          "name": "stderr",
          "text": [
            "\r 16%|█▌        | 161/1000 [08:22<53:41,  3.84s/it]  "
          ]
        },
        {
          "output_type": "stream",
          "name": "stdout",
          "text": [
            "Total reward after episode 161 is 630.0\n"
          ]
        },
        {
          "output_type": "stream",
          "name": "stderr",
          "text": [
            "\r 16%|█▌        | 162/1000 [08:26<54:12,  3.88s/it]"
          ]
        },
        {
          "output_type": "stream",
          "name": "stdout",
          "text": [
            "Total reward after episode 162 is 639.0\n"
          ]
        },
        {
          "output_type": "stream",
          "name": "stderr",
          "text": [
            "\r 16%|█▋        | 163/1000 [08:29<53:38,  3.85s/it]"
          ]
        },
        {
          "output_type": "stream",
          "name": "stdout",
          "text": [
            "Total reward after episode 163 is 603.0\n"
          ]
        },
        {
          "output_type": "stream",
          "name": "stderr",
          "text": [
            "\r 16%|█▋        | 164/1000 [08:47<1:49:36,  7.87s/it]"
          ]
        },
        {
          "output_type": "stream",
          "name": "stdout",
          "text": [
            "Total reward after episode 164 is 1350.0\n"
          ]
        },
        {
          "output_type": "stream",
          "name": "stderr",
          "text": [
            "\r 16%|█▋        | 165/1000 [08:48<1:23:29,  6.00s/it]"
          ]
        },
        {
          "output_type": "stream",
          "name": "stdout",
          "text": [
            "Total reward after episode 165 is 611.0\n"
          ]
        },
        {
          "output_type": "stream",
          "name": "stderr",
          "text": [
            "\r 17%|█▋        | 166/1000 [08:56<1:31:23,  6.57s/it]"
          ]
        },
        {
          "output_type": "stream",
          "name": "stdout",
          "text": [
            "Total reward after episode 166 is 1913.0\n"
          ]
        },
        {
          "output_type": "stream",
          "name": "stderr",
          "text": [
            "\r 17%|█▋        | 167/1000 [08:58<1:12:02,  5.19s/it]"
          ]
        },
        {
          "output_type": "stream",
          "name": "stdout",
          "text": [
            "Total reward after episode 167 is 609.0\n"
          ]
        },
        {
          "output_type": "stream",
          "name": "stderr",
          "text": [
            "\r 17%|█▋        | 168/1000 [09:01<1:02:49,  4.53s/it]"
          ]
        },
        {
          "output_type": "stream",
          "name": "stdout",
          "text": [
            "Total reward after episode 168 is 622.0\n"
          ]
        },
        {
          "output_type": "stream",
          "name": "stderr",
          "text": [
            "\r 17%|█▋        | 169/1000 [09:08<1:10:50,  5.12s/it]"
          ]
        },
        {
          "output_type": "stream",
          "name": "stdout",
          "text": [
            "Total reward after episode 169 is 1695.0\n"
          ]
        },
        {
          "output_type": "stream",
          "name": "stderr",
          "text": [
            "\r 17%|█▋        | 170/1000 [09:10<1:01:05,  4.42s/it]"
          ]
        },
        {
          "output_type": "stream",
          "name": "stdout",
          "text": [
            "Total reward after episode 170 is 611.0\n"
          ]
        },
        {
          "output_type": "stream",
          "name": "stderr",
          "text": [
            "\r 17%|█▋        | 171/1000 [09:16<1:08:01,  4.92s/it]"
          ]
        },
        {
          "output_type": "stream",
          "name": "stdout",
          "text": [
            "Total reward after episode 171 is 1425.0\n"
          ]
        },
        {
          "output_type": "stream",
          "name": "stderr",
          "text": [
            "\r 17%|█▋        | 172/1000 [09:22<1:12:25,  5.25s/it]"
          ]
        },
        {
          "output_type": "stream",
          "name": "stdout",
          "text": [
            "Total reward after episode 172 is 599.0\n"
          ]
        },
        {
          "output_type": "stream",
          "name": "stderr",
          "text": [
            "\r 17%|█▋        | 173/1000 [09:25<59:48,  4.34s/it]  "
          ]
        },
        {
          "output_type": "stream",
          "name": "stdout",
          "text": [
            "Total reward after episode 173 is 613.0\n"
          ]
        },
        {
          "output_type": "stream",
          "name": "stderr",
          "text": [
            "\r 17%|█▋        | 174/1000 [09:27<50:31,  3.67s/it]"
          ]
        },
        {
          "output_type": "stream",
          "name": "stdout",
          "text": [
            "Total reward after episode 174 is 623.0\n"
          ]
        },
        {
          "output_type": "stream",
          "name": "stderr",
          "text": [
            "\r 18%|█▊        | 175/1000 [09:30<49:46,  3.62s/it]"
          ]
        },
        {
          "output_type": "stream",
          "name": "stdout",
          "text": [
            "Total reward after episode 175 is 1150.0\n"
          ]
        },
        {
          "output_type": "stream",
          "name": "stderr",
          "text": [
            "\r 18%|█▊        | 176/1000 [09:33<46:34,  3.39s/it]"
          ]
        },
        {
          "output_type": "stream",
          "name": "stdout",
          "text": [
            "Total reward after episode 176 is 654.0\n"
          ]
        },
        {
          "output_type": "stream",
          "name": "stderr",
          "text": [
            "\r 18%|█▊        | 177/1000 [09:38<53:01,  3.87s/it]"
          ]
        },
        {
          "output_type": "stream",
          "name": "stdout",
          "text": [
            "Total reward after episode 177 is 808.0\n"
          ]
        },
        {
          "output_type": "stream",
          "name": "stderr",
          "text": [
            "\r 18%|█▊        | 178/1000 [09:40<43:44,  3.19s/it]"
          ]
        },
        {
          "output_type": "stream",
          "name": "stdout",
          "text": [
            "Total reward after episode 178 is 607.0\n"
          ]
        },
        {
          "output_type": "stream",
          "name": "stderr",
          "text": [
            "\r 18%|█▊        | 179/1000 [09:42<39:51,  2.91s/it]"
          ]
        },
        {
          "output_type": "stream",
          "name": "stdout",
          "text": [
            "Total reward after episode 179 is 613.0\n"
          ]
        },
        {
          "output_type": "stream",
          "name": "stderr",
          "text": [
            "\r 18%|█▊        | 180/1000 [09:50<58:54,  4.31s/it]"
          ]
        },
        {
          "output_type": "stream",
          "name": "stdout",
          "text": [
            "Total reward after episode 180 is 1407.0\n"
          ]
        },
        {
          "output_type": "stream",
          "name": "stderr",
          "text": [
            "\r 18%|█▊        | 181/1000 [09:50<44:49,  3.28s/it]"
          ]
        },
        {
          "output_type": "stream",
          "name": "stdout",
          "text": [
            "Total reward after episode 181 is 238.0\n"
          ]
        },
        {
          "output_type": "stream",
          "name": "stderr",
          "text": [
            "\r 18%|█▊        | 182/1000 [09:54<47:39,  3.50s/it]"
          ]
        },
        {
          "output_type": "stream",
          "name": "stdout",
          "text": [
            "Total reward after episode 182 is 1347.0\n"
          ]
        },
        {
          "output_type": "stream",
          "name": "stderr",
          "text": [
            "\r 18%|█▊        | 183/1000 [09:57<43:09,  3.17s/it]"
          ]
        },
        {
          "output_type": "stream",
          "name": "stdout",
          "text": [
            "Total reward after episode 183 is 624.0\n"
          ]
        },
        {
          "output_type": "stream",
          "name": "stderr",
          "text": [
            "\r 18%|█▊        | 184/1000 [09:59<40:25,  2.97s/it]"
          ]
        },
        {
          "output_type": "stream",
          "name": "stdout",
          "text": [
            "Total reward after episode 184 is 618.0\n"
          ]
        },
        {
          "output_type": "stream",
          "name": "stderr",
          "text": [
            "\r 18%|█▊        | 185/1000 [10:04<45:50,  3.37s/it]"
          ]
        },
        {
          "output_type": "stream",
          "name": "stdout",
          "text": [
            "Total reward after episode 185 is 812.0\n"
          ]
        },
        {
          "output_type": "stream",
          "name": "stderr",
          "text": [
            "\r 19%|█▊        | 186/1000 [10:11<1:02:11,  4.58s/it]"
          ]
        },
        {
          "output_type": "stream",
          "name": "stdout",
          "text": [
            "Total reward after episode 186 is 1696.0\n"
          ]
        },
        {
          "output_type": "stream",
          "name": "stderr",
          "text": [
            "\r 19%|█▊        | 187/1000 [10:13<52:34,  3.88s/it]  "
          ]
        },
        {
          "output_type": "stream",
          "name": "stdout",
          "text": [
            "Total reward after episode 187 is 630.0\n"
          ]
        },
        {
          "output_type": "stream",
          "name": "stderr",
          "text": [
            "\r 19%|█▉        | 188/1000 [10:15<44:37,  3.30s/it]"
          ]
        },
        {
          "output_type": "stream",
          "name": "stdout",
          "text": [
            "Total reward after episode 188 is 627.0\n"
          ]
        },
        {
          "output_type": "stream",
          "name": "stderr",
          "text": [
            "\r 19%|█▉        | 189/1000 [10:16<34:13,  2.53s/it]"
          ]
        },
        {
          "output_type": "stream",
          "name": "stdout",
          "text": [
            "Total reward after episode 189 is 248.0\n"
          ]
        },
        {
          "output_type": "stream",
          "name": "stderr",
          "text": [
            "\r 19%|█▉        | 190/1000 [10:20<41:42,  3.09s/it]"
          ]
        },
        {
          "output_type": "stream",
          "name": "stdout",
          "text": [
            "Total reward after episode 190 is 811.0\n"
          ]
        },
        {
          "output_type": "stream",
          "name": "stderr",
          "text": [
            "\r 19%|█▉        | 191/1000 [10:23<40:25,  3.00s/it]"
          ]
        },
        {
          "output_type": "stream",
          "name": "stdout",
          "text": [
            "Total reward after episode 191 is 620.0\n"
          ]
        },
        {
          "output_type": "stream",
          "name": "stderr",
          "text": [
            "\r 19%|█▉        | 192/1000 [10:27<42:59,  3.19s/it]"
          ]
        },
        {
          "output_type": "stream",
          "name": "stdout",
          "text": [
            "Total reward after episode 192 is 1349.0\n"
          ]
        },
        {
          "output_type": "stream",
          "name": "stderr",
          "text": [
            "\r 19%|█▉        | 193/1000 [10:29<38:07,  2.83s/it]"
          ]
        },
        {
          "output_type": "stream",
          "name": "stdout",
          "text": [
            "Total reward after episode 193 is 617.0\n"
          ]
        },
        {
          "output_type": "stream",
          "name": "stderr",
          "text": [
            "\r 19%|█▉        | 194/1000 [10:33<44:04,  3.28s/it]"
          ]
        },
        {
          "output_type": "stream",
          "name": "stdout",
          "text": [
            "Total reward after episode 194 is 1436.0\n"
          ]
        },
        {
          "output_type": "stream",
          "name": "stderr",
          "text": [
            "\r 20%|█▉        | 195/1000 [10:36<41:22,  3.08s/it]"
          ]
        },
        {
          "output_type": "stream",
          "name": "stdout",
          "text": [
            "Total reward after episode 195 is 624.0\n"
          ]
        },
        {
          "output_type": "stream",
          "name": "stderr",
          "text": [
            "\r 20%|█▉        | 196/1000 [10:40<47:17,  3.53s/it]"
          ]
        },
        {
          "output_type": "stream",
          "name": "stdout",
          "text": [
            "Total reward after episode 196 is 1041.0\n"
          ]
        },
        {
          "output_type": "stream",
          "name": "stderr",
          "text": [
            "\r 20%|█▉        | 197/1000 [10:41<36:50,  2.75s/it]"
          ]
        },
        {
          "output_type": "stream",
          "name": "stdout",
          "text": [
            "Total reward after episode 197 is 237.0\n"
          ]
        },
        {
          "output_type": "stream",
          "name": "stderr",
          "text": [
            "\r 20%|█▉        | 198/1000 [10:44<34:47,  2.60s/it]"
          ]
        },
        {
          "output_type": "stream",
          "name": "stdout",
          "text": [
            "Total reward after episode 198 is 636.0\n"
          ]
        },
        {
          "output_type": "stream",
          "name": "stderr",
          "text": [
            "\r 20%|█▉        | 199/1000 [10:49<44:05,  3.30s/it]"
          ]
        },
        {
          "output_type": "stream",
          "name": "stdout",
          "text": [
            "Total reward after episode 199 is 1338.0\n"
          ]
        },
        {
          "output_type": "stream",
          "name": "stderr",
          "text": [
            "\r 20%|██        | 200/1000 [10:50<37:04,  2.78s/it]"
          ]
        },
        {
          "output_type": "stream",
          "name": "stdout",
          "text": [
            "Total reward after episode 200 is 608.0\n"
          ]
        },
        {
          "output_type": "stream",
          "name": "stderr",
          "text": [
            "\r 20%|██        | 201/1000 [10:51<29:41,  2.23s/it]"
          ]
        },
        {
          "output_type": "stream",
          "name": "stdout",
          "text": [
            "Total reward after episode 201 is 232.0\n"
          ]
        },
        {
          "output_type": "stream",
          "name": "stderr",
          "text": [
            "\r 20%|██        | 202/1000 [11:01<1:02:27,  4.70s/it]"
          ]
        },
        {
          "output_type": "stream",
          "name": "stdout",
          "text": [
            "Total reward after episode 202 is 1294.0\n"
          ]
        },
        {
          "output_type": "stream",
          "name": "stderr",
          "text": [
            "\r 20%|██        | 203/1000 [11:06<1:03:20,  4.77s/it]"
          ]
        },
        {
          "output_type": "stream",
          "name": "stdout",
          "text": [
            "Total reward after episode 203 is 734.0\n"
          ]
        },
        {
          "output_type": "stream",
          "name": "stderr",
          "text": [
            "\r 20%|██        | 204/1000 [11:08<52:33,  3.96s/it]  "
          ]
        },
        {
          "output_type": "stream",
          "name": "stdout",
          "text": [
            "Total reward after episode 204 is 652.0\n"
          ]
        },
        {
          "output_type": "stream",
          "name": "stderr",
          "text": [
            "\r 20%|██        | 205/1000 [11:13<53:48,  4.06s/it]"
          ]
        },
        {
          "output_type": "stream",
          "name": "stdout",
          "text": [
            "Total reward after episode 205 is 641.0\n"
          ]
        },
        {
          "output_type": "stream",
          "name": "stderr",
          "text": [
            "\r 21%|██        | 206/1000 [11:21<1:10:53,  5.36s/it]"
          ]
        },
        {
          "output_type": "stream",
          "name": "stdout",
          "text": [
            "Total reward after episode 206 is 730.0\n"
          ]
        },
        {
          "output_type": "stream",
          "name": "stderr",
          "text": [
            "\r 21%|██        | 207/1000 [11:22<52:27,  3.97s/it]  "
          ]
        },
        {
          "output_type": "stream",
          "name": "stdout",
          "text": [
            "Total reward after episode 207 is 248.0\n"
          ]
        },
        {
          "output_type": "stream",
          "name": "stderr",
          "text": [
            "\r 21%|██        | 208/1000 [11:23<39:36,  3.00s/it]"
          ]
        },
        {
          "output_type": "stream",
          "name": "stdout",
          "text": [
            "Total reward after episode 208 is 252.0\n"
          ]
        },
        {
          "output_type": "stream",
          "name": "stderr",
          "text": [
            "\r 21%|██        | 209/1000 [11:25<37:08,  2.82s/it]"
          ]
        },
        {
          "output_type": "stream",
          "name": "stdout",
          "text": [
            "Total reward after episode 209 is 616.0\n"
          ]
        },
        {
          "output_type": "stream",
          "name": "stderr",
          "text": [
            "\r 21%|██        | 210/1000 [11:27<34:52,  2.65s/it]"
          ]
        },
        {
          "output_type": "stream",
          "name": "stdout",
          "text": [
            "Total reward after episode 210 is 638.0\n"
          ]
        },
        {
          "output_type": "stream",
          "name": "stderr",
          "text": [
            "\r 21%|██        | 211/1000 [11:37<1:03:11,  4.80s/it]"
          ]
        },
        {
          "output_type": "stream",
          "name": "stdout",
          "text": [
            "Total reward after episode 211 is 774.0\n"
          ]
        },
        {
          "output_type": "stream",
          "name": "stderr",
          "text": [
            "\r 21%|██        | 212/1000 [11:48<1:27:01,  6.63s/it]"
          ]
        },
        {
          "output_type": "stream",
          "name": "stdout",
          "text": [
            "Total reward after episode 212 is 1299.0\n"
          ]
        },
        {
          "output_type": "stream",
          "name": "stderr",
          "text": [
            "\r 21%|██▏       | 213/1000 [11:56<1:31:01,  6.94s/it]"
          ]
        },
        {
          "output_type": "stream",
          "name": "stdout",
          "text": [
            "Total reward after episode 213 is 792.0\n"
          ]
        },
        {
          "output_type": "stream",
          "name": "stderr",
          "text": [
            "\r 21%|██▏       | 214/1000 [11:56<1:06:31,  5.08s/it]"
          ]
        },
        {
          "output_type": "stream",
          "name": "stdout",
          "text": [
            "Total reward after episode 214 is 250.0\n"
          ]
        },
        {
          "output_type": "stream",
          "name": "stderr",
          "text": [
            "\r 22%|██▏       | 215/1000 [11:58<53:03,  4.06s/it]  "
          ]
        },
        {
          "output_type": "stream",
          "name": "stdout",
          "text": [
            "Total reward after episode 215 is 610.0\n"
          ]
        },
        {
          "output_type": "stream",
          "name": "stderr",
          "text": [
            "\r 22%|██▏       | 216/1000 [12:01<49:11,  3.76s/it]"
          ]
        },
        {
          "output_type": "stream",
          "name": "stdout",
          "text": [
            "Total reward after episode 216 is 614.0\n"
          ]
        },
        {
          "output_type": "stream",
          "name": "stderr",
          "text": [
            "\r 22%|██▏       | 217/1000 [12:02<38:46,  2.97s/it]"
          ]
        },
        {
          "output_type": "stream",
          "name": "stdout",
          "text": [
            "Total reward after episode 217 is 248.0\n"
          ]
        },
        {
          "output_type": "stream",
          "name": "stderr",
          "text": [
            "\r 22%|██▏       | 218/1000 [12:03<31:28,  2.42s/it]"
          ]
        },
        {
          "output_type": "stream",
          "name": "stdout",
          "text": [
            "Total reward after episode 218 is 252.0\n"
          ]
        },
        {
          "output_type": "stream",
          "name": "stderr",
          "text": [
            "\r 22%|██▏       | 219/1000 [12:04<25:13,  1.94s/it]"
          ]
        },
        {
          "output_type": "stream",
          "name": "stdout",
          "text": [
            "Total reward after episode 219 is 248.0\n"
          ]
        },
        {
          "output_type": "stream",
          "name": "stderr",
          "text": [
            "\r 22%|██▏       | 220/1000 [12:05<20:26,  1.57s/it]"
          ]
        },
        {
          "output_type": "stream",
          "name": "stdout",
          "text": [
            "Total reward after episode 220 is 248.0\n"
          ]
        },
        {
          "output_type": "stream",
          "name": "stderr",
          "text": [
            "\r 22%|██▏       | 221/1000 [12:10<32:20,  2.49s/it]"
          ]
        },
        {
          "output_type": "stream",
          "name": "stdout",
          "text": [
            "Total reward after episode 221 is 1146.0\n"
          ]
        },
        {
          "output_type": "stream",
          "name": "stderr",
          "text": [
            "\r 22%|██▏       | 222/1000 [12:15<45:33,  3.51s/it]"
          ]
        },
        {
          "output_type": "stream",
          "name": "stdout",
          "text": [
            "Total reward after episode 222 is 805.0\n"
          ]
        },
        {
          "output_type": "stream",
          "name": "stderr",
          "text": [
            "\r 22%|██▏       | 223/1000 [12:21<52:40,  4.07s/it]"
          ]
        },
        {
          "output_type": "stream",
          "name": "stdout",
          "text": [
            "Total reward after episode 223 is 806.0\n"
          ]
        },
        {
          "output_type": "stream",
          "name": "stderr",
          "text": [
            "\r 22%|██▏       | 224/1000 [12:23<43:51,  3.39s/it]"
          ]
        },
        {
          "output_type": "stream",
          "name": "stdout",
          "text": [
            "Total reward after episode 224 is 654.0\n"
          ]
        },
        {
          "output_type": "stream",
          "name": "stderr",
          "text": [
            "\r 22%|██▎       | 225/1000 [12:23<33:32,  2.60s/it]"
          ]
        },
        {
          "output_type": "stream",
          "name": "stdout",
          "text": [
            "Total reward after episode 225 is 250.0\n"
          ]
        },
        {
          "output_type": "stream",
          "name": "stderr",
          "text": [
            "\r 23%|██▎       | 226/1000 [12:29<44:58,  3.49s/it]"
          ]
        },
        {
          "output_type": "stream",
          "name": "stdout",
          "text": [
            "Total reward after episode 226 is 1329.0\n"
          ]
        },
        {
          "output_type": "stream",
          "name": "stderr",
          "text": [
            "\r 23%|██▎       | 227/1000 [12:31<40:02,  3.11s/it]"
          ]
        },
        {
          "output_type": "stream",
          "name": "stdout",
          "text": [
            "Total reward after episode 227 is 628.0\n"
          ]
        },
        {
          "output_type": "stream",
          "name": "stderr",
          "text": [
            "\r 23%|██▎       | 228/1000 [12:34<38:26,  2.99s/it]"
          ]
        },
        {
          "output_type": "stream",
          "name": "stdout",
          "text": [
            "Total reward after episode 228 is 622.0\n"
          ]
        },
        {
          "output_type": "stream",
          "name": "stderr",
          "text": [
            "\r 23%|██▎       | 229/1000 [12:38<43:18,  3.37s/it]"
          ]
        },
        {
          "output_type": "stream",
          "name": "stdout",
          "text": [
            "Total reward after episode 229 is 613.0\n"
          ]
        },
        {
          "output_type": "stream",
          "name": "stderr",
          "text": [
            "\r 23%|██▎       | 230/1000 [12:43<49:52,  3.89s/it]"
          ]
        },
        {
          "output_type": "stream",
          "name": "stdout",
          "text": [
            "Total reward after episode 230 is 1347.0\n"
          ]
        },
        {
          "output_type": "stream",
          "name": "stderr",
          "text": [
            "\r 23%|██▎       | 231/1000 [13:07<2:05:32,  9.80s/it]"
          ]
        },
        {
          "output_type": "stream",
          "name": "stdout",
          "text": [
            "Total reward after episode 231 is 940.0\n"
          ]
        },
        {
          "output_type": "stream",
          "name": "stderr",
          "text": [
            "\r 23%|██▎       | 232/1000 [13:14<1:56:27,  9.10s/it]"
          ]
        },
        {
          "output_type": "stream",
          "name": "stdout",
          "text": [
            "Total reward after episode 232 is 1040.0\n"
          ]
        },
        {
          "output_type": "stream",
          "name": "stderr",
          "text": [
            "\r 23%|██▎       | 233/1000 [13:15<1:24:38,  6.62s/it]"
          ]
        },
        {
          "output_type": "stream",
          "name": "stdout",
          "text": [
            "Total reward after episode 233 is 243.0\n"
          ]
        },
        {
          "output_type": "stream",
          "name": "stderr",
          "text": [
            "\r 23%|██▎       | 234/1000 [13:23<1:28:06,  6.90s/it]"
          ]
        },
        {
          "output_type": "stream",
          "name": "stdout",
          "text": [
            "Total reward after episode 234 is 1316.0\n"
          ]
        },
        {
          "output_type": "stream",
          "name": "stderr",
          "text": [
            "\r 24%|██▎       | 235/1000 [13:29<1:25:56,  6.74s/it]"
          ]
        },
        {
          "output_type": "stream",
          "name": "stdout",
          "text": [
            "Total reward after episode 235 is 1329.0\n"
          ]
        },
        {
          "output_type": "stream",
          "name": "stderr",
          "text": [
            "\r 24%|██▎       | 236/1000 [13:36<1:26:18,  6.78s/it]"
          ]
        },
        {
          "output_type": "stream",
          "name": "stdout",
          "text": [
            "Total reward after episode 236 is 1696.0\n"
          ]
        },
        {
          "output_type": "stream",
          "name": "stderr",
          "text": [
            "\r 24%|██▎       | 237/1000 [13:43<1:25:34,  6.73s/it]"
          ]
        },
        {
          "output_type": "stream",
          "name": "stdout",
          "text": [
            "Total reward after episode 237 is 1915.0\n"
          ]
        },
        {
          "output_type": "stream",
          "name": "stderr",
          "text": [
            "\r 24%|██▍       | 238/1000 [14:41<4:44:11, 22.38s/it]"
          ]
        },
        {
          "output_type": "stream",
          "name": "stdout",
          "text": [
            "Total reward after episode 238 is 267.0\n"
          ]
        },
        {
          "output_type": "stream",
          "name": "stderr",
          "text": [
            "\r 24%|██▍       | 239/1000 [14:43<3:24:45, 16.14s/it]"
          ]
        },
        {
          "output_type": "stream",
          "name": "stdout",
          "text": [
            "Total reward after episode 239 is 612.0\n"
          ]
        },
        {
          "output_type": "stream",
          "name": "stderr",
          "text": [
            "\r 24%|██▍       | 240/1000 [14:47<2:37:35, 12.44s/it]"
          ]
        },
        {
          "output_type": "stream",
          "name": "stdout",
          "text": [
            "Total reward after episode 240 is 611.0\n"
          ]
        },
        {
          "output_type": "stream",
          "name": "stderr",
          "text": [
            "\r 24%|██▍       | 241/1000 [14:49<1:56:58,  9.25s/it]"
          ]
        },
        {
          "output_type": "stream",
          "name": "stdout",
          "text": [
            "Total reward after episode 241 is 616.0\n"
          ]
        },
        {
          "output_type": "stream",
          "name": "stderr",
          "text": [
            "\r 24%|██▍       | 242/1000 [14:52<1:35:53,  7.59s/it]"
          ]
        },
        {
          "output_type": "stream",
          "name": "stdout",
          "text": [
            "Total reward after episode 242 is 1338.0\n"
          ]
        },
        {
          "output_type": "stream",
          "name": "stderr",
          "text": [
            "\r 24%|██▍       | 243/1000 [14:54<1:14:41,  5.92s/it]"
          ]
        },
        {
          "output_type": "stream",
          "name": "stdout",
          "text": [
            "Total reward after episode 243 is 624.0\n"
          ]
        },
        {
          "output_type": "stream",
          "name": "stderr",
          "text": [
            "\r 24%|██▍       | 244/1000 [15:00<1:13:58,  5.87s/it]"
          ]
        },
        {
          "output_type": "stream",
          "name": "stdout",
          "text": [
            "Total reward after episode 244 is 1342.0\n"
          ]
        },
        {
          "output_type": "stream",
          "name": "stderr",
          "text": [
            "\r 24%|██▍       | 245/1000 [15:02<59:41,  4.74s/it]  "
          ]
        },
        {
          "output_type": "stream",
          "name": "stdout",
          "text": [
            "Total reward after episode 245 is 639.0\n"
          ]
        },
        {
          "output_type": "stream",
          "name": "stderr",
          "text": [
            "\r 25%|██▍       | 246/1000 [15:09<1:05:39,  5.22s/it]"
          ]
        },
        {
          "output_type": "stream",
          "name": "stdout",
          "text": [
            "Total reward after episode 246 is 796.0\n"
          ]
        },
        {
          "output_type": "stream",
          "name": "stderr",
          "text": [
            "\r 25%|██▍       | 247/1000 [15:13<1:01:21,  4.89s/it]"
          ]
        },
        {
          "output_type": "stream",
          "name": "stdout",
          "text": [
            "Total reward after episode 247 is 1049.0\n"
          ]
        },
        {
          "output_type": "stream",
          "name": "stderr",
          "text": [
            "\r 25%|██▍       | 248/1000 [15:25<1:27:56,  7.02s/it]"
          ]
        },
        {
          "output_type": "stream",
          "name": "stdout",
          "text": [
            "Total reward after episode 248 is 991.0\n"
          ]
        },
        {
          "output_type": "stream",
          "name": "stderr",
          "text": [
            "\r 25%|██▍       | 249/1000 [15:31<1:23:35,  6.68s/it]"
          ]
        },
        {
          "output_type": "stream",
          "name": "stdout",
          "text": [
            "Total reward after episode 249 is 607.0\n"
          ]
        },
        {
          "output_type": "stream",
          "name": "stderr",
          "text": [
            "\r 25%|██▌       | 250/1000 [15:37<1:20:51,  6.47s/it]"
          ]
        },
        {
          "output_type": "stream",
          "name": "stdout",
          "text": [
            "Total reward after episode 250 is 805.0\n"
          ]
        },
        {
          "output_type": "stream",
          "name": "stderr",
          "text": [
            "\r 25%|██▌       | 251/1000 [15:38<1:00:19,  4.83s/it]"
          ]
        },
        {
          "output_type": "stream",
          "name": "stdout",
          "text": [
            "Total reward after episode 251 is 246.0\n"
          ]
        },
        {
          "output_type": "stream",
          "name": "stderr",
          "text": [
            "\r 25%|██▌       | 252/1000 [15:40<50:26,  4.05s/it]  "
          ]
        },
        {
          "output_type": "stream",
          "name": "stdout",
          "text": [
            "Total reward after episode 252 is 624.0\n"
          ]
        },
        {
          "output_type": "stream",
          "name": "stderr",
          "text": [
            "\r 25%|██▌       | 253/1000 [15:42<42:40,  3.43s/it]"
          ]
        },
        {
          "output_type": "stream",
          "name": "stdout",
          "text": [
            "Total reward after episode 253 is 637.0\n"
          ]
        },
        {
          "output_type": "stream",
          "name": "stderr",
          "text": [
            "\r 25%|██▌       | 254/1000 [15:45<43:30,  3.50s/it]"
          ]
        },
        {
          "output_type": "stream",
          "name": "stdout",
          "text": [
            "Total reward after episode 254 is 1351.0\n"
          ]
        },
        {
          "output_type": "stream",
          "name": "stderr",
          "text": [
            "\r 26%|██▌       | 255/1000 [15:51<51:00,  4.11s/it]"
          ]
        },
        {
          "output_type": "stream",
          "name": "stdout",
          "text": [
            "Total reward after episode 255 is 1582.0\n"
          ]
        },
        {
          "output_type": "stream",
          "name": "stderr",
          "text": [
            "\r 26%|██▌       | 256/1000 [15:53<43:33,  3.51s/it]"
          ]
        },
        {
          "output_type": "stream",
          "name": "stdout",
          "text": [
            "Total reward after episode 256 is 640.0\n"
          ]
        },
        {
          "output_type": "stream",
          "name": "stderr",
          "text": [
            "\r 26%|██▌       | 257/1000 [15:54<33:19,  2.69s/it]"
          ]
        },
        {
          "output_type": "stream",
          "name": "stdout",
          "text": [
            "Total reward after episode 257 is 242.0\n"
          ]
        },
        {
          "output_type": "stream",
          "name": "stderr",
          "text": [
            "\r 26%|██▌       | 258/1000 [15:55<25:58,  2.10s/it]"
          ]
        },
        {
          "output_type": "stream",
          "name": "stdout",
          "text": [
            "Total reward after episode 258 is 248.0\n"
          ]
        },
        {
          "output_type": "stream",
          "name": "stderr",
          "text": [
            "\r 26%|██▌       | 259/1000 [16:01<41:02,  3.32s/it]"
          ]
        },
        {
          "output_type": "stream",
          "name": "stdout",
          "text": [
            "Total reward after episode 259 is 1335.0\n"
          ]
        },
        {
          "output_type": "stream",
          "name": "stderr",
          "text": [
            "\r 26%|██▌       | 260/1000 [16:03<37:06,  3.01s/it]"
          ]
        },
        {
          "output_type": "stream",
          "name": "stdout",
          "text": [
            "Total reward after episode 260 is 611.0\n"
          ]
        },
        {
          "output_type": "stream",
          "name": "stderr",
          "text": [
            "\r 26%|██▌       | 261/1000 [16:09<46:21,  3.76s/it]"
          ]
        },
        {
          "output_type": "stream",
          "name": "stdout",
          "text": [
            "Total reward after episode 261 is 1029.0\n"
          ]
        },
        {
          "output_type": "stream",
          "name": "stderr",
          "text": [
            "\r 26%|██▌       | 262/1000 [16:13<49:45,  4.05s/it]"
          ]
        },
        {
          "output_type": "stream",
          "name": "stdout",
          "text": [
            "Total reward after episode 262 is 1040.0\n"
          ]
        },
        {
          "output_type": "stream",
          "name": "stderr",
          "text": [
            "\r 26%|██▋       | 263/1000 [16:17<47:40,  3.88s/it]"
          ]
        },
        {
          "output_type": "stream",
          "name": "stdout",
          "text": [
            "Total reward after episode 263 is 1051.0\n"
          ]
        },
        {
          "output_type": "stream",
          "name": "stderr",
          "text": [
            "\r 26%|██▋       | 264/1000 [16:21<47:25,  3.87s/it]"
          ]
        },
        {
          "output_type": "stream",
          "name": "stdout",
          "text": [
            "Total reward after episode 264 is 775.0\n"
          ]
        },
        {
          "output_type": "stream",
          "name": "stderr",
          "text": [
            "\r 26%|██▋       | 265/1000 [16:23<41:02,  3.35s/it]"
          ]
        },
        {
          "output_type": "stream",
          "name": "stdout",
          "text": [
            "Total reward after episode 265 is 634.0\n"
          ]
        },
        {
          "output_type": "stream",
          "name": "stderr",
          "text": [
            "\r 27%|██▋       | 266/1000 [16:25<35:48,  2.93s/it]"
          ]
        },
        {
          "output_type": "stream",
          "name": "stdout",
          "text": [
            "Total reward after episode 266 is 628.0\n"
          ]
        },
        {
          "output_type": "stream",
          "name": "stderr",
          "text": [
            "\r 27%|██▋       | 267/1000 [16:28<35:59,  2.95s/it]"
          ]
        },
        {
          "output_type": "stream",
          "name": "stdout",
          "text": [
            "Total reward after episode 267 is 737.0\n"
          ]
        },
        {
          "output_type": "stream",
          "name": "stderr",
          "text": [
            "\r 27%|██▋       | 268/1000 [16:32<39:47,  3.26s/it]"
          ]
        },
        {
          "output_type": "stream",
          "name": "stdout",
          "text": [
            "Total reward after episode 268 is 1044.0\n"
          ]
        },
        {
          "output_type": "stream",
          "name": "stderr",
          "text": [
            "\r 27%|██▋       | 269/1000 [16:35<41:54,  3.44s/it]"
          ]
        },
        {
          "output_type": "stream",
          "name": "stdout",
          "text": [
            "Total reward after episode 269 is 1348.0\n"
          ]
        },
        {
          "output_type": "stream",
          "name": "stderr",
          "text": [
            "\r 27%|██▋       | 270/1000 [16:39<41:12,  3.39s/it]"
          ]
        },
        {
          "output_type": "stream",
          "name": "stdout",
          "text": [
            "Total reward after episode 270 is 647.0\n"
          ]
        },
        {
          "output_type": "stream",
          "name": "stderr",
          "text": [
            "\r 27%|██▋       | 271/1000 [16:44<46:38,  3.84s/it]"
          ]
        },
        {
          "output_type": "stream",
          "name": "stdout",
          "text": [
            "Total reward after episode 271 is 1041.0\n"
          ]
        },
        {
          "output_type": "stream",
          "name": "stderr",
          "text": [
            "\r 27%|██▋       | 272/1000 [16:48<47:47,  3.94s/it]"
          ]
        },
        {
          "output_type": "stream",
          "name": "stdout",
          "text": [
            "Total reward after episode 272 is 1349.0\n"
          ]
        },
        {
          "output_type": "stream",
          "name": "stderr",
          "text": [
            "\r 27%|██▋       | 273/1000 [16:52<50:08,  4.14s/it]"
          ]
        },
        {
          "output_type": "stream",
          "name": "stdout",
          "text": [
            "Total reward after episode 273 is 1064.0\n"
          ]
        },
        {
          "output_type": "stream",
          "name": "stderr",
          "text": [
            "\r 27%|██▋       | 274/1000 [16:54<41:43,  3.45s/it]"
          ]
        },
        {
          "output_type": "stream",
          "name": "stdout",
          "text": [
            "Total reward after episode 274 is 608.0\n"
          ]
        },
        {
          "output_type": "stream",
          "name": "stderr",
          "text": [
            "\r 28%|██▊       | 275/1000 [17:12<1:32:46,  7.68s/it]"
          ]
        },
        {
          "output_type": "stream",
          "name": "stdout",
          "text": [
            "Total reward after episode 275 is 2294.0\n"
          ]
        },
        {
          "output_type": "stream",
          "name": "stderr",
          "text": [
            "\r 28%|██▊       | 276/1000 [17:14<1:12:41,  6.02s/it]"
          ]
        },
        {
          "output_type": "stream",
          "name": "stdout",
          "text": [
            "Total reward after episode 276 is 737.0\n"
          ]
        },
        {
          "output_type": "stream",
          "name": "stderr",
          "text": [
            "\r 28%|██▊       | 277/1000 [17:17<1:01:30,  5.10s/it]"
          ]
        },
        {
          "output_type": "stream",
          "name": "stdout",
          "text": [
            "Total reward after episode 277 is 637.0\n"
          ]
        },
        {
          "output_type": "stream",
          "name": "stderr",
          "text": [
            "\r 28%|██▊       | 278/1000 [17:22<1:00:43,  5.05s/it]"
          ]
        },
        {
          "output_type": "stream",
          "name": "stdout",
          "text": [
            "Total reward after episode 278 is 1039.0\n"
          ]
        },
        {
          "output_type": "stream",
          "name": "stderr",
          "text": [
            "\r 28%|██▊       | 279/1000 [17:24<49:11,  4.09s/it]  "
          ]
        },
        {
          "output_type": "stream",
          "name": "stdout",
          "text": [
            "Total reward after episode 279 is 634.0\n"
          ]
        },
        {
          "output_type": "stream",
          "name": "stderr",
          "text": [
            "\r 28%|██▊       | 280/1000 [17:29<52:11,  4.35s/it]"
          ]
        },
        {
          "output_type": "stream",
          "name": "stdout",
          "text": [
            "Total reward after episode 280 is 1344.0\n"
          ]
        },
        {
          "output_type": "stream",
          "name": "stderr",
          "text": [
            "\r 28%|██▊       | 281/1000 [17:33<51:32,  4.30s/it]"
          ]
        },
        {
          "output_type": "stream",
          "name": "stdout",
          "text": [
            "Total reward after episode 281 is 1349.0\n"
          ]
        },
        {
          "output_type": "stream",
          "name": "stderr",
          "text": [
            "\r 28%|██▊       | 282/1000 [17:35<42:47,  3.58s/it]"
          ]
        },
        {
          "output_type": "stream",
          "name": "stdout",
          "text": [
            "Total reward after episode 282 is 622.0\n"
          ]
        },
        {
          "output_type": "stream",
          "name": "stderr",
          "text": [
            "\r 28%|██▊       | 283/1000 [17:37<37:35,  3.15s/it]"
          ]
        },
        {
          "output_type": "stream",
          "name": "stdout",
          "text": [
            "Total reward after episode 283 is 632.0\n"
          ]
        },
        {
          "output_type": "stream",
          "name": "stderr",
          "text": [
            "\r 28%|██▊       | 284/1000 [17:42<45:36,  3.82s/it]"
          ]
        },
        {
          "output_type": "stream",
          "name": "stdout",
          "text": [
            "Total reward after episode 284 is 1041.0\n"
          ]
        },
        {
          "output_type": "stream",
          "name": "stderr",
          "text": [
            "\r 28%|██▊       | 285/1000 [17:43<35:17,  2.96s/it]"
          ]
        },
        {
          "output_type": "stream",
          "name": "stdout",
          "text": [
            "Total reward after episode 285 is 235.0\n"
          ]
        },
        {
          "output_type": "stream",
          "name": "stderr",
          "text": [
            "\r 29%|██▊       | 286/1000 [17:49<46:33,  3.91s/it]"
          ]
        },
        {
          "output_type": "stream",
          "name": "stdout",
          "text": [
            "Total reward after episode 286 is 1691.0\n"
          ]
        },
        {
          "output_type": "stream",
          "name": "stderr",
          "text": [
            "\r 29%|██▊       | 287/1000 [17:50<35:15,  2.97s/it]"
          ]
        },
        {
          "output_type": "stream",
          "name": "stdout",
          "text": [
            "Total reward after episode 287 is 248.0\n"
          ]
        },
        {
          "output_type": "stream",
          "name": "stderr",
          "text": [
            "\r 29%|██▉       | 288/1000 [17:51<27:36,  2.33s/it]"
          ]
        },
        {
          "output_type": "stream",
          "name": "stdout",
          "text": [
            "Total reward after episode 288 is 249.0\n"
          ]
        },
        {
          "output_type": "stream",
          "name": "stderr",
          "text": [
            "\r 29%|██▉       | 289/1000 [17:55<34:24,  2.90s/it]"
          ]
        },
        {
          "output_type": "stream",
          "name": "stdout",
          "text": [
            "Total reward after episode 289 is 819.0\n"
          ]
        },
        {
          "output_type": "stream",
          "name": "stderr",
          "text": [
            "\r 29%|██▉       | 290/1000 [17:57<31:36,  2.67s/it]"
          ]
        },
        {
          "output_type": "stream",
          "name": "stdout",
          "text": [
            "Total reward after episode 290 is 640.0\n"
          ]
        },
        {
          "output_type": "stream",
          "name": "stderr",
          "text": [
            "\r 29%|██▉       | 291/1000 [18:01<33:37,  2.84s/it]"
          ]
        },
        {
          "output_type": "stream",
          "name": "stdout",
          "text": [
            "Total reward after episode 291 is 1047.0\n"
          ]
        },
        {
          "output_type": "stream",
          "name": "stderr",
          "text": [
            "\r 29%|██▉       | 292/1000 [18:06<41:02,  3.48s/it]"
          ]
        },
        {
          "output_type": "stream",
          "name": "stdout",
          "text": [
            "Total reward after episode 292 is 1060.0\n"
          ]
        },
        {
          "output_type": "stream",
          "name": "stderr",
          "text": [
            "\r 29%|██▉       | 293/1000 [18:11<48:53,  4.15s/it]"
          ]
        },
        {
          "output_type": "stream",
          "name": "stdout",
          "text": [
            "Total reward after episode 293 is 1704.0\n"
          ]
        },
        {
          "output_type": "stream",
          "name": "stderr",
          "text": [
            "\r 29%|██▉       | 294/1000 [18:16<51:23,  4.37s/it]"
          ]
        },
        {
          "output_type": "stream",
          "name": "stdout",
          "text": [
            "Total reward after episode 294 is 1584.0\n"
          ]
        },
        {
          "output_type": "stream",
          "name": "stderr",
          "text": [
            "\r 30%|██▉       | 295/1000 [18:21<52:59,  4.51s/it]"
          ]
        },
        {
          "output_type": "stream",
          "name": "stdout",
          "text": [
            "Total reward after episode 295 is 1436.0\n"
          ]
        },
        {
          "output_type": "stream",
          "name": "stderr",
          "text": [
            "\r 30%|██▉       | 296/1000 [18:25<50:54,  4.34s/it]"
          ]
        },
        {
          "output_type": "stream",
          "name": "stdout",
          "text": [
            "Total reward after episode 296 is 603.0\n"
          ]
        },
        {
          "output_type": "stream",
          "name": "stderr",
          "text": [
            "\r 30%|██▉       | 297/1000 [18:27<42:57,  3.67s/it]"
          ]
        },
        {
          "output_type": "stream",
          "name": "stdout",
          "text": [
            "Total reward after episode 297 is 611.0\n"
          ]
        },
        {
          "output_type": "stream",
          "name": "stderr",
          "text": [
            "\r 30%|██▉       | 298/1000 [18:35<58:22,  4.99s/it]"
          ]
        },
        {
          "output_type": "stream",
          "name": "stdout",
          "text": [
            "Total reward after episode 298 is 791.0\n"
          ]
        },
        {
          "output_type": "stream",
          "name": "stderr",
          "text": [
            "\r 30%|██▉       | 299/1000 [18:36<43:30,  3.72s/it]"
          ]
        },
        {
          "output_type": "stream",
          "name": "stdout",
          "text": [
            "Total reward after episode 299 is 247.0\n"
          ]
        },
        {
          "output_type": "stream",
          "name": "stderr",
          "text": [
            "\r 30%|███       | 300/1000 [18:38<38:03,  3.26s/it]"
          ]
        },
        {
          "output_type": "stream",
          "name": "stdout",
          "text": [
            "Total reward after episode 300 is 636.0\n"
          ]
        },
        {
          "output_type": "stream",
          "name": "stderr",
          "text": [
            "\r 30%|███       | 301/1000 [18:44<47:36,  4.09s/it]"
          ]
        },
        {
          "output_type": "stream",
          "name": "stdout",
          "text": [
            "Total reward after episode 301 is 1336.0\n"
          ]
        },
        {
          "output_type": "stream",
          "name": "stderr",
          "text": [
            "\r 30%|███       | 302/1000 [18:50<52:18,  4.50s/it]"
          ]
        },
        {
          "output_type": "stream",
          "name": "stdout",
          "text": [
            "Total reward after episode 302 is 807.0\n"
          ]
        },
        {
          "output_type": "stream",
          "name": "stderr",
          "text": [
            "\r 30%|███       | 303/1000 [18:51<43:28,  3.74s/it]"
          ]
        },
        {
          "output_type": "stream",
          "name": "stdout",
          "text": [
            "Total reward after episode 303 is 618.0\n"
          ]
        },
        {
          "output_type": "stream",
          "name": "stderr",
          "text": [
            "\r 30%|███       | 304/1000 [18:57<51:14,  4.42s/it]"
          ]
        },
        {
          "output_type": "stream",
          "name": "stdout",
          "text": [
            "Total reward after episode 304 is 1868.0\n"
          ]
        },
        {
          "output_type": "stream",
          "name": "stderr",
          "text": [
            "\r 30%|███       | 305/1000 [18:58<38:47,  3.35s/it]"
          ]
        },
        {
          "output_type": "stream",
          "name": "stdout",
          "text": [
            "Total reward after episode 305 is 252.0\n"
          ]
        },
        {
          "output_type": "stream",
          "name": "stderr",
          "text": [
            "\r 31%|███       | 306/1000 [19:02<38:58,  3.37s/it]"
          ]
        },
        {
          "output_type": "stream",
          "name": "stdout",
          "text": [
            "Total reward after episode 306 is 1156.0\n"
          ]
        },
        {
          "output_type": "stream",
          "name": "stderr",
          "text": [
            "\r 31%|███       | 307/1000 [19:06<40:44,  3.53s/it]"
          ]
        },
        {
          "output_type": "stream",
          "name": "stdout",
          "text": [
            "Total reward after episode 307 is 1332.0\n"
          ]
        },
        {
          "output_type": "stream",
          "name": "stderr",
          "text": [
            "\r 31%|███       | 308/1000 [19:11<45:25,  3.94s/it]"
          ]
        },
        {
          "output_type": "stream",
          "name": "stdout",
          "text": [
            "Total reward after episode 308 is 1436.0\n"
          ]
        },
        {
          "output_type": "stream",
          "name": "stderr",
          "text": [
            "\r 31%|███       | 309/1000 [19:16<49:41,  4.31s/it]"
          ]
        },
        {
          "output_type": "stream",
          "name": "stdout",
          "text": [
            "Total reward after episode 309 is 1696.0\n"
          ]
        },
        {
          "output_type": "stream",
          "name": "stderr",
          "text": [
            "\r 31%|███       | 310/1000 [19:19<46:45,  4.07s/it]"
          ]
        },
        {
          "output_type": "stream",
          "name": "stdout",
          "text": [
            "Total reward after episode 310 is 1156.0\n"
          ]
        },
        {
          "output_type": "stream",
          "name": "stderr",
          "text": [
            "\r 31%|███       | 311/1000 [19:24<47:37,  4.15s/it]"
          ]
        },
        {
          "output_type": "stream",
          "name": "stdout",
          "text": [
            "Total reward after episode 311 is 818.0\n"
          ]
        },
        {
          "output_type": "stream",
          "name": "stderr",
          "text": [
            "\r 31%|███       | 312/1000 [19:30<54:52,  4.78s/it]"
          ]
        },
        {
          "output_type": "stream",
          "name": "stdout",
          "text": [
            "Total reward after episode 312 is 1027.0\n"
          ]
        },
        {
          "output_type": "stream",
          "name": "stderr",
          "text": [
            "\r 31%|███▏      | 313/1000 [19:36<59:12,  5.17s/it]"
          ]
        },
        {
          "output_type": "stream",
          "name": "stdout",
          "text": [
            "Total reward after episode 313 is 1420.0\n"
          ]
        },
        {
          "output_type": "stream",
          "name": "stderr",
          "text": [
            "\r 31%|███▏      | 314/1000 [19:42<1:01:28,  5.38s/it]"
          ]
        },
        {
          "output_type": "stream",
          "name": "stdout",
          "text": [
            "Total reward after episode 314 is 1862.0\n"
          ]
        },
        {
          "output_type": "stream",
          "name": "stderr",
          "text": [
            "\r 32%|███▏      | 315/1000 [19:48<1:04:04,  5.61s/it]"
          ]
        },
        {
          "output_type": "stream",
          "name": "stdout",
          "text": [
            "Total reward after episode 315 is 1034.0\n"
          ]
        },
        {
          "output_type": "stream",
          "name": "stderr",
          "text": [
            "\r 32%|███▏      | 316/1000 [19:56<1:12:01,  6.32s/it]"
          ]
        },
        {
          "output_type": "stream",
          "name": "stdout",
          "text": [
            "Total reward after episode 316 is 1013.0\n"
          ]
        },
        {
          "output_type": "stream",
          "name": "stderr",
          "text": [
            "\r 32%|███▏      | 317/1000 [20:00<1:04:47,  5.69s/it]"
          ]
        },
        {
          "output_type": "stream",
          "name": "stdout",
          "text": [
            "Total reward after episode 317 is 818.0\n"
          ]
        },
        {
          "output_type": "stream",
          "name": "stderr",
          "text": [
            "\r 32%|███▏      | 318/1000 [20:04<58:48,  5.17s/it]  "
          ]
        },
        {
          "output_type": "stream",
          "name": "stdout",
          "text": [
            "Total reward after episode 318 is 815.0\n"
          ]
        },
        {
          "output_type": "stream",
          "name": "stderr",
          "text": [
            "\r 32%|███▏      | 319/1000 [20:06<48:40,  4.29s/it]"
          ]
        },
        {
          "output_type": "stream",
          "name": "stdout",
          "text": [
            "Total reward after episode 319 is 626.0\n"
          ]
        },
        {
          "output_type": "stream",
          "name": "stderr",
          "text": [
            "\r 32%|███▏      | 320/1000 [20:10<47:03,  4.15s/it]"
          ]
        },
        {
          "output_type": "stream",
          "name": "stdout",
          "text": [
            "Total reward after episode 320 is 815.0\n"
          ]
        },
        {
          "output_type": "stream",
          "name": "stderr",
          "text": [
            "\r 32%|███▏      | 321/1000 [20:13<43:29,  3.84s/it]"
          ]
        },
        {
          "output_type": "stream",
          "name": "stdout",
          "text": [
            "Total reward after episode 321 is 629.0\n"
          ]
        },
        {
          "output_type": "stream",
          "name": "stderr",
          "text": [
            "\r 32%|███▏      | 322/1000 [20:18<47:13,  4.18s/it]"
          ]
        },
        {
          "output_type": "stream",
          "name": "stdout",
          "text": [
            "Total reward after episode 322 is 1339.0\n"
          ]
        },
        {
          "output_type": "stream",
          "name": "stderr",
          "text": [
            "\r 32%|███▏      | 323/1000 [20:23<49:11,  4.36s/it]"
          ]
        },
        {
          "output_type": "stream",
          "name": "stdout",
          "text": [
            "Total reward after episode 323 is 728.0\n"
          ]
        },
        {
          "output_type": "stream",
          "name": "stderr",
          "text": [
            "\r 32%|███▏      | 324/1000 [20:28<49:56,  4.43s/it]"
          ]
        },
        {
          "output_type": "stream",
          "name": "stdout",
          "text": [
            "Total reward after episode 324 is 1348.0\n"
          ]
        },
        {
          "output_type": "stream",
          "name": "stderr",
          "text": [
            "\r 32%|███▎      | 325/1000 [20:32<48:16,  4.29s/it]"
          ]
        },
        {
          "output_type": "stream",
          "name": "stdout",
          "text": [
            "Total reward after episode 325 is 622.0\n"
          ]
        },
        {
          "output_type": "stream",
          "name": "stderr",
          "text": [
            "\r 33%|███▎      | 326/1000 [20:34<41:52,  3.73s/it]"
          ]
        },
        {
          "output_type": "stream",
          "name": "stdout",
          "text": [
            "Total reward after episode 326 is 650.0\n"
          ]
        },
        {
          "output_type": "stream",
          "name": "stderr",
          "text": [
            "\r 33%|███▎      | 327/1000 [20:38<44:11,  3.94s/it]"
          ]
        },
        {
          "output_type": "stream",
          "name": "stdout",
          "text": [
            "Total reward after episode 327 is 1156.0\n"
          ]
        },
        {
          "output_type": "stream",
          "name": "stderr",
          "text": [
            "\r 33%|███▎      | 328/1000 [20:42<43:25,  3.88s/it]"
          ]
        },
        {
          "output_type": "stream",
          "name": "stdout",
          "text": [
            "Total reward after episode 328 is 1048.0\n"
          ]
        },
        {
          "output_type": "stream",
          "name": "stderr",
          "text": [
            "\r 33%|███▎      | 329/1000 [20:51<1:01:34,  5.51s/it]"
          ]
        },
        {
          "output_type": "stream",
          "name": "stdout",
          "text": [
            "Total reward after episode 329 is 2357.0\n"
          ]
        },
        {
          "output_type": "stream",
          "name": "stderr",
          "text": [
            "\r 33%|███▎      | 330/1000 [20:56<58:03,  5.20s/it]  "
          ]
        },
        {
          "output_type": "stream",
          "name": "stdout",
          "text": [
            "Total reward after episode 330 is 1437.0\n"
          ]
        },
        {
          "output_type": "stream",
          "name": "stderr",
          "text": [
            "\r 33%|███▎      | 331/1000 [20:57<43:34,  3.91s/it]"
          ]
        },
        {
          "output_type": "stream",
          "name": "stdout",
          "text": [
            "Total reward after episode 331 is 235.0\n"
          ]
        },
        {
          "output_type": "stream",
          "name": "stderr",
          "text": [
            "\r 33%|███▎      | 332/1000 [21:01<44:25,  3.99s/it]"
          ]
        },
        {
          "output_type": "stream",
          "name": "stdout",
          "text": [
            "Total reward after episode 332 is 815.0\n"
          ]
        },
        {
          "output_type": "stream",
          "name": "stderr",
          "text": [
            "\r 33%|███▎      | 333/1000 [21:02<35:07,  3.16s/it]"
          ]
        },
        {
          "output_type": "stream",
          "name": "stdout",
          "text": [
            "Total reward after episode 333 is 251.0\n"
          ]
        },
        {
          "output_type": "stream",
          "name": "stderr",
          "text": [
            "\r 33%|███▎      | 334/1000 [21:06<38:33,  3.47s/it]"
          ]
        },
        {
          "output_type": "stream",
          "name": "stdout",
          "text": [
            "Total reward after episode 334 is 640.0\n"
          ]
        },
        {
          "output_type": "stream",
          "name": "stderr",
          "text": [
            "\r 34%|███▎      | 335/1000 [21:10<40:16,  3.63s/it]"
          ]
        },
        {
          "output_type": "stream",
          "name": "stdout",
          "text": [
            "Total reward after episode 335 is 1043.0\n"
          ]
        },
        {
          "output_type": "stream",
          "name": "stderr",
          "text": [
            "\r 34%|███▎      | 336/1000 [21:14<39:27,  3.57s/it]"
          ]
        },
        {
          "output_type": "stream",
          "name": "stdout",
          "text": [
            "Total reward after episode 336 is 727.0\n"
          ]
        },
        {
          "output_type": "stream",
          "name": "stderr",
          "text": [
            "\r 34%|███▎      | 337/1000 [21:18<41:28,  3.75s/it]"
          ]
        },
        {
          "output_type": "stream",
          "name": "stdout",
          "text": [
            "Total reward after episode 337 is 1047.0\n"
          ]
        },
        {
          "output_type": "stream",
          "name": "stderr",
          "text": [
            "\r 34%|███▍      | 338/1000 [21:20<35:49,  3.25s/it]"
          ]
        },
        {
          "output_type": "stream",
          "name": "stdout",
          "text": [
            "Total reward after episode 338 is 626.0\n"
          ]
        },
        {
          "output_type": "stream",
          "name": "stderr",
          "text": [
            "\r 34%|███▍      | 339/1000 [21:24<37:12,  3.38s/it]"
          ]
        },
        {
          "output_type": "stream",
          "name": "stdout",
          "text": [
            "Total reward after episode 339 is 1349.0\n"
          ]
        },
        {
          "output_type": "stream",
          "name": "stderr",
          "text": [
            "\r 34%|███▍      | 340/1000 [21:26<33:49,  3.08s/it]"
          ]
        },
        {
          "output_type": "stream",
          "name": "stdout",
          "text": [
            "Total reward after episode 340 is 632.0\n"
          ]
        },
        {
          "output_type": "stream",
          "name": "stderr",
          "text": [
            "\r 34%|███▍      | 341/1000 [21:31<39:32,  3.60s/it]"
          ]
        },
        {
          "output_type": "stream",
          "name": "stdout",
          "text": [
            "Total reward after episode 341 is 1045.0\n"
          ]
        },
        {
          "output_type": "stream",
          "name": "stderr",
          "text": [
            "\r 34%|███▍      | 342/1000 [21:33<35:34,  3.24s/it]"
          ]
        },
        {
          "output_type": "stream",
          "name": "stdout",
          "text": [
            "Total reward after episode 342 is 631.0\n"
          ]
        },
        {
          "output_type": "stream",
          "name": "stderr",
          "text": [
            "\r 34%|███▍      | 343/1000 [21:34<28:06,  2.57s/it]"
          ]
        },
        {
          "output_type": "stream",
          "name": "stdout",
          "text": [
            "Total reward after episode 343 is 235.0\n"
          ]
        },
        {
          "output_type": "stream",
          "name": "stderr",
          "text": [
            "\r 34%|███▍      | 344/1000 [21:36<25:37,  2.34s/it]"
          ]
        },
        {
          "output_type": "stream",
          "name": "stdout",
          "text": [
            "Total reward after episode 344 is 611.0\n"
          ]
        },
        {
          "output_type": "stream",
          "name": "stderr",
          "text": [
            "\r 34%|███▍      | 345/1000 [21:38<24:00,  2.20s/it]"
          ]
        },
        {
          "output_type": "stream",
          "name": "stdout",
          "text": [
            "Total reward after episode 345 is 607.0\n"
          ]
        },
        {
          "output_type": "stream",
          "name": "stderr",
          "text": [
            "\r 35%|███▍      | 346/1000 [21:41<25:45,  2.36s/it]"
          ]
        },
        {
          "output_type": "stream",
          "name": "stdout",
          "text": [
            "Total reward after episode 346 is 617.0\n"
          ]
        },
        {
          "output_type": "stream",
          "name": "stderr",
          "text": [
            "\r 35%|███▍      | 347/1000 [21:47<39:10,  3.60s/it]"
          ]
        },
        {
          "output_type": "stream",
          "name": "stdout",
          "text": [
            "Total reward after episode 347 is 1026.0\n"
          ]
        },
        {
          "output_type": "stream",
          "name": "stderr",
          "text": [
            "\r 35%|███▍      | 348/1000 [21:52<43:00,  3.96s/it]"
          ]
        },
        {
          "output_type": "stream",
          "name": "stdout",
          "text": [
            "Total reward after episode 348 is 755.0\n"
          ]
        },
        {
          "output_type": "stream",
          "name": "stderr",
          "text": [
            "\r 35%|███▍      | 349/1000 [21:55<38:36,  3.56s/it]"
          ]
        },
        {
          "output_type": "stream",
          "name": "stdout",
          "text": [
            "Total reward after episode 349 is 624.0\n"
          ]
        },
        {
          "output_type": "stream",
          "name": "stderr",
          "text": [
            "\r 35%|███▌      | 350/1000 [21:55<29:26,  2.72s/it]"
          ]
        },
        {
          "output_type": "stream",
          "name": "stdout",
          "text": [
            "Total reward after episode 350 is 252.0\n"
          ]
        },
        {
          "output_type": "stream",
          "name": "stderr",
          "text": [
            "\r 35%|███▌      | 351/1000 [22:01<39:41,  3.67s/it]"
          ]
        },
        {
          "output_type": "stream",
          "name": "stdout",
          "text": [
            "Total reward after episode 351 is 1428.0\n"
          ]
        },
        {
          "output_type": "stream",
          "name": "stderr",
          "text": [
            "\r 35%|███▌      | 352/1000 [22:05<40:18,  3.73s/it]"
          ]
        },
        {
          "output_type": "stream",
          "name": "stdout",
          "text": [
            "Total reward after episode 352 is 1050.0\n"
          ]
        },
        {
          "output_type": "stream",
          "name": "stderr",
          "text": [
            "\r 35%|███▌      | 353/1000 [22:10<43:02,  3.99s/it]"
          ]
        },
        {
          "output_type": "stream",
          "name": "stdout",
          "text": [
            "Total reward after episode 353 is 1334.0\n"
          ]
        },
        {
          "output_type": "stream",
          "name": "stderr",
          "text": [
            "\r 35%|███▌      | 354/1000 [22:11<32:33,  3.02s/it]"
          ]
        },
        {
          "output_type": "stream",
          "name": "stdout",
          "text": [
            "Total reward after episode 354 is 250.0\n"
          ]
        },
        {
          "output_type": "stream",
          "name": "stderr",
          "text": [
            "\r 36%|███▌      | 355/1000 [22:14<32:48,  3.05s/it]"
          ]
        },
        {
          "output_type": "stream",
          "name": "stdout",
          "text": [
            "Total reward after episode 355 is 1051.0\n"
          ]
        },
        {
          "output_type": "stream",
          "name": "stderr",
          "text": [
            "\r 36%|███▌      | 356/1000 [22:20<42:41,  3.98s/it]"
          ]
        },
        {
          "output_type": "stream",
          "name": "stdout",
          "text": [
            "Total reward after episode 356 is 1338.0\n"
          ]
        },
        {
          "output_type": "stream",
          "name": "stderr",
          "text": [
            "\r 36%|███▌      | 357/1000 [22:22<36:40,  3.42s/it]"
          ]
        },
        {
          "output_type": "stream",
          "name": "stdout",
          "text": [
            "Total reward after episode 357 is 636.0\n"
          ]
        },
        {
          "output_type": "stream",
          "name": "stderr",
          "text": [
            "\r 36%|███▌      | 358/1000 [22:26<38:12,  3.57s/it]"
          ]
        },
        {
          "output_type": "stream",
          "name": "stdout",
          "text": [
            "Total reward after episode 358 is 816.0\n"
          ]
        },
        {
          "output_type": "stream",
          "name": "stderr",
          "text": [
            "\r 36%|███▌      | 359/1000 [22:31<41:49,  3.91s/it]"
          ]
        },
        {
          "output_type": "stream",
          "name": "stdout",
          "text": [
            "Total reward after episode 359 is 1429.0\n"
          ]
        },
        {
          "output_type": "stream",
          "name": "stderr",
          "text": [
            "\r 36%|███▌      | 360/1000 [22:35<43:10,  4.05s/it]"
          ]
        },
        {
          "output_type": "stream",
          "name": "stdout",
          "text": [
            "Total reward after episode 360 is 1343.0\n"
          ]
        },
        {
          "output_type": "stream",
          "name": "stderr",
          "text": [
            "\r 36%|███▌      | 361/1000 [22:39<43:36,  4.10s/it]"
          ]
        },
        {
          "output_type": "stream",
          "name": "stdout",
          "text": [
            "Total reward after episode 361 is 1043.0\n"
          ]
        },
        {
          "output_type": "stream",
          "name": "stderr",
          "text": [
            "\r 36%|███▌      | 362/1000 [22:54<1:16:18,  7.18s/it]"
          ]
        },
        {
          "output_type": "stream",
          "name": "stdout",
          "text": [
            "Total reward after episode 362 is 2321.0\n"
          ]
        },
        {
          "output_type": "stream",
          "name": "stderr",
          "text": [
            "\r 36%|███▋      | 363/1000 [22:55<57:06,  5.38s/it]  "
          ]
        },
        {
          "output_type": "stream",
          "name": "stdout",
          "text": [
            "Total reward after episode 363 is 239.0\n"
          ]
        },
        {
          "output_type": "stream",
          "name": "stderr",
          "text": [
            "\r 36%|███▋      | 364/1000 [23:00<57:55,  5.46s/it]"
          ]
        },
        {
          "output_type": "stream",
          "name": "stdout",
          "text": [
            "Total reward after episode 364 is 1036.0\n"
          ]
        },
        {
          "output_type": "stream",
          "name": "stderr",
          "text": [
            "\r 36%|███▋      | 365/1000 [23:05<55:52,  5.28s/it]"
          ]
        },
        {
          "output_type": "stream",
          "name": "stdout",
          "text": [
            "Total reward after episode 365 is 590.0\n"
          ]
        },
        {
          "output_type": "stream",
          "name": "stderr",
          "text": [
            "\r 37%|███▋      | 366/1000 [23:12<1:00:54,  5.76s/it]"
          ]
        },
        {
          "output_type": "stream",
          "name": "stdout",
          "text": [
            "Total reward after episode 366 is 1428.0\n"
          ]
        },
        {
          "output_type": "stream",
          "name": "stderr",
          "text": [
            "\r 37%|███▋      | 367/1000 [23:20<1:06:26,  6.30s/it]"
          ]
        },
        {
          "output_type": "stream",
          "name": "stdout",
          "text": [
            "Total reward after episode 367 is 1130.0\n"
          ]
        },
        {
          "output_type": "stream",
          "name": "stderr",
          "text": [
            "\r 37%|███▋      | 368/1000 [23:25<1:03:35,  6.04s/it]"
          ]
        },
        {
          "output_type": "stream",
          "name": "stdout",
          "text": [
            "Total reward after episode 368 is 1039.0\n"
          ]
        },
        {
          "output_type": "stream",
          "name": "stderr",
          "text": [
            "\r 37%|███▋      | 369/1000 [23:27<51:04,  4.86s/it]  "
          ]
        },
        {
          "output_type": "stream",
          "name": "stdout",
          "text": [
            "Total reward after episode 369 is 625.0\n"
          ]
        },
        {
          "output_type": "stream",
          "name": "stderr",
          "text": [
            "\r 37%|███▋      | 370/1000 [23:33<54:38,  5.20s/it]"
          ]
        },
        {
          "output_type": "stream",
          "name": "stdout",
          "text": [
            "Total reward after episode 370 is 1337.0\n"
          ]
        },
        {
          "output_type": "stream",
          "name": "stderr",
          "text": [
            "\r 37%|███▋      | 371/1000 [23:38<51:44,  4.94s/it]"
          ]
        },
        {
          "output_type": "stream",
          "name": "stdout",
          "text": [
            "Total reward after episode 371 is 1439.0\n"
          ]
        },
        {
          "output_type": "stream",
          "name": "stderr",
          "text": [
            "\r 37%|███▋      | 372/1000 [23:42<49:01,  4.68s/it]"
          ]
        },
        {
          "output_type": "stream",
          "name": "stdout",
          "text": [
            "Total reward after episode 372 is 813.0\n"
          ]
        },
        {
          "output_type": "stream",
          "name": "stderr",
          "text": [
            "\r 37%|███▋      | 373/1000 [23:52<1:07:00,  6.41s/it]"
          ]
        },
        {
          "output_type": "stream",
          "name": "stdout",
          "text": [
            "Total reward after episode 373 is 1004.0\n"
          ]
        },
        {
          "output_type": "stream",
          "name": "stderr",
          "text": [
            "\r 37%|███▋      | 374/1000 [23:55<56:06,  5.38s/it]  "
          ]
        },
        {
          "output_type": "stream",
          "name": "stdout",
          "text": [
            "Total reward after episode 374 is 1051.0\n"
          ]
        },
        {
          "output_type": "stream",
          "name": "stderr",
          "text": [
            "\r 38%|███▊      | 375/1000 [23:59<50:08,  4.81s/it]"
          ]
        },
        {
          "output_type": "stream",
          "name": "stdout",
          "text": [
            "Total reward after episode 375 is 731.0\n"
          ]
        },
        {
          "output_type": "stream",
          "name": "stderr",
          "text": [
            "\r 38%|███▊      | 376/1000 [24:04<51:05,  4.91s/it]"
          ]
        },
        {
          "output_type": "stream",
          "name": "stdout",
          "text": [
            "Total reward after episode 376 is 1418.0\n"
          ]
        },
        {
          "output_type": "stream",
          "name": "stderr",
          "text": [
            "\r 38%|███▊      | 377/1000 [24:07<47:21,  4.56s/it]"
          ]
        },
        {
          "output_type": "stream",
          "name": "stdout",
          "text": [
            "Total reward after episode 377 is 1348.0\n"
          ]
        },
        {
          "output_type": "stream",
          "name": "stderr",
          "text": [
            "\r 38%|███▊      | 378/1000 [24:08<35:27,  3.42s/it]"
          ]
        },
        {
          "output_type": "stream",
          "name": "stdout",
          "text": [
            "Total reward after episode 378 is 248.0\n"
          ]
        },
        {
          "output_type": "stream",
          "name": "stderr",
          "text": [
            "\r 38%|███▊      | 379/1000 [24:09<27:28,  2.65s/it]"
          ]
        },
        {
          "output_type": "stream",
          "name": "stdout",
          "text": [
            "Total reward after episode 379 is 238.0\n"
          ]
        },
        {
          "output_type": "stream",
          "name": "stderr",
          "text": [
            "\r 38%|███▊      | 380/1000 [24:14<34:41,  3.36s/it]"
          ]
        },
        {
          "output_type": "stream",
          "name": "stdout",
          "text": [
            "Total reward after episode 380 is 1044.0\n"
          ]
        },
        {
          "output_type": "stream",
          "name": "stderr",
          "text": [
            "\r 38%|███▊      | 381/1000 [24:17<31:57,  3.10s/it]"
          ]
        },
        {
          "output_type": "stream",
          "name": "stdout",
          "text": [
            "Total reward after episode 381 is 631.0\n"
          ]
        },
        {
          "output_type": "stream",
          "name": "stderr",
          "text": [
            "\r 38%|███▊      | 382/1000 [24:17<25:00,  2.43s/it]"
          ]
        },
        {
          "output_type": "stream",
          "name": "stdout",
          "text": [
            "Total reward after episode 382 is 235.0\n"
          ]
        },
        {
          "output_type": "stream",
          "name": "stderr",
          "text": [
            "\r 38%|███▊      | 383/1000 [24:23<33:34,  3.26s/it]"
          ]
        },
        {
          "output_type": "stream",
          "name": "stdout",
          "text": [
            "Total reward after episode 383 is 1325.0\n"
          ]
        },
        {
          "output_type": "stream",
          "name": "stderr",
          "text": [
            "\r 38%|███▊      | 384/1000 [24:24<27:18,  2.66s/it]"
          ]
        },
        {
          "output_type": "stream",
          "name": "stdout",
          "text": [
            "Total reward after episode 384 is 244.0\n"
          ]
        },
        {
          "output_type": "stream",
          "name": "stderr",
          "text": [
            "\r 38%|███▊      | 385/1000 [24:32<43:59,  4.29s/it]"
          ]
        },
        {
          "output_type": "stream",
          "name": "stdout",
          "text": [
            "Total reward after episode 385 is 1669.0\n"
          ]
        },
        {
          "output_type": "stream",
          "name": "stderr",
          "text": [
            "\r 39%|███▊      | 386/1000 [24:33<33:22,  3.26s/it]"
          ]
        },
        {
          "output_type": "stream",
          "name": "stdout",
          "text": [
            "Total reward after episode 386 is 240.0\n"
          ]
        },
        {
          "output_type": "stream",
          "name": "stderr",
          "text": [
            "\r 39%|███▊      | 387/1000 [24:34<25:40,  2.51s/it]"
          ]
        },
        {
          "output_type": "stream",
          "name": "stdout",
          "text": [
            "Total reward after episode 387 is 251.0\n"
          ]
        },
        {
          "output_type": "stream",
          "name": "stderr",
          "text": [
            "\r 39%|███▉      | 388/1000 [24:38<31:53,  3.13s/it]"
          ]
        },
        {
          "output_type": "stream",
          "name": "stdout",
          "text": [
            "Total reward after episode 388 is 601.0\n"
          ]
        },
        {
          "output_type": "stream",
          "name": "stderr",
          "text": [
            "\r 39%|███▉      | 389/1000 [24:41<29:53,  2.94s/it]"
          ]
        },
        {
          "output_type": "stream",
          "name": "stdout",
          "text": [
            "Total reward after episode 389 is 612.0\n"
          ]
        },
        {
          "output_type": "stream",
          "name": "stderr",
          "text": [
            "\r 39%|███▉      | 390/1000 [24:47<41:21,  4.07s/it]"
          ]
        },
        {
          "output_type": "stream",
          "name": "stdout",
          "text": [
            "Total reward after episode 390 is 1332.0\n"
          ]
        },
        {
          "output_type": "stream",
          "name": "stderr",
          "text": [
            "\r 39%|███▉      | 391/1000 [24:52<42:40,  4.20s/it]"
          ]
        },
        {
          "output_type": "stream",
          "name": "stdout",
          "text": [
            "Total reward after episode 391 is 1046.0\n"
          ]
        },
        {
          "output_type": "stream",
          "name": "stderr",
          "text": [
            "\r 39%|███▉      | 392/1000 [24:57<45:44,  4.51s/it]"
          ]
        },
        {
          "output_type": "stream",
          "name": "stdout",
          "text": [
            "Total reward after episode 392 is 1578.0\n"
          ]
        },
        {
          "output_type": "stream",
          "name": "stderr",
          "text": [
            "\r 39%|███▉      | 393/1000 [25:00<41:02,  4.06s/it]"
          ]
        },
        {
          "output_type": "stream",
          "name": "stdout",
          "text": [
            "Total reward after episode 393 is 1052.0\n"
          ]
        },
        {
          "output_type": "stream",
          "name": "stderr",
          "text": [
            "\r 39%|███▉      | 394/1000 [25:05<44:12,  4.38s/it]"
          ]
        },
        {
          "output_type": "stream",
          "name": "stdout",
          "text": [
            "Total reward after episode 394 is 1042.0\n"
          ]
        },
        {
          "output_type": "stream",
          "name": "stderr",
          "text": [
            "\r 40%|███▉      | 395/1000 [25:08<37:58,  3.77s/it]"
          ]
        },
        {
          "output_type": "stream",
          "name": "stdout",
          "text": [
            "Total reward after episode 395 is 613.0\n"
          ]
        },
        {
          "output_type": "stream",
          "name": "stderr",
          "text": [
            "\r 40%|███▉      | 396/1000 [25:18<58:19,  5.79s/it]"
          ]
        },
        {
          "output_type": "stream",
          "name": "stdout",
          "text": [
            "Total reward after episode 396 is 1302.0\n"
          ]
        },
        {
          "output_type": "stream",
          "name": "stderr",
          "text": [
            "\r 40%|███▉      | 397/1000 [25:24<57:14,  5.70s/it]"
          ]
        },
        {
          "output_type": "stream",
          "name": "stdout",
          "text": [
            "Total reward after episode 397 is 1033.0\n"
          ]
        },
        {
          "output_type": "stream",
          "name": "stderr",
          "text": [
            "\r 40%|███▉      | 398/1000 [25:26<46:05,  4.59s/it]"
          ]
        },
        {
          "output_type": "stream",
          "name": "stdout",
          "text": [
            "Total reward after episode 398 is 609.0\n"
          ]
        },
        {
          "output_type": "stream",
          "name": "stderr",
          "text": [
            "\r 40%|███▉      | 399/1000 [25:27<36:23,  3.63s/it]"
          ]
        },
        {
          "output_type": "stream",
          "name": "stdout",
          "text": [
            "Total reward after episode 399 is 238.0\n"
          ]
        },
        {
          "output_type": "stream",
          "name": "stderr",
          "text": [
            "\r 40%|████      | 400/1000 [25:32<41:43,  4.17s/it]"
          ]
        },
        {
          "output_type": "stream",
          "name": "stdout",
          "text": [
            "Total reward after episode 400 is 613.0\n"
          ]
        },
        {
          "output_type": "stream",
          "name": "stderr",
          "text": [
            "\r 40%|████      | 401/1000 [25:36<39:46,  3.98s/it]"
          ]
        },
        {
          "output_type": "stream",
          "name": "stdout",
          "text": [
            "Total reward after episode 401 is 762.0\n"
          ]
        },
        {
          "output_type": "stream",
          "name": "stderr",
          "text": [
            "\r 40%|████      | 402/1000 [25:45<53:53,  5.41s/it]"
          ]
        },
        {
          "output_type": "stream",
          "name": "stdout",
          "text": [
            "Total reward after episode 402 is 1123.0\n"
          ]
        },
        {
          "output_type": "stream",
          "name": "stderr",
          "text": [
            "\r 40%|████      | 403/1000 [25:49<51:55,  5.22s/it]"
          ]
        },
        {
          "output_type": "stream",
          "name": "stdout",
          "text": [
            "Total reward after episode 403 is 1341.0\n"
          ]
        },
        {
          "output_type": "stream",
          "name": "stderr",
          "text": [
            "\r 40%|████      | 404/1000 [25:55<53:54,  5.43s/it]"
          ]
        },
        {
          "output_type": "stream",
          "name": "stdout",
          "text": [
            "Total reward after episode 404 is 1145.0\n"
          ]
        },
        {
          "output_type": "stream",
          "name": "stderr",
          "text": [
            "\r 40%|████      | 405/1000 [25:59<48:47,  4.92s/it]"
          ]
        },
        {
          "output_type": "stream",
          "name": "stdout",
          "text": [
            "Total reward after episode 405 is 640.0\n"
          ]
        },
        {
          "output_type": "stream",
          "name": "stderr",
          "text": [
            "\r 41%|████      | 406/1000 [26:00<36:19,  3.67s/it]"
          ]
        },
        {
          "output_type": "stream",
          "name": "stdout",
          "text": [
            "Total reward after episode 406 is 248.0\n"
          ]
        },
        {
          "output_type": "stream",
          "name": "stderr",
          "text": [
            "\r 41%|████      | 407/1000 [26:04<37:03,  3.75s/it]"
          ]
        },
        {
          "output_type": "stream",
          "name": "stdout",
          "text": [
            "Total reward after episode 407 is 1047.0\n"
          ]
        },
        {
          "output_type": "stream",
          "name": "stderr",
          "text": [
            "\r 41%|████      | 408/1000 [26:08<39:01,  3.95s/it]"
          ]
        },
        {
          "output_type": "stream",
          "name": "stdout",
          "text": [
            "Total reward after episode 408 is 1045.0\n"
          ]
        },
        {
          "output_type": "stream",
          "name": "stderr",
          "text": [
            "\r 41%|████      | 409/1000 [26:15<48:30,  4.93s/it]"
          ]
        },
        {
          "output_type": "stream",
          "name": "stdout",
          "text": [
            "Total reward after episode 409 is 1422.0\n"
          ]
        },
        {
          "output_type": "stream",
          "name": "stderr",
          "text": [
            "\r 41%|████      | 410/1000 [26:19<43:12,  4.39s/it]"
          ]
        },
        {
          "output_type": "stream",
          "name": "stdout",
          "text": [
            "Total reward after episode 410 is 632.0\n"
          ]
        },
        {
          "output_type": "stream",
          "name": "stderr",
          "text": [
            "\r 41%|████      | 411/1000 [26:21<36:07,  3.68s/it]"
          ]
        },
        {
          "output_type": "stream",
          "name": "stdout",
          "text": [
            "Total reward after episode 411 is 609.0\n"
          ]
        },
        {
          "output_type": "stream",
          "name": "stderr",
          "text": [
            "\r 41%|████      | 412/1000 [26:23<31:27,  3.21s/it]"
          ]
        },
        {
          "output_type": "stream",
          "name": "stdout",
          "text": [
            "Total reward after episode 412 is 634.0\n"
          ]
        },
        {
          "output_type": "stream",
          "name": "stderr",
          "text": [
            "\r 41%|████▏     | 413/1000 [26:28<36:25,  3.72s/it]"
          ]
        },
        {
          "output_type": "stream",
          "name": "stdout",
          "text": [
            "Total reward after episode 413 is 1038.0\n"
          ]
        },
        {
          "output_type": "stream",
          "name": "stderr",
          "text": [
            "\r 41%|████▏     | 414/1000 [26:31<34:36,  3.54s/it]"
          ]
        },
        {
          "output_type": "stream",
          "name": "stdout",
          "text": [
            "Total reward after episode 414 is 616.0\n"
          ]
        },
        {
          "output_type": "stream",
          "name": "stderr",
          "text": [
            "\r 42%|████▏     | 415/1000 [26:35<36:29,  3.74s/it]"
          ]
        },
        {
          "output_type": "stream",
          "name": "stdout",
          "text": [
            "Total reward after episode 415 is 1345.0\n"
          ]
        },
        {
          "output_type": "stream",
          "name": "stderr",
          "text": [
            "\r 42%|████▏     | 416/1000 [26:40<40:43,  4.18s/it]"
          ]
        },
        {
          "output_type": "stream",
          "name": "stdout",
          "text": [
            "Total reward after episode 416 is 1323.0\n"
          ]
        },
        {
          "output_type": "stream",
          "name": "stderr",
          "text": [
            "\r 42%|████▏     | 417/1000 [26:46<44:01,  4.53s/it]"
          ]
        },
        {
          "output_type": "stream",
          "name": "stdout",
          "text": [
            "Total reward after episode 417 is 1343.0\n"
          ]
        },
        {
          "output_type": "stream",
          "name": "stderr",
          "text": [
            "\r 42%|████▏     | 418/1000 [26:49<40:31,  4.18s/it]"
          ]
        },
        {
          "output_type": "stream",
          "name": "stdout",
          "text": [
            "Total reward after episode 418 is 819.0\n"
          ]
        },
        {
          "output_type": "stream",
          "name": "stderr",
          "text": [
            "\r 42%|████▏     | 419/1000 [26:52<38:46,  4.01s/it]"
          ]
        },
        {
          "output_type": "stream",
          "name": "stdout",
          "text": [
            "Total reward after episode 419 is 818.0\n"
          ]
        },
        {
          "output_type": "stream",
          "name": "stderr",
          "text": [
            "\r 42%|████▏     | 420/1000 [26:55<34:51,  3.61s/it]"
          ]
        },
        {
          "output_type": "stream",
          "name": "stdout",
          "text": [
            "Total reward after episode 420 is 607.0\n"
          ]
        },
        {
          "output_type": "stream",
          "name": "stderr",
          "text": [
            "\r 42%|████▏     | 421/1000 [27:01<41:00,  4.25s/it]"
          ]
        },
        {
          "output_type": "stream",
          "name": "stdout",
          "text": [
            "Total reward after episode 421 is 1139.0\n"
          ]
        },
        {
          "output_type": "stream",
          "name": "stderr",
          "text": [
            "\r 42%|████▏     | 422/1000 [27:04<38:51,  4.03s/it]"
          ]
        },
        {
          "output_type": "stream",
          "name": "stdout",
          "text": [
            "Total reward after episode 422 is 1047.0\n"
          ]
        },
        {
          "output_type": "stream",
          "name": "stderr",
          "text": [
            "\r 42%|████▏     | 423/1000 [27:12<48:38,  5.06s/it]"
          ]
        },
        {
          "output_type": "stream",
          "name": "stdout",
          "text": [
            "Total reward after episode 423 is 1689.0\n"
          ]
        },
        {
          "output_type": "stream",
          "name": "stderr",
          "text": [
            "\r 42%|████▏     | 424/1000 [27:14<39:38,  4.13s/it]"
          ]
        },
        {
          "output_type": "stream",
          "name": "stdout",
          "text": [
            "Total reward after episode 424 is 638.0\n"
          ]
        },
        {
          "output_type": "stream",
          "name": "stderr",
          "text": [
            "\r 42%|████▎     | 425/1000 [27:18<39:24,  4.11s/it]"
          ]
        },
        {
          "output_type": "stream",
          "name": "stdout",
          "text": [
            "Total reward after episode 425 is 1346.0\n"
          ]
        },
        {
          "output_type": "stream",
          "name": "stderr",
          "text": [
            "\r 43%|████▎     | 426/1000 [27:24<44:52,  4.69s/it]"
          ]
        },
        {
          "output_type": "stream",
          "name": "stdout",
          "text": [
            "Total reward after episode 426 is 1037.0\n"
          ]
        },
        {
          "output_type": "stream",
          "name": "stderr",
          "text": [
            "\r 43%|████▎     | 427/1000 [27:28<41:55,  4.39s/it]"
          ]
        },
        {
          "output_type": "stream",
          "name": "stdout",
          "text": [
            "Total reward after episode 427 is 1046.0\n"
          ]
        },
        {
          "output_type": "stream",
          "name": "stderr",
          "text": [
            "\r 43%|████▎     | 428/1000 [27:30<36:36,  3.84s/it]"
          ]
        },
        {
          "output_type": "stream",
          "name": "stdout",
          "text": [
            "Total reward after episode 428 is 586.0\n"
          ]
        },
        {
          "output_type": "stream",
          "name": "stderr",
          "text": [
            "\r 43%|████▎     | 429/1000 [27:36<43:16,  4.55s/it]"
          ]
        },
        {
          "output_type": "stream",
          "name": "stdout",
          "text": [
            "Total reward after episode 429 is 1338.0\n"
          ]
        },
        {
          "output_type": "stream",
          "name": "stderr",
          "text": [
            "\r 43%|████▎     | 430/1000 [27:38<35:29,  3.74s/it]"
          ]
        },
        {
          "output_type": "stream",
          "name": "stdout",
          "text": [
            "Total reward after episode 430 is 615.0\n"
          ]
        },
        {
          "output_type": "stream",
          "name": "stderr",
          "text": [
            "\r 43%|████▎     | 431/1000 [27:42<35:11,  3.71s/it]"
          ]
        },
        {
          "output_type": "stream",
          "name": "stdout",
          "text": [
            "Total reward after episode 431 is 1047.0\n"
          ]
        },
        {
          "output_type": "stream",
          "name": "stderr",
          "text": [
            "\r 43%|████▎     | 432/1000 [27:44<31:15,  3.30s/it]"
          ]
        },
        {
          "output_type": "stream",
          "name": "stdout",
          "text": [
            "Total reward after episode 432 is 621.0\n"
          ]
        },
        {
          "output_type": "stream",
          "name": "stderr",
          "text": [
            "\r 43%|████▎     | 433/1000 [27:47<30:43,  3.25s/it]"
          ]
        },
        {
          "output_type": "stream",
          "name": "stdout",
          "text": [
            "Total reward after episode 433 is 632.0\n"
          ]
        },
        {
          "output_type": "stream",
          "name": "stderr",
          "text": [
            "\r 43%|████▎     | 434/1000 [27:48<23:48,  2.52s/it]"
          ]
        },
        {
          "output_type": "stream",
          "name": "stdout",
          "text": [
            "Total reward after episode 434 is 245.0\n"
          ]
        },
        {
          "output_type": "stream",
          "name": "stderr",
          "text": [
            "\r 44%|████▎     | 435/1000 [27:52<26:51,  2.85s/it]"
          ]
        },
        {
          "output_type": "stream",
          "name": "stdout",
          "text": [
            "Total reward after episode 435 is 817.0\n"
          ]
        },
        {
          "output_type": "stream",
          "name": "stderr",
          "text": [
            "\r 44%|████▎     | 436/1000 [27:54<23:37,  2.51s/it]"
          ]
        },
        {
          "output_type": "stream",
          "name": "stdout",
          "text": [
            "Total reward after episode 436 is 619.0\n"
          ]
        },
        {
          "output_type": "stream",
          "name": "stderr",
          "text": [
            "\r 44%|████▎     | 437/1000 [28:00<35:41,  3.80s/it]"
          ]
        },
        {
          "output_type": "stream",
          "name": "stdout",
          "text": [
            "Total reward after episode 437 is 1333.0\n"
          ]
        },
        {
          "output_type": "stream",
          "name": "stderr",
          "text": [
            "\r 44%|████▍     | 438/1000 [28:03<31:17,  3.34s/it]"
          ]
        },
        {
          "output_type": "stream",
          "name": "stdout",
          "text": [
            "Total reward after episode 438 is 633.0\n"
          ]
        },
        {
          "output_type": "stream",
          "name": "stderr",
          "text": [
            "\r 44%|████▍     | 439/1000 [28:05<27:20,  2.92s/it]"
          ]
        },
        {
          "output_type": "stream",
          "name": "stdout",
          "text": [
            "Total reward after episode 439 is 625.0\n"
          ]
        },
        {
          "output_type": "stream",
          "name": "stderr",
          "text": [
            "\r 44%|████▍     | 440/1000 [28:08<28:58,  3.10s/it]"
          ]
        },
        {
          "output_type": "stream",
          "name": "stdout",
          "text": [
            "Total reward after episode 440 is 1351.0\n"
          ]
        },
        {
          "output_type": "stream",
          "name": "stderr",
          "text": [
            "\r 44%|████▍     | 441/1000 [28:09<22:19,  2.40s/it]"
          ]
        },
        {
          "output_type": "stream",
          "name": "stdout",
          "text": [
            "Total reward after episode 441 is 248.0\n"
          ]
        },
        {
          "output_type": "stream",
          "name": "stderr",
          "text": [
            "\r 44%|████▍     | 442/1000 [28:14<30:18,  3.26s/it]"
          ]
        },
        {
          "output_type": "stream",
          "name": "stdout",
          "text": [
            "Total reward after episode 442 is 1041.0\n"
          ]
        },
        {
          "output_type": "stream",
          "name": "stderr",
          "text": [
            "\r 44%|████▍     | 443/1000 [28:15<23:20,  2.51s/it]"
          ]
        },
        {
          "output_type": "stream",
          "name": "stdout",
          "text": [
            "Total reward after episode 443 is 251.0\n"
          ]
        },
        {
          "output_type": "stream",
          "name": "stderr",
          "text": [
            "\r 44%|████▍     | 444/1000 [28:19<28:22,  3.06s/it]"
          ]
        },
        {
          "output_type": "stream",
          "name": "stdout",
          "text": [
            "Total reward after episode 444 is 1041.0\n"
          ]
        },
        {
          "output_type": "stream",
          "name": "stderr",
          "text": [
            "\r 44%|████▍     | 445/1000 [28:24<31:43,  3.43s/it]"
          ]
        },
        {
          "output_type": "stream",
          "name": "stdout",
          "text": [
            "Total reward after episode 445 is 1047.0\n"
          ]
        },
        {
          "output_type": "stream",
          "name": "stderr",
          "text": [
            "\r 45%|████▍     | 446/1000 [28:27<31:33,  3.42s/it]"
          ]
        },
        {
          "output_type": "stream",
          "name": "stdout",
          "text": [
            "Total reward after episode 446 is 1045.0\n"
          ]
        },
        {
          "output_type": "stream",
          "name": "stderr",
          "text": [
            "\r 45%|████▍     | 447/1000 [28:32<37:15,  4.04s/it]"
          ]
        },
        {
          "output_type": "stream",
          "name": "stdout",
          "text": [
            "Total reward after episode 447 is 1335.0\n"
          ]
        },
        {
          "output_type": "stream",
          "name": "stderr",
          "text": [
            "\r 45%|████▍     | 448/1000 [28:37<37:26,  4.07s/it]"
          ]
        },
        {
          "output_type": "stream",
          "name": "stdout",
          "text": [
            "Total reward after episode 448 is 1052.0\n"
          ]
        },
        {
          "output_type": "stream",
          "name": "stderr",
          "text": [
            "\r 45%|████▍     | 449/1000 [28:37<28:27,  3.10s/it]"
          ]
        },
        {
          "output_type": "stream",
          "name": "stdout",
          "text": [
            "Total reward after episode 449 is 252.0\n"
          ]
        },
        {
          "output_type": "stream",
          "name": "stderr",
          "text": [
            "\r 45%|████▌     | 450/1000 [28:41<30:14,  3.30s/it]"
          ]
        },
        {
          "output_type": "stream",
          "name": "stdout",
          "text": [
            "Total reward after episode 450 is 816.0\n"
          ]
        },
        {
          "output_type": "stream",
          "name": "stderr",
          "text": [
            "\r 45%|████▌     | 451/1000 [28:43<26:07,  2.86s/it]"
          ]
        },
        {
          "output_type": "stream",
          "name": "stdout",
          "text": [
            "Total reward after episode 451 is 631.0\n"
          ]
        },
        {
          "output_type": "stream",
          "name": "stderr",
          "text": [
            "\r 45%|████▌     | 452/1000 [28:51<41:36,  4.56s/it]"
          ]
        },
        {
          "output_type": "stream",
          "name": "stdout",
          "text": [
            "Total reward after episode 452 is 1844.0\n"
          ]
        },
        {
          "output_type": "stream",
          "name": "stderr",
          "text": [
            "\r 45%|████▌     | 453/1000 [28:55<37:33,  4.12s/it]"
          ]
        },
        {
          "output_type": "stream",
          "name": "stdout",
          "text": [
            "Total reward after episode 453 is 1050.0\n"
          ]
        },
        {
          "output_type": "stream",
          "name": "stderr",
          "text": [
            "\r 45%|████▌     | 454/1000 [28:58<36:48,  4.05s/it]"
          ]
        },
        {
          "output_type": "stream",
          "name": "stdout",
          "text": [
            "Total reward after episode 454 is 1334.0\n"
          ]
        },
        {
          "output_type": "stream",
          "name": "stderr",
          "text": [
            "\r 46%|████▌     | 455/1000 [29:03<38:06,  4.20s/it]"
          ]
        },
        {
          "output_type": "stream",
          "name": "stdout",
          "text": [
            "Total reward after episode 455 is 1047.0\n"
          ]
        },
        {
          "output_type": "stream",
          "name": "stderr",
          "text": [
            "\r 46%|████▌     | 456/1000 [29:05<32:29,  3.58s/it]"
          ]
        },
        {
          "output_type": "stream",
          "name": "stdout",
          "text": [
            "Total reward after episode 456 is 622.0\n"
          ]
        },
        {
          "output_type": "stream",
          "name": "stderr",
          "text": [
            "\r 46%|████▌     | 457/1000 [29:09<33:26,  3.70s/it]"
          ]
        },
        {
          "output_type": "stream",
          "name": "stdout",
          "text": [
            "Total reward after episode 457 is 768.0\n"
          ]
        },
        {
          "output_type": "stream",
          "name": "stderr",
          "text": [
            "\r 46%|████▌     | 458/1000 [29:10<25:41,  2.84s/it]"
          ]
        },
        {
          "output_type": "stream",
          "name": "stdout",
          "text": [
            "Total reward after episode 458 is 250.0\n"
          ]
        },
        {
          "output_type": "stream",
          "name": "stderr",
          "text": [
            "\r 46%|████▌     | 459/1000 [29:14<29:24,  3.26s/it]"
          ]
        },
        {
          "output_type": "stream",
          "name": "stdout",
          "text": [
            "Total reward after episode 459 is 1048.0\n"
          ]
        },
        {
          "output_type": "stream",
          "name": "stderr",
          "text": [
            "\r 46%|████▌     | 460/1000 [29:15<23:09,  2.57s/it]"
          ]
        },
        {
          "output_type": "stream",
          "name": "stdout",
          "text": [
            "Total reward after episode 460 is 235.0\n"
          ]
        },
        {
          "output_type": "stream",
          "name": "stderr",
          "text": [
            "\r 46%|████▌     | 461/1000 [29:20<28:20,  3.15s/it]"
          ]
        },
        {
          "output_type": "stream",
          "name": "stdout",
          "text": [
            "Total reward after episode 461 is 1344.0\n"
          ]
        },
        {
          "output_type": "stream",
          "name": "stderr",
          "text": [
            "\r 46%|████▌     | 462/1000 [29:21<23:59,  2.68s/it]"
          ]
        },
        {
          "output_type": "stream",
          "name": "stdout",
          "text": [
            "Total reward after episode 462 is 610.0\n"
          ]
        },
        {
          "output_type": "stream",
          "name": "stderr",
          "text": [
            "\r 46%|████▋     | 463/1000 [29:27<31:59,  3.57s/it]"
          ]
        },
        {
          "output_type": "stream",
          "name": "stdout",
          "text": [
            "Total reward after episode 463 is 1038.0\n"
          ]
        },
        {
          "output_type": "stream",
          "name": "stderr",
          "text": [
            "\r 46%|████▋     | 464/1000 [29:32<36:50,  4.12s/it]"
          ]
        },
        {
          "output_type": "stream",
          "name": "stdout",
          "text": [
            "Total reward after episode 464 is 1339.0\n"
          ]
        },
        {
          "output_type": "stream",
          "name": "stderr",
          "text": [
            "\r 46%|████▋     | 465/1000 [29:34<29:57,  3.36s/it]"
          ]
        },
        {
          "output_type": "stream",
          "name": "stdout",
          "text": [
            "Total reward after episode 465 is 610.0\n"
          ]
        },
        {
          "output_type": "stream",
          "name": "stderr",
          "text": [
            "\r 47%|████▋     | 466/1000 [29:36<26:29,  2.98s/it]"
          ]
        },
        {
          "output_type": "stream",
          "name": "stdout",
          "text": [
            "Total reward after episode 466 is 607.0\n"
          ]
        },
        {
          "output_type": "stream",
          "name": "stderr",
          "text": [
            "\r 47%|████▋     | 467/1000 [29:43<36:21,  4.09s/it]"
          ]
        },
        {
          "output_type": "stream",
          "name": "stdout",
          "text": [
            "Total reward after episode 467 is 1032.0\n"
          ]
        },
        {
          "output_type": "stream",
          "name": "stderr",
          "text": [
            "\r 47%|████▋     | 468/1000 [29:44<29:42,  3.35s/it]"
          ]
        },
        {
          "output_type": "stream",
          "name": "stdout",
          "text": [
            "Total reward after episode 468 is 611.0\n"
          ]
        },
        {
          "output_type": "stream",
          "name": "stderr",
          "text": [
            "\r 47%|████▋     | 469/1000 [29:47<27:14,  3.08s/it]"
          ]
        },
        {
          "output_type": "stream",
          "name": "stdout",
          "text": [
            "Total reward after episode 469 is 618.0\n"
          ]
        },
        {
          "output_type": "stream",
          "name": "stderr",
          "text": [
            "\r 47%|████▋     | 470/1000 [29:49<24:13,  2.74s/it]"
          ]
        },
        {
          "output_type": "stream",
          "name": "stdout",
          "text": [
            "Total reward after episode 470 is 603.0\n"
          ]
        },
        {
          "output_type": "stream",
          "name": "stderr",
          "text": [
            "\r 47%|████▋     | 471/1000 [29:50<19:09,  2.17s/it]"
          ]
        },
        {
          "output_type": "stream",
          "name": "stdout",
          "text": [
            "Total reward after episode 471 is 245.0\n"
          ]
        },
        {
          "output_type": "stream",
          "name": "stderr",
          "text": [
            "\r 47%|████▋     | 472/1000 [29:53<21:12,  2.41s/it]"
          ]
        },
        {
          "output_type": "stream",
          "name": "stdout",
          "text": [
            "Total reward after episode 472 is 610.0\n"
          ]
        },
        {
          "output_type": "stream",
          "name": "stderr",
          "text": [
            "\r 47%|████▋     | 473/1000 [29:57<27:58,  3.18s/it]"
          ]
        },
        {
          "output_type": "stream",
          "name": "stdout",
          "text": [
            "Total reward after episode 473 is 1429.0\n"
          ]
        },
        {
          "output_type": "stream",
          "name": "stderr",
          "text": [
            "\r 47%|████▋     | 474/1000 [30:02<31:20,  3.58s/it]"
          ]
        },
        {
          "output_type": "stream",
          "name": "stdout",
          "text": [
            "Total reward after episode 474 is 1429.0\n"
          ]
        },
        {
          "output_type": "stream",
          "name": "stderr",
          "text": [
            "\r 48%|████▊     | 475/1000 [30:05<30:58,  3.54s/it]"
          ]
        },
        {
          "output_type": "stream",
          "name": "stdout",
          "text": [
            "Total reward after episode 475 is 610.0\n"
          ]
        },
        {
          "output_type": "stream",
          "name": "stderr",
          "text": [
            "\r 48%|████▊     | 476/1000 [30:07<25:59,  2.98s/it]"
          ]
        },
        {
          "output_type": "stream",
          "name": "stdout",
          "text": [
            "Total reward after episode 476 is 608.0\n"
          ]
        },
        {
          "output_type": "stream",
          "name": "stderr",
          "text": [
            "\r 48%|████▊     | 477/1000 [30:11<27:05,  3.11s/it]"
          ]
        },
        {
          "output_type": "stream",
          "name": "stdout",
          "text": [
            "Total reward after episode 477 is 819.0\n"
          ]
        },
        {
          "output_type": "stream",
          "name": "stderr",
          "text": [
            "\r 48%|████▊     | 478/1000 [30:15<29:59,  3.45s/it]"
          ]
        },
        {
          "output_type": "stream",
          "name": "stdout",
          "text": [
            "Total reward after episode 478 is 1349.0\n"
          ]
        },
        {
          "output_type": "stream",
          "name": "stderr",
          "text": [
            "\r 48%|████▊     | 479/1000 [30:18<29:56,  3.45s/it]"
          ]
        },
        {
          "output_type": "stream",
          "name": "stdout",
          "text": [
            "Total reward after episode 479 is 627.0\n"
          ]
        },
        {
          "output_type": "stream",
          "name": "stderr",
          "text": [
            "\r 48%|████▊     | 480/1000 [30:22<29:44,  3.43s/it]"
          ]
        },
        {
          "output_type": "stream",
          "name": "stdout",
          "text": [
            "Total reward after episode 480 is 1068.0\n"
          ]
        },
        {
          "output_type": "stream",
          "name": "stderr",
          "text": [
            "\r 48%|████▊     | 481/1000 [30:26<32:50,  3.80s/it]"
          ]
        },
        {
          "output_type": "stream",
          "name": "stdout",
          "text": [
            "Total reward after episode 481 is 1342.0\n"
          ]
        },
        {
          "output_type": "stream",
          "name": "stderr",
          "text": [
            "\r 48%|████▊     | 482/1000 [30:31<36:31,  4.23s/it]"
          ]
        },
        {
          "output_type": "stream",
          "name": "stdout",
          "text": [
            "Total reward after episode 482 is 1441.0\n"
          ]
        },
        {
          "output_type": "stream",
          "name": "stderr",
          "text": [
            "\r 48%|████▊     | 483/1000 [30:34<31:04,  3.61s/it]"
          ]
        },
        {
          "output_type": "stream",
          "name": "stdout",
          "text": [
            "Total reward after episode 483 is 629.0\n"
          ]
        },
        {
          "output_type": "stream",
          "name": "stderr",
          "text": [
            "\r 48%|████▊     | 484/1000 [30:39<34:41,  4.03s/it]"
          ]
        },
        {
          "output_type": "stream",
          "name": "stdout",
          "text": [
            "Total reward after episode 484 is 1340.0\n"
          ]
        },
        {
          "output_type": "stream",
          "name": "stderr",
          "text": [
            "\r 48%|████▊     | 485/1000 [30:43<35:33,  4.14s/it]"
          ]
        },
        {
          "output_type": "stream",
          "name": "stdout",
          "text": [
            "Total reward after episode 485 is 1048.0\n"
          ]
        },
        {
          "output_type": "stream",
          "name": "stderr",
          "text": [
            "\r 49%|████▊     | 486/1000 [30:48<37:16,  4.35s/it]"
          ]
        },
        {
          "output_type": "stream",
          "name": "stdout",
          "text": [
            "Total reward after episode 486 is 808.0\n"
          ]
        },
        {
          "output_type": "stream",
          "name": "stderr",
          "text": [
            "\r 49%|████▊     | 487/1000 [30:51<35:07,  4.11s/it]"
          ]
        },
        {
          "output_type": "stream",
          "name": "stdout",
          "text": [
            "Total reward after episode 487 is 1050.0\n"
          ]
        },
        {
          "output_type": "stream",
          "name": "stderr",
          "text": [
            "\r 49%|████▉     | 488/1000 [30:54<30:53,  3.62s/it]"
          ]
        },
        {
          "output_type": "stream",
          "name": "stdout",
          "text": [
            "Total reward after episode 488 is 633.0\n"
          ]
        },
        {
          "output_type": "stream",
          "name": "stderr",
          "text": [
            "\r 49%|████▉     | 489/1000 [30:56<28:04,  3.30s/it]"
          ]
        },
        {
          "output_type": "stream",
          "name": "stdout",
          "text": [
            "Total reward after episode 489 is 610.0\n"
          ]
        },
        {
          "output_type": "stream",
          "name": "stderr",
          "text": [
            "\r 49%|████▉     | 490/1000 [31:01<30:34,  3.60s/it]"
          ]
        },
        {
          "output_type": "stream",
          "name": "stdout",
          "text": [
            "Total reward after episode 490 is 813.0\n"
          ]
        },
        {
          "output_type": "stream",
          "name": "stderr",
          "text": [
            "\r 49%|████▉     | 491/1000 [31:04<29:57,  3.53s/it]"
          ]
        },
        {
          "output_type": "stream",
          "name": "stdout",
          "text": [
            "Total reward after episode 491 is 1046.0\n"
          ]
        },
        {
          "output_type": "stream",
          "name": "stderr",
          "text": [
            "\r 49%|████▉     | 492/1000 [31:06<26:37,  3.15s/it]"
          ]
        },
        {
          "output_type": "stream",
          "name": "stdout",
          "text": [
            "Total reward after episode 492 is 633.0\n"
          ]
        },
        {
          "output_type": "stream",
          "name": "stderr",
          "text": [
            "\r 49%|████▉     | 493/1000 [31:12<31:37,  3.74s/it]"
          ]
        },
        {
          "output_type": "stream",
          "name": "stdout",
          "text": [
            "Total reward after episode 493 is 1344.0\n"
          ]
        },
        {
          "output_type": "stream",
          "name": "stderr",
          "text": [
            "\r 49%|████▉     | 494/1000 [31:16<32:12,  3.82s/it]"
          ]
        },
        {
          "output_type": "stream",
          "name": "stdout",
          "text": [
            "Total reward after episode 494 is 815.0\n"
          ]
        },
        {
          "output_type": "stream",
          "name": "stderr",
          "text": [
            "\r 50%|████▉     | 495/1000 [31:17<26:40,  3.17s/it]"
          ]
        },
        {
          "output_type": "stream",
          "name": "stdout",
          "text": [
            "Total reward after episode 495 is 610.0\n"
          ]
        },
        {
          "output_type": "stream",
          "name": "stderr",
          "text": [
            "\r 50%|████▉     | 496/1000 [31:25<38:03,  4.53s/it]"
          ]
        },
        {
          "output_type": "stream",
          "name": "stdout",
          "text": [
            "Total reward after episode 496 is 1328.0\n"
          ]
        },
        {
          "output_type": "stream",
          "name": "stderr",
          "text": [
            "\r 50%|████▉     | 497/1000 [31:27<30:46,  3.67s/it]"
          ]
        },
        {
          "output_type": "stream",
          "name": "stdout",
          "text": [
            "Total reward after episode 497 is 607.0\n"
          ]
        },
        {
          "output_type": "stream",
          "name": "stderr",
          "text": [
            "\r 50%|████▉     | 498/1000 [31:27<23:47,  2.84s/it]"
          ]
        },
        {
          "output_type": "stream",
          "name": "stdout",
          "text": [
            "Total reward after episode 498 is 239.0\n"
          ]
        },
        {
          "output_type": "stream",
          "name": "stderr",
          "text": [
            "\r 50%|████▉     | 499/1000 [31:34<32:36,  3.91s/it]"
          ]
        },
        {
          "output_type": "stream",
          "name": "stdout",
          "text": [
            "Total reward after episode 499 is 1420.0\n"
          ]
        },
        {
          "output_type": "stream",
          "name": "stderr",
          "text": [
            "\r 50%|█████     | 500/1000 [31:35<26:51,  3.22s/it]"
          ]
        },
        {
          "output_type": "stream",
          "name": "stdout",
          "text": [
            "Total reward after episode 500 is 606.0\n"
          ]
        },
        {
          "output_type": "stream",
          "name": "stderr",
          "text": [
            "\r 50%|█████     | 501/1000 [31:36<20:43,  2.49s/it]"
          ]
        },
        {
          "output_type": "stream",
          "name": "stdout",
          "text": [
            "Total reward after episode 501 is 248.0\n"
          ]
        },
        {
          "output_type": "stream",
          "name": "stderr",
          "text": [
            "\r 50%|█████     | 502/1000 [31:40<24:19,  2.93s/it]"
          ]
        },
        {
          "output_type": "stream",
          "name": "stdout",
          "text": [
            "Total reward after episode 502 is 816.0\n"
          ]
        },
        {
          "output_type": "stream",
          "name": "stderr",
          "text": [
            "\r 50%|█████     | 503/1000 [31:44<25:23,  3.07s/it]"
          ]
        },
        {
          "output_type": "stream",
          "name": "stdout",
          "text": [
            "Total reward after episode 503 is 1050.0\n"
          ]
        },
        {
          "output_type": "stream",
          "name": "stderr",
          "text": [
            "\r 50%|█████     | 504/1000 [31:49<29:58,  3.63s/it]"
          ]
        },
        {
          "output_type": "stream",
          "name": "stdout",
          "text": [
            "Total reward after episode 504 is 1441.0\n"
          ]
        },
        {
          "output_type": "stream",
          "name": "stderr",
          "text": [
            "\r 50%|█████     | 505/1000 [31:52<29:38,  3.59s/it]"
          ]
        },
        {
          "output_type": "stream",
          "name": "stdout",
          "text": [
            "Total reward after episode 505 is 1056.0\n"
          ]
        },
        {
          "output_type": "stream",
          "name": "stderr",
          "text": [
            "\r 51%|█████     | 506/1000 [31:57<31:50,  3.87s/it]"
          ]
        },
        {
          "output_type": "stream",
          "name": "stdout",
          "text": [
            "Total reward after episode 506 is 1437.0\n"
          ]
        },
        {
          "output_type": "stream",
          "name": "stderr",
          "text": [
            "\r 51%|█████     | 507/1000 [31:58<25:12,  3.07s/it]"
          ]
        },
        {
          "output_type": "stream",
          "name": "stdout",
          "text": [
            "Total reward after episode 507 is 247.0\n"
          ]
        },
        {
          "output_type": "stream",
          "name": "stderr",
          "text": [
            "\r 51%|█████     | 508/1000 [32:00<22:49,  2.78s/it]"
          ]
        },
        {
          "output_type": "stream",
          "name": "stdout",
          "text": [
            "Total reward after episode 508 is 609.0\n"
          ]
        },
        {
          "output_type": "stream",
          "name": "stderr",
          "text": [
            "\r 51%|█████     | 509/1000 [32:04<26:03,  3.19s/it]"
          ]
        },
        {
          "output_type": "stream",
          "name": "stdout",
          "text": [
            "Total reward after episode 509 is 1042.0\n"
          ]
        },
        {
          "output_type": "stream",
          "name": "stderr",
          "text": [
            "\r 51%|█████     | 510/1000 [32:08<28:43,  3.52s/it]"
          ]
        },
        {
          "output_type": "stream",
          "name": "stdout",
          "text": [
            "Total reward after episode 510 is 1042.0\n"
          ]
        },
        {
          "output_type": "stream",
          "name": "stderr",
          "text": [
            "\r 51%|█████     | 511/1000 [32:14<34:03,  4.18s/it]"
          ]
        },
        {
          "output_type": "stream",
          "name": "stdout",
          "text": [
            "Total reward after episode 511 is 1341.0\n"
          ]
        },
        {
          "output_type": "stream",
          "name": "stderr",
          "text": [
            "\r 51%|█████     | 512/1000 [32:18<34:28,  4.24s/it]"
          ]
        },
        {
          "output_type": "stream",
          "name": "stdout",
          "text": [
            "Total reward after episode 512 is 1049.0\n"
          ]
        },
        {
          "output_type": "stream",
          "name": "stderr",
          "text": [
            "\r 51%|█████▏    | 513/1000 [32:24<38:21,  4.73s/it]"
          ]
        },
        {
          "output_type": "stream",
          "name": "stdout",
          "text": [
            "Total reward after episode 513 is 1342.0\n"
          ]
        },
        {
          "output_type": "stream",
          "name": "stderr",
          "text": [
            "\r 51%|█████▏    | 514/1000 [32:27<32:16,  3.99s/it]"
          ]
        },
        {
          "output_type": "stream",
          "name": "stdout",
          "text": [
            "Total reward after episode 514 is 617.0\n"
          ]
        },
        {
          "output_type": "stream",
          "name": "stderr",
          "text": [
            "\r 52%|█████▏    | 515/1000 [32:30<31:46,  3.93s/it]"
          ]
        },
        {
          "output_type": "stream",
          "name": "stdout",
          "text": [
            "Total reward after episode 515 is 1044.0\n"
          ]
        },
        {
          "output_type": "stream",
          "name": "stderr",
          "text": [
            "\r 52%|█████▏    | 516/1000 [32:37<38:24,  4.76s/it]"
          ]
        },
        {
          "output_type": "stream",
          "name": "stdout",
          "text": [
            "Total reward after episode 516 is 1431.0\n"
          ]
        },
        {
          "output_type": "stream",
          "name": "stderr",
          "text": [
            "\r 52%|█████▏    | 517/1000 [32:39<31:20,  3.89s/it]"
          ]
        },
        {
          "output_type": "stream",
          "name": "stdout",
          "text": [
            "Total reward after episode 517 is 612.0\n"
          ]
        },
        {
          "output_type": "stream",
          "name": "stderr",
          "text": [
            "\r 52%|█████▏    | 518/1000 [32:42<30:33,  3.80s/it]"
          ]
        },
        {
          "output_type": "stream",
          "name": "stdout",
          "text": [
            "Total reward after episode 518 is 818.0\n"
          ]
        },
        {
          "output_type": "stream",
          "name": "stderr",
          "text": [
            "\r 52%|█████▏    | 519/1000 [32:48<33:37,  4.19s/it]"
          ]
        },
        {
          "output_type": "stream",
          "name": "stdout",
          "text": [
            "Total reward after episode 519 is 780.0\n"
          ]
        },
        {
          "output_type": "stream",
          "name": "stderr",
          "text": [
            "\r 52%|█████▏    | 520/1000 [32:49<26:40,  3.33s/it]"
          ]
        },
        {
          "output_type": "stream",
          "name": "stdout",
          "text": [
            "Total reward after episode 520 is 239.0\n"
          ]
        },
        {
          "output_type": "stream",
          "name": "stderr",
          "text": [
            "\r 52%|█████▏    | 521/1000 [32:53<29:00,  3.63s/it]"
          ]
        },
        {
          "output_type": "stream",
          "name": "stdout",
          "text": [
            "Total reward after episode 521 is 1330.0\n"
          ]
        },
        {
          "output_type": "stream",
          "name": "stderr",
          "text": [
            "\r 52%|█████▏    | 522/1000 [32:55<25:10,  3.16s/it]"
          ]
        },
        {
          "output_type": "stream",
          "name": "stdout",
          "text": [
            "Total reward after episode 522 is 609.0\n"
          ]
        },
        {
          "output_type": "stream",
          "name": "stderr",
          "text": [
            "\r 52%|█████▏    | 523/1000 [32:57<21:40,  2.73s/it]"
          ]
        },
        {
          "output_type": "stream",
          "name": "stdout",
          "text": [
            "Total reward after episode 523 is 610.0\n"
          ]
        },
        {
          "output_type": "stream",
          "name": "stderr",
          "text": [
            "\r 52%|█████▏    | 524/1000 [33:02<28:06,  3.54s/it]"
          ]
        },
        {
          "output_type": "stream",
          "name": "stdout",
          "text": [
            "Total reward after episode 524 is 729.0\n"
          ]
        },
        {
          "output_type": "stream",
          "name": "stderr",
          "text": [
            "\r 52%|█████▎    | 525/1000 [33:07<30:36,  3.87s/it]"
          ]
        },
        {
          "output_type": "stream",
          "name": "stdout",
          "text": [
            "Total reward after episode 525 is 1038.0\n"
          ]
        },
        {
          "output_type": "stream",
          "name": "stderr",
          "text": [
            "\r 53%|█████▎    | 526/1000 [33:09<26:47,  3.39s/it]"
          ]
        },
        {
          "output_type": "stream",
          "name": "stdout",
          "text": [
            "Total reward after episode 526 is 615.0\n"
          ]
        },
        {
          "output_type": "stream",
          "name": "stderr",
          "text": [
            "\r 53%|█████▎    | 527/1000 [33:20<43:37,  5.53s/it]"
          ]
        },
        {
          "output_type": "stream",
          "name": "stdout",
          "text": [
            "Total reward after episode 527 is 774.0\n"
          ]
        },
        {
          "output_type": "stream",
          "name": "stderr",
          "text": [
            "\r 53%|█████▎    | 528/1000 [33:21<32:33,  4.14s/it]"
          ]
        },
        {
          "output_type": "stream",
          "name": "stdout",
          "text": [
            "Total reward after episode 528 is 238.0\n"
          ]
        },
        {
          "output_type": "stream",
          "name": "stderr",
          "text": [
            "\r 53%|█████▎    | 529/1000 [33:24<29:57,  3.82s/it]"
          ]
        },
        {
          "output_type": "stream",
          "name": "stdout",
          "text": [
            "Total reward after episode 529 is 1048.0\n"
          ]
        },
        {
          "output_type": "stream",
          "name": "stderr",
          "text": [
            "\r 53%|█████▎    | 530/1000 [33:28<31:30,  4.02s/it]"
          ]
        },
        {
          "output_type": "stream",
          "name": "stdout",
          "text": [
            "Total reward after episode 530 is 1047.0\n"
          ]
        },
        {
          "output_type": "stream",
          "name": "stderr",
          "text": [
            "\r 53%|█████▎    | 531/1000 [33:29<23:59,  3.07s/it]"
          ]
        },
        {
          "output_type": "stream",
          "name": "stdout",
          "text": [
            "Total reward after episode 531 is 240.0\n"
          ]
        },
        {
          "output_type": "stream",
          "name": "stderr",
          "text": [
            "\r 53%|█████▎    | 532/1000 [33:40<40:55,  5.25s/it]"
          ]
        },
        {
          "output_type": "stream",
          "name": "stdout",
          "text": [
            "Total reward after episode 532 is 776.0\n"
          ]
        },
        {
          "output_type": "stream",
          "name": "stderr",
          "text": [
            "\r 53%|█████▎    | 533/1000 [33:41<32:50,  4.22s/it]"
          ]
        },
        {
          "output_type": "stream",
          "name": "stdout",
          "text": [
            "Total reward after episode 533 is 611.0\n"
          ]
        },
        {
          "output_type": "stream",
          "name": "stderr",
          "text": [
            "\r 53%|█████▎    | 534/1000 [33:46<33:27,  4.31s/it]"
          ]
        },
        {
          "output_type": "stream",
          "name": "stdout",
          "text": [
            "Total reward after episode 534 is 1422.0\n"
          ]
        },
        {
          "output_type": "stream",
          "name": "stderr",
          "text": [
            "\r 54%|█████▎    | 535/1000 [34:13<1:25:39, 11.05s/it]"
          ]
        },
        {
          "output_type": "stream",
          "name": "stdout",
          "text": [
            "Total reward after episode 535 is 664.0\n"
          ]
        },
        {
          "output_type": "stream",
          "name": "stderr",
          "text": [
            "\r 54%|█████▎    | 536/1000 [34:14<1:03:34,  8.22s/it]"
          ]
        },
        {
          "output_type": "stream",
          "name": "stdout",
          "text": [
            "Total reward after episode 536 is 611.0\n"
          ]
        },
        {
          "output_type": "stream",
          "name": "stderr",
          "text": [
            "\r 54%|█████▎    | 537/1000 [34:20<58:31,  7.58s/it]  "
          ]
        },
        {
          "output_type": "stream",
          "name": "stdout",
          "text": [
            "Total reward after episode 537 is 1340.0\n"
          ]
        },
        {
          "output_type": "stream",
          "name": "stderr",
          "text": [
            "\r 54%|█████▍    | 538/1000 [34:22<45:30,  5.91s/it]"
          ]
        },
        {
          "output_type": "stream",
          "name": "stdout",
          "text": [
            "Total reward after episode 538 is 609.0\n"
          ]
        },
        {
          "output_type": "stream",
          "name": "stderr",
          "text": [
            "\r 54%|█████▍    | 539/1000 [34:28<44:15,  5.76s/it]"
          ]
        },
        {
          "output_type": "stream",
          "name": "stdout",
          "text": [
            "Total reward after episode 539 is 1581.0\n"
          ]
        },
        {
          "output_type": "stream",
          "name": "stderr",
          "text": [
            "\r 54%|█████▍    | 540/1000 [34:31<37:10,  4.85s/it]"
          ]
        },
        {
          "output_type": "stream",
          "name": "stdout",
          "text": [
            "Total reward after episode 540 is 609.0\n"
          ]
        },
        {
          "output_type": "stream",
          "name": "stderr",
          "text": [
            "\r 54%|█████▍    | 541/1000 [34:33<30:46,  4.02s/it]"
          ]
        },
        {
          "output_type": "stream",
          "name": "stdout",
          "text": [
            "Total reward after episode 541 is 628.0\n"
          ]
        },
        {
          "output_type": "stream",
          "name": "stderr",
          "text": [
            "\r 54%|█████▍    | 542/1000 [34:35<26:48,  3.51s/it]"
          ]
        },
        {
          "output_type": "stream",
          "name": "stdout",
          "text": [
            "Total reward after episode 542 is 637.0\n"
          ]
        },
        {
          "output_type": "stream",
          "name": "stderr",
          "text": [
            "\r 54%|█████▍    | 543/1000 [34:37<23:02,  3.03s/it]"
          ]
        },
        {
          "output_type": "stream",
          "name": "stdout",
          "text": [
            "Total reward after episode 543 is 613.0\n"
          ]
        },
        {
          "output_type": "stream",
          "name": "stderr",
          "text": [
            "\r 54%|█████▍    | 544/1000 [34:39<20:58,  2.76s/it]"
          ]
        },
        {
          "output_type": "stream",
          "name": "stdout",
          "text": [
            "Total reward after episode 544 is 628.0\n"
          ]
        },
        {
          "output_type": "stream",
          "name": "stderr",
          "text": [
            "\r 55%|█████▍    | 545/1000 [34:46<31:07,  4.10s/it]"
          ]
        },
        {
          "output_type": "stream",
          "name": "stdout",
          "text": [
            "Total reward after episode 545 is 1027.0\n"
          ]
        },
        {
          "output_type": "stream",
          "name": "stderr",
          "text": [
            "\r 55%|█████▍    | 546/1000 [34:50<30:23,  4.02s/it]"
          ]
        },
        {
          "output_type": "stream",
          "name": "stdout",
          "text": [
            "Total reward after episode 546 is 1047.0\n"
          ]
        },
        {
          "output_type": "stream",
          "name": "stderr",
          "text": [
            "\r 55%|█████▍    | 547/1000 [34:54<29:12,  3.87s/it]"
          ]
        },
        {
          "output_type": "stream",
          "name": "stdout",
          "text": [
            "Total reward after episode 547 is 752.0\n"
          ]
        },
        {
          "output_type": "stream",
          "name": "stderr",
          "text": [
            "\r 55%|█████▍    | 548/1000 [34:55<23:26,  3.11s/it]"
          ]
        },
        {
          "output_type": "stream",
          "name": "stdout",
          "text": [
            "Total reward after episode 548 is 234.0\n"
          ]
        },
        {
          "output_type": "stream",
          "name": "stderr",
          "text": [
            "\r 55%|█████▍    | 549/1000 [35:02<32:45,  4.36s/it]"
          ]
        },
        {
          "output_type": "stream",
          "name": "stdout",
          "text": [
            "Total reward after episode 549 is 1020.0\n"
          ]
        },
        {
          "output_type": "stream",
          "name": "stderr",
          "text": [
            "\r 55%|█████▌    | 550/1000 [35:07<34:25,  4.59s/it]"
          ]
        },
        {
          "output_type": "stream",
          "name": "stdout",
          "text": [
            "Total reward after episode 550 is 813.0\n"
          ]
        },
        {
          "output_type": "stream",
          "name": "stderr",
          "text": [
            "\r 55%|█████▌    | 551/1000 [35:11<31:23,  4.19s/it]"
          ]
        },
        {
          "output_type": "stream",
          "name": "stdout",
          "text": [
            "Total reward after episode 551 is 741.0\n"
          ]
        },
        {
          "output_type": "stream",
          "name": "stderr",
          "text": [
            "\r 55%|█████▌    | 552/1000 [35:19<41:26,  5.55s/it]"
          ]
        },
        {
          "output_type": "stream",
          "name": "stdout",
          "text": [
            "Total reward after episode 552 is 786.0\n"
          ]
        },
        {
          "output_type": "stream",
          "name": "stderr",
          "text": [
            "\r 55%|█████▌    | 553/1000 [35:26<43:14,  5.80s/it]"
          ]
        },
        {
          "output_type": "stream",
          "name": "stdout",
          "text": [
            "Total reward after episode 553 is 582.0\n"
          ]
        },
        {
          "output_type": "stream",
          "name": "stderr",
          "text": [
            "\r 55%|█████▌    | 554/1000 [35:30<39:19,  5.29s/it]"
          ]
        },
        {
          "output_type": "stream",
          "name": "stdout",
          "text": [
            "Total reward after episode 554 is 1348.0\n"
          ]
        },
        {
          "output_type": "stream",
          "name": "stderr",
          "text": [
            "\r 56%|█████▌    | 555/1000 [35:35<38:17,  5.16s/it]"
          ]
        },
        {
          "output_type": "stream",
          "name": "stdout",
          "text": [
            "Total reward after episode 555 is 1331.0\n"
          ]
        },
        {
          "output_type": "stream",
          "name": "stderr",
          "text": [
            "\r 56%|█████▌    | 556/1000 [35:38<34:26,  4.65s/it]"
          ]
        },
        {
          "output_type": "stream",
          "name": "stdout",
          "text": [
            "Total reward after episode 556 is 1049.0\n"
          ]
        },
        {
          "output_type": "stream",
          "name": "stderr",
          "text": [
            "\r 56%|█████▌    | 557/1000 [35:39<26:01,  3.53s/it]"
          ]
        },
        {
          "output_type": "stream",
          "name": "stdout",
          "text": [
            "Total reward after episode 557 is 239.0\n"
          ]
        },
        {
          "output_type": "stream",
          "name": "stderr",
          "text": [
            "\r 56%|█████▌    | 558/1000 [35:44<30:08,  4.09s/it]"
          ]
        },
        {
          "output_type": "stream",
          "name": "stdout",
          "text": [
            "Total reward after episode 558 is 1035.0\n"
          ]
        },
        {
          "output_type": "stream",
          "name": "stderr",
          "text": [
            "\r 56%|█████▌    | 559/1000 [35:51<35:05,  4.77s/it]"
          ]
        },
        {
          "output_type": "stream",
          "name": "stdout",
          "text": [
            "Total reward after episode 559 is 1333.0\n"
          ]
        },
        {
          "output_type": "stream",
          "name": "stderr",
          "text": [
            "\r 56%|█████▌    | 560/1000 [35:53<28:33,  3.89s/it]"
          ]
        },
        {
          "output_type": "stream",
          "name": "stdout",
          "text": [
            "Total reward after episode 560 is 610.0\n"
          ]
        },
        {
          "output_type": "stream",
          "name": "stderr",
          "text": [
            "\r 56%|█████▌    | 561/1000 [35:54<23:52,  3.26s/it]"
          ]
        },
        {
          "output_type": "stream",
          "name": "stdout",
          "text": [
            "Total reward after episode 561 is 608.0\n"
          ]
        },
        {
          "output_type": "stream",
          "name": "stderr",
          "text": [
            "\r 56%|█████▌    | 562/1000 [36:07<43:22,  5.94s/it]"
          ]
        },
        {
          "output_type": "stream",
          "name": "stdout",
          "text": [
            "Total reward after episode 562 is 543.0\n"
          ]
        },
        {
          "output_type": "stream",
          "name": "stderr",
          "text": [
            "\r 56%|█████▋    | 563/1000 [36:11<38:57,  5.35s/it]"
          ]
        },
        {
          "output_type": "stream",
          "name": "stdout",
          "text": [
            "Total reward after episode 563 is 602.0\n"
          ]
        },
        {
          "output_type": "stream",
          "name": "stderr",
          "text": [
            "\r 56%|█████▋    | 564/1000 [36:14<35:13,  4.85s/it]"
          ]
        },
        {
          "output_type": "stream",
          "name": "stdout",
          "text": [
            "Total reward after episode 564 is 1041.0\n"
          ]
        },
        {
          "output_type": "stream",
          "name": "stderr",
          "text": [
            "\r 56%|█████▋    | 565/1000 [36:18<33:52,  4.67s/it]"
          ]
        },
        {
          "output_type": "stream",
          "name": "stdout",
          "text": [
            "Total reward after episode 565 is 1347.0\n"
          ]
        },
        {
          "output_type": "stream",
          "name": "stderr",
          "text": [
            "\r 57%|█████▋    | 566/1000 [36:26<40:57,  5.66s/it]"
          ]
        },
        {
          "output_type": "stream",
          "name": "stdout",
          "text": [
            "Total reward after episode 566 is 1328.0\n"
          ]
        },
        {
          "output_type": "stream",
          "name": "stderr",
          "text": [
            "\r 57%|█████▋    | 567/1000 [36:28<32:43,  4.53s/it]"
          ]
        },
        {
          "output_type": "stream",
          "name": "stdout",
          "text": [
            "Total reward after episode 567 is 606.0\n"
          ]
        },
        {
          "output_type": "stream",
          "name": "stderr",
          "text": [
            "\r 57%|█████▋    | 568/1000 [36:30<26:52,  3.73s/it]"
          ]
        },
        {
          "output_type": "stream",
          "name": "stdout",
          "text": [
            "Total reward after episode 568 is 618.0\n"
          ]
        },
        {
          "output_type": "stream",
          "name": "stderr",
          "text": [
            "\r 57%|█████▋    | 569/1000 [36:31<20:36,  2.87s/it]"
          ]
        },
        {
          "output_type": "stream",
          "name": "stdout",
          "text": [
            "Total reward after episode 569 is 237.0\n"
          ]
        },
        {
          "output_type": "stream",
          "name": "stderr",
          "text": [
            "\r 57%|█████▋    | 570/1000 [36:36<25:29,  3.56s/it]"
          ]
        },
        {
          "output_type": "stream",
          "name": "stdout",
          "text": [
            "Total reward after episode 570 is 1045.0\n"
          ]
        },
        {
          "output_type": "stream",
          "name": "stderr",
          "text": [
            "\r 57%|█████▋    | 571/1000 [36:38<21:38,  3.03s/it]"
          ]
        },
        {
          "output_type": "stream",
          "name": "stdout",
          "text": [
            "Total reward after episode 571 is 610.0\n"
          ]
        },
        {
          "output_type": "stream",
          "name": "stderr",
          "text": [
            "\r 57%|█████▋    | 572/1000 [36:40<19:14,  2.70s/it]"
          ]
        },
        {
          "output_type": "stream",
          "name": "stdout",
          "text": [
            "Total reward after episode 572 is 606.0\n"
          ]
        },
        {
          "output_type": "stream",
          "name": "stderr",
          "text": [
            "\r 57%|█████▋    | 573/1000 [36:42<18:27,  2.59s/it]"
          ]
        },
        {
          "output_type": "stream",
          "name": "stdout",
          "text": [
            "Total reward after episode 573 is 630.0\n"
          ]
        },
        {
          "output_type": "stream",
          "name": "stderr",
          "text": [
            "\r 57%|█████▋    | 574/1000 [36:46<20:40,  2.91s/it]"
          ]
        },
        {
          "output_type": "stream",
          "name": "stdout",
          "text": [
            "Total reward after episode 574 is 641.0\n"
          ]
        },
        {
          "output_type": "stream",
          "name": "stderr",
          "text": [
            "\r 57%|█████▊    | 575/1000 [36:49<20:58,  2.96s/it]"
          ]
        },
        {
          "output_type": "stream",
          "name": "stdout",
          "text": [
            "Total reward after episode 575 is 624.0\n"
          ]
        },
        {
          "output_type": "stream",
          "name": "stderr",
          "text": [
            "\r 58%|█████▊    | 576/1000 [36:52<21:58,  3.11s/it]"
          ]
        },
        {
          "output_type": "stream",
          "name": "stdout",
          "text": [
            "Total reward after episode 576 is 1046.0\n"
          ]
        },
        {
          "output_type": "stream",
          "name": "stderr",
          "text": [
            "\r 58%|█████▊    | 577/1000 [36:55<20:07,  2.85s/it]"
          ]
        },
        {
          "output_type": "stream",
          "name": "stdout",
          "text": [
            "Total reward after episode 577 is 632.0\n"
          ]
        },
        {
          "output_type": "stream",
          "name": "stderr",
          "text": [
            "\r 58%|█████▊    | 578/1000 [37:02<29:12,  4.15s/it]"
          ]
        },
        {
          "output_type": "stream",
          "name": "stdout",
          "text": [
            "Total reward after episode 578 is 797.0\n"
          ]
        },
        {
          "output_type": "stream",
          "name": "stderr",
          "text": [
            "\r 58%|█████▊    | 579/1000 [37:05<27:31,  3.92s/it]"
          ]
        },
        {
          "output_type": "stream",
          "name": "stdout",
          "text": [
            "Total reward after episode 579 is 1047.0\n"
          ]
        },
        {
          "output_type": "stream",
          "name": "stderr",
          "text": [
            "\r 58%|█████▊    | 580/1000 [37:08<23:57,  3.42s/it]"
          ]
        },
        {
          "output_type": "stream",
          "name": "stdout",
          "text": [
            "Total reward after episode 580 is 609.0\n"
          ]
        },
        {
          "output_type": "stream",
          "name": "stderr",
          "text": [
            "\r 58%|█████▊    | 581/1000 [37:09<20:02,  2.87s/it]"
          ]
        },
        {
          "output_type": "stream",
          "name": "stdout",
          "text": [
            "Total reward after episode 581 is 610.0\n"
          ]
        },
        {
          "output_type": "stream",
          "name": "stderr",
          "text": [
            "\r 58%|█████▊    | 582/1000 [37:10<15:50,  2.27s/it]"
          ]
        },
        {
          "output_type": "stream",
          "name": "stdout",
          "text": [
            "Total reward after episode 582 is 239.0\n"
          ]
        },
        {
          "output_type": "stream",
          "name": "stderr",
          "text": [
            "\r 58%|█████▊    | 583/1000 [37:16<22:47,  3.28s/it]"
          ]
        },
        {
          "output_type": "stream",
          "name": "stdout",
          "text": [
            "Total reward after episode 583 is 1583.0\n"
          ]
        },
        {
          "output_type": "stream",
          "name": "stderr",
          "text": [
            "\r 58%|█████▊    | 584/1000 [37:19<23:02,  3.32s/it]"
          ]
        },
        {
          "output_type": "stream",
          "name": "stdout",
          "text": [
            "Total reward after episode 584 is 1047.0\n"
          ]
        },
        {
          "output_type": "stream",
          "name": "stderr",
          "text": [
            "\r 58%|█████▊    | 585/1000 [37:23<23:19,  3.37s/it]"
          ]
        },
        {
          "output_type": "stream",
          "name": "stdout",
          "text": [
            "Total reward after episode 585 is 592.0\n"
          ]
        },
        {
          "output_type": "stream",
          "name": "stderr",
          "text": [
            "\r 59%|█████▊    | 586/1000 [37:29<29:47,  4.32s/it]"
          ]
        },
        {
          "output_type": "stream",
          "name": "stdout",
          "text": [
            "Total reward after episode 586 is 722.0\n"
          ]
        },
        {
          "output_type": "stream",
          "name": "stderr",
          "text": [
            "\r 59%|█████▊    | 587/1000 [37:31<25:00,  3.63s/it]"
          ]
        },
        {
          "output_type": "stream",
          "name": "stdout",
          "text": [
            "Total reward after episode 587 is 737.0\n"
          ]
        },
        {
          "output_type": "stream",
          "name": "stderr",
          "text": [
            "\r 59%|█████▉    | 588/1000 [37:33<20:42,  3.02s/it]"
          ]
        },
        {
          "output_type": "stream",
          "name": "stdout",
          "text": [
            "Total reward after episode 588 is 611.0\n"
          ]
        },
        {
          "output_type": "stream",
          "name": "stderr",
          "text": [
            "\r 59%|█████▉    | 589/1000 [37:46<41:38,  6.08s/it]"
          ]
        },
        {
          "output_type": "stream",
          "name": "stdout",
          "text": [
            "Total reward after episode 589 is 1274.0\n"
          ]
        },
        {
          "output_type": "stream",
          "name": "stderr",
          "text": [
            "\r 59%|█████▉    | 590/1000 [37:48<33:49,  4.95s/it]"
          ]
        },
        {
          "output_type": "stream",
          "name": "stdout",
          "text": [
            "Total reward after episode 590 is 618.0\n"
          ]
        },
        {
          "output_type": "stream",
          "name": "stderr",
          "text": [
            "\r 59%|█████▉    | 591/1000 [37:53<33:58,  4.98s/it]"
          ]
        },
        {
          "output_type": "stream",
          "name": "stdout",
          "text": [
            "Total reward after episode 591 is 1345.0\n"
          ]
        },
        {
          "output_type": "stream",
          "name": "stderr",
          "text": [
            "\r 59%|█████▉    | 592/1000 [37:56<28:22,  4.17s/it]"
          ]
        },
        {
          "output_type": "stream",
          "name": "stdout",
          "text": [
            "Total reward after episode 592 is 616.0\n"
          ]
        },
        {
          "output_type": "stream",
          "name": "stderr",
          "text": [
            "\r 59%|█████▉    | 593/1000 [38:01<31:04,  4.58s/it]"
          ]
        },
        {
          "output_type": "stream",
          "name": "stdout",
          "text": [
            "Total reward after episode 593 is 804.0\n"
          ]
        },
        {
          "output_type": "stream",
          "name": "stderr",
          "text": [
            "\r 59%|█████▉    | 594/1000 [38:09<37:42,  5.57s/it]"
          ]
        },
        {
          "output_type": "stream",
          "name": "stdout",
          "text": [
            "Total reward after episode 594 is 1327.0\n"
          ]
        },
        {
          "output_type": "stream",
          "name": "stderr",
          "text": [
            "\r 60%|█████▉    | 595/1000 [38:10<27:56,  4.14s/it]"
          ]
        },
        {
          "output_type": "stream",
          "name": "stdout",
          "text": [
            "Total reward after episode 595 is 251.0\n"
          ]
        },
        {
          "output_type": "stream",
          "name": "stderr",
          "text": [
            "\r 60%|█████▉    | 596/1000 [38:12<23:39,  3.51s/it]"
          ]
        },
        {
          "output_type": "stream",
          "name": "stdout",
          "text": [
            "Total reward after episode 596 is 615.0\n"
          ]
        },
        {
          "output_type": "stream",
          "name": "stderr",
          "text": [
            "\r 60%|█████▉    | 597/1000 [38:14<20:48,  3.10s/it]"
          ]
        },
        {
          "output_type": "stream",
          "name": "stdout",
          "text": [
            "Total reward after episode 597 is 612.0\n"
          ]
        },
        {
          "output_type": "stream",
          "name": "stderr",
          "text": [
            "\r 60%|█████▉    | 598/1000 [38:19<23:53,  3.57s/it]"
          ]
        },
        {
          "output_type": "stream",
          "name": "stdout",
          "text": [
            "Total reward after episode 598 is 1047.0\n"
          ]
        },
        {
          "output_type": "stream",
          "name": "stderr",
          "text": [
            "\r 60%|█████▉    | 599/1000 [38:22<23:56,  3.58s/it]"
          ]
        },
        {
          "output_type": "stream",
          "name": "stdout",
          "text": [
            "Total reward after episode 599 is 818.0\n"
          ]
        },
        {
          "output_type": "stream",
          "name": "stderr",
          "text": [
            "\r 60%|██████    | 600/1000 [38:23<18:27,  2.77s/it]"
          ]
        },
        {
          "output_type": "stream",
          "name": "stdout",
          "text": [
            "Total reward after episode 600 is 241.0\n"
          ]
        },
        {
          "output_type": "stream",
          "name": "stderr",
          "text": [
            "\r 60%|██████    | 601/1000 [38:25<17:26,  2.62s/it]"
          ]
        },
        {
          "output_type": "stream",
          "name": "stdout",
          "text": [
            "Total reward after episode 601 is 735.0\n"
          ]
        },
        {
          "output_type": "stream",
          "name": "stderr",
          "text": [
            "\r 60%|██████    | 602/1000 [38:30<20:51,  3.15s/it]"
          ]
        },
        {
          "output_type": "stream",
          "name": "stdout",
          "text": [
            "Total reward after episode 602 is 753.0\n"
          ]
        },
        {
          "output_type": "stream",
          "name": "stderr",
          "text": [
            "\r 60%|██████    | 603/1000 [38:32<19:30,  2.95s/it]"
          ]
        },
        {
          "output_type": "stream",
          "name": "stdout",
          "text": [
            "Total reward after episode 603 is 634.0\n"
          ]
        },
        {
          "output_type": "stream",
          "name": "stderr",
          "text": [
            "\r 60%|██████    | 604/1000 [38:33<15:15,  2.31s/it]"
          ]
        },
        {
          "output_type": "stream",
          "name": "stdout",
          "text": [
            "Total reward after episode 604 is 237.0\n"
          ]
        },
        {
          "output_type": "stream",
          "name": "stderr",
          "text": [
            "\r 60%|██████    | 605/1000 [38:54<51:24,  7.81s/it]"
          ]
        },
        {
          "output_type": "stream",
          "name": "stdout",
          "text": [
            "Total reward after episode 605 is 1240.0\n"
          ]
        },
        {
          "output_type": "stream",
          "name": "stderr",
          "text": [
            "\r 61%|██████    | 606/1000 [38:58<44:54,  6.84s/it]"
          ]
        },
        {
          "output_type": "stream",
          "name": "stdout",
          "text": [
            "Total reward after episode 606 is 594.0\n"
          ]
        },
        {
          "output_type": "stream",
          "name": "stderr",
          "text": [
            "\r 61%|██████    | 607/1000 [39:09<51:52,  7.92s/it]"
          ]
        },
        {
          "output_type": "stream",
          "name": "stdout",
          "text": [
            "Total reward after episode 607 is 1004.0\n"
          ]
        },
        {
          "output_type": "stream",
          "name": "stderr",
          "text": [
            "\r 61%|██████    | 608/1000 [39:13<45:21,  6.94s/it]"
          ]
        },
        {
          "output_type": "stream",
          "name": "stdout",
          "text": [
            "Total reward after episode 608 is 1426.0\n"
          ]
        },
        {
          "output_type": "stream",
          "name": "stderr",
          "text": [
            "\r 61%|██████    | 609/1000 [39:14<33:10,  5.09s/it]"
          ]
        },
        {
          "output_type": "stream",
          "name": "stdout",
          "text": [
            "Total reward after episode 609 is 245.0\n"
          ]
        },
        {
          "output_type": "stream",
          "name": "stderr",
          "text": [
            "\r 61%|██████    | 610/1000 [39:18<30:46,  4.73s/it]"
          ]
        },
        {
          "output_type": "stream",
          "name": "stdout",
          "text": [
            "Total reward after episode 610 is 819.0\n"
          ]
        },
        {
          "output_type": "stream",
          "name": "stderr",
          "text": [
            "\r 61%|██████    | 611/1000 [39:22<30:02,  4.63s/it]"
          ]
        },
        {
          "output_type": "stream",
          "name": "stdout",
          "text": [
            "Total reward after episode 611 is 1349.0\n"
          ]
        },
        {
          "output_type": "stream",
          "name": "stderr",
          "text": [
            "\r 61%|██████    | 612/1000 [39:28<31:03,  4.80s/it]"
          ]
        },
        {
          "output_type": "stream",
          "name": "stdout",
          "text": [
            "Total reward after episode 612 is 807.0\n"
          ]
        },
        {
          "output_type": "stream",
          "name": "stderr",
          "text": [
            "\r 61%|██████▏   | 613/1000 [40:26<2:14:23, 20.84s/it]"
          ]
        },
        {
          "output_type": "stream",
          "name": "stdout",
          "text": [
            "Total reward after episode 613 is 992.0\n"
          ]
        },
        {
          "output_type": "stream",
          "name": "stderr",
          "text": [
            "\r 61%|██████▏   | 614/1000 [40:27<1:35:18, 14.82s/it]"
          ]
        },
        {
          "output_type": "stream",
          "name": "stdout",
          "text": [
            "Total reward after episode 614 is 247.0\n"
          ]
        },
        {
          "output_type": "stream",
          "name": "stderr",
          "text": [
            "\r 62%|██████▏   | 615/1000 [40:30<1:12:34, 11.31s/it]"
          ]
        },
        {
          "output_type": "stream",
          "name": "stdout",
          "text": [
            "Total reward after episode 615 is 752.0\n"
          ]
        },
        {
          "output_type": "stream",
          "name": "stderr",
          "text": [
            "\r 62%|██████▏   | 616/1000 [40:34<59:01,  9.22s/it]  "
          ]
        },
        {
          "output_type": "stream",
          "name": "stdout",
          "text": [
            "Total reward after episode 616 is 1349.0\n"
          ]
        },
        {
          "output_type": "stream",
          "name": "stderr",
          "text": [
            "\r 62%|██████▏   | 617/1000 [40:36<44:45,  7.01s/it]"
          ]
        },
        {
          "output_type": "stream",
          "name": "stdout",
          "text": [
            "Total reward after episode 617 is 607.0\n"
          ]
        },
        {
          "output_type": "stream",
          "name": "stderr",
          "text": [
            "\r 62%|██████▏   | 618/1000 [40:42<43:20,  6.81s/it]"
          ]
        },
        {
          "output_type": "stream",
          "name": "stdout",
          "text": [
            "Total reward after episode 618 is 1697.0\n"
          ]
        },
        {
          "output_type": "stream",
          "name": "stderr",
          "text": [
            "\r 62%|██████▏   | 619/1000 [40:47<38:59,  6.14s/it]"
          ]
        },
        {
          "output_type": "stream",
          "name": "stdout",
          "text": [
            "Total reward after episode 619 is 815.0\n"
          ]
        },
        {
          "output_type": "stream",
          "name": "stderr",
          "text": [
            "\r 62%|██████▏   | 620/1000 [40:53<39:29,  6.23s/it]"
          ]
        },
        {
          "output_type": "stream",
          "name": "stdout",
          "text": [
            "Total reward after episode 620 is 799.0\n"
          ]
        },
        {
          "output_type": "stream",
          "name": "stderr",
          "text": [
            "\r 62%|██████▏   | 621/1000 [40:57<33:52,  5.36s/it]"
          ]
        },
        {
          "output_type": "stream",
          "name": "stdout",
          "text": [
            "Total reward after episode 621 is 1049.0\n"
          ]
        },
        {
          "output_type": "stream",
          "name": "stderr",
          "text": [
            "\r 62%|██████▏   | 622/1000 [41:01<31:14,  4.96s/it]"
          ]
        },
        {
          "output_type": "stream",
          "name": "stdout",
          "text": [
            "Total reward after episode 622 is 754.0\n"
          ]
        },
        {
          "output_type": "stream",
          "name": "stderr",
          "text": [
            "\r 62%|██████▏   | 623/1000 [41:04<28:03,  4.47s/it]"
          ]
        },
        {
          "output_type": "stream",
          "name": "stdout",
          "text": [
            "Total reward after episode 623 is 755.0\n"
          ]
        },
        {
          "output_type": "stream",
          "name": "stderr",
          "text": [
            "\r 62%|██████▏   | 624/1000 [41:05<21:00,  3.35s/it]"
          ]
        },
        {
          "output_type": "stream",
          "name": "stdout",
          "text": [
            "Total reward after episode 624 is 252.0\n"
          ]
        },
        {
          "output_type": "stream",
          "name": "stderr",
          "text": [
            "\r 62%|██████▎   | 625/1000 [41:07<18:22,  2.94s/it]"
          ]
        },
        {
          "output_type": "stream",
          "name": "stdout",
          "text": [
            "Total reward after episode 625 is 637.0\n"
          ]
        },
        {
          "output_type": "stream",
          "name": "stderr",
          "text": [
            "\r 63%|██████▎   | 626/1000 [41:09<16:14,  2.61s/it]"
          ]
        },
        {
          "output_type": "stream",
          "name": "stdout",
          "text": [
            "Total reward after episode 626 is 630.0\n"
          ]
        },
        {
          "output_type": "stream",
          "name": "stderr",
          "text": [
            "\r 63%|██████▎   | 627/1000 [41:10<14:19,  2.30s/it]"
          ]
        },
        {
          "output_type": "stream",
          "name": "stdout",
          "text": [
            "Total reward after episode 627 is 607.0\n"
          ]
        },
        {
          "output_type": "stream",
          "name": "stderr",
          "text": [
            "\r 63%|██████▎   | 628/1000 [41:13<15:25,  2.49s/it]"
          ]
        },
        {
          "output_type": "stream",
          "name": "stdout",
          "text": [
            "Total reward after episode 628 is 640.0\n"
          ]
        },
        {
          "output_type": "stream",
          "name": "stderr",
          "text": [
            "\r 63%|██████▎   | 629/1000 [41:17<17:35,  2.85s/it]"
          ]
        },
        {
          "output_type": "stream",
          "name": "stdout",
          "text": [
            "Total reward after episode 629 is 641.0\n"
          ]
        },
        {
          "output_type": "stream",
          "name": "stderr",
          "text": [
            "\r 63%|██████▎   | 630/1000 [41:21<19:22,  3.14s/it]"
          ]
        },
        {
          "output_type": "stream",
          "name": "stdout",
          "text": [
            "Total reward after episode 630 is 1348.0\n"
          ]
        },
        {
          "output_type": "stream",
          "name": "stderr",
          "text": [
            "\r 63%|██████▎   | 631/1000 [41:22<16:31,  2.69s/it]"
          ]
        },
        {
          "output_type": "stream",
          "name": "stdout",
          "text": [
            "Total reward after episode 631 is 613.0\n"
          ]
        },
        {
          "output_type": "stream",
          "name": "stderr",
          "text": [
            "\r 63%|██████▎   | 632/1000 [41:24<15:30,  2.53s/it]"
          ]
        },
        {
          "output_type": "stream",
          "name": "stdout",
          "text": [
            "Total reward after episode 632 is 612.0\n"
          ]
        },
        {
          "output_type": "stream",
          "name": "stderr",
          "text": [
            "\r 63%|██████▎   | 633/1000 [41:33<25:47,  4.22s/it]"
          ]
        },
        {
          "output_type": "stream",
          "name": "stdout",
          "text": [
            "Total reward after episode 633 is 1321.0\n"
          ]
        },
        {
          "output_type": "stream",
          "name": "stderr",
          "text": [
            "\r 63%|██████▎   | 634/1000 [41:46<42:10,  6.91s/it]"
          ]
        },
        {
          "output_type": "stream",
          "name": "stdout",
          "text": [
            "Total reward after episode 634 is 1276.0\n"
          ]
        },
        {
          "output_type": "stream",
          "name": "stderr",
          "text": [
            "\r 64%|██████▎   | 635/1000 [41:50<36:45,  6.04s/it]"
          ]
        },
        {
          "output_type": "stream",
          "name": "stdout",
          "text": [
            "Total reward after episode 635 is 819.0\n"
          ]
        },
        {
          "output_type": "stream",
          "name": "stderr",
          "text": [
            "\r 64%|██████▎   | 636/1000 [41:52<29:21,  4.84s/it]"
          ]
        },
        {
          "output_type": "stream",
          "name": "stdout",
          "text": [
            "Total reward after episode 636 is 606.0\n"
          ]
        },
        {
          "output_type": "stream",
          "name": "stderr",
          "text": [
            "\r 64%|██████▎   | 637/1000 [41:53<22:07,  3.66s/it]"
          ]
        },
        {
          "output_type": "stream",
          "name": "stdout",
          "text": [
            "Total reward after episode 637 is 237.0\n"
          ]
        },
        {
          "output_type": "stream",
          "name": "stderr",
          "text": [
            "\r 64%|██████▍   | 638/1000 [41:54<18:20,  3.04s/it]"
          ]
        },
        {
          "output_type": "stream",
          "name": "stdout",
          "text": [
            "Total reward after episode 638 is 610.0\n"
          ]
        },
        {
          "output_type": "stream",
          "name": "stderr",
          "text": [
            "\r 64%|██████▍   | 639/1000 [41:56<15:35,  2.59s/it]"
          ]
        },
        {
          "output_type": "stream",
          "name": "stdout",
          "text": [
            "Total reward after episode 639 is 607.0\n"
          ]
        },
        {
          "output_type": "stream",
          "name": "stderr",
          "text": [
            "\r 64%|██████▍   | 640/1000 [41:58<13:53,  2.32s/it]"
          ]
        },
        {
          "output_type": "stream",
          "name": "stdout",
          "text": [
            "Total reward after episode 640 is 608.0\n"
          ]
        },
        {
          "output_type": "stream",
          "name": "stderr",
          "text": [
            "\r 64%|██████▍   | 641/1000 [42:01<16:12,  2.71s/it]"
          ]
        },
        {
          "output_type": "stream",
          "name": "stdout",
          "text": [
            "Total reward after episode 641 is 818.0\n"
          ]
        },
        {
          "output_type": "stream",
          "name": "stderr",
          "text": [
            "\r 64%|██████▍   | 642/1000 [42:04<16:00,  2.68s/it]"
          ]
        },
        {
          "output_type": "stream",
          "name": "stdout",
          "text": [
            "Total reward after episode 642 is 608.0\n"
          ]
        },
        {
          "output_type": "stream",
          "name": "stderr",
          "text": [
            "\r 64%|██████▍   | 643/1000 [42:08<17:58,  3.02s/it]"
          ]
        },
        {
          "output_type": "stream",
          "name": "stdout",
          "text": [
            "Total reward after episode 643 is 1045.0\n"
          ]
        },
        {
          "output_type": "stream",
          "name": "stderr",
          "text": [
            "\r 64%|██████▍   | 644/1000 [42:09<14:09,  2.39s/it]"
          ]
        },
        {
          "output_type": "stream",
          "name": "stdout",
          "text": [
            "Total reward after episode 644 is 231.0\n"
          ]
        },
        {
          "output_type": "stream",
          "name": "stderr",
          "text": [
            "\r 64%|██████▍   | 645/1000 [42:15<21:42,  3.67s/it]"
          ]
        },
        {
          "output_type": "stream",
          "name": "stdout",
          "text": [
            "Total reward after episode 645 is 799.0\n"
          ]
        },
        {
          "output_type": "stream",
          "name": "stderr",
          "text": [
            "\r 65%|██████▍   | 646/1000 [42:18<19:25,  3.29s/it]"
          ]
        },
        {
          "output_type": "stream",
          "name": "stdout",
          "text": [
            "Total reward after episode 646 is 633.0\n"
          ]
        },
        {
          "output_type": "stream",
          "name": "stderr",
          "text": [
            "\r 65%|██████▍   | 647/1000 [42:24<25:04,  4.26s/it]"
          ]
        },
        {
          "output_type": "stream",
          "name": "stdout",
          "text": [
            "Total reward after episode 647 is 797.0\n"
          ]
        },
        {
          "output_type": "stream",
          "name": "stderr",
          "text": [
            "\r 65%|██████▍   | 648/1000 [42:26<20:24,  3.48s/it]"
          ]
        },
        {
          "output_type": "stream",
          "name": "stdout",
          "text": [
            "Total reward after episode 648 is 612.0\n"
          ]
        },
        {
          "output_type": "stream",
          "name": "stderr",
          "text": [
            "\r 65%|██████▍   | 649/1000 [42:30<22:30,  3.85s/it]"
          ]
        },
        {
          "output_type": "stream",
          "name": "stdout",
          "text": [
            "Total reward after episode 649 is 1350.0\n"
          ]
        },
        {
          "output_type": "stream",
          "name": "stderr",
          "text": [
            "\r 65%|██████▌   | 650/1000 [42:32<18:34,  3.18s/it]"
          ]
        },
        {
          "output_type": "stream",
          "name": "stdout",
          "text": [
            "Total reward after episode 650 is 610.0\n"
          ]
        },
        {
          "output_type": "stream",
          "name": "stderr",
          "text": [
            "\r 65%|██████▌   | 651/1000 [42:38<24:04,  4.14s/it]"
          ]
        },
        {
          "output_type": "stream",
          "name": "stdout",
          "text": [
            "Total reward after episode 651 is 1332.0\n"
          ]
        },
        {
          "output_type": "stream",
          "name": "stderr",
          "text": [
            "\r 65%|██████▌   | 652/1000 [42:47<30:49,  5.31s/it]"
          ]
        },
        {
          "output_type": "stream",
          "name": "stdout",
          "text": [
            "Total reward after episode 652 is 1325.0\n"
          ]
        },
        {
          "output_type": "stream",
          "name": "stderr",
          "text": [
            "\r 65%|██████▌   | 653/1000 [42:50<28:10,  4.87s/it]"
          ]
        },
        {
          "output_type": "stream",
          "name": "stdout",
          "text": [
            "Total reward after episode 653 is 1350.0\n"
          ]
        },
        {
          "output_type": "stream",
          "name": "stderr",
          "text": [
            "\r 65%|██████▌   | 654/1000 [42:55<27:10,  4.71s/it]"
          ]
        },
        {
          "output_type": "stream",
          "name": "stdout",
          "text": [
            "Total reward after episode 654 is 1153.0\n"
          ]
        },
        {
          "output_type": "stream",
          "name": "stderr",
          "text": [
            "\r 66%|██████▌   | 655/1000 [42:59<26:11,  4.55s/it]"
          ]
        },
        {
          "output_type": "stream",
          "name": "stdout",
          "text": [
            "Total reward after episode 655 is 1437.0\n"
          ]
        },
        {
          "output_type": "stream",
          "name": "stderr",
          "text": [
            "\r 66%|██████▌   | 656/1000 [43:03<25:17,  4.41s/it]"
          ]
        },
        {
          "output_type": "stream",
          "name": "stdout",
          "text": [
            "Total reward after episode 656 is 1347.0\n"
          ]
        },
        {
          "output_type": "stream",
          "name": "stderr",
          "text": [
            "\r 66%|██████▌   | 657/1000 [43:08<26:44,  4.68s/it]"
          ]
        },
        {
          "output_type": "stream",
          "name": "stdout",
          "text": [
            "Total reward after episode 657 is 1580.0\n"
          ]
        },
        {
          "output_type": "stream",
          "name": "stderr",
          "text": [
            "\r 66%|██████▌   | 658/1000 [43:10<22:21,  3.92s/it]"
          ]
        },
        {
          "output_type": "stream",
          "name": "stdout",
          "text": [
            "Total reward after episode 658 is 623.0\n"
          ]
        },
        {
          "output_type": "stream",
          "name": "stderr",
          "text": [
            "\r 66%|██████▌   | 659/1000 [43:14<22:24,  3.94s/it]"
          ]
        },
        {
          "output_type": "stream",
          "name": "stdout",
          "text": [
            "Total reward after episode 659 is 759.0\n"
          ]
        },
        {
          "output_type": "stream",
          "name": "stderr",
          "text": [
            "\r 66%|██████▌   | 660/1000 [43:19<23:20,  4.12s/it]"
          ]
        },
        {
          "output_type": "stream",
          "name": "stdout",
          "text": [
            "Total reward after episode 660 is 1153.0\n"
          ]
        },
        {
          "output_type": "stream",
          "name": "stderr",
          "text": [
            "\r 66%|██████▌   | 661/1000 [43:23<22:37,  4.00s/it]"
          ]
        },
        {
          "output_type": "stream",
          "name": "stdout",
          "text": [
            "Total reward after episode 661 is 641.0\n"
          ]
        },
        {
          "output_type": "stream",
          "name": "stderr",
          "text": [
            "\r 66%|██████▌   | 662/1000 [43:27<23:30,  4.17s/it]"
          ]
        },
        {
          "output_type": "stream",
          "name": "stdout",
          "text": [
            "Total reward after episode 662 is 1584.0\n"
          ]
        },
        {
          "output_type": "stream",
          "name": "stderr",
          "text": [
            "\r 66%|██████▋   | 663/1000 [43:32<24:13,  4.31s/it]"
          ]
        },
        {
          "output_type": "stream",
          "name": "stdout",
          "text": [
            "Total reward after episode 663 is 1045.0\n"
          ]
        },
        {
          "output_type": "stream",
          "name": "stderr",
          "text": [
            "\r 66%|██████▋   | 664/1000 [43:36<24:21,  4.35s/it]"
          ]
        },
        {
          "output_type": "stream",
          "name": "stdout",
          "text": [
            "Total reward after episode 664 is 1423.0\n"
          ]
        },
        {
          "output_type": "stream",
          "name": "stderr",
          "text": [
            "\r 66%|██████▋   | 665/1000 [43:40<22:54,  4.10s/it]"
          ]
        },
        {
          "output_type": "stream",
          "name": "stdout",
          "text": [
            "Total reward after episode 665 is 818.0\n"
          ]
        },
        {
          "output_type": "stream",
          "name": "stderr",
          "text": [
            "\r 67%|██████▋   | 666/1000 [43:42<18:43,  3.36s/it]"
          ]
        },
        {
          "output_type": "stream",
          "name": "stdout",
          "text": [
            "Total reward after episode 666 is 613.0\n"
          ]
        },
        {
          "output_type": "stream",
          "name": "stderr",
          "text": [
            "\r 67%|██████▋   | 667/1000 [43:48<23:36,  4.25s/it]"
          ]
        },
        {
          "output_type": "stream",
          "name": "stdout",
          "text": [
            "Total reward after episode 667 is 1338.0\n"
          ]
        },
        {
          "output_type": "stream",
          "name": "stderr",
          "text": [
            "\r 67%|██████▋   | 668/1000 [43:53<25:14,  4.56s/it]"
          ]
        },
        {
          "output_type": "stream",
          "name": "stdout",
          "text": [
            "Total reward after episode 668 is 1867.0\n"
          ]
        },
        {
          "output_type": "stream",
          "name": "stderr",
          "text": [
            "\r 67%|██████▋   | 669/1000 [43:57<24:32,  4.45s/it]"
          ]
        },
        {
          "output_type": "stream",
          "name": "stdout",
          "text": [
            "Total reward after episode 669 is 602.0\n"
          ]
        },
        {
          "output_type": "stream",
          "name": "stderr",
          "text": [
            "\r 67%|██████▋   | 670/1000 [43:59<20:34,  3.74s/it]"
          ]
        },
        {
          "output_type": "stream",
          "name": "stdout",
          "text": [
            "Total reward after episode 670 is 636.0\n"
          ]
        },
        {
          "output_type": "stream",
          "name": "stderr",
          "text": [
            "\r 67%|██████▋   | 671/1000 [44:02<18:07,  3.30s/it]"
          ]
        },
        {
          "output_type": "stream",
          "name": "stdout",
          "text": [
            "Total reward after episode 671 is 611.0\n"
          ]
        },
        {
          "output_type": "stream",
          "name": "stderr",
          "text": [
            "\r 67%|██████▋   | 672/1000 [44:08<23:19,  4.27s/it]"
          ]
        },
        {
          "output_type": "stream",
          "name": "stdout",
          "text": [
            "Total reward after episode 672 is 1425.0\n"
          ]
        },
        {
          "output_type": "stream",
          "name": "stderr",
          "text": [
            "\r 67%|██████▋   | 673/1000 [44:12<23:04,  4.23s/it]"
          ]
        },
        {
          "output_type": "stream",
          "name": "stdout",
          "text": [
            "Total reward after episode 673 is 1046.0\n"
          ]
        },
        {
          "output_type": "stream",
          "name": "stderr",
          "text": [
            "\r 67%|██████▋   | 674/1000 [44:15<19:39,  3.62s/it]"
          ]
        },
        {
          "output_type": "stream",
          "name": "stdout",
          "text": [
            "Total reward after episode 674 is 625.0\n"
          ]
        },
        {
          "output_type": "stream",
          "name": "stderr",
          "text": [
            "\r 68%|██████▊   | 675/1000 [44:19<21:08,  3.90s/it]"
          ]
        },
        {
          "output_type": "stream",
          "name": "stdout",
          "text": [
            "Total reward after episode 675 is 1345.0\n"
          ]
        },
        {
          "output_type": "stream",
          "name": "stderr",
          "text": [
            "\r 68%|██████▊   | 676/1000 [44:24<22:33,  4.18s/it]"
          ]
        },
        {
          "output_type": "stream",
          "name": "stdout",
          "text": [
            "Total reward after episode 676 is 1348.0\n"
          ]
        },
        {
          "output_type": "stream",
          "name": "stderr",
          "text": [
            "\r 68%|██████▊   | 677/1000 [44:26<18:19,  3.40s/it]"
          ]
        },
        {
          "output_type": "stream",
          "name": "stdout",
          "text": [
            "Total reward after episode 677 is 608.0\n"
          ]
        },
        {
          "output_type": "stream",
          "name": "stderr",
          "text": [
            "\r 68%|██████▊   | 678/1000 [44:31<21:18,  3.97s/it]"
          ]
        },
        {
          "output_type": "stream",
          "name": "stdout",
          "text": [
            "Total reward after episode 678 is 1315.0\n"
          ]
        },
        {
          "output_type": "stream",
          "name": "stderr",
          "text": [
            "\r 68%|██████▊   | 679/1000 [44:33<18:37,  3.48s/it]"
          ]
        },
        {
          "output_type": "stream",
          "name": "stdout",
          "text": [
            "Total reward after episode 679 is 607.0\n"
          ]
        },
        {
          "output_type": "stream",
          "name": "stderr",
          "text": [
            "\r 68%|██████▊   | 680/1000 [44:36<17:00,  3.19s/it]"
          ]
        },
        {
          "output_type": "stream",
          "name": "stdout",
          "text": [
            "Total reward after episode 680 is 639.0\n"
          ]
        },
        {
          "output_type": "stream",
          "name": "stderr",
          "text": [
            "\r 68%|██████▊   | 681/1000 [44:38<15:04,  2.83s/it]"
          ]
        },
        {
          "output_type": "stream",
          "name": "stdout",
          "text": [
            "Total reward after episode 681 is 638.0\n"
          ]
        },
        {
          "output_type": "stream",
          "name": "stderr",
          "text": [
            "\r 68%|██████▊   | 682/1000 [44:40<13:42,  2.59s/it]"
          ]
        },
        {
          "output_type": "stream",
          "name": "stdout",
          "text": [
            "Total reward after episode 682 is 637.0\n"
          ]
        },
        {
          "output_type": "stream",
          "name": "stderr",
          "text": [
            "\r 68%|██████▊   | 683/1000 [44:43<15:16,  2.89s/it]"
          ]
        },
        {
          "output_type": "stream",
          "name": "stdout",
          "text": [
            "Total reward after episode 683 is 1349.0\n"
          ]
        },
        {
          "output_type": "stream",
          "name": "stderr",
          "text": [
            "\r 68%|██████▊   | 684/1000 [44:48<17:54,  3.40s/it]"
          ]
        },
        {
          "output_type": "stream",
          "name": "stdout",
          "text": [
            "Total reward after episode 684 is 1349.0\n"
          ]
        },
        {
          "output_type": "stream",
          "name": "stderr",
          "text": [
            "\r 68%|██████▊   | 685/1000 [44:50<15:07,  2.88s/it]"
          ]
        },
        {
          "output_type": "stream",
          "name": "stdout",
          "text": [
            "Total reward after episode 685 is 612.0\n"
          ]
        },
        {
          "output_type": "stream",
          "name": "stderr",
          "text": [
            "\r 69%|██████▊   | 686/1000 [44:54<17:21,  3.32s/it]"
          ]
        },
        {
          "output_type": "stream",
          "name": "stdout",
          "text": [
            "Total reward after episode 686 is 1040.0\n"
          ]
        },
        {
          "output_type": "stream",
          "name": "stderr",
          "text": [
            "\r 69%|██████▊   | 687/1000 [45:00<21:27,  4.11s/it]"
          ]
        },
        {
          "output_type": "stream",
          "name": "stdout",
          "text": [
            "Total reward after episode 687 is 1338.0\n"
          ]
        },
        {
          "output_type": "stream",
          "name": "stderr",
          "text": [
            "\r 69%|██████▉   | 688/1000 [45:04<21:03,  4.05s/it]"
          ]
        },
        {
          "output_type": "stream",
          "name": "stdout",
          "text": [
            "Total reward after episode 688 is 1044.0\n"
          ]
        },
        {
          "output_type": "stream",
          "name": "stderr",
          "text": [
            "\r 69%|██████▉   | 689/1000 [45:05<17:23,  3.35s/it]"
          ]
        },
        {
          "output_type": "stream",
          "name": "stdout",
          "text": [
            "Total reward after episode 689 is 625.0\n"
          ]
        },
        {
          "output_type": "stream",
          "name": "stderr",
          "text": [
            "\r 69%|██████▉   | 690/1000 [45:07<14:37,  2.83s/it]"
          ]
        },
        {
          "output_type": "stream",
          "name": "stdout",
          "text": [
            "Total reward after episode 690 is 613.0\n"
          ]
        },
        {
          "output_type": "stream",
          "name": "stderr",
          "text": [
            "\r 69%|██████▉   | 691/1000 [45:10<15:11,  2.95s/it]"
          ]
        },
        {
          "output_type": "stream",
          "name": "stdout",
          "text": [
            "Total reward after episode 691 is 748.0\n"
          ]
        },
        {
          "output_type": "stream",
          "name": "stderr",
          "text": [
            "\r 69%|██████▉   | 692/1000 [45:13<14:42,  2.86s/it]"
          ]
        },
        {
          "output_type": "stream",
          "name": "stdout",
          "text": [
            "Total reward after episode 692 is 640.0\n"
          ]
        },
        {
          "output_type": "stream",
          "name": "stderr",
          "text": [
            "\r 69%|██████▉   | 693/1000 [45:19<19:26,  3.80s/it]"
          ]
        },
        {
          "output_type": "stream",
          "name": "stdout",
          "text": [
            "Total reward after episode 693 is 1926.0\n"
          ]
        },
        {
          "output_type": "stream",
          "name": "stderr",
          "text": [
            "\r 69%|██████▉   | 694/1000 [45:23<19:10,  3.76s/it]"
          ]
        },
        {
          "output_type": "stream",
          "name": "stdout",
          "text": [
            "Total reward after episode 694 is 641.0\n"
          ]
        },
        {
          "output_type": "stream",
          "name": "stderr",
          "text": [
            "\r 70%|██████▉   | 695/1000 [45:26<18:12,  3.58s/it]"
          ]
        },
        {
          "output_type": "stream",
          "name": "stdout",
          "text": [
            "Total reward after episode 695 is 734.0\n"
          ]
        },
        {
          "output_type": "stream",
          "name": "stderr",
          "text": [
            "\r 70%|██████▉   | 696/1000 [45:30<19:39,  3.88s/it]"
          ]
        },
        {
          "output_type": "stream",
          "name": "stdout",
          "text": [
            "Total reward after episode 696 is 1339.0\n"
          ]
        },
        {
          "output_type": "stream",
          "name": "stderr",
          "text": [
            "\r 70%|██████▉   | 697/1000 [45:32<16:56,  3.35s/it]"
          ]
        },
        {
          "output_type": "stream",
          "name": "stdout",
          "text": [
            "Total reward after episode 697 is 736.0\n"
          ]
        },
        {
          "output_type": "stream",
          "name": "stderr",
          "text": [
            "\r 70%|██████▉   | 698/1000 [45:33<13:05,  2.60s/it]"
          ]
        },
        {
          "output_type": "stream",
          "name": "stdout",
          "text": [
            "Total reward after episode 698 is 250.0\n"
          ]
        },
        {
          "output_type": "stream",
          "name": "stderr",
          "text": [
            "\r 70%|██████▉   | 699/1000 [45:36<12:56,  2.58s/it]"
          ]
        },
        {
          "output_type": "stream",
          "name": "stdout",
          "text": [
            "Total reward after episode 699 is 633.0\n"
          ]
        },
        {
          "output_type": "stream",
          "name": "stderr",
          "text": [
            "\r 70%|███████   | 700/1000 [45:38<12:20,  2.47s/it]"
          ]
        },
        {
          "output_type": "stream",
          "name": "stdout",
          "text": [
            "Total reward after episode 700 is 609.0\n"
          ]
        },
        {
          "output_type": "stream",
          "name": "stderr",
          "text": [
            "\r 70%|███████   | 701/1000 [45:41<13:14,  2.66s/it]"
          ]
        },
        {
          "output_type": "stream",
          "name": "stdout",
          "text": [
            "Total reward after episode 701 is 1048.0\n"
          ]
        },
        {
          "output_type": "stream",
          "name": "stderr",
          "text": [
            "\r 70%|███████   | 702/1000 [45:45<14:59,  3.02s/it]"
          ]
        },
        {
          "output_type": "stream",
          "name": "stdout",
          "text": [
            "Total reward after episode 702 is 1042.0\n"
          ]
        },
        {
          "output_type": "stream",
          "name": "stderr",
          "text": [
            "\r 70%|███████   | 703/1000 [45:46<11:44,  2.37s/it]"
          ]
        },
        {
          "output_type": "stream",
          "name": "stdout",
          "text": [
            "Total reward after episode 703 is 240.0\n"
          ]
        },
        {
          "output_type": "stream",
          "name": "stderr",
          "text": [
            "\r 70%|███████   | 704/1000 [45:50<13:58,  2.83s/it]"
          ]
        },
        {
          "output_type": "stream",
          "name": "stdout",
          "text": [
            "Total reward after episode 704 is 1071.0\n"
          ]
        },
        {
          "output_type": "stream",
          "name": "stderr",
          "text": [
            "\r 70%|███████   | 705/1000 [45:54<16:26,  3.34s/it]"
          ]
        },
        {
          "output_type": "stream",
          "name": "stdout",
          "text": [
            "Total reward after episode 705 is 1344.0\n"
          ]
        },
        {
          "output_type": "stream",
          "name": "stderr",
          "text": [
            "\r 71%|███████   | 706/1000 [45:58<16:38,  3.40s/it]"
          ]
        },
        {
          "output_type": "stream",
          "name": "stdout",
          "text": [
            "Total reward after episode 706 is 1047.0\n"
          ]
        },
        {
          "output_type": "stream",
          "name": "stderr",
          "text": [
            "\r 71%|███████   | 707/1000 [46:04<21:06,  4.32s/it]"
          ]
        },
        {
          "output_type": "stream",
          "name": "stdout",
          "text": [
            "Total reward after episode 707 is 1860.0\n"
          ]
        },
        {
          "output_type": "stream",
          "name": "stderr",
          "text": [
            "\r 71%|███████   | 708/1000 [46:06<16:59,  3.49s/it]"
          ]
        },
        {
          "output_type": "stream",
          "name": "stdout",
          "text": [
            "Total reward after episode 708 is 606.0\n"
          ]
        },
        {
          "output_type": "stream",
          "name": "stderr",
          "text": [
            "\r 71%|███████   | 709/1000 [46:09<16:32,  3.41s/it]"
          ]
        },
        {
          "output_type": "stream",
          "name": "stdout",
          "text": [
            "Total reward after episode 709 is 1049.0\n"
          ]
        },
        {
          "output_type": "stream",
          "name": "stderr",
          "text": [
            "\r 71%|███████   | 710/1000 [46:11<14:18,  2.96s/it]"
          ]
        },
        {
          "output_type": "stream",
          "name": "stdout",
          "text": [
            "Total reward after episode 710 is 638.0\n"
          ]
        },
        {
          "output_type": "stream",
          "name": "stderr",
          "text": [
            "\r 71%|███████   | 711/1000 [46:15<15:06,  3.14s/it]"
          ]
        },
        {
          "output_type": "stream",
          "name": "stdout",
          "text": [
            "Total reward after episode 711 is 822.0\n"
          ]
        },
        {
          "output_type": "stream",
          "name": "stderr",
          "text": [
            "\r 71%|███████   | 712/1000 [46:17<13:56,  2.90s/it]"
          ]
        },
        {
          "output_type": "stream",
          "name": "stdout",
          "text": [
            "Total reward after episode 712 is 736.0\n"
          ]
        },
        {
          "output_type": "stream",
          "name": "stderr",
          "text": [
            "\r 71%|███████▏  | 713/1000 [46:19<12:32,  2.62s/it]"
          ]
        },
        {
          "output_type": "stream",
          "name": "stdout",
          "text": [
            "Total reward after episode 713 is 607.0\n"
          ]
        },
        {
          "output_type": "stream",
          "name": "stderr",
          "text": [
            "\r 71%|███████▏  | 714/1000 [46:21<11:04,  2.32s/it]"
          ]
        },
        {
          "output_type": "stream",
          "name": "stdout",
          "text": [
            "Total reward after episode 714 is 611.0\n"
          ]
        },
        {
          "output_type": "stream",
          "name": "stderr",
          "text": [
            "\r 72%|███████▏  | 715/1000 [46:22<10:01,  2.11s/it]"
          ]
        },
        {
          "output_type": "stream",
          "name": "stdout",
          "text": [
            "Total reward after episode 715 is 608.0\n"
          ]
        },
        {
          "output_type": "stream",
          "name": "stderr",
          "text": [
            "\r 72%|███████▏  | 716/1000 [46:27<13:54,  2.94s/it]"
          ]
        },
        {
          "output_type": "stream",
          "name": "stdout",
          "text": [
            "Total reward after episode 716 is 1060.0\n"
          ]
        },
        {
          "output_type": "stream",
          "name": "stderr",
          "text": [
            "\r 72%|███████▏  | 717/1000 [46:29<13:00,  2.76s/it]"
          ]
        },
        {
          "output_type": "stream",
          "name": "stdout",
          "text": [
            "Total reward after episode 717 is 630.0\n"
          ]
        },
        {
          "output_type": "stream",
          "name": "stderr",
          "text": [
            "\r 72%|███████▏  | 718/1000 [46:32<13:22,  2.85s/it]"
          ]
        },
        {
          "output_type": "stream",
          "name": "stdout",
          "text": [
            "Total reward after episode 718 is 1053.0\n"
          ]
        },
        {
          "output_type": "stream",
          "name": "stderr",
          "text": [
            "\r 72%|███████▏  | 719/1000 [46:36<14:20,  3.06s/it]"
          ]
        },
        {
          "output_type": "stream",
          "name": "stdout",
          "text": [
            "Total reward after episode 719 is 1047.0\n"
          ]
        },
        {
          "output_type": "stream",
          "name": "stderr",
          "text": [
            "\r 72%|███████▏  | 720/1000 [46:41<16:42,  3.58s/it]"
          ]
        },
        {
          "output_type": "stream",
          "name": "stdout",
          "text": [
            "Total reward after episode 720 is 1348.0\n"
          ]
        },
        {
          "output_type": "stream",
          "name": "stderr",
          "text": [
            "\r 72%|███████▏  | 721/1000 [46:43<14:50,  3.19s/it]"
          ]
        },
        {
          "output_type": "stream",
          "name": "stdout",
          "text": [
            "Total reward after episode 721 is 622.0\n"
          ]
        },
        {
          "output_type": "stream",
          "name": "stderr",
          "text": [
            "\r 72%|███████▏  | 722/1000 [46:45<12:31,  2.70s/it]"
          ]
        },
        {
          "output_type": "stream",
          "name": "stdout",
          "text": [
            "Total reward after episode 722 is 606.0\n"
          ]
        },
        {
          "output_type": "stream",
          "name": "stderr",
          "text": [
            "\r 72%|███████▏  | 723/1000 [46:46<11:07,  2.41s/it]"
          ]
        },
        {
          "output_type": "stream",
          "name": "stdout",
          "text": [
            "Total reward after episode 723 is 606.0\n"
          ]
        },
        {
          "output_type": "stream",
          "name": "stderr",
          "text": [
            "\r 72%|███████▏  | 724/1000 [46:48<09:57,  2.16s/it]"
          ]
        },
        {
          "output_type": "stream",
          "name": "stdout",
          "text": [
            "Total reward after episode 724 is 610.0\n"
          ]
        },
        {
          "output_type": "stream",
          "name": "stderr",
          "text": [
            "\r 72%|███████▎  | 725/1000 [46:51<11:30,  2.51s/it]"
          ]
        },
        {
          "output_type": "stream",
          "name": "stdout",
          "text": [
            "Total reward after episode 725 is 1070.0\n"
          ]
        },
        {
          "output_type": "stream",
          "name": "stderr",
          "text": [
            "\r 73%|███████▎  | 726/1000 [46:53<11:04,  2.42s/it]"
          ]
        },
        {
          "output_type": "stream",
          "name": "stdout",
          "text": [
            "Total reward after episode 726 is 606.0\n"
          ]
        },
        {
          "output_type": "stream",
          "name": "stderr",
          "text": [
            "\r 73%|███████▎  | 727/1000 [46:57<12:40,  2.79s/it]"
          ]
        },
        {
          "output_type": "stream",
          "name": "stdout",
          "text": [
            "Total reward after episode 727 is 775.0\n"
          ]
        },
        {
          "output_type": "stream",
          "name": "stderr",
          "text": [
            "\r 73%|███████▎  | 728/1000 [46:59<10:57,  2.42s/it]"
          ]
        },
        {
          "output_type": "stream",
          "name": "stdout",
          "text": [
            "Total reward after episode 728 is 608.0\n"
          ]
        },
        {
          "output_type": "stream",
          "name": "stderr",
          "text": [
            "\r 73%|███████▎  | 729/1000 [47:01<10:13,  2.26s/it]"
          ]
        },
        {
          "output_type": "stream",
          "name": "stdout",
          "text": [
            "Total reward after episode 729 is 636.0\n"
          ]
        },
        {
          "output_type": "stream",
          "name": "stderr",
          "text": [
            "\r 73%|███████▎  | 730/1000 [47:03<10:07,  2.25s/it]"
          ]
        },
        {
          "output_type": "stream",
          "name": "stdout",
          "text": [
            "Total reward after episode 730 is 734.0\n"
          ]
        },
        {
          "output_type": "stream",
          "name": "stderr",
          "text": [
            "\r 73%|███████▎  | 731/1000 [47:05<10:09,  2.27s/it]"
          ]
        },
        {
          "output_type": "stream",
          "name": "stdout",
          "text": [
            "Total reward after episode 731 is 606.0\n"
          ]
        },
        {
          "output_type": "stream",
          "name": "stderr",
          "text": [
            "\r 73%|███████▎  | 732/1000 [47:06<08:18,  1.86s/it]"
          ]
        },
        {
          "output_type": "stream",
          "name": "stdout",
          "text": [
            "Total reward after episode 732 is 251.0\n"
          ]
        },
        {
          "output_type": "stream",
          "name": "stderr",
          "text": [
            "\r 73%|███████▎  | 733/1000 [47:07<06:59,  1.57s/it]"
          ]
        },
        {
          "output_type": "stream",
          "name": "stdout",
          "text": [
            "Total reward after episode 733 is 251.0\n"
          ]
        },
        {
          "output_type": "stream",
          "name": "stderr",
          "text": [
            "\r 73%|███████▎  | 734/1000 [47:10<09:23,  2.12s/it]"
          ]
        },
        {
          "output_type": "stream",
          "name": "stdout",
          "text": [
            "Total reward after episode 734 is 819.0\n"
          ]
        },
        {
          "output_type": "stream",
          "name": "stderr",
          "text": [
            "\r 74%|███████▎  | 735/1000 [47:12<08:48,  2.00s/it]"
          ]
        },
        {
          "output_type": "stream",
          "name": "stdout",
          "text": [
            "Total reward after episode 735 is 607.0\n"
          ]
        },
        {
          "output_type": "stream",
          "name": "stderr",
          "text": [
            "\r 74%|███████▎  | 736/1000 [47:13<07:16,  1.65s/it]"
          ]
        },
        {
          "output_type": "stream",
          "name": "stdout",
          "text": [
            "Total reward after episode 736 is 241.0\n"
          ]
        },
        {
          "output_type": "stream",
          "name": "stderr",
          "text": [
            "\r 74%|███████▎  | 737/1000 [47:14<06:13,  1.42s/it]"
          ]
        },
        {
          "output_type": "stream",
          "name": "stdout",
          "text": [
            "Total reward after episode 737 is 248.0\n"
          ]
        },
        {
          "output_type": "stream",
          "name": "stderr",
          "text": [
            "\r 74%|███████▍  | 738/1000 [47:15<06:23,  1.46s/it]"
          ]
        },
        {
          "output_type": "stream",
          "name": "stdout",
          "text": [
            "Total reward after episode 738 is 606.0\n"
          ]
        },
        {
          "output_type": "stream",
          "name": "stderr",
          "text": [
            "\r 74%|███████▍  | 739/1000 [47:18<07:24,  1.70s/it]"
          ]
        },
        {
          "output_type": "stream",
          "name": "stdout",
          "text": [
            "Total reward after episode 739 is 606.0\n"
          ]
        },
        {
          "output_type": "stream",
          "name": "stderr",
          "text": [
            "\r 74%|███████▍  | 740/1000 [47:19<07:31,  1.74s/it]"
          ]
        },
        {
          "output_type": "stream",
          "name": "stdout",
          "text": [
            "Total reward after episode 740 is 608.0\n"
          ]
        },
        {
          "output_type": "stream",
          "name": "stderr",
          "text": [
            "\r 74%|███████▍  | 741/1000 [47:24<11:18,  2.62s/it]"
          ]
        },
        {
          "output_type": "stream",
          "name": "stdout",
          "text": [
            "Total reward after episode 741 is 1039.0\n"
          ]
        },
        {
          "output_type": "stream",
          "name": "stderr",
          "text": [
            "\r 74%|███████▍  | 742/1000 [47:26<10:48,  2.51s/it]"
          ]
        },
        {
          "output_type": "stream",
          "name": "stdout",
          "text": [
            "Total reward after episode 742 is 736.0\n"
          ]
        },
        {
          "output_type": "stream",
          "name": "stderr",
          "text": [
            "\r 74%|███████▍  | 743/1000 [47:28<09:37,  2.25s/it]"
          ]
        },
        {
          "output_type": "stream",
          "name": "stdout",
          "text": [
            "Total reward after episode 743 is 608.0\n"
          ]
        },
        {
          "output_type": "stream",
          "name": "stderr",
          "text": [
            "\r 74%|███████▍  | 744/1000 [47:33<13:03,  3.06s/it]"
          ]
        },
        {
          "output_type": "stream",
          "name": "stdout",
          "text": [
            "Total reward after episode 744 is 1064.0\n"
          ]
        },
        {
          "output_type": "stream",
          "name": "stderr",
          "text": [
            "\r 74%|███████▍  | 745/1000 [47:35<11:25,  2.69s/it]"
          ]
        },
        {
          "output_type": "stream",
          "name": "stdout",
          "text": [
            "Total reward after episode 745 is 610.0\n"
          ]
        },
        {
          "output_type": "stream",
          "name": "stderr",
          "text": [
            "\r 75%|███████▍  | 746/1000 [47:38<12:26,  2.94s/it]"
          ]
        },
        {
          "output_type": "stream",
          "name": "stdout",
          "text": [
            "Total reward after episode 746 is 1355.0\n"
          ]
        },
        {
          "output_type": "stream",
          "name": "stderr",
          "text": [
            "\r 75%|███████▍  | 747/1000 [47:40<10:37,  2.52s/it]"
          ]
        },
        {
          "output_type": "stream",
          "name": "stdout",
          "text": [
            "Total reward after episode 747 is 611.0\n"
          ]
        },
        {
          "output_type": "stream",
          "name": "stderr",
          "text": [
            "\r 75%|███████▍  | 748/1000 [47:45<14:11,  3.38s/it]"
          ]
        },
        {
          "output_type": "stream",
          "name": "stdout",
          "text": [
            "Total reward after episode 748 is 1343.0\n"
          ]
        },
        {
          "output_type": "stream",
          "name": "stderr",
          "text": [
            "\r 75%|███████▍  | 749/1000 [47:50<15:57,  3.82s/it]"
          ]
        },
        {
          "output_type": "stream",
          "name": "stdout",
          "text": [
            "Total reward after episode 749 is 1341.0\n"
          ]
        },
        {
          "output_type": "stream",
          "name": "stderr",
          "text": [
            "\r 75%|███████▌  | 750/1000 [47:54<16:42,  4.01s/it]"
          ]
        },
        {
          "output_type": "stream",
          "name": "stdout",
          "text": [
            "Total reward after episode 750 is 1348.0\n"
          ]
        },
        {
          "output_type": "stream",
          "name": "stderr",
          "text": [
            "\r 75%|███████▌  | 751/1000 [47:57<14:50,  3.58s/it]"
          ]
        },
        {
          "output_type": "stream",
          "name": "stdout",
          "text": [
            "Total reward after episode 751 is 632.0\n"
          ]
        },
        {
          "output_type": "stream",
          "name": "stderr",
          "text": [
            "\r 75%|███████▌  | 752/1000 [48:01<14:47,  3.58s/it]"
          ]
        },
        {
          "output_type": "stream",
          "name": "stdout",
          "text": [
            "Total reward after episode 752 is 1352.0\n"
          ]
        },
        {
          "output_type": "stream",
          "name": "stderr",
          "text": [
            "\r 75%|███████▌  | 753/1000 [48:02<12:29,  3.03s/it]"
          ]
        },
        {
          "output_type": "stream",
          "name": "stdout",
          "text": [
            "Total reward after episode 753 is 610.0\n"
          ]
        },
        {
          "output_type": "stream",
          "name": "stderr",
          "text": [
            "\r 75%|███████▌  | 754/1000 [48:05<11:21,  2.77s/it]"
          ]
        },
        {
          "output_type": "stream",
          "name": "stdout",
          "text": [
            "Total reward after episode 754 is 619.0\n"
          ]
        },
        {
          "output_type": "stream",
          "name": "stderr",
          "text": [
            "\r 76%|███████▌  | 755/1000 [48:05<08:55,  2.19s/it]"
          ]
        },
        {
          "output_type": "stream",
          "name": "stdout",
          "text": [
            "Total reward after episode 755 is 239.0\n"
          ]
        },
        {
          "output_type": "stream",
          "name": "stderr",
          "text": [
            "\r 76%|███████▌  | 756/1000 [48:10<11:20,  2.79s/it]"
          ]
        },
        {
          "output_type": "stream",
          "name": "stdout",
          "text": [
            "Total reward after episode 756 is 1049.0\n"
          ]
        },
        {
          "output_type": "stream",
          "name": "stderr",
          "text": [
            "\r 76%|███████▌  | 757/1000 [48:11<09:48,  2.42s/it]"
          ]
        },
        {
          "output_type": "stream",
          "name": "stdout",
          "text": [
            "Total reward after episode 757 is 608.0\n"
          ]
        },
        {
          "output_type": "stream",
          "name": "stderr",
          "text": [
            "\r 76%|███████▌  | 758/1000 [48:15<11:59,  2.97s/it]"
          ]
        },
        {
          "output_type": "stream",
          "name": "stdout",
          "text": [
            "Total reward after episode 758 is 1346.0\n"
          ]
        },
        {
          "output_type": "stream",
          "name": "stderr",
          "text": [
            "\r 76%|███████▌  | 759/1000 [48:17<10:42,  2.67s/it]"
          ]
        },
        {
          "output_type": "stream",
          "name": "stdout",
          "text": [
            "Total reward after episode 759 is 738.0\n"
          ]
        },
        {
          "output_type": "stream",
          "name": "stderr",
          "text": [
            "\r 76%|███████▌  | 760/1000 [48:22<13:13,  3.31s/it]"
          ]
        },
        {
          "output_type": "stream",
          "name": "stdout",
          "text": [
            "Total reward after episode 760 is 1442.0\n"
          ]
        },
        {
          "output_type": "stream",
          "name": "stderr",
          "text": [
            "\r 76%|███████▌  | 761/1000 [48:26<13:38,  3.43s/it]"
          ]
        },
        {
          "output_type": "stream",
          "name": "stdout",
          "text": [
            "Total reward after episode 761 is 1356.0\n"
          ]
        },
        {
          "output_type": "stream",
          "name": "stderr",
          "text": [
            "\r 76%|███████▌  | 762/1000 [48:27<11:24,  2.88s/it]"
          ]
        },
        {
          "output_type": "stream",
          "name": "stdout",
          "text": [
            "Total reward after episode 762 is 610.0\n"
          ]
        },
        {
          "output_type": "stream",
          "name": "stderr",
          "text": [
            "\r 76%|███████▋  | 763/1000 [48:33<14:15,  3.61s/it]"
          ]
        },
        {
          "output_type": "stream",
          "name": "stdout",
          "text": [
            "Total reward after episode 763 is 1691.0\n"
          ]
        },
        {
          "output_type": "stream",
          "name": "stderr",
          "text": [
            "\r 76%|███████▋  | 764/1000 [48:38<15:44,  4.00s/it]"
          ]
        },
        {
          "output_type": "stream",
          "name": "stdout",
          "text": [
            "Total reward after episode 764 is 1427.0\n"
          ]
        },
        {
          "output_type": "stream",
          "name": "stderr",
          "text": [
            "\r 76%|███████▋  | 765/1000 [48:46<20:35,  5.26s/it]"
          ]
        },
        {
          "output_type": "stream",
          "name": "stdout",
          "text": [
            "Total reward after episode 765 is 1045.0\n"
          ]
        },
        {
          "output_type": "stream",
          "name": "stderr",
          "text": [
            "\r 77%|███████▋  | 766/1000 [48:49<18:14,  4.68s/it]"
          ]
        },
        {
          "output_type": "stream",
          "name": "stdout",
          "text": [
            "Total reward after episode 766 is 1049.0\n"
          ]
        },
        {
          "output_type": "stream",
          "name": "stderr",
          "text": [
            "\r 77%|███████▋  | 767/1000 [48:51<14:34,  3.75s/it]"
          ]
        },
        {
          "output_type": "stream",
          "name": "stdout",
          "text": [
            "Total reward after episode 767 is 606.0\n"
          ]
        },
        {
          "output_type": "stream",
          "name": "stderr",
          "text": [
            "\r 77%|███████▋  | 768/1000 [48:52<12:00,  3.10s/it]"
          ]
        },
        {
          "output_type": "stream",
          "name": "stdout",
          "text": [
            "Total reward after episode 768 is 608.0\n"
          ]
        },
        {
          "output_type": "stream",
          "name": "stderr",
          "text": [
            "\r 77%|███████▋  | 769/1000 [48:56<12:30,  3.25s/it]"
          ]
        },
        {
          "output_type": "stream",
          "name": "stdout",
          "text": [
            "Total reward after episode 769 is 1353.0\n"
          ]
        },
        {
          "output_type": "stream",
          "name": "stderr",
          "text": [
            "\r 77%|███████▋  | 770/1000 [48:57<09:53,  2.58s/it]"
          ]
        },
        {
          "output_type": "stream",
          "name": "stdout",
          "text": [
            "Total reward after episode 770 is 240.0\n"
          ]
        },
        {
          "output_type": "stream",
          "name": "stderr",
          "text": [
            "\r 77%|███████▋  | 771/1000 [48:58<08:23,  2.20s/it]"
          ]
        },
        {
          "output_type": "stream",
          "name": "stdout",
          "text": [
            "Total reward after episode 771 is 239.0\n"
          ]
        },
        {
          "output_type": "stream",
          "name": "stderr",
          "text": [
            "\r 77%|███████▋  | 772/1000 [49:00<07:53,  2.08s/it]"
          ]
        },
        {
          "output_type": "stream",
          "name": "stdout",
          "text": [
            "Total reward after episode 772 is 607.0\n"
          ]
        },
        {
          "output_type": "stream",
          "name": "stderr",
          "text": [
            "\r 77%|███████▋  | 773/1000 [49:04<09:50,  2.60s/it]"
          ]
        },
        {
          "output_type": "stream",
          "name": "stdout",
          "text": [
            "Total reward after episode 773 is 1436.0\n"
          ]
        },
        {
          "output_type": "stream",
          "name": "stderr",
          "text": [
            "\r 77%|███████▋  | 774/1000 [49:05<07:47,  2.07s/it]"
          ]
        },
        {
          "output_type": "stream",
          "name": "stdout",
          "text": [
            "Total reward after episode 774 is 242.0\n"
          ]
        },
        {
          "output_type": "stream",
          "name": "stderr",
          "text": [
            "\r 78%|███████▊  | 775/1000 [49:08<09:28,  2.53s/it]"
          ]
        },
        {
          "output_type": "stream",
          "name": "stdout",
          "text": [
            "Total reward after episode 775 is 1436.0\n"
          ]
        },
        {
          "output_type": "stream",
          "name": "stderr",
          "text": [
            "\r 78%|███████▊  | 776/1000 [49:10<08:53,  2.38s/it]"
          ]
        },
        {
          "output_type": "stream",
          "name": "stdout",
          "text": [
            "Total reward after episode 776 is 606.0\n"
          ]
        },
        {
          "output_type": "stream",
          "name": "stderr",
          "text": [
            "\r 78%|███████▊  | 777/1000 [49:14<10:38,  2.86s/it]"
          ]
        },
        {
          "output_type": "stream",
          "name": "stdout",
          "text": [
            "Total reward after episode 777 is 1342.0\n"
          ]
        },
        {
          "output_type": "stream",
          "name": "stderr",
          "text": [
            "\r 78%|███████▊  | 778/1000 [49:17<10:33,  2.85s/it]"
          ]
        },
        {
          "output_type": "stream",
          "name": "stdout",
          "text": [
            "Total reward after episode 778 is 1072.0\n"
          ]
        },
        {
          "output_type": "stream",
          "name": "stderr",
          "text": [
            "\r 78%|███████▊  | 779/1000 [49:19<09:06,  2.47s/it]"
          ]
        },
        {
          "output_type": "stream",
          "name": "stdout",
          "text": [
            "Total reward after episode 779 is 608.0\n"
          ]
        },
        {
          "output_type": "stream",
          "name": "stderr",
          "text": [
            "\r 78%|███████▊  | 780/1000 [49:21<08:31,  2.33s/it]"
          ]
        },
        {
          "output_type": "stream",
          "name": "stdout",
          "text": [
            "Total reward after episode 780 is 632.0\n"
          ]
        },
        {
          "output_type": "stream",
          "name": "stderr",
          "text": [
            "\r 78%|███████▊  | 781/1000 [49:23<08:03,  2.21s/it]"
          ]
        },
        {
          "output_type": "stream",
          "name": "stdout",
          "text": [
            "Total reward after episode 781 is 608.0\n"
          ]
        },
        {
          "output_type": "stream",
          "name": "stderr",
          "text": [
            "\r 78%|███████▊  | 782/1000 [49:26<09:22,  2.58s/it]"
          ]
        },
        {
          "output_type": "stream",
          "name": "stdout",
          "text": [
            "Total reward after episode 782 is 1074.0\n"
          ]
        },
        {
          "output_type": "stream",
          "name": "stderr",
          "text": [
            "\r 78%|███████▊  | 783/1000 [49:27<07:32,  2.08s/it]"
          ]
        },
        {
          "output_type": "stream",
          "name": "stdout",
          "text": [
            "Total reward after episode 783 is 241.0\n"
          ]
        },
        {
          "output_type": "stream",
          "name": "stderr",
          "text": [
            "\r 78%|███████▊  | 784/1000 [49:29<07:00,  1.95s/it]"
          ]
        },
        {
          "output_type": "stream",
          "name": "stdout",
          "text": [
            "Total reward after episode 784 is 607.0\n"
          ]
        },
        {
          "output_type": "stream",
          "name": "stderr",
          "text": [
            "\r 78%|███████▊  | 785/1000 [49:32<08:39,  2.42s/it]"
          ]
        },
        {
          "output_type": "stream",
          "name": "stdout",
          "text": [
            "Total reward after episode 785 is 1351.0\n"
          ]
        },
        {
          "output_type": "stream",
          "name": "stderr",
          "text": [
            "\r 79%|███████▊  | 786/1000 [49:38<11:50,  3.32s/it]"
          ]
        },
        {
          "output_type": "stream",
          "name": "stdout",
          "text": [
            "Total reward after episode 786 is 1440.0\n"
          ]
        },
        {
          "output_type": "stream",
          "name": "stderr",
          "text": [
            "\r 79%|███████▊  | 787/1000 [49:40<11:18,  3.18s/it]"
          ]
        },
        {
          "output_type": "stream",
          "name": "stdout",
          "text": [
            "Total reward after episode 787 is 1052.0\n"
          ]
        },
        {
          "output_type": "stream",
          "name": "stderr",
          "text": [
            "\r 79%|███████▉  | 788/1000 [49:42<09:48,  2.78s/it]"
          ]
        },
        {
          "output_type": "stream",
          "name": "stdout",
          "text": [
            "Total reward after episode 788 is 637.0\n"
          ]
        },
        {
          "output_type": "stream",
          "name": "stderr",
          "text": [
            "\r 79%|███████▉  | 789/1000 [49:44<08:30,  2.42s/it]"
          ]
        },
        {
          "output_type": "stream",
          "name": "stdout",
          "text": [
            "Total reward after episode 789 is 610.0\n"
          ]
        },
        {
          "output_type": "stream",
          "name": "stderr",
          "text": [
            "\r 79%|███████▉  | 790/1000 [49:45<07:35,  2.17s/it]"
          ]
        },
        {
          "output_type": "stream",
          "name": "stdout",
          "text": [
            "Total reward after episode 790 is 606.0\n"
          ]
        },
        {
          "output_type": "stream",
          "name": "stderr",
          "text": [
            "\r 79%|███████▉  | 791/1000 [49:50<10:10,  2.92s/it]"
          ]
        },
        {
          "output_type": "stream",
          "name": "stdout",
          "text": [
            "Total reward after episode 791 is 1349.0\n"
          ]
        },
        {
          "output_type": "stream",
          "name": "stderr",
          "text": [
            "\r 79%|███████▉  | 792/1000 [49:52<09:01,  2.60s/it]"
          ]
        },
        {
          "output_type": "stream",
          "name": "stdout",
          "text": [
            "Total reward after episode 792 is 606.0\n"
          ]
        },
        {
          "output_type": "stream",
          "name": "stderr",
          "text": [
            "\r 79%|███████▉  | 793/1000 [49:56<10:12,  2.96s/it]"
          ]
        },
        {
          "output_type": "stream",
          "name": "stdout",
          "text": [
            "Total reward after episode 793 is 1438.0\n"
          ]
        },
        {
          "output_type": "stream",
          "name": "stderr",
          "text": [
            "\r 79%|███████▉  | 794/1000 [49:58<08:58,  2.62s/it]"
          ]
        },
        {
          "output_type": "stream",
          "name": "stdout",
          "text": [
            "Total reward after episode 794 is 630.0\n"
          ]
        },
        {
          "output_type": "stream",
          "name": "stderr",
          "text": [
            "\r 80%|███████▉  | 795/1000 [50:02<10:27,  3.06s/it]"
          ]
        },
        {
          "output_type": "stream",
          "name": "stdout",
          "text": [
            "Total reward after episode 795 is 819.0\n"
          ]
        },
        {
          "output_type": "stream",
          "name": "stderr",
          "text": [
            "\r 80%|███████▉  | 796/1000 [50:03<08:17,  2.44s/it]"
          ]
        },
        {
          "output_type": "stream",
          "name": "stdout",
          "text": [
            "Total reward after episode 796 is 236.0\n"
          ]
        },
        {
          "output_type": "stream",
          "name": "stderr",
          "text": [
            "\r 80%|███████▉  | 797/1000 [50:08<10:44,  3.18s/it]"
          ]
        },
        {
          "output_type": "stream",
          "name": "stdout",
          "text": [
            "Total reward after episode 797 is 1866.0\n"
          ]
        },
        {
          "output_type": "stream",
          "name": "stderr",
          "text": [
            "\r 80%|███████▉  | 798/1000 [50:09<09:01,  2.68s/it]"
          ]
        },
        {
          "output_type": "stream",
          "name": "stdout",
          "text": [
            "Total reward after episode 798 is 611.0\n"
          ]
        },
        {
          "output_type": "stream",
          "name": "stderr",
          "text": [
            "\r 80%|███████▉  | 799/1000 [50:11<08:23,  2.51s/it]"
          ]
        },
        {
          "output_type": "stream",
          "name": "stdout",
          "text": [
            "Total reward after episode 799 is 735.0\n"
          ]
        },
        {
          "output_type": "stream",
          "name": "stderr",
          "text": [
            "\r 80%|████████  | 800/1000 [50:14<08:24,  2.52s/it]"
          ]
        },
        {
          "output_type": "stream",
          "name": "stdout",
          "text": [
            "Total reward after episode 800 is 738.0\n"
          ]
        },
        {
          "output_type": "stream",
          "name": "stderr",
          "text": [
            "\r 80%|████████  | 801/1000 [50:18<10:06,  3.05s/it]"
          ]
        },
        {
          "output_type": "stream",
          "name": "stdout",
          "text": [
            "Total reward after episode 801 is 1440.0\n"
          ]
        },
        {
          "output_type": "stream",
          "name": "stderr",
          "text": [
            "\r 80%|████████  | 802/1000 [50:22<10:35,  3.21s/it]"
          ]
        },
        {
          "output_type": "stream",
          "name": "stdout",
          "text": [
            "Total reward after episode 802 is 1439.0\n"
          ]
        },
        {
          "output_type": "stream",
          "name": "stderr",
          "text": [
            "\r 80%|████████  | 803/1000 [50:27<12:44,  3.88s/it]"
          ]
        },
        {
          "output_type": "stream",
          "name": "stdout",
          "text": [
            "Total reward after episode 803 is 1351.0\n"
          ]
        },
        {
          "output_type": "stream",
          "name": "stderr",
          "text": [
            "\r 80%|████████  | 804/1000 [50:31<12:31,  3.84s/it]"
          ]
        },
        {
          "output_type": "stream",
          "name": "stdout",
          "text": [
            "Total reward after episode 804 is 1351.0\n"
          ]
        },
        {
          "output_type": "stream",
          "name": "stderr",
          "text": [
            "\r 80%|████████  | 805/1000 [50:32<09:34,  2.95s/it]"
          ]
        },
        {
          "output_type": "stream",
          "name": "stdout",
          "text": [
            "Total reward after episode 805 is 242.0\n"
          ]
        },
        {
          "output_type": "stream",
          "name": "stderr",
          "text": [
            "\r 81%|████████  | 806/1000 [50:33<07:33,  2.34s/it]"
          ]
        },
        {
          "output_type": "stream",
          "name": "stdout",
          "text": [
            "Total reward after episode 806 is 240.0\n"
          ]
        },
        {
          "output_type": "stream",
          "name": "stderr",
          "text": [
            "\r 81%|████████  | 807/1000 [50:37<09:03,  2.82s/it]"
          ]
        },
        {
          "output_type": "stream",
          "name": "stdout",
          "text": [
            "Total reward after episode 807 is 1437.0\n"
          ]
        },
        {
          "output_type": "stream",
          "name": "stderr",
          "text": [
            "\r 81%|████████  | 808/1000 [50:40<09:09,  2.86s/it]"
          ]
        },
        {
          "output_type": "stream",
          "name": "stdout",
          "text": [
            "Total reward after episode 808 is 736.0\n"
          ]
        },
        {
          "output_type": "stream",
          "name": "stderr",
          "text": [
            "\r 81%|████████  | 809/1000 [50:44<10:15,  3.22s/it]"
          ]
        },
        {
          "output_type": "stream",
          "name": "stdout",
          "text": [
            "Total reward after episode 809 is 1354.0\n"
          ]
        },
        {
          "output_type": "stream",
          "name": "stderr",
          "text": [
            "\r 81%|████████  | 810/1000 [50:44<07:57,  2.51s/it]"
          ]
        },
        {
          "output_type": "stream",
          "name": "stdout",
          "text": [
            "Total reward after episode 810 is 242.0\n"
          ]
        },
        {
          "output_type": "stream",
          "name": "stderr",
          "text": [
            "\r 81%|████████  | 811/1000 [50:45<06:22,  2.02s/it]"
          ]
        },
        {
          "output_type": "stream",
          "name": "stdout",
          "text": [
            "Total reward after episode 811 is 242.0\n"
          ]
        },
        {
          "output_type": "stream",
          "name": "stderr",
          "text": [
            "\r 81%|████████  | 812/1000 [50:49<07:55,  2.53s/it]"
          ]
        },
        {
          "output_type": "stream",
          "name": "stdout",
          "text": [
            "Total reward after episode 812 is 1349.0\n"
          ]
        },
        {
          "output_type": "stream",
          "name": "stderr",
          "text": [
            "\r 81%|████████▏ | 813/1000 [50:50<06:17,  2.02s/it]"
          ]
        },
        {
          "output_type": "stream",
          "name": "stdout",
          "text": [
            "Total reward after episode 813 is 239.0\n"
          ]
        },
        {
          "output_type": "stream",
          "name": "stderr",
          "text": [
            "\r 81%|████████▏ | 814/1000 [50:55<08:57,  2.89s/it]"
          ]
        },
        {
          "output_type": "stream",
          "name": "stdout",
          "text": [
            "Total reward after episode 814 is 1347.0\n"
          ]
        },
        {
          "output_type": "stream",
          "name": "stderr",
          "text": [
            "\r 82%|████████▏ | 815/1000 [50:59<09:46,  3.17s/it]"
          ]
        },
        {
          "output_type": "stream",
          "name": "stdout",
          "text": [
            "Total reward after episode 815 is 1441.0\n"
          ]
        },
        {
          "output_type": "stream",
          "name": "stderr",
          "text": [
            "\r 82%|████████▏ | 816/1000 [51:02<09:50,  3.21s/it]"
          ]
        },
        {
          "output_type": "stream",
          "name": "stdout",
          "text": [
            "Total reward after episode 816 is 1071.0\n"
          ]
        },
        {
          "output_type": "stream",
          "name": "stderr",
          "text": [
            "\r 82%|████████▏ | 817/1000 [51:07<11:04,  3.63s/it]"
          ]
        },
        {
          "output_type": "stream",
          "name": "stdout",
          "text": [
            "Total reward after episode 817 is 1333.0\n"
          ]
        },
        {
          "output_type": "stream",
          "name": "stderr",
          "text": [
            "\r 82%|████████▏ | 818/1000 [51:08<09:08,  3.02s/it]"
          ]
        },
        {
          "output_type": "stream",
          "name": "stdout",
          "text": [
            "Total reward after episode 818 is 610.0\n"
          ]
        },
        {
          "output_type": "stream",
          "name": "stderr",
          "text": [
            "\r 82%|████████▏ | 819/1000 [51:11<09:04,  3.01s/it]"
          ]
        },
        {
          "output_type": "stream",
          "name": "stdout",
          "text": [
            "Total reward after episode 819 is 1050.0\n"
          ]
        },
        {
          "output_type": "stream",
          "name": "stderr",
          "text": [
            "\r 82%|████████▏ | 820/1000 [51:14<08:45,  2.92s/it]"
          ]
        },
        {
          "output_type": "stream",
          "name": "stdout",
          "text": [
            "Total reward after episode 820 is 1053.0\n"
          ]
        },
        {
          "output_type": "stream",
          "name": "stderr",
          "text": [
            "\r 82%|████████▏ | 821/1000 [51:15<07:32,  2.53s/it]"
          ]
        },
        {
          "output_type": "stream",
          "name": "stdout",
          "text": [
            "Total reward after episode 821 is 611.0\n"
          ]
        },
        {
          "output_type": "stream",
          "name": "stderr",
          "text": [
            "\r 82%|████████▏ | 822/1000 [51:21<09:53,  3.34s/it]"
          ]
        },
        {
          "output_type": "stream",
          "name": "stdout",
          "text": [
            "Total reward after episode 822 is 1438.0\n"
          ]
        },
        {
          "output_type": "stream",
          "name": "stderr",
          "text": [
            "\r 82%|████████▏ | 823/1000 [51:24<09:54,  3.36s/it]"
          ]
        },
        {
          "output_type": "stream",
          "name": "stdout",
          "text": [
            "Total reward after episode 823 is 1352.0\n"
          ]
        },
        {
          "output_type": "stream",
          "name": "stderr",
          "text": [
            "\r 82%|████████▏ | 824/1000 [51:28<10:05,  3.44s/it]"
          ]
        },
        {
          "output_type": "stream",
          "name": "stdout",
          "text": [
            "Total reward after episode 824 is 1441.0\n"
          ]
        },
        {
          "output_type": "stream",
          "name": "stderr",
          "text": [
            "\r 82%|████████▎ | 825/1000 [51:29<08:01,  2.75s/it]"
          ]
        },
        {
          "output_type": "stream",
          "name": "stdout",
          "text": [
            "Total reward after episode 825 is 242.0\n"
          ]
        },
        {
          "output_type": "stream",
          "name": "stderr",
          "text": [
            "\r 83%|████████▎ | 826/1000 [51:31<07:35,  2.62s/it]"
          ]
        },
        {
          "output_type": "stream",
          "name": "stdout",
          "text": [
            "Total reward after episode 826 is 606.0\n"
          ]
        },
        {
          "output_type": "stream",
          "name": "stderr",
          "text": [
            "\r 83%|████████▎ | 827/1000 [51:33<06:41,  2.32s/it]"
          ]
        },
        {
          "output_type": "stream",
          "name": "stdout",
          "text": [
            "Total reward after episode 827 is 611.0\n"
          ]
        },
        {
          "output_type": "stream",
          "name": "stderr",
          "text": [
            "\r 83%|████████▎ | 828/1000 [51:36<07:39,  2.67s/it]"
          ]
        },
        {
          "output_type": "stream",
          "name": "stdout",
          "text": [
            "Total reward after episode 828 is 1351.0\n"
          ]
        },
        {
          "output_type": "stream",
          "name": "stderr",
          "text": [
            "\r 83%|████████▎ | 829/1000 [51:40<08:25,  2.96s/it]"
          ]
        },
        {
          "output_type": "stream",
          "name": "stdout",
          "text": [
            "Total reward after episode 829 is 819.0\n"
          ]
        },
        {
          "output_type": "stream",
          "name": "stderr",
          "text": [
            "\r 83%|████████▎ | 830/1000 [51:45<10:26,  3.69s/it]"
          ]
        },
        {
          "output_type": "stream",
          "name": "stdout",
          "text": [
            "Total reward after episode 830 is 1044.0\n"
          ]
        },
        {
          "output_type": "stream",
          "name": "stderr",
          "text": [
            "\r 83%|████████▎ | 831/1000 [51:52<12:56,  4.60s/it]"
          ]
        },
        {
          "output_type": "stream",
          "name": "stdout",
          "text": [
            "Total reward after episode 831 is 1050.0\n"
          ]
        },
        {
          "output_type": "stream",
          "name": "stderr",
          "text": [
            "\r 83%|████████▎ | 832/1000 [51:59<15:11,  5.42s/it]"
          ]
        },
        {
          "output_type": "stream",
          "name": "stdout",
          "text": [
            "Total reward after episode 832 is 1695.0\n"
          ]
        },
        {
          "output_type": "stream",
          "name": "stderr",
          "text": [
            "\r 83%|████████▎ | 833/1000 [52:03<13:54,  5.00s/it]"
          ]
        },
        {
          "output_type": "stream",
          "name": "stdout",
          "text": [
            "Total reward after episode 833 is 1446.0\n"
          ]
        },
        {
          "output_type": "stream",
          "name": "stderr",
          "text": [
            "\r 83%|████████▎ | 834/1000 [52:05<11:12,  4.05s/it]"
          ]
        },
        {
          "output_type": "stream",
          "name": "stdout",
          "text": [
            "Total reward after episode 834 is 614.0\n"
          ]
        },
        {
          "output_type": "stream",
          "name": "stderr",
          "text": [
            "\r 84%|████████▎ | 835/1000 [52:06<08:34,  3.12s/it]"
          ]
        },
        {
          "output_type": "stream",
          "name": "stdout",
          "text": [
            "Total reward after episode 835 is 231.0\n"
          ]
        },
        {
          "output_type": "stream",
          "name": "stderr",
          "text": [
            "\r 84%|████████▎ | 836/1000 [52:10<08:54,  3.26s/it]"
          ]
        },
        {
          "output_type": "stream",
          "name": "stdout",
          "text": [
            "Total reward after episode 836 is 1053.0\n"
          ]
        },
        {
          "output_type": "stream",
          "name": "stderr",
          "text": [
            "\r 84%|████████▎ | 837/1000 [52:11<07:36,  2.80s/it]"
          ]
        },
        {
          "output_type": "stream",
          "name": "stdout",
          "text": [
            "Total reward after episode 837 is 603.0\n"
          ]
        },
        {
          "output_type": "stream",
          "name": "stderr",
          "text": [
            "\r 84%|████████▍ | 838/1000 [52:13<06:49,  2.53s/it]"
          ]
        },
        {
          "output_type": "stream",
          "name": "stdout",
          "text": [
            "Total reward after episode 838 is 654.0\n"
          ]
        },
        {
          "output_type": "stream",
          "name": "stderr",
          "text": [
            "\r 84%|████████▍ | 839/1000 [52:18<08:43,  3.25s/it]"
          ]
        },
        {
          "output_type": "stream",
          "name": "stdout",
          "text": [
            "Total reward after episode 839 is 1428.0\n"
          ]
        },
        {
          "output_type": "stream",
          "name": "stderr",
          "text": [
            "\r 84%|████████▍ | 840/1000 [52:19<06:55,  2.59s/it]"
          ]
        },
        {
          "output_type": "stream",
          "name": "stdout",
          "text": [
            "Total reward after episode 840 is 235.0\n"
          ]
        },
        {
          "output_type": "stream",
          "name": "stderr",
          "text": [
            "\r 84%|████████▍ | 841/1000 [52:21<05:55,  2.24s/it]"
          ]
        },
        {
          "output_type": "stream",
          "name": "stdout",
          "text": [
            "Total reward after episode 841 is 231.0\n"
          ]
        },
        {
          "output_type": "stream",
          "name": "stderr",
          "text": [
            "\r 84%|████████▍ | 842/1000 [52:23<05:48,  2.20s/it]"
          ]
        },
        {
          "output_type": "stream",
          "name": "stdout",
          "text": [
            "Total reward after episode 842 is 654.0\n"
          ]
        },
        {
          "output_type": "stream",
          "name": "stderr",
          "text": [
            "\r 84%|████████▍ | 843/1000 [52:24<04:43,  1.80s/it]"
          ]
        },
        {
          "output_type": "stream",
          "name": "stdout",
          "text": [
            "Total reward after episode 843 is 238.0\n"
          ]
        },
        {
          "output_type": "stream",
          "name": "stderr",
          "text": [
            "\r 84%|████████▍ | 844/1000 [52:27<06:13,  2.39s/it]"
          ]
        },
        {
          "output_type": "stream",
          "name": "stdout",
          "text": [
            "Total reward after episode 844 is 1438.0\n"
          ]
        },
        {
          "output_type": "stream",
          "name": "stderr",
          "text": [
            "\r 84%|████████▍ | 845/1000 [52:31<06:54,  2.68s/it]"
          ]
        },
        {
          "output_type": "stream",
          "name": "stdout",
          "text": [
            "Total reward after episode 845 is 1353.0\n"
          ]
        },
        {
          "output_type": "stream",
          "name": "stderr",
          "text": [
            "\r 85%|████████▍ | 846/1000 [52:35<08:06,  3.16s/it]"
          ]
        },
        {
          "output_type": "stream",
          "name": "stdout",
          "text": [
            "Total reward after episode 846 is 1352.0\n"
          ]
        },
        {
          "output_type": "stream",
          "name": "stderr",
          "text": [
            "\r 85%|████████▍ | 847/1000 [52:36<06:18,  2.47s/it]"
          ]
        },
        {
          "output_type": "stream",
          "name": "stdout",
          "text": [
            "Total reward after episode 847 is 236.0\n"
          ]
        },
        {
          "output_type": "stream",
          "name": "stderr",
          "text": [
            "\r 85%|████████▍ | 848/1000 [52:40<07:22,  2.91s/it]"
          ]
        },
        {
          "output_type": "stream",
          "name": "stdout",
          "text": [
            "Total reward after episode 848 is 1349.0\n"
          ]
        },
        {
          "output_type": "stream",
          "name": "stderr",
          "text": [
            "\r 85%|████████▍ | 849/1000 [52:42<06:42,  2.66s/it]"
          ]
        },
        {
          "output_type": "stream",
          "name": "stdout",
          "text": [
            "Total reward after episode 849 is 636.0\n"
          ]
        },
        {
          "output_type": "stream",
          "name": "stderr",
          "text": [
            "\r 85%|████████▌ | 850/1000 [52:43<05:19,  2.13s/it]"
          ]
        },
        {
          "output_type": "stream",
          "name": "stdout",
          "text": [
            "Total reward after episode 850 is 231.0\n"
          ]
        },
        {
          "output_type": "stream",
          "name": "stderr",
          "text": [
            "\r 85%|████████▌ | 851/1000 [52:48<07:11,  2.90s/it]"
          ]
        },
        {
          "output_type": "stream",
          "name": "stdout",
          "text": [
            "Total reward after episode 851 is 1437.0\n"
          ]
        },
        {
          "output_type": "stream",
          "name": "stderr",
          "text": [
            "\r 85%|████████▌ | 852/1000 [52:49<06:12,  2.52s/it]"
          ]
        },
        {
          "output_type": "stream",
          "name": "stdout",
          "text": [
            "Total reward after episode 852 is 611.0\n"
          ]
        },
        {
          "output_type": "stream",
          "name": "stderr",
          "text": [
            "\r 85%|████████▌ | 853/1000 [52:53<07:04,  2.89s/it]"
          ]
        },
        {
          "output_type": "stream",
          "name": "stdout",
          "text": [
            "Total reward after episode 853 is 1440.0\n"
          ]
        },
        {
          "output_type": "stream",
          "name": "stderr",
          "text": [
            "\r 85%|████████▌ | 854/1000 [52:56<07:20,  3.02s/it]"
          ]
        },
        {
          "output_type": "stream",
          "name": "stdout",
          "text": [
            "Total reward after episode 854 is 1352.0\n"
          ]
        },
        {
          "output_type": "stream",
          "name": "stderr",
          "text": [
            "\r 86%|████████▌ | 855/1000 [52:57<05:59,  2.48s/it]"
          ]
        },
        {
          "output_type": "stream",
          "name": "stdout",
          "text": [
            "Total reward after episode 855 is 236.0\n"
          ]
        },
        {
          "output_type": "stream",
          "name": "stderr",
          "text": [
            "\r 86%|████████▌ | 856/1000 [52:59<05:07,  2.14s/it]"
          ]
        },
        {
          "output_type": "stream",
          "name": "stdout",
          "text": [
            "Total reward after episode 856 is 237.0\n"
          ]
        },
        {
          "output_type": "stream",
          "name": "stderr",
          "text": [
            "\r 86%|████████▌ | 857/1000 [53:11<12:03,  5.06s/it]"
          ]
        },
        {
          "output_type": "stream",
          "name": "stdout",
          "text": [
            "Total reward after episode 857 is 2335.0\n"
          ]
        },
        {
          "output_type": "stream",
          "name": "stderr",
          "text": [
            "\r 86%|████████▌ | 858/1000 [53:12<09:15,  3.91s/it]"
          ]
        },
        {
          "output_type": "stream",
          "name": "stdout",
          "text": [
            "Total reward after episode 858 is 235.0\n"
          ]
        },
        {
          "output_type": "stream",
          "name": "stderr",
          "text": [
            "\r 86%|████████▌ | 859/1000 [53:15<08:53,  3.78s/it]"
          ]
        },
        {
          "output_type": "stream",
          "name": "stdout",
          "text": [
            "Total reward after episode 859 is 1360.0\n"
          ]
        },
        {
          "output_type": "stream",
          "name": "stderr",
          "text": [
            "\r 86%|████████▌ | 860/1000 [53:17<07:29,  3.21s/it]"
          ]
        },
        {
          "output_type": "stream",
          "name": "stdout",
          "text": [
            "Total reward after episode 860 is 631.0\n"
          ]
        },
        {
          "output_type": "stream",
          "name": "stderr",
          "text": [
            "\r 86%|████████▌ | 861/1000 [53:19<06:18,  2.72s/it]"
          ]
        },
        {
          "output_type": "stream",
          "name": "stdout",
          "text": [
            "Total reward after episode 861 is 610.0\n"
          ]
        },
        {
          "output_type": "stream",
          "name": "stderr",
          "text": [
            "\r 86%|████████▌ | 862/1000 [53:20<04:59,  2.17s/it]"
          ]
        },
        {
          "output_type": "stream",
          "name": "stdout",
          "text": [
            "Total reward after episode 862 is 242.0\n"
          ]
        },
        {
          "output_type": "stream",
          "name": "stderr",
          "text": [
            "\r 86%|████████▋ | 863/1000 [53:24<06:22,  2.79s/it]"
          ]
        },
        {
          "output_type": "stream",
          "name": "stdout",
          "text": [
            "Total reward after episode 863 is 1047.0\n"
          ]
        },
        {
          "output_type": "stream",
          "name": "stderr",
          "text": [
            "\r 86%|████████▋ | 864/1000 [53:25<05:04,  2.24s/it]"
          ]
        },
        {
          "output_type": "stream",
          "name": "stdout",
          "text": [
            "Total reward after episode 864 is 236.0\n"
          ]
        },
        {
          "output_type": "stream",
          "name": "stderr",
          "text": [
            "\r 86%|████████▋ | 865/1000 [53:28<05:49,  2.59s/it]"
          ]
        },
        {
          "output_type": "stream",
          "name": "stdout",
          "text": [
            "Total reward after episode 865 is 1351.0\n"
          ]
        },
        {
          "output_type": "stream",
          "name": "stderr",
          "text": [
            "\r 87%|████████▋ | 866/1000 [53:32<06:13,  2.79s/it]"
          ]
        },
        {
          "output_type": "stream",
          "name": "stdout",
          "text": [
            "Total reward after episode 866 is 1351.0\n"
          ]
        },
        {
          "output_type": "stream",
          "name": "stderr",
          "text": [
            "\r 87%|████████▋ | 867/1000 [53:33<05:22,  2.43s/it]"
          ]
        },
        {
          "output_type": "stream",
          "name": "stdout",
          "text": [
            "Total reward after episode 867 is 611.0\n"
          ]
        },
        {
          "output_type": "stream",
          "name": "stderr",
          "text": [
            "\r 87%|████████▋ | 868/1000 [53:35<04:55,  2.24s/it]"
          ]
        },
        {
          "output_type": "stream",
          "name": "stdout",
          "text": [
            "Total reward after episode 868 is 611.0\n"
          ]
        },
        {
          "output_type": "stream",
          "name": "stderr",
          "text": [
            "\r 87%|████████▋ | 869/1000 [53:39<05:55,  2.71s/it]"
          ]
        },
        {
          "output_type": "stream",
          "name": "stdout",
          "text": [
            "Total reward after episode 869 is 1049.0\n"
          ]
        },
        {
          "output_type": "stream",
          "name": "stderr",
          "text": [
            "\r 87%|████████▋ | 870/1000 [53:40<04:43,  2.18s/it]"
          ]
        },
        {
          "output_type": "stream",
          "name": "stdout",
          "text": [
            "Total reward after episode 870 is 234.0\n"
          ]
        },
        {
          "output_type": "stream",
          "name": "stderr",
          "text": [
            "\r 87%|████████▋ | 871/1000 [53:43<05:25,  2.52s/it]"
          ]
        },
        {
          "output_type": "stream",
          "name": "stdout",
          "text": [
            "Total reward after episode 871 is 819.0\n"
          ]
        },
        {
          "output_type": "stream",
          "name": "stderr",
          "text": [
            "\r 87%|████████▋ | 872/1000 [53:44<04:17,  2.01s/it]"
          ]
        },
        {
          "output_type": "stream",
          "name": "stdout",
          "text": [
            "Total reward after episode 872 is 239.0\n"
          ]
        },
        {
          "output_type": "stream",
          "name": "stderr",
          "text": [
            "\r 87%|████████▋ | 873/1000 [53:47<05:08,  2.43s/it]"
          ]
        },
        {
          "output_type": "stream",
          "name": "stdout",
          "text": [
            "Total reward after episode 873 is 1352.0\n"
          ]
        },
        {
          "output_type": "stream",
          "name": "stderr",
          "text": [
            "\r 87%|████████▋ | 874/1000 [53:50<05:13,  2.49s/it]"
          ]
        },
        {
          "output_type": "stream",
          "name": "stdout",
          "text": [
            "Total reward after episode 874 is 633.0\n"
          ]
        },
        {
          "output_type": "stream",
          "name": "stderr",
          "text": [
            "\r 88%|████████▊ | 875/1000 [53:51<04:09,  1.99s/it]"
          ]
        },
        {
          "output_type": "stream",
          "name": "stdout",
          "text": [
            "Total reward after episode 875 is 239.0\n"
          ]
        },
        {
          "output_type": "stream",
          "name": "stderr",
          "text": [
            "\r 88%|████████▊ | 876/1000 [53:55<05:45,  2.78s/it]"
          ]
        },
        {
          "output_type": "stream",
          "name": "stdout",
          "text": [
            "Total reward after episode 876 is 1691.0\n"
          ]
        },
        {
          "output_type": "stream",
          "name": "stderr",
          "text": [
            "\r 88%|████████▊ | 877/1000 [54:00<06:45,  3.29s/it]"
          ]
        },
        {
          "output_type": "stream",
          "name": "stdout",
          "text": [
            "Total reward after episode 877 is 1437.0\n"
          ]
        },
        {
          "output_type": "stream",
          "name": "stderr",
          "text": [
            "\r 88%|████████▊ | 878/1000 [54:02<06:05,  3.00s/it]"
          ]
        },
        {
          "output_type": "stream",
          "name": "stdout",
          "text": [
            "Total reward after episode 878 is 610.0\n"
          ]
        },
        {
          "output_type": "stream",
          "name": "stderr",
          "text": [
            "\r 88%|████████▊ | 879/1000 [54:05<05:58,  2.97s/it]"
          ]
        },
        {
          "output_type": "stream",
          "name": "stdout",
          "text": [
            "Total reward after episode 879 is 822.0\n"
          ]
        },
        {
          "output_type": "stream",
          "name": "stderr",
          "text": [
            "\r 88%|████████▊ | 880/1000 [54:06<04:40,  2.33s/it]"
          ]
        },
        {
          "output_type": "stream",
          "name": "stdout",
          "text": [
            "Total reward after episode 880 is 235.0\n"
          ]
        },
        {
          "output_type": "stream",
          "name": "stderr",
          "text": [
            "\r 88%|████████▊ | 881/1000 [54:08<04:10,  2.11s/it]"
          ]
        },
        {
          "output_type": "stream",
          "name": "stdout",
          "text": [
            "Total reward after episode 881 is 607.0\n"
          ]
        },
        {
          "output_type": "stream",
          "name": "stderr",
          "text": [
            "\r 88%|████████▊ | 882/1000 [54:11<05:12,  2.65s/it]"
          ]
        },
        {
          "output_type": "stream",
          "name": "stdout",
          "text": [
            "Total reward after episode 882 is 1436.0\n"
          ]
        },
        {
          "output_type": "stream",
          "name": "stderr",
          "text": [
            "\r 88%|████████▊ | 883/1000 [54:14<05:04,  2.60s/it]"
          ]
        },
        {
          "output_type": "stream",
          "name": "stdout",
          "text": [
            "Total reward after episode 883 is 632.0\n"
          ]
        },
        {
          "output_type": "stream",
          "name": "stderr",
          "text": [
            "\r 88%|████████▊ | 884/1000 [54:18<06:05,  3.15s/it]"
          ]
        },
        {
          "output_type": "stream",
          "name": "stdout",
          "text": [
            "Total reward after episode 884 is 1062.0\n"
          ]
        },
        {
          "output_type": "stream",
          "name": "stderr",
          "text": [
            "\r 88%|████████▊ | 885/1000 [54:20<05:17,  2.76s/it]"
          ]
        },
        {
          "output_type": "stream",
          "name": "stdout",
          "text": [
            "Total reward after episode 885 is 654.0\n"
          ]
        },
        {
          "output_type": "stream",
          "name": "stderr",
          "text": [
            "\r 89%|████████▊ | 886/1000 [54:21<04:11,  2.21s/it]"
          ]
        },
        {
          "output_type": "stream",
          "name": "stdout",
          "text": [
            "Total reward after episode 886 is 228.0\n"
          ]
        },
        {
          "output_type": "stream",
          "name": "stderr",
          "text": [
            "\r 89%|████████▊ | 887/1000 [54:23<04:09,  2.21s/it]"
          ]
        },
        {
          "output_type": "stream",
          "name": "stdout",
          "text": [
            "Total reward after episode 887 is 614.0\n"
          ]
        },
        {
          "output_type": "stream",
          "name": "stderr",
          "text": [
            "\r 89%|████████▉ | 888/1000 [54:24<03:21,  1.80s/it]"
          ]
        },
        {
          "output_type": "stream",
          "name": "stdout",
          "text": [
            "Total reward after episode 888 is 242.0\n"
          ]
        },
        {
          "output_type": "stream",
          "name": "stderr",
          "text": [
            "\r 89%|████████▉ | 889/1000 [54:29<05:08,  2.78s/it]"
          ]
        },
        {
          "output_type": "stream",
          "name": "stdout",
          "text": [
            "Total reward after episode 889 is 1345.0\n"
          ]
        },
        {
          "output_type": "stream",
          "name": "stderr",
          "text": [
            "\r 89%|████████▉ | 890/1000 [54:33<05:49,  3.17s/it]"
          ]
        },
        {
          "output_type": "stream",
          "name": "stdout",
          "text": [
            "Total reward after episode 890 is 609.0\n"
          ]
        },
        {
          "output_type": "stream",
          "name": "stderr",
          "text": [
            "\r 89%|████████▉ | 891/1000 [54:37<05:50,  3.21s/it]"
          ]
        },
        {
          "output_type": "stream",
          "name": "stdout",
          "text": [
            "Total reward after episode 891 is 1352.0\n"
          ]
        },
        {
          "output_type": "stream",
          "name": "stderr",
          "text": [
            "\r 89%|████████▉ | 892/1000 [54:41<06:22,  3.54s/it]"
          ]
        },
        {
          "output_type": "stream",
          "name": "stdout",
          "text": [
            "Total reward after episode 892 is 818.0\n"
          ]
        },
        {
          "output_type": "stream",
          "name": "stderr",
          "text": [
            "\r 89%|████████▉ | 893/1000 [54:44<06:02,  3.39s/it]"
          ]
        },
        {
          "output_type": "stream",
          "name": "stdout",
          "text": [
            "Total reward after episode 893 is 749.0\n"
          ]
        },
        {
          "output_type": "stream",
          "name": "stderr",
          "text": [
            "\r 89%|████████▉ | 894/1000 [54:48<06:05,  3.45s/it]"
          ]
        },
        {
          "output_type": "stream",
          "name": "stdout",
          "text": [
            "Total reward after episode 894 is 1351.0\n"
          ]
        },
        {
          "output_type": "stream",
          "name": "stderr",
          "text": [
            "\r 90%|████████▉ | 895/1000 [54:52<06:26,  3.68s/it]"
          ]
        },
        {
          "output_type": "stream",
          "name": "stdout",
          "text": [
            "Total reward after episode 895 is 1352.0\n"
          ]
        },
        {
          "output_type": "stream",
          "name": "stderr",
          "text": [
            "\r 90%|████████▉ | 896/1000 [54:55<06:21,  3.67s/it]"
          ]
        },
        {
          "output_type": "stream",
          "name": "stdout",
          "text": [
            "Total reward after episode 896 is 1351.0\n"
          ]
        },
        {
          "output_type": "stream",
          "name": "stderr",
          "text": [
            "\r 90%|████████▉ | 897/1000 [55:00<06:31,  3.80s/it]"
          ]
        },
        {
          "output_type": "stream",
          "name": "stdout",
          "text": [
            "Total reward after episode 897 is 1440.0\n"
          ]
        },
        {
          "output_type": "stream",
          "name": "stderr",
          "text": [
            "\r 90%|████████▉ | 898/1000 [55:03<06:30,  3.83s/it]"
          ]
        },
        {
          "output_type": "stream",
          "name": "stdout",
          "text": [
            "Total reward after episode 898 is 1438.0\n"
          ]
        },
        {
          "output_type": "stream",
          "name": "stderr",
          "text": [
            "\r 90%|████████▉ | 899/1000 [55:08<06:51,  4.08s/it]"
          ]
        },
        {
          "output_type": "stream",
          "name": "stdout",
          "text": [
            "Total reward after episode 899 is 1347.0\n"
          ]
        },
        {
          "output_type": "stream",
          "name": "stderr",
          "text": [
            "\r 90%|█████████ | 900/1000 [55:10<05:38,  3.39s/it]"
          ]
        },
        {
          "output_type": "stream",
          "name": "stdout",
          "text": [
            "Total reward after episode 900 is 614.0\n"
          ]
        },
        {
          "output_type": "stream",
          "name": "stderr",
          "text": [
            "\r 90%|█████████ | 901/1000 [55:14<05:56,  3.60s/it]"
          ]
        },
        {
          "output_type": "stream",
          "name": "stdout",
          "text": [
            "Total reward after episode 901 is 1434.0\n"
          ]
        },
        {
          "output_type": "stream",
          "name": "stderr",
          "text": [
            "\r 90%|█████████ | 902/1000 [55:16<05:18,  3.25s/it]"
          ]
        },
        {
          "output_type": "stream",
          "name": "stdout",
          "text": [
            "Total reward after episode 902 is 739.0\n"
          ]
        },
        {
          "output_type": "stream",
          "name": "stderr",
          "text": [
            "\r 90%|█████████ | 903/1000 [55:20<05:28,  3.39s/it]"
          ]
        },
        {
          "output_type": "stream",
          "name": "stdout",
          "text": [
            "Total reward after episode 903 is 1353.0\n"
          ]
        },
        {
          "output_type": "stream",
          "name": "stderr",
          "text": [
            "\r 90%|█████████ | 904/1000 [55:21<04:12,  2.63s/it]"
          ]
        },
        {
          "output_type": "stream",
          "name": "stdout",
          "text": [
            "Total reward after episode 904 is 241.0\n"
          ]
        },
        {
          "output_type": "stream",
          "name": "stderr",
          "text": [
            "\r 90%|█████████ | 905/1000 [55:23<03:43,  2.36s/it]"
          ]
        },
        {
          "output_type": "stream",
          "name": "stdout",
          "text": [
            "Total reward after episode 905 is 623.0\n"
          ]
        },
        {
          "output_type": "stream",
          "name": "stderr",
          "text": [
            "\r 91%|█████████ | 906/1000 [55:27<04:23,  2.81s/it]"
          ]
        },
        {
          "output_type": "stream",
          "name": "stdout",
          "text": [
            "Total reward after episode 906 is 1350.0\n"
          ]
        },
        {
          "output_type": "stream",
          "name": "stderr",
          "text": [
            "\r 91%|█████████ | 907/1000 [55:31<05:10,  3.33s/it]"
          ]
        },
        {
          "output_type": "stream",
          "name": "stdout",
          "text": [
            "Total reward after episode 907 is 1354.0\n"
          ]
        },
        {
          "output_type": "stream",
          "name": "stderr",
          "text": [
            "\r 91%|█████████ | 908/1000 [55:35<05:17,  3.46s/it]"
          ]
        },
        {
          "output_type": "stream",
          "name": "stdout",
          "text": [
            "Total reward after episode 908 is 1350.0\n"
          ]
        },
        {
          "output_type": "stream",
          "name": "stderr",
          "text": [
            "\r 91%|█████████ | 909/1000 [55:39<05:41,  3.75s/it]"
          ]
        },
        {
          "output_type": "stream",
          "name": "stdout",
          "text": [
            "Total reward after episode 909 is 1695.0\n"
          ]
        },
        {
          "output_type": "stream",
          "name": "stderr",
          "text": [
            "\r 91%|█████████ | 910/1000 [55:46<06:52,  4.59s/it]"
          ]
        },
        {
          "output_type": "stream",
          "name": "stdout",
          "text": [
            "Total reward after episode 910 is 1426.0\n"
          ]
        },
        {
          "output_type": "stream",
          "name": "stderr",
          "text": [
            "\r 91%|█████████ | 911/1000 [55:49<06:16,  4.24s/it]"
          ]
        },
        {
          "output_type": "stream",
          "name": "stdout",
          "text": [
            "Total reward after episode 911 is 1351.0\n"
          ]
        },
        {
          "output_type": "stream",
          "name": "stderr",
          "text": [
            "\r 91%|█████████ | 912/1000 [55:51<05:03,  3.45s/it]"
          ]
        },
        {
          "output_type": "stream",
          "name": "stdout",
          "text": [
            "Total reward after episode 912 is 608.0\n"
          ]
        },
        {
          "output_type": "stream",
          "name": "stderr",
          "text": [
            "\r 91%|█████████▏| 913/1000 [55:52<04:11,  2.89s/it]"
          ]
        },
        {
          "output_type": "stream",
          "name": "stdout",
          "text": [
            "Total reward after episode 913 is 612.0\n"
          ]
        },
        {
          "output_type": "stream",
          "name": "stderr",
          "text": [
            "\r 91%|█████████▏| 914/1000 [55:55<03:57,  2.76s/it]"
          ]
        },
        {
          "output_type": "stream",
          "name": "stdout",
          "text": [
            "Total reward after episode 914 is 611.0\n"
          ]
        },
        {
          "output_type": "stream",
          "name": "stderr",
          "text": [
            "\r 92%|█████████▏| 915/1000 [56:00<04:46,  3.37s/it]"
          ]
        },
        {
          "output_type": "stream",
          "name": "stdout",
          "text": [
            "Total reward after episode 915 is 1343.0\n"
          ]
        },
        {
          "output_type": "stream",
          "name": "stderr",
          "text": [
            "\r 92%|█████████▏| 916/1000 [56:01<04:03,  2.90s/it]"
          ]
        },
        {
          "output_type": "stream",
          "name": "stdout",
          "text": [
            "Total reward after episode 916 is 632.0\n"
          ]
        },
        {
          "output_type": "stream",
          "name": "stderr",
          "text": [
            "\r 92%|█████████▏| 917/1000 [56:02<03:09,  2.28s/it]"
          ]
        },
        {
          "output_type": "stream",
          "name": "stdout",
          "text": [
            "Total reward after episode 917 is 239.0\n"
          ]
        },
        {
          "output_type": "stream",
          "name": "stderr",
          "text": [
            "\r 92%|█████████▏| 918/1000 [56:04<03:02,  2.23s/it]"
          ]
        },
        {
          "output_type": "stream",
          "name": "stdout",
          "text": [
            "Total reward after episode 918 is 736.0\n"
          ]
        },
        {
          "output_type": "stream",
          "name": "stderr",
          "text": [
            "\r 92%|█████████▏| 919/1000 [56:09<03:49,  2.83s/it]"
          ]
        },
        {
          "output_type": "stream",
          "name": "stdout",
          "text": [
            "Total reward after episode 919 is 819.0\n"
          ]
        },
        {
          "output_type": "stream",
          "name": "stderr",
          "text": [
            "\r 92%|█████████▏| 920/1000 [56:11<03:28,  2.61s/it]"
          ]
        },
        {
          "output_type": "stream",
          "name": "stdout",
          "text": [
            "Total reward after episode 920 is 737.0\n"
          ]
        },
        {
          "output_type": "stream",
          "name": "stderr",
          "text": [
            "\r 92%|█████████▏| 921/1000 [56:12<03:01,  2.29s/it]"
          ]
        },
        {
          "output_type": "stream",
          "name": "stdout",
          "text": [
            "Total reward after episode 921 is 607.0\n"
          ]
        },
        {
          "output_type": "stream",
          "name": "stderr",
          "text": [
            "\r 92%|█████████▏| 922/1000 [56:16<03:35,  2.76s/it]"
          ]
        },
        {
          "output_type": "stream",
          "name": "stdout",
          "text": [
            "Total reward after episode 922 is 1350.0\n"
          ]
        },
        {
          "output_type": "stream",
          "name": "stderr",
          "text": [
            "\r 92%|█████████▏| 923/1000 [56:18<03:11,  2.49s/it]"
          ]
        },
        {
          "output_type": "stream",
          "name": "stdout",
          "text": [
            "Total reward after episode 923 is 626.0\n"
          ]
        },
        {
          "output_type": "stream",
          "name": "stderr",
          "text": [
            "\r 92%|█████████▏| 924/1000 [56:21<03:19,  2.62s/it]"
          ]
        },
        {
          "output_type": "stream",
          "name": "stdout",
          "text": [
            "Total reward after episode 924 is 736.0\n"
          ]
        },
        {
          "output_type": "stream",
          "name": "stderr",
          "text": [
            "\r 92%|█████████▎| 925/1000 [56:22<02:37,  2.10s/it]"
          ]
        },
        {
          "output_type": "stream",
          "name": "stdout",
          "text": [
            "Total reward after episode 925 is 239.0\n"
          ]
        },
        {
          "output_type": "stream",
          "name": "stderr",
          "text": [
            "\r 93%|█████████▎| 926/1000 [56:23<02:23,  1.94s/it]"
          ]
        },
        {
          "output_type": "stream",
          "name": "stdout",
          "text": [
            "Total reward after episode 926 is 608.0\n"
          ]
        },
        {
          "output_type": "stream",
          "name": "stderr",
          "text": [
            "\r 93%|█████████▎| 927/1000 [56:25<02:24,  1.98s/it]"
          ]
        },
        {
          "output_type": "stream",
          "name": "stdout",
          "text": [
            "Total reward after episode 927 is 737.0\n"
          ]
        },
        {
          "output_type": "stream",
          "name": "stderr",
          "text": [
            "\r 93%|█████████▎| 928/1000 [56:29<02:57,  2.46s/it]"
          ]
        },
        {
          "output_type": "stream",
          "name": "stdout",
          "text": [
            "Total reward after episode 928 is 1351.0\n"
          ]
        },
        {
          "output_type": "stream",
          "name": "stderr",
          "text": [
            "\r 93%|█████████▎| 929/1000 [56:33<03:20,  2.82s/it]"
          ]
        },
        {
          "output_type": "stream",
          "name": "stdout",
          "text": [
            "Total reward after episode 929 is 1052.0\n"
          ]
        },
        {
          "output_type": "stream",
          "name": "stderr",
          "text": [
            "\r 93%|█████████▎| 930/1000 [56:36<03:20,  2.87s/it]"
          ]
        },
        {
          "output_type": "stream",
          "name": "stdout",
          "text": [
            "Total reward after episode 930 is 1052.0\n"
          ]
        },
        {
          "output_type": "stream",
          "name": "stderr",
          "text": [
            "\r 93%|█████████▎| 931/1000 [56:40<03:38,  3.17s/it]"
          ]
        },
        {
          "output_type": "stream",
          "name": "stdout",
          "text": [
            "Total reward after episode 931 is 1349.0\n"
          ]
        },
        {
          "output_type": "stream",
          "name": "stderr",
          "text": [
            "\r 93%|█████████▎| 932/1000 [56:45<04:24,  3.89s/it]"
          ]
        },
        {
          "output_type": "stream",
          "name": "stdout",
          "text": [
            "Total reward after episode 932 is 1342.0\n"
          ]
        },
        {
          "output_type": "stream",
          "name": "stderr",
          "text": [
            "\r 93%|█████████▎| 933/1000 [56:48<04:04,  3.65s/it]"
          ]
        },
        {
          "output_type": "stream",
          "name": "stdout",
          "text": [
            "Total reward after episode 933 is 1052.0\n"
          ]
        },
        {
          "output_type": "stream",
          "name": "stderr",
          "text": [
            "\r 93%|█████████▎| 934/1000 [56:52<04:02,  3.68s/it]"
          ]
        },
        {
          "output_type": "stream",
          "name": "stdout",
          "text": [
            "Total reward after episode 934 is 1348.0\n"
          ]
        },
        {
          "output_type": "stream",
          "name": "stderr",
          "text": [
            "\r 94%|█████████▎| 935/1000 [56:55<03:54,  3.62s/it]"
          ]
        },
        {
          "output_type": "stream",
          "name": "stdout",
          "text": [
            "Total reward after episode 935 is 1048.0\n"
          ]
        },
        {
          "output_type": "stream",
          "name": "stderr",
          "text": [
            "\r 94%|█████████▎| 936/1000 [57:00<04:18,  4.04s/it]"
          ]
        },
        {
          "output_type": "stream",
          "name": "stdout",
          "text": [
            "Total reward after episode 936 is 1346.0\n"
          ]
        },
        {
          "output_type": "stream",
          "name": "stderr",
          "text": [
            "\r 94%|█████████▎| 937/1000 [57:04<04:07,  3.92s/it]"
          ]
        },
        {
          "output_type": "stream",
          "name": "stdout",
          "text": [
            "Total reward after episode 937 is 1350.0\n"
          ]
        },
        {
          "output_type": "stream",
          "name": "stderr",
          "text": [
            "\r 94%|█████████▍| 938/1000 [57:06<03:25,  3.32s/it]"
          ]
        },
        {
          "output_type": "stream",
          "name": "stdout",
          "text": [
            "Total reward after episode 938 is 739.0\n"
          ]
        },
        {
          "output_type": "stream",
          "name": "stderr",
          "text": [
            "\r 94%|█████████▍| 939/1000 [57:13<04:29,  4.42s/it]"
          ]
        },
        {
          "output_type": "stream",
          "name": "stdout",
          "text": [
            "Total reward after episode 939 is 1315.0\n"
          ]
        },
        {
          "output_type": "stream",
          "name": "stderr",
          "text": [
            "\r 94%|█████████▍| 940/1000 [57:17<04:09,  4.16s/it]"
          ]
        },
        {
          "output_type": "stream",
          "name": "stdout",
          "text": [
            "Total reward after episode 940 is 1335.0\n"
          ]
        },
        {
          "output_type": "stream",
          "name": "stderr",
          "text": [
            "\r 94%|█████████▍| 941/1000 [57:18<03:25,  3.48s/it]"
          ]
        },
        {
          "output_type": "stream",
          "name": "stdout",
          "text": [
            "Total reward after episode 941 is 654.0\n"
          ]
        },
        {
          "output_type": "stream",
          "name": "stderr",
          "text": [
            "\r 94%|█████████▍| 942/1000 [57:24<03:51,  3.99s/it]"
          ]
        },
        {
          "output_type": "stream",
          "name": "stdout",
          "text": [
            "Total reward after episode 942 is 1435.0\n"
          ]
        },
        {
          "output_type": "stream",
          "name": "stderr",
          "text": [
            "\r 94%|█████████▍| 943/1000 [57:27<03:40,  3.86s/it]"
          ]
        },
        {
          "output_type": "stream",
          "name": "stdout",
          "text": [
            "Total reward after episode 943 is 1351.0\n"
          ]
        },
        {
          "output_type": "stream",
          "name": "stderr",
          "text": [
            "\r 94%|█████████▍| 944/1000 [57:28<02:45,  2.96s/it]"
          ]
        },
        {
          "output_type": "stream",
          "name": "stdout",
          "text": [
            "Total reward after episode 944 is 239.0\n"
          ]
        },
        {
          "output_type": "stream",
          "name": "stderr",
          "text": [
            "\r 94%|█████████▍| 945/1000 [57:30<02:19,  2.54s/it]"
          ]
        },
        {
          "output_type": "stream",
          "name": "stdout",
          "text": [
            "Total reward after episode 945 is 608.0\n"
          ]
        },
        {
          "output_type": "stream",
          "name": "stderr",
          "text": [
            "\r 95%|█████████▍| 946/1000 [57:32<02:19,  2.58s/it]"
          ]
        },
        {
          "output_type": "stream",
          "name": "stdout",
          "text": [
            "Total reward after episode 946 is 1053.0\n"
          ]
        },
        {
          "output_type": "stream",
          "name": "stderr",
          "text": [
            "\r 95%|█████████▍| 947/1000 [57:36<02:41,  3.05s/it]"
          ]
        },
        {
          "output_type": "stream",
          "name": "stdout",
          "text": [
            "Total reward after episode 947 is 1057.0\n"
          ]
        },
        {
          "output_type": "stream",
          "name": "stderr",
          "text": [
            "\r 95%|█████████▍| 948/1000 [57:41<03:09,  3.64s/it]"
          ]
        },
        {
          "output_type": "stream",
          "name": "stdout",
          "text": [
            "Total reward after episode 948 is 1698.0\n"
          ]
        },
        {
          "output_type": "stream",
          "name": "stderr",
          "text": [
            "\r 95%|█████████▍| 949/1000 [57:44<02:42,  3.18s/it]"
          ]
        },
        {
          "output_type": "stream",
          "name": "stdout",
          "text": [
            "Total reward after episode 949 is 623.0\n"
          ]
        },
        {
          "output_type": "stream",
          "name": "stderr",
          "text": [
            "\r 95%|█████████▌| 950/1000 [57:48<02:57,  3.55s/it]"
          ]
        },
        {
          "output_type": "stream",
          "name": "stdout",
          "text": [
            "Total reward after episode 950 is 1443.0\n"
          ]
        },
        {
          "output_type": "stream",
          "name": "stderr",
          "text": [
            "\r 95%|█████████▌| 951/1000 [57:52<02:57,  3.63s/it]"
          ]
        },
        {
          "output_type": "stream",
          "name": "stdout",
          "text": [
            "Total reward after episode 951 is 1350.0\n"
          ]
        },
        {
          "output_type": "stream",
          "name": "stderr",
          "text": [
            "\r 95%|█████████▌| 952/1000 [57:54<02:37,  3.27s/it]"
          ]
        },
        {
          "output_type": "stream",
          "name": "stdout",
          "text": [
            "Total reward after episode 952 is 734.0\n"
          ]
        },
        {
          "output_type": "stream",
          "name": "stderr",
          "text": [
            "\r 95%|█████████▌| 953/1000 [57:57<02:27,  3.14s/it]"
          ]
        },
        {
          "output_type": "stream",
          "name": "stdout",
          "text": [
            "Total reward after episode 953 is 1050.0\n"
          ]
        },
        {
          "output_type": "stream",
          "name": "stderr",
          "text": [
            "\r 95%|█████████▌| 954/1000 [58:00<02:15,  2.94s/it]"
          ]
        },
        {
          "output_type": "stream",
          "name": "stdout",
          "text": [
            "Total reward after episode 954 is 652.0\n"
          ]
        },
        {
          "output_type": "stream",
          "name": "stderr",
          "text": [
            "\r 96%|█████████▌| 955/1000 [58:04<02:29,  3.31s/it]"
          ]
        },
        {
          "output_type": "stream",
          "name": "stdout",
          "text": [
            "Total reward after episode 955 is 1350.0\n"
          ]
        },
        {
          "output_type": "stream",
          "name": "stderr",
          "text": [
            "\r 96%|█████████▌| 956/1000 [58:08<02:43,  3.72s/it]"
          ]
        },
        {
          "output_type": "stream",
          "name": "stdout",
          "text": [
            "Total reward after episode 956 is 1433.0\n"
          ]
        },
        {
          "output_type": "stream",
          "name": "stderr",
          "text": [
            "\r 96%|█████████▌| 957/1000 [58:10<02:18,  3.22s/it]"
          ]
        },
        {
          "output_type": "stream",
          "name": "stdout",
          "text": [
            "Total reward after episode 957 is 737.0\n"
          ]
        },
        {
          "output_type": "stream",
          "name": "stderr",
          "text": [
            "\r 96%|█████████▌| 958/1000 [58:15<02:37,  3.74s/it]"
          ]
        },
        {
          "output_type": "stream",
          "name": "stdout",
          "text": [
            "Total reward after episode 958 is 1064.0\n"
          ]
        },
        {
          "output_type": "stream",
          "name": "stderr",
          "text": [
            "\r 96%|█████████▌| 959/1000 [58:23<03:21,  4.92s/it]"
          ]
        },
        {
          "output_type": "stream",
          "name": "stdout",
          "text": [
            "Total reward after episode 959 is 1320.0\n"
          ]
        },
        {
          "output_type": "stream",
          "name": "stderr",
          "text": [
            "\r 96%|█████████▌| 960/1000 [58:24<02:29,  3.73s/it]"
          ]
        },
        {
          "output_type": "stream",
          "name": "stdout",
          "text": [
            "Total reward after episode 960 is 240.0\n"
          ]
        },
        {
          "output_type": "stream",
          "name": "stderr",
          "text": [
            "\r 96%|█████████▌| 961/1000 [58:28<02:33,  3.94s/it]"
          ]
        },
        {
          "output_type": "stream",
          "name": "stdout",
          "text": [
            "Total reward after episode 961 is 1439.0\n"
          ]
        },
        {
          "output_type": "stream",
          "name": "stderr",
          "text": [
            "\r 96%|█████████▌| 962/1000 [58:30<02:05,  3.31s/it]"
          ]
        },
        {
          "output_type": "stream",
          "name": "stdout",
          "text": [
            "Total reward after episode 962 is 738.0\n"
          ]
        },
        {
          "output_type": "stream",
          "name": "stderr",
          "text": [
            "\r 96%|█████████▋| 963/1000 [58:32<01:43,  2.79s/it]"
          ]
        },
        {
          "output_type": "stream",
          "name": "stdout",
          "text": [
            "Total reward after episode 963 is 611.0\n"
          ]
        },
        {
          "output_type": "stream",
          "name": "stderr",
          "text": [
            "\r 96%|█████████▋| 964/1000 [58:36<01:49,  3.05s/it]"
          ]
        },
        {
          "output_type": "stream",
          "name": "stdout",
          "text": [
            "Total reward after episode 964 is 1349.0\n"
          ]
        },
        {
          "output_type": "stream",
          "name": "stderr",
          "text": [
            "\r 96%|█████████▋| 965/1000 [58:39<01:52,  3.21s/it]"
          ]
        },
        {
          "output_type": "stream",
          "name": "stdout",
          "text": [
            "Total reward after episode 965 is 1054.0\n"
          ]
        },
        {
          "output_type": "stream",
          "name": "stderr",
          "text": [
            "\r 97%|█████████▋| 966/1000 [58:43<01:57,  3.47s/it]"
          ]
        },
        {
          "output_type": "stream",
          "name": "stdout",
          "text": [
            "Total reward after episode 966 is 1345.0\n"
          ]
        },
        {
          "output_type": "stream",
          "name": "stderr",
          "text": [
            "\r 97%|█████████▋| 967/1000 [58:45<01:38,  2.97s/it]"
          ]
        },
        {
          "output_type": "stream",
          "name": "stdout",
          "text": [
            "Total reward after episode 967 is 654.0\n"
          ]
        },
        {
          "output_type": "stream",
          "name": "stderr",
          "text": [
            "\r 97%|█████████▋| 968/1000 [58:47<01:24,  2.63s/it]"
          ]
        },
        {
          "output_type": "stream",
          "name": "stdout",
          "text": [
            "Total reward after episode 968 is 610.0\n"
          ]
        },
        {
          "output_type": "stream",
          "name": "stderr",
          "text": [
            "\r 97%|█████████▋| 969/1000 [58:52<01:41,  3.29s/it]"
          ]
        },
        {
          "output_type": "stream",
          "name": "stdout",
          "text": [
            "Total reward after episode 969 is 1348.0\n"
          ]
        },
        {
          "output_type": "stream",
          "name": "stderr",
          "text": [
            "\r 97%|█████████▋| 970/1000 [58:55<01:38,  3.29s/it]"
          ]
        },
        {
          "output_type": "stream",
          "name": "stdout",
          "text": [
            "Total reward after episode 970 is 1351.0\n"
          ]
        },
        {
          "output_type": "stream",
          "name": "stderr",
          "text": [
            "\r 97%|█████████▋| 971/1000 [58:59<01:39,  3.42s/it]"
          ]
        },
        {
          "output_type": "stream",
          "name": "stdout",
          "text": [
            "Total reward after episode 971 is 1348.0\n"
          ]
        },
        {
          "output_type": "stream",
          "name": "stderr",
          "text": [
            "\r 97%|█████████▋| 972/1000 [59:03<01:43,  3.71s/it]"
          ]
        },
        {
          "output_type": "stream",
          "name": "stdout",
          "text": [
            "Total reward after episode 972 is 1349.0\n"
          ]
        },
        {
          "output_type": "stream",
          "name": "stderr",
          "text": [
            "\r 97%|█████████▋| 973/1000 [59:06<01:33,  3.48s/it]"
          ]
        },
        {
          "output_type": "stream",
          "name": "stdout",
          "text": [
            "Total reward after episode 973 is 1053.0\n"
          ]
        },
        {
          "output_type": "stream",
          "name": "stderr",
          "text": [
            "\r 97%|█████████▋| 974/1000 [59:09<01:29,  3.43s/it]"
          ]
        },
        {
          "output_type": "stream",
          "name": "stdout",
          "text": [
            "Total reward after episode 974 is 1353.0\n"
          ]
        },
        {
          "output_type": "stream",
          "name": "stderr",
          "text": [
            "\r 98%|█████████▊| 975/1000 [59:13<01:24,  3.38s/it]"
          ]
        },
        {
          "output_type": "stream",
          "name": "stdout",
          "text": [
            "Total reward after episode 975 is 1353.0\n"
          ]
        },
        {
          "output_type": "stream",
          "name": "stderr",
          "text": [
            "\r 98%|█████████▊| 976/1000 [59:15<01:13,  3.08s/it]"
          ]
        },
        {
          "output_type": "stream",
          "name": "stdout",
          "text": [
            "Total reward after episode 976 is 636.0\n"
          ]
        },
        {
          "output_type": "stream",
          "name": "stderr",
          "text": [
            "\r 98%|█████████▊| 977/1000 [59:21<01:32,  4.01s/it]"
          ]
        },
        {
          "output_type": "stream",
          "name": "stdout",
          "text": [
            "Total reward after episode 977 is 1883.0\n"
          ]
        },
        {
          "output_type": "stream",
          "name": "stderr",
          "text": [
            "\r 98%|█████████▊| 978/1000 [59:25<01:24,  3.86s/it]"
          ]
        },
        {
          "output_type": "stream",
          "name": "stdout",
          "text": [
            "Total reward after episode 978 is 818.0\n"
          ]
        },
        {
          "output_type": "stream",
          "name": "stderr",
          "text": [
            "\r 98%|█████████▊| 979/1000 [59:28<01:19,  3.79s/it]"
          ]
        },
        {
          "output_type": "stream",
          "name": "stdout",
          "text": [
            "Total reward after episode 979 is 1051.0\n"
          ]
        },
        {
          "output_type": "stream",
          "name": "stderr",
          "text": [
            "\r 98%|█████████▊| 980/1000 [59:32<01:15,  3.79s/it]"
          ]
        },
        {
          "output_type": "stream",
          "name": "stdout",
          "text": [
            "Total reward after episode 980 is 1047.0\n"
          ]
        },
        {
          "output_type": "stream",
          "name": "stderr",
          "text": [
            "\r 98%|█████████▊| 981/1000 [59:34<01:02,  3.30s/it]"
          ]
        },
        {
          "output_type": "stream",
          "name": "stdout",
          "text": [
            "Total reward after episode 981 is 624.0\n"
          ]
        },
        {
          "output_type": "stream",
          "name": "stderr",
          "text": [
            "\r 98%|█████████▊| 982/1000 [59:38<01:02,  3.45s/it]"
          ]
        },
        {
          "output_type": "stream",
          "name": "stdout",
          "text": [
            "Total reward after episode 982 is 1590.0\n"
          ]
        },
        {
          "output_type": "stream",
          "name": "stderr",
          "text": [
            "\r 98%|█████████▊| 983/1000 [59:40<00:50,  2.99s/it]"
          ]
        },
        {
          "output_type": "stream",
          "name": "stdout",
          "text": [
            "Total reward after episode 983 is 607.0\n"
          ]
        },
        {
          "output_type": "stream",
          "name": "stderr",
          "text": [
            "\r 98%|█████████▊| 984/1000 [59:43<00:46,  2.89s/it]"
          ]
        },
        {
          "output_type": "stream",
          "name": "stdout",
          "text": [
            "Total reward after episode 984 is 609.0\n"
          ]
        },
        {
          "output_type": "stream",
          "name": "stderr",
          "text": [
            "\r 98%|█████████▊| 985/1000 [59:44<00:37,  2.49s/it]"
          ]
        },
        {
          "output_type": "stream",
          "name": "stdout",
          "text": [
            "Total reward after episode 985 is 607.0\n"
          ]
        },
        {
          "output_type": "stream",
          "name": "stderr",
          "text": [
            "\r 99%|█████████▊| 986/1000 [59:46<00:32,  2.31s/it]"
          ]
        },
        {
          "output_type": "stream",
          "name": "stdout",
          "text": [
            "Total reward after episode 986 is 654.0\n"
          ]
        },
        {
          "output_type": "stream",
          "name": "stderr",
          "text": [
            "\r 99%|█████████▊| 987/1000 [59:50<00:36,  2.84s/it]"
          ]
        },
        {
          "output_type": "stream",
          "name": "stdout",
          "text": [
            "Total reward after episode 987 is 1330.0\n"
          ]
        },
        {
          "output_type": "stream",
          "name": "stderr",
          "text": [
            "\r 99%|█████████▉| 988/1000 [59:55<00:40,  3.37s/it]"
          ]
        },
        {
          "output_type": "stream",
          "name": "stdout",
          "text": [
            "Total reward after episode 988 is 1350.0\n"
          ]
        },
        {
          "output_type": "stream",
          "name": "stderr",
          "text": [
            "\r 99%|█████████▉| 989/1000 [59:58<00:36,  3.34s/it]"
          ]
        },
        {
          "output_type": "stream",
          "name": "stdout",
          "text": [
            "Total reward after episode 989 is 1352.0\n"
          ]
        },
        {
          "output_type": "stream",
          "name": "stderr",
          "text": [
            "\r 99%|█████████▉| 990/1000 [1:00:02<00:34,  3.41s/it]"
          ]
        },
        {
          "output_type": "stream",
          "name": "stdout",
          "text": [
            "Total reward after episode 990 is 1047.0\n"
          ]
        },
        {
          "output_type": "stream",
          "name": "stderr",
          "text": [
            "\r 99%|█████████▉| 991/1000 [1:00:09<00:42,  4.72s/it]"
          ]
        },
        {
          "output_type": "stream",
          "name": "stdout",
          "text": [
            "Total reward after episode 991 is 743.0\n"
          ]
        },
        {
          "output_type": "stream",
          "name": "stderr",
          "text": [
            "\r 99%|█████████▉| 992/1000 [1:00:11<00:30,  3.78s/it]"
          ]
        },
        {
          "output_type": "stream",
          "name": "stdout",
          "text": [
            "Total reward after episode 992 is 608.0\n"
          ]
        },
        {
          "output_type": "stream",
          "name": "stderr",
          "text": [
            "\r 99%|█████████▉| 993/1000 [1:00:15<00:27,  3.90s/it]"
          ]
        },
        {
          "output_type": "stream",
          "name": "stdout",
          "text": [
            "Total reward after episode 993 is 1332.0\n"
          ]
        },
        {
          "output_type": "stream",
          "name": "stderr",
          "text": [
            "\r 99%|█████████▉| 994/1000 [1:00:21<00:26,  4.47s/it]"
          ]
        },
        {
          "output_type": "stream",
          "name": "stdout",
          "text": [
            "Total reward after episode 994 is 1431.0\n"
          ]
        },
        {
          "output_type": "stream",
          "name": "stderr",
          "text": [
            "\r100%|█████████▉| 995/1000 [1:00:24<00:20,  4.16s/it]"
          ]
        },
        {
          "output_type": "stream",
          "name": "stdout",
          "text": [
            "Total reward after episode 995 is 1437.0\n"
          ]
        },
        {
          "output_type": "stream",
          "name": "stderr",
          "text": [
            "\r100%|█████████▉| 996/1000 [1:00:26<00:14,  3.50s/it]"
          ]
        },
        {
          "output_type": "stream",
          "name": "stdout",
          "text": [
            "Total reward after episode 996 is 737.0\n"
          ]
        },
        {
          "output_type": "stream",
          "name": "stderr",
          "text": [
            "\r100%|█████████▉| 997/1000 [1:00:29<00:09,  3.24s/it]"
          ]
        },
        {
          "output_type": "stream",
          "name": "stdout",
          "text": [
            "Total reward after episode 997 is 1053.0\n"
          ]
        },
        {
          "output_type": "stream",
          "name": "stderr",
          "text": [
            "\r100%|█████████▉| 998/1000 [1:00:30<00:05,  2.59s/it]"
          ]
        },
        {
          "output_type": "stream",
          "name": "stdout",
          "text": [
            "Total reward after episode 998 is 247.0\n"
          ]
        },
        {
          "output_type": "stream",
          "name": "stderr",
          "text": [
            "\r100%|█████████▉| 999/1000 [1:00:34<00:03,  3.10s/it]"
          ]
        },
        {
          "output_type": "stream",
          "name": "stdout",
          "text": [
            "Total reward after episode 999 is 1349.0\n"
          ]
        },
        {
          "output_type": "stream",
          "name": "stderr",
          "text": [
            "100%|██████████| 1000/1000 [1:00:38<00:00,  3.64s/it]"
          ]
        },
        {
          "output_type": "stream",
          "name": "stdout",
          "text": [
            "Total reward after episode 1000 is 1439.0\n"
          ]
        },
        {
          "output_type": "stream",
          "name": "stderr",
          "text": [
            "\n"
          ]
        }
      ]
    },
    {
      "cell_type": "markdown",
      "source": [
        "## 5. Evaluation"
      ],
      "metadata": {
        "id": "emxT8En-6lzX"
      }
    },
    {
      "cell_type": "markdown",
      "source": [
        "The evaluation was inspired by https://pythonprogramming.net/q-learning-analysis-reinforcement-learning-python-tutorial/"
      ],
      "metadata": {
        "id": "HFdk2uhc77V6"
      }
    },
    {
      "cell_type": "markdown",
      "source": [
        "### 5.1 Functions to calculate the reward curves"
      ],
      "metadata": {
        "id": "el95wteh6pZM"
      }
    },
    {
      "cell_type": "code",
      "source": [
        "# Function to calculate the moving average for smoother reward evaluation\n",
        "def moving_average(x, w):\n",
        "    return np.convolve(x, np.ones(w), 'valid') / w"
      ],
      "metadata": {
        "id": "to-QZq526ujR"
      },
      "execution_count": 15,
      "outputs": []
    },
    {
      "cell_type": "code",
      "source": [
        "# Function to calculate the intervals for aggregting the rewards\n",
        "def calculate_intervals(lst, input_interval):\n",
        "    intervals = {}\n",
        "\n",
        "    for i in range(0, len(lst), input_interval):\n",
        "        interval = lst[i:i+input_interval]\n",
        "        avg = sum(interval) / len(interval)\n",
        "        max_val = max(interval)\n",
        "        min_val = min(interval)\n",
        "\n",
        "        intervals.setdefault('avg', []).append(avg)\n",
        "        intervals.setdefault('max', []).append(max_val)\n",
        "        intervals.setdefault('min', []).append(min_val)\n",
        "\n",
        "    return intervals"
      ],
      "metadata": {
        "id": "ZN1z7SAC9Uq2"
      },
      "execution_count": 16,
      "outputs": []
    },
    {
      "cell_type": "markdown",
      "source": [
        "### 5.2 Displaying the reward curves"
      ],
      "metadata": {
        "id": "559g73sZ6uyE"
      }
    },
    {
      "cell_type": "code",
      "source": [
        "# Plotting the moving average of the rewards to evaluate the training\n",
        "plt.title(\"Episodes vs. Average Rewards (Training)\")\n",
        "plt.plot(moving_average(total_rewards,50), label='Rolling average reward')\n",
        "plt.axis([0, len(moving_average(total_rewards,40)), 0, max(moving_average(total_rewards,50))+100])\n",
        "plt.legend(loc=4)\n",
        "plt.show()"
      ],
      "metadata": {
        "colab": {
          "base_uri": "https://localhost:8080/",
          "height": 452
        },
        "id": "pFAl6zGO6nUY",
        "outputId": "bfd905dd-292a-4df6-dbce-54a563fda9d0"
      },
      "execution_count": 17,
      "outputs": [
        {
          "output_type": "display_data",
          "data": {
            "text/plain": [
              "<Figure size 640x480 with 1 Axes>"
            ],
            "image/png": "[encoded data removed]"
          },
          "metadata": {}
        }
      ]
    },
    {
      "cell_type": "code",
      "source": [
        "# Plotting the raw rewards to get an overview => not used for evaluation as it is rather confusing\n",
        "plt.title(\"Episodes vs. Rewards (Training)\")\n",
        "plt.plot(total_rewards, label='Reward')\n",
        "plt.axis([0, len(total_rewards), 0, max(total_rewards)+100])\n",
        "plt.legend(loc=4)\n",
        "plt.show()"
      ],
      "metadata": {
        "colab": {
          "base_uri": "https://localhost:8080/",
          "height": 452
        },
        "id": "BEBqSHNPRVji",
        "outputId": "4bc5f043-fbf5-4464-91ae-a668ba40c9ca"
      },
      "execution_count": 18,
      "outputs": [
        {
          "output_type": "display_data",
          "data": {
            "text/plain": [
              "<Figure size 640x480 with 1 Axes>"
            ],
            "image/png": "[encoded data removed]"
          },
          "metadata": {}
        }
      ]
    },
    {
      "cell_type": "code",
      "source": [
        "calculations_for_eval = calculate_intervals(total_rewards, 5)\n",
        "\n",
        "# Plotting the min, max and average reward for intervals of size 5 to get better insights into the training performance\n",
        "plt.title(\"Episodes vs. Average Rewards vs. Max. Rewards vs. Min. Rewards (Training)\")\n",
        "plt.plot(moving_average(calculations_for_eval['avg'], 10), label=\"average rewards\")\n",
        "plt.plot(moving_average(calculations_for_eval['max'], 10), label=\"max rewards\")\n",
        "plt.plot(moving_average(calculations_for_eval['min'], 10), label=\"min rewards\")\n",
        "plt.axis([0, len(moving_average(calculations_for_eval['avg'], 10)), 0, max(moving_average(calculations_for_eval['max'], 10))+100])\n",
        "plt.legend(loc=4)\n",
        "plt.show()"
      ],
      "metadata": {
        "colab": {
          "base_uri": "https://localhost:8080/",
          "height": 452
        },
        "id": "Lzl7rq5j9YFY",
        "outputId": "29a4f73a-5956-47b8-db9c-df85f3274b95"
      },
      "execution_count": 19,
      "outputs": [
        {
          "output_type": "display_data",
          "data": {
            "text/plain": [
              "<Figure size 640x480 with 1 Axes>"
            ],
            "image/png": "[encoded data removed]"
          },
          "metadata": {}
        }
      ]
    }
  ]
}
